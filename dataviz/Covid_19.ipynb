{
  "nbformat": 4,
  "nbformat_minor": 0,
  "metadata": {
    "colab": {
      "name": "Covid-19.ipynb",
      "provenance": [],
      "collapsed_sections": [],
      "toc_visible": true,
      "authorship_tag": "ABX9TyMni+Kwl4kuDONGbaZJrX37",
      "include_colab_link": true
    },
    "kernelspec": {
      "name": "python3",
      "display_name": "Python 3"
    }
  },
  "cells": [
    {
      "cell_type": "markdown",
      "metadata": {
        "id": "view-in-github",
        "colab_type": "text"
      },
      "source": [
        "<a href=\"https://colab.research.google.com/github/rrevuru/content-aws-mls-c01/blob/master/dataviz/Covid_19.ipynb\" target=\"_parent\"><img src=\"https://colab.research.google.com/assets/colab-badge.svg\" alt=\"Open In Colab\"/></a>"
      ]
    },
    {
      "cell_type": "markdown",
      "metadata": {
        "id": "IZeQpnlt1QRi",
        "colab_type": "text"
      },
      "source": [
        "# Covid-19 Data Analysis\n",
        "This notebook aims to analyze the publicly available Covid-19 data sourced by CDC.This data is publicly available from [here](https://healthdata.gov/dataset/provisional-covid-19-death-counts-sex-age-and-state)\n"
      ]
    },
    {
      "cell_type": "markdown",
      "metadata": {
        "id": "XeKySCs114-b",
        "colab_type": "text"
      },
      "source": [
        "## In this analysis, will try to answer the following question. Will be updating frequently with more questions\n",
        "\n",
        "\n",
        "1.   How many mortalities in each state, and what are the mortality types? \n",
        "2.   How is age is affecting the mortality rate?\n",
        "\n",
        "\n",
        "\n",
        "\n"
      ]
    },
    {
      "cell_type": "markdown",
      "metadata": {
        "id": "1MC_so8q3uKw",
        "colab_type": "text"
      },
      "source": [
        "### Approach\n",
        "\n",
        "We are going to leverage Python libraries and Python Visualization tools to achieve this goal"
      ]
    },
    {
      "cell_type": "markdown",
      "metadata": {
        "id": "uSZYlvcx35hC",
        "colab_type": "text"
      },
      "source": [
        "#### Importing the necessary Python Libraries"
      ]
    },
    {
      "cell_type": "code",
      "metadata": {
        "id": "FW26hSNw3-4Q",
        "colab_type": "code",
        "colab": {
          "base_uri": "https://localhost:8080/",
          "height": 17
        },
        "outputId": "51fca93b-6fc6-49e0-e9ea-3668a9024e1e"
      },
      "source": [
        "import pandas as pd\n",
        "import numpy as np\n",
        "import seaborn as sns\n",
        "import plotly.express as px\n",
        "import cufflinks as cf\n",
        "cf.go_offline()"
      ],
      "execution_count": 44,
      "outputs": [
        {
          "output_type": "display_data",
          "data": {
            "text/html": [
              "        <script type=\"text/javascript\">\n",
              "        window.PlotlyConfig = {MathJaxConfig: 'local'};\n",
              "        if (window.MathJax) {MathJax.Hub.Config({SVG: {font: \"STIX-Web\"}});}\n",
              "        if (typeof require !== 'undefined') {\n",
              "        require.undef(\"plotly\");\n",
              "        requirejs.config({\n",
              "            paths: {\n",
              "                'plotly': ['https://cdn.plot.ly/plotly-latest.min']\n",
              "            }\n",
              "        });\n",
              "        require(['plotly'], function(Plotly) {\n",
              "            window._Plotly = Plotly;\n",
              "        });\n",
              "        }\n",
              "        </script>\n",
              "        "
            ]
          },
          "metadata": {
            "tags": []
          }
        }
      ]
    },
    {
      "cell_type": "markdown",
      "metadata": {
        "id": "4PPNKlaY4T1g",
        "colab_type": "text"
      },
      "source": [
        "#### Loading the data into Pandas dataframe"
      ]
    },
    {
      "cell_type": "code",
      "metadata": {
        "id": "EPo9kDAj4Yil",
        "colab_type": "code",
        "colab": {}
      },
      "source": [
        "df = pd.read_csv('./Provisional_COVID-19_Death.csv')"
      ],
      "execution_count": 45,
      "outputs": []
    },
    {
      "cell_type": "markdown",
      "metadata": {
        "id": "bcx-DOL24gjb",
        "colab_type": "text"
      },
      "source": [
        "#### Information on the dataframe"
      ]
    },
    {
      "cell_type": "code",
      "metadata": {
        "id": "YYBjO_gQ4kan",
        "colab_type": "code",
        "colab": {
          "base_uri": "https://localhost:8080/",
          "height": 357
        },
        "outputId": "519a7b65-074a-4c3d-d011-6e2cf326d2ca"
      },
      "source": [
        "df.info()"
      ],
      "execution_count": 46,
      "outputs": [
        {
          "output_type": "stream",
          "text": [
            "<class 'pandas.core.frame.DataFrame'>\n",
            "RangeIndex: 1416 entries, 0 to 1415\n",
            "Data columns (total 13 columns):\n",
            " #   Column                                    Non-Null Count  Dtype  \n",
            "---  ------                                    --------------  -----  \n",
            " 0   Data as of                                1416 non-null   object \n",
            " 1   Start week                                1416 non-null   object \n",
            " 2   End Week                                  1416 non-null   object \n",
            " 3   State                                     1416 non-null   object \n",
            " 4   Sex                                       1416 non-null   object \n",
            " 5   Age group                                 1416 non-null   object \n",
            " 6   COVID-19 Deaths                           1141 non-null   float64\n",
            " 7   Total Deaths                              1285 non-null   float64\n",
            " 8   Pneumonia Deaths                          1089 non-null   float64\n",
            " 9   Pneumonia and COVID-19 Deaths             1119 non-null   float64\n",
            " 10  Influenza Deaths                          879 non-null    float64\n",
            " 11  Pneumonia, Influenza, or COVID-19 Deaths  1063 non-null   float64\n",
            " 12  Footnote                                  876 non-null    object \n",
            "dtypes: float64(6), object(7)\n",
            "memory usage: 143.9+ KB\n"
          ],
          "name": "stdout"
        }
      ]
    },
    {
      "cell_type": "markdown",
      "metadata": {
        "id": "l8Ds3zJe4nOr",
        "colab_type": "text"
      },
      "source": [
        "####Data Cleansing\n",
        "\n",
        "1.   Format the following columns as datetime format<br>\n",
        "      Data as of<br>\n",
        "      Start week<br>\n",
        "      End Week\n",
        "\n",
        "2.   Rename the Columns with no spaces<br>\n",
        "      Age group<br>\n",
        "      COVID-19 Deaths<br>\n",
        "      Total Deaths<br>\n",
        "      Pneumonia Deaths<br>\n",
        "      Pneumonia and COVID-19 Deaths<br>\n",
        "      Influenza Deaths<br>\n",
        "      Pneumonia, Influenza, or COVID-19 Deaths<br>\n",
        "\n",
        "3. Delete Footnote\n",
        "\n",
        "\n"
      ]
    },
    {
      "cell_type": "code",
      "metadata": {
        "id": "0h98zuKS5bII",
        "colab_type": "code",
        "colab": {}
      },
      "source": [
        "df = df.rename(columns={\"Age group\":\"Age_group\",\"COVID-19 Deaths\":\"COVID19\",\"Pneumonia Deaths\":\"Pneumonia\",\"Pneumonia and COVID-19 Deaths\":\"Pneumonia_COVID\",\"Influenza Deaths\":\"Influenza\",\"Pneumonia, Influenza, or COVID-19 Deaths\":\"Pneumonia_Influenza_COVID19\"})"
      ],
      "execution_count": 47,
      "outputs": []
    },
    {
      "cell_type": "code",
      "metadata": {
        "id": "qIXbrCCd7pBN",
        "colab_type": "code",
        "colab": {}
      },
      "source": [
        "df = df.drop(['Footnote'], axis=1)"
      ],
      "execution_count": 48,
      "outputs": []
    },
    {
      "cell_type": "code",
      "metadata": {
        "id": "iOgL4l9L74c8",
        "colab_type": "code",
        "colab": {}
      },
      "source": [
        "df['Data as of'] = pd.to_datetime(df['Data as of'])"
      ],
      "execution_count": 49,
      "outputs": []
    },
    {
      "cell_type": "code",
      "metadata": {
        "id": "rPIru7e88zv-",
        "colab_type": "code",
        "colab": {}
      },
      "source": [
        "df['Start week'] = pd.to_datetime(df['Start week'])"
      ],
      "execution_count": 50,
      "outputs": []
    },
    {
      "cell_type": "code",
      "metadata": {
        "id": "fBC9u0DX879N",
        "colab_type": "code",
        "colab": {}
      },
      "source": [
        "df['End Week'] = pd.to_datetime(df['End Week'])"
      ],
      "execution_count": 51,
      "outputs": []
    },
    {
      "cell_type": "markdown",
      "metadata": {
        "id": "riKstrem9HZa",
        "colab_type": "text"
      },
      "source": [
        "#### Lets revisit after the data cleansing"
      ]
    },
    {
      "cell_type": "code",
      "metadata": {
        "id": "rE76CDQk9McH",
        "colab_type": "code",
        "colab": {
          "base_uri": "https://localhost:8080/",
          "height": 340
        },
        "outputId": "1a4511a2-439f-4c7f-c932-77f47086abc5"
      },
      "source": [
        "df.info()"
      ],
      "execution_count": 52,
      "outputs": [
        {
          "output_type": "stream",
          "text": [
            "<class 'pandas.core.frame.DataFrame'>\n",
            "RangeIndex: 1416 entries, 0 to 1415\n",
            "Data columns (total 12 columns):\n",
            " #   Column                       Non-Null Count  Dtype         \n",
            "---  ------                       --------------  -----         \n",
            " 0   Data as of                   1416 non-null   datetime64[ns]\n",
            " 1   Start week                   1416 non-null   datetime64[ns]\n",
            " 2   End Week                     1416 non-null   datetime64[ns]\n",
            " 3   State                        1416 non-null   object        \n",
            " 4   Sex                          1416 non-null   object        \n",
            " 5   Age_group                    1416 non-null   object        \n",
            " 6   COVID19                      1141 non-null   float64       \n",
            " 7   Total Deaths                 1285 non-null   float64       \n",
            " 8   Pneumonia                    1089 non-null   float64       \n",
            " 9   Pneumonia_COVID              1119 non-null   float64       \n",
            " 10  Influenza                    879 non-null    float64       \n",
            " 11  Pneumonia_Influenza_COVID19  1063 non-null   float64       \n",
            "dtypes: datetime64[ns](3), float64(6), object(3)\n",
            "memory usage: 132.9+ KB\n"
          ],
          "name": "stdout"
        }
      ]
    },
    {
      "cell_type": "markdown",
      "metadata": {
        "id": "p2SJ2-Bh9vsB",
        "colab_type": "text"
      },
      "source": [
        "#### Data Review\n",
        "\n",
        "At a first glance, its been observed, that, dataframe has aggregations for two columns, Ages and States. This will skew the numbers in our analysis. So we are going to remote the rows with those aggregations."
      ]
    },
    {
      "cell_type": "code",
      "metadata": {
        "id": "YgXCEZhx-Oqx",
        "colab_type": "code",
        "colab": {}
      },
      "source": [
        "df_Ages =  df[df['Age_group'] != 'All Ages']"
      ],
      "execution_count": 53,
      "outputs": []
    },
    {
      "cell_type": "code",
      "metadata": {
        "id": "dcrXziju-TM7",
        "colab_type": "code",
        "colab": {}
      },
      "source": [
        "df = df_Ages[df_Ages.State != 'United States']"
      ],
      "execution_count": 54,
      "outputs": []
    },
    {
      "cell_type": "markdown",
      "metadata": {
        "id": "kQwyPRtbDIH-",
        "colab_type": "text"
      },
      "source": [
        "### Question-1\n",
        "**How many mortalities in each state, and what are the mortality types?**\n",
        "\n",
        "The following visualization shows deaths by state, when you hover around each state, it will display mortality type.\n"
      ]
    },
    {
      "cell_type": "code",
      "metadata": {
        "id": "7aHpsiON-ZTr",
        "colab_type": "code",
        "colab": {
          "base_uri": "https://localhost:8080/",
          "height": 542
        },
        "outputId": "fe092178-415b-48cb-88e5-389a2c47a9f0"
      },
      "source": [
        "fig = px.bar(df, x='State', y='Total Deaths', hover_data=['COVID19','Pneumonia', 'Influenza','Pneumonia_COVID','Pneumonia_Influenza_COVID19'])\n",
        "fig.update_layout(barmode='stack')\n",
        "fig.show()"
      ],
      "execution_count": 55,
      "outputs": [
        {
          "output_type": "display_data",
          "data": {
            "text/html": [
              "<div>\n",
              "        \n",
              "        \n",
              "            <div id=\"13f94af2-502b-4489-8353-0bfb7846d11d\" class=\"plotly-graph-div\" style=\"height:525px; width:100%;\"></div>\n",
              "            <script type=\"text/javascript\">\n",
              "                require([\"plotly\"], function(Plotly) {\n",
              "                    window.PLOTLYENV=window.PLOTLYENV || {};\n",
              "                    \n",
              "                if (document.getElementById(\"13f94af2-502b-4489-8353-0bfb7846d11d\")) {\n",
              "                    Plotly.newPlot(\n",
              "                        '13f94af2-502b-4489-8353-0bfb7846d11d',\n",
              "                        [{\"alignmentgroup\": \"True\", \"customdata\": [[0.0, 0.0, null, 0.0, null], [0.0, 0.0, 0.0, 0.0, 0.0], [0.0, null, 0.0, 0.0, null], [0.0, null, null, 0.0, null], [null, null, null, null, 15.0], [null, 27.0, null, null, 31.0], [43.0, 44.0, null, 11.0, 82.0], [72.0, 138.0, 15.0, 18.0, 207.0], [137.0, 215.0, 15.0, 37.0, 330.0], [137.0, 248.0, null, 41.0, 351.0], [109.0, 165.0, null, 34.0, 246.0], [511.0, 848.0, 56.0, 148.0, 1266.0], [0.0, 0.0, 0.0, 0.0, 0.0], [0.0, 0.0, null, 0.0, null], [0.0, null, 0.0, 0.0, null], [null, null, 0.0, 0.0, null], [null, null, null, null, null], [13.0, 13.0, null, null, 25.0], [27.0, 33.0, null, null, 60.0], [60.0, 127.0, null, 14.0, 181.0], [108.0, 144.0, 12.0, 35.0, 229.0], [109.0, 200.0, null, 42.0, 272.0], [138.0, 189.0, null, 39.0, 290.0], [459.0, 715.0, 39.0, 140.0, 1071.0], [0.0, 0.0, 0.0, 0.0, 0.0], [0.0, 0.0, 0.0, 0.0, 0.0], [0.0, 0.0, 0.0, 0.0, 0.0], [0.0, 0.0, 0.0, 0.0, 0.0], [0.0, 0.0, 0.0, 0.0, 0.0], [0.0, null, 0.0, 0.0, null], [0.0, null, 0.0, 0.0, null], [0.0, null, 0.0, 0.0, null], [0.0, 10.0, 0.0, 0.0, 10.0], [null, null, 0.0, null, null], [null, 12.0, null, null, 14.0], [null, 10.0, null, 0.0, 13.0], [null, 41.0, null, null, 47.0], [0.0, 0.0, 0.0, 0.0, 0.0], [0.0, null, null, 0.0, null], [0.0, 0.0, 0.0, 0.0, 0.0], [0.0, null, 0.0, 0.0, null], [null, null, 0.0, 0.0, null], [0.0, 0.0, 0.0, 0.0, 0.0], [null, null, 0.0, 0.0, null], [null, null, 0.0, null, null], [null, 12.0, null, null, 14.0], [null, null, 0.0, null, null], [0.0, null, 0.0, 0.0, null], [null, 37.0, null, null, 42.0], [0.0, 0.0, 0.0, 0.0, 0.0], [0.0, null, null, 0.0, null], [null, null, null, 0.0, null], [null, null, null, null, null], [null, null, null, null, 10.0], [19.0, 20.0, null, 12.0, 28.0], [20.0, 29.0, null, 13.0, 38.0], [65.0, 71.0, null, 34.0, 106.0], [119.0, 187.0, 13.0, 67.0, 252.0], [148.0, 298.0, 14.0, 82.0, 378.0], [220.0, 394.0, 12.0, 120.0, 506.0], [194.0, 299.0, 10.0, 96.0, 407.0], [792.0, 1306.0, 61.0, 426.0, 1733.0], [0.0, null, 0.0, 0.0, null], [0.0, null, 0.0, 0.0, null], [0.0, 0.0, 0.0, 0.0, 0.0], [null, null, 0.0, null, null], [null, 15.0, null, null, 20.0], [12.0, 17.0, null, null, 25.0], [35.0, 46.0, null, 18.0, 67.0], [65.0, 129.0, 10.0, 38.0, 166.0], [113.0, 214.0, 16.0, 65.0, 278.0], [165.0, 310.0, 10.0, 85.0, 400.0], [220.0, 338.0, null, 102.0, 464.0], [619.0, 1077.0, 52.0, 320.0, 1428.0], [0.0, 0.0, 0.0, 0.0, 0.0], [0.0, null, 0.0, 0.0, null], [0.0, 0.0, null, 0.0, null], [0.0, 0.0, 0.0, 0.0, 0.0], [null, null, null, 0.0, null], [null, null, null, 0.0, 15.0], [null, 17.0, null, null, 21.0], [14.0, 26.0, null, null, 36.0], [28.0, 86.0, 11.0, 12.0, 113.0], [30.0, 123.0, 11.0, 22.0, 142.0], [39.0, 143.0, null, 14.0, 175.0], [19.0, 113.0, null, null, 126.0], [138.0, 520.0, 40.0, 64.0, 634.0], [0.0, null, 0.0, 0.0, null], [0.0, 0.0, null, 0.0, null], [0.0, 0.0, 0.0, 0.0, 0.0], [null, null, null, null, null], [null, null, 0.0, null, null], [null, null, null, null, 15.0], [null, 29.0, null, null, 34.0], [13.0, 66.0, null, null, 78.0], [10.0, 86.0, 10.0, null, 101.0], [27.0, 104.0, null, null, 130.0], [54.0, 131.0, null, 11.0, 182.0], [120.0, 436.0, 35.0, 37.0, 554.0], [0.0, 0.0, 0.0, 0.0, 0.0], [0.0, null, 0.0, 0.0, null], [0.0, null, null, 0.0, null], [0.0, null, null, 0.0, null], [null, 21.0, null, null, 24.0], [37.0, 60.0, null, 21.0, 85.0], [103.0, 150.0, 10.0, 53.0, 210.0], [255.0, 354.0, 33.0, 133.0, 509.0], [505.0, 838.0, 71.0, 281.0, 1133.0], [723.0, 1390.0, 63.0, 400.0, 1775.0], [763.0, 1696.0, 57.0, 465.0, 2051.0], [714.0, 1713.0, 52.0, 383.0, 2096.0], [3103.0, 6232.0, 303.0, 1737.0, 7900.0], [0.0, null, null, 0.0, null], [0.0, null, 0.0, 0.0, null], [0.0, null, null, 0.0, null], [null, 13.0, null, null, 17.0], [null, 28.0, 10.0, null, 44.0], [36.0, 77.0, 10.0, 19.0, 104.0], [95.0, 196.0, 22.0, 54.0, 259.0], [206.0, 485.0, 46.0, 119.0, 618.0], [388.0, 870.0, 48.0, 226.0, 1080.0], [580.0, 1277.0, 69.0, 322.0, 1604.0], [1018.0, 2095.0, 63.0, 527.0, 2649.0], [2333.0, 5050.0, 273.0, 1270.0, 6386.0], [0.0, 0.0, 0.0, 0.0, 0.0], [0.0, 0.0, null, 0.0, null], [0.0, 0.0, null, 0.0, null], [0.0, 0.0, 0.0, 0.0, 0.0], [null, null, null, null, null], [null, null, 0.0, null, 11.0], [14.0, 23.0, null, null, 33.0], [52.0, 50.0, null, 27.0, 81.0], [105.0, 134.0, 10.0, 51.0, 198.0], [188.0, 253.0, 10.0, 113.0, 338.0], [247.0, 289.0, null, 146.0, 394.0], [250.0, 241.0, 10.0, 122.0, 377.0], [866.0, 1002.0, 47.0, 472.0, 1441.0], [0.0, null, 0.0, 0.0, null], [0.0, 0.0, 0.0, 0.0, 0.0], [0.0, null, null, 0.0, null], [null, null, 0.0, 0.0, null], [null, null, 0.0, 0.0, null], [null, 11.0, null, null, 18.0], [16.0, 27.0, null, null, 41.0], [36.0, 70.0, 11.0, 22.0, 95.0], [111.0, 127.0, null, 52.0, 193.0], [183.0, 215.0, null, 86.0, 317.0], [322.0, 325.0, 13.0, 158.0, 502.0], [678.0, 783.0, 48.0, 327.0, 1179.0], [0.0, 0.0, 0.0, 0.0, 0.0], [0.0, 0.0, 0.0, 0.0, 0.0], [0.0, 0.0, null, 0.0, null], [0.0, 0.0, 0.0, 0.0, 0.0], [null, 0.0, 0.0, 0.0, null], [null, null, null, null, 10.0], [16.0, null, 0.0, null, 21.0], [58.0, 20.0, null, 11.0, 70.0], [195.0, 70.0, null, 43.0, 225.0], [388.0, 148.0, null, 107.0, 436.0], [481.0, 196.0, null, 118.0, 567.0], [619.0, 278.0, null, 151.0, 755.0], [1766.0, 722.0, 34.0, 434.0, 2086.0], [0.0, 0.0, 0.0, 0.0, 0.0], [0.0, 0.0, 0.0, 0.0, 0.0], [0.0, 0.0, 0.0, 0.0, 0.0], [null, 0.0, 0.0, 0.0, null], [null, null, null, null, null], [null, null, 0.0, 0.0, 11.0], [22.0, null, null, null, 28.0], [98.0, 39.0, null, 21.0, 121.0], [241.0, 117.0, null, 63.0, 298.0], [470.0, 181.0, 13.0, 115.0, 549.0], [1026.0, 329.0, 10.0, 193.0, 1172.0], [1870.0, 678.0, 36.0, 399.0, 2185.0], [0.0, null, null, 0.0, null], [0.0, 0.0, 0.0, 0.0, 0.0], [0.0, 0.0, 0.0, 0.0, 0.0], [0.0, 0.0, 0.0, 0.0, 0.0], [null, null, 0.0, 0.0, null], [null, null, 0.0, null, null], [null, null, 0.0, null, null], [null, null, 0.0, null, 12.0], [28.0, 21.0, 0.0, 14.0, 35.0], [59.0, 54.0, null, 28.0, 86.0], [60.0, 34.0, null, 20.0, 77.0], [59.0, 46.0, null, 26.0, 80.0], [221.0, 165.0, null, 93.0, 298.0], [0.0, 0.0, 0.0, 0.0, 0.0], [0.0, 0.0, 0.0, 0.0, 0.0], [0.0, null, 0.0, 0.0, null], [0.0, 0.0, 0.0, 0.0, 0.0], [null, null, 0.0, null, null], [null, null, null, null, null], [15.0, null, 0.0, null, 18.0], [20.0, 21.0, null, 10.0, 33.0], [39.0, 36.0, null, 14.0, 64.0], [63.0, 50.0, null, 22.0, 92.0], [122.0, 78.0, null, 35.0, 169.0], [264.0, 200.0, 11.0, 90.0, 385.0], [0.0, 0.0, 0.0, 0.0, 0.0], [null, 0.0, 0.0, 0.0, null], [0.0, 0.0, 0.0, 0.0, 0.0], [0.0, null, 0.0, 0.0, null], [0.0, null, 0.0, 0.0, null], [null, null, 0.0, null, null], [15.0, 17.0, null, 15.0, 18.0], [33.0, 37.0, null, 33.0, 38.0], [56.0, 75.0, null, 54.0, 78.0], [104.0, 131.0, null, 104.0, 132.0], [71.0, 93.0, 0.0, 70.0, 94.0], [50.0, 59.0, null, 49.0, 61.0], [332.0, 419.0, null, 327.0, 429.0], [0.0, 0.0, null, 0.0, null], [0.0, 0.0, null, 0.0, null], [0.0, 0.0, null, 0.0, null], [0.0, 0.0, 0.0, 0.0, 0.0], [null, null, 0.0, null, null], [null, null, 0.0, null, null], [16.0, 21.0, 0.0, 16.0, 21.0], [32.0, 41.0, 0.0, 30.0, 43.0], [56.0, 78.0, null, 55.0, 80.0], [49.0, 69.0, 0.0, 49.0, 69.0], [72.0, 93.0, 0.0, 72.0, 93.0], [230.0, 309.0, null, 227.0, 316.0], [0.0, 0.0, 0.0, 0.0, 0.0], [0.0, null, 0.0, 0.0, null], [0.0, null, null, 0.0, null], [0.0, null, null, 0.0, null], [0.0, 10.0, null, 0.0, 13.0], [11.0, 30.0, null, null, 41.0], [41.0, 74.0, null, 19.0, 102.0], [89.0, 183.0, 20.0, 49.0, 241.0], [199.0, 492.0, 31.0, 117.0, 605.0], [400.0, 980.0, 36.0, 216.0, 1200.0], [523.0, 1272.0, 34.0, 280.0, 1548.0], [438.0, 1071.0, 18.0, 212.0, 1313.0], [1701.0, 4121.0, 157.0, 898.0, 5074.0], [0.0, null, null, 0.0, null], [0.0, null, 0.0, 0.0, null], [0.0, null, null, 0.0, null], [null, null, null, null, null], [null, 31.0, null, null, 36.0], [13.0, 51.0, null, null, 63.0], [34.0, 111.0, 12.0, 20.0, 137.0], [89.0, 333.0, 23.0, 49.0, 396.0], [255.0, 629.0, 39.0, 143.0, 780.0], [381.0, 886.0, 35.0, 189.0, 1112.0], [633.0, 1150.0, 27.0, 288.0, 1521.0], [1415.0, 3204.0, 151.0, 706.0, 4062.0], [0.0, 0.0, 0.0, 0.0, 0.0], [0.0, null, 0.0, 0.0, null], [0.0, 0.0, null, 0.0, null], [0.0, 0.0, 0.0, 0.0, 0.0], [0.0, null, null, 0.0, null], [17.0, 15.0, 0.0, null, 26.0], [14.0, 28.0, null, null, 36.0], [78.0, 82.0, null, 30.0, 136.0], [170.0, 229.0, 10.0, 67.0, 342.0], [313.0, 406.0, 10.0, 157.0, 572.0], [309.0, 473.0, 11.0, 160.0, 632.0], [207.0, 309.0, null, 96.0, 428.0], [1108.0, 1545.0, 50.0, 523.0, 2179.0], [0.0, 0.0, 0.0, 0.0, 0.0], [0.0, 0.0, null, 0.0, null], [0.0, null, null, 0.0, null], [null, null, 0.0, null, null], [null, 13.0, null, null, 21.0], [17.0, 29.0, null, null, 43.0], [52.0, 83.0, null, 26.0, 114.0], [108.0, 171.0, 13.0, 48.0, 244.0], [204.0, 270.0, 12.0, 96.0, 390.0], [301.0, 344.0, 14.0, 128.0, 531.0], [341.0, 401.0, null, 128.0, 622.0], [1034.0, 1317.0, 59.0, 436.0, 1974.0], [0.0, 0.0, 0.0, 0.0, 0.0], [0.0, 0.0, 0.0, 0.0, 0.0], [0.0, 0.0, 0.0, 0.0, 0.0], [0.0, null, 0.0, 0.0, null], [0.0, null, 0.0, 0.0, null], [0.0, null, 0.0, 0.0, null], [0.0, null, 0.0, 0.0, null], [null, null, 0.0, 0.0, null], [null, null, null, 0.0, 12.0], [null, 31.0, null, null, 36.0], [null, 42.0, null, null, 49.0], [null, 66.0, null, 0.0, 71.0], [10.0, 162.0, 14.0, null, 184.0], [0.0, 0.0, 0.0, 0.0, 0.0], [0.0, 0.0, 0.0, 0.0, 0.0], [0.0, null, 0.0, 0.0, null], [0.0, 0.0, 0.0, 0.0, 0.0], [null, null, 0.0, null, null], [0.0, 0.0, 0.0, 0.0, 0.0], [null, null, 0.0, null, null], [0.0, 20.0, null, 0.0, 22.0], [0.0, 21.0, null, 0.0, 24.0], [null, 22.0, 0.0, 0.0, 24.0], [null, 70.0, null, null, 71.0], [null, 140.0, null, null, 148.0], [0.0, 0.0, 0.0, 0.0, 0.0], [0.0, 0.0, 0.0, 0.0, 0.0], [0.0, null, 0.0, 0.0, null], [0.0, null, 0.0, 0.0, null], [0.0, 0.0, 0.0, 0.0, 0.0], [0.0, 0.0, 0.0, 0.0, 0.0], [0.0, null, null, 0.0, null], [0.0, null, 0.0, 0.0, null], [null, 22.0, null, 0.0, 28.0], [11.0, 32.0, null, null, 49.0], [17.0, 52.0, null, null, 64.0], [14.0, 38.0, null, null, 48.0], [46.0, 154.0, 13.0, 12.0, 201.0], [0.0, 0.0, 0.0, 0.0, 0.0], [0.0, 0.0, 0.0, 0.0, 0.0], [0.0, 0.0, 0.0, 0.0, 0.0], [0.0, 0.0, null, 0.0, null], [0.0, 0.0, 0.0, 0.0, 0.0], [0.0, null, 0.0, 0.0, null], [0.0, null, 0.0, 0.0, null], [0.0, 20.0, null, 0.0, 22.0], [null, 36.0, null, null, 40.0], [13.0, 33.0, null, null, 44.0], [26.0, 50.0, null, null, 76.0], [46.0, 144.0, 12.0, 14.0, 188.0], [0.0, 0.0, 0.0, 0.0, 0.0], [null, null, 0.0, null, null], [0.0, 0.0, null, 0.0, null], [null, null, 0.0, null, null], [null, null, 0.0, null, 10.0], [37.0, 30.0, null, 13.0, 56.0], [107.0, 71.0, null, 46.0, 134.0], [259.0, 195.0, null, 126.0, 331.0], [519.0, 460.0, 15.0, 278.0, 716.0], [848.0, 795.0, 15.0, 461.0, 1197.0], [862.0, 895.0, 18.0, 467.0, 1308.0], [722.0, 825.0, 14.0, 356.0, 1204.0], [3363.0, 3279.0, 70.0, 1750.0, 4961.0], [null, null, 0.0, 0.0, null], [0.0, 0.0, 0.0, 0.0, 0.0], [0.0, null, null, 0.0, null], [null, null, null, null, null], [18.0, 18.0, null, null, 29.0], [38.0, 47.0, null, 21.0, 68.0], [97.0, 100.0, null, 52.0, 147.0], [257.0, 297.0, 16.0, 139.0, 431.0], [472.0, 530.0, 15.0, 258.0, 758.0], [669.0, 736.0, 27.0, 330.0, 1101.0], [1189.0, 1139.0, 38.0, 523.0, 1843.0], [2746.0, 2872.0, 106.0, 1332.0, 4390.0], [0.0, 0.0, 0.0, 0.0, 0.0], [0.0, null, 0.0, 0.0, null], [null, 0.0, 0.0, 0.0, null], [0.0, 0.0, 0.0, 0.0, 0.0], [null, null, 0.0, 0.0, null], [null, 17.0, 0.0, null, 20.0], [11.0, 31.0, null, null, 38.0], [46.0, 70.0, null, 18.0, 105.0], [148.0, 219.0, 11.0, 75.0, 302.0], [326.0, 404.0, 13.0, 157.0, 586.0], [357.0, 488.0, 16.0, 164.0, 696.0], [336.0, 382.0, 12.0, 141.0, 589.0], [1235.0, 1613.0, 61.0, 567.0, 2340.0], [0.0, 0.0, 0.0, 0.0, 0.0], [0.0, 0.0, null, 0.0, null], [0.0, 0.0, null, 0.0, null], [null, null, 0.0, 0.0, null], [null, null, null, 0.0, null], [15.0, 15.0, 0.0, null, 21.0], [28.0, 55.0, null, 14.0, 74.0], [88.0, 153.0, 11.0, 52.0, 200.0], [200.0, 286.0, 13.0, 92.0, 407.0], [350.0, 400.0, 14.0, 139.0, 624.0], [528.0, 474.0, 24.0, 155.0, 870.0], [1211.0, 1391.0, 70.0, 461.0, 2209.0], [0.0, 0.0, 0.0, 0.0, 0.0], [0.0, null, null, 0.0, null], [0.0, null, null, 0.0, null], [0.0, null, 0.0, 0.0, null], [0.0, 0.0, null, 0.0, null], [null, null, 0.0, null, null], [null, null, 0.0, null, 12.0], [21.0, 21.0, null, null, 34.0], [55.0, 72.0, null, 25.0, 105.0], [96.0, 117.0, null, 27.0, 195.0], [82.0, 135.0, null, 21.0, 205.0], [110.0, 151.0, null, 26.0, 243.0], [374.0, 511.0, 33.0, 112.0, 806.0], [null, null, 0.0, 0.0, null], [0.0, 0.0, 0.0, 0.0, 0.0], [0.0, null, 0.0, 0.0, null], [null, null, 0.0, null, null], [null, null, null, null, null], [null, null, 0.0, 0.0, null], [null, 14.0, null, null, 18.0], [39.0, 46.0, null, 16.0, 73.0], [64.0, 87.0, 12.0, 22.0, 141.0], [77.0, 117.0, 12.0, 22.0, 184.0], [130.0, 188.0, 21.0, 24.0, 315.0], [325.0, 464.0, 51.0, 93.0, 747.0], [0.0, 0.0, 0.0, 0.0, 0.0], [0.0, 0.0, 0.0, 0.0, 0.0], [0.0, null, 0.0, 0.0, null], [0.0, 0.0, 0.0, 0.0, 0.0], [0.0, null, 0.0, 0.0, null], [null, null, null, null, null], [null, null, null, 0.0, 10.0], [12.0, 13.0, null, null, 23.0], [24.0, 50.0, null, 13.0, 70.0], [29.0, 92.0, null, 13.0, 117.0], [32.0, 97.0, 13.0, 15.0, 127.0], [34.0, 136.0, null, 17.0, 160.0], [136.0, 401.0, 42.0, 63.0, 516.0], [0.0, 0.0, 0.0, 0.0, 0.0], [0.0, 0.0, 0.0, 0.0, 0.0], [0.0, null, 0.0, 0.0, null], [0.0, null, 0.0, 0.0, null], [null, null, null, 0.0, null], [null, null, 0.0, null, null], [null, null, null, null, 14.0], [15.0, 35.0, null, null, 53.0], [16.0, 67.0, null, null, 86.0], [22.0, 81.0, 15.0, 12.0, 106.0], [57.0, 158.0, 13.0, 23.0, 205.0], [117.0, 359.0, 47.0, 46.0, 477.0], [0.0, 0.0, 0.0, 0.0, 0.0], [0.0, 0.0, 0.0, 0.0, 0.0], [0.0, 0.0, 0.0, 0.0, 0.0], [0.0, 0.0, 0.0, 0.0, 0.0], [0.0, null, 0.0, 0.0, null], [null, null, null, null, 10.0], [null, 26.0, null, null, 31.0], [13.0, 49.0, null, null, 60.0], [31.0, 147.0, null, 15.0, 171.0], [77.0, 241.0, 12.0, 43.0, 287.0], [57.0, 276.0, 11.0, 32.0, 312.0], [56.0, 205.0, 11.0, 28.0, 244.0], [245.0, 955.0, 49.0, 131.0, 1118.0], [0.0, 0.0, 0.0, 0.0, 0.0], [0.0, 0.0, 0.0, 0.0, 0.0], [0.0, 0.0, 0.0, 0.0, 0.0], [0.0, 0.0, null, 0.0, null], [0.0, null, null, 0.0, null], [0.0, 15.0, null, 0.0, 16.0], [null, 39.0, null, null, 45.0], [25.0, 99.0, 12.0, 15.0, 120.0], [44.0, 183.0, 12.0, 27.0, 212.0], [73.0, 242.0, null, 37.0, 283.0], [138.0, 279.0, 12.0, 54.0, 375.0], [286.0, 861.0, 49.0, 138.0, 1057.0], [0.0, 0.0, 0.0, 0.0, 0.0], [0.0, 0.0, 0.0, 0.0, 0.0], [0.0, 0.0, 0.0, 0.0, 0.0], [null, null, 0.0, 0.0, null], [null, null, 0.0, 0.0, null], [10.0, 16.0, null, null, 21.0], [33.0, 30.0, null, 18.0, 46.0], [97.0, 47.0, null, 35.0, 114.0], [220.0, 169.0, null, 101.0, 291.0], [370.0, 303.0, 11.0, 174.0, 508.0], [419.0, 323.0, null, 200.0, 549.0], [276.0, 245.0, null, 135.0, 390.0], [1429.0, 1137.0, 33.0, 669.0, 1927.0], [null, null, 0.0, 0.0, null], [0.0, 0.0, 0.0, 0.0, 0.0], [0.0, null, 0.0, 0.0, null], [null, null, null, null, null], [12.0, 11.0, 0.0, null, 17.0], [30.0, 21.0, null, 15.0, 37.0], [52.0, 36.0, null, 20.0, 77.0], [158.0, 139.0, null, 79.0, 220.0], [234.0, 190.0, null, 108.0, 323.0], [364.0, 275.0, null, 165.0, 482.0], [419.0, 323.0, null, 194.0, 556.0], [1272.0, 1002.0, 38.0, 589.0, 1721.0], [0.0, 0.0, 0.0, 0.0, 0.0], [0.0, 0.0, 0.0, 0.0, 0.0], [0.0, 0.0, 0.0, 0.0, 0.0], [0.0, 0.0, 0.0, 0.0, 0.0], [0.0, 0.0, 0.0, 0.0, 0.0], [0.0, null, 0.0, 0.0, null], [null, null, null, null, null], [null, null, null, null, null], [null, 22.0, null, 0.0, 33.0], [14.0, 61.0, null, null, 72.0], [14.0, 70.0, null, null, 85.0], [16.0, 89.0, null, null, 103.0], [53.0, 251.0, 16.0, 14.0, 306.0], [0.0, 0.0, 0.0, 0.0, 0.0], [0.0, 0.0, null, 0.0, null], [0.0, 0.0, 0.0, 0.0, 0.0], [0.0, 0.0, 0.0, 0.0, 0.0], [0.0, null, 0.0, 0.0, null], [null, null, 0.0, null, null], [null, null, 0.0, 0.0, null], [null, 15.0, 0.0, 0.0, 17.0], [null, 35.0, null, 0.0, 43.0], [19.0, 61.0, null, null, 77.0], [27.0, 89.0, null, null, 120.0], [56.0, 213.0, 15.0, 12.0, 272.0], [0.0, 0.0, 0.0, 0.0, 0.0], [0.0, null, 0.0, 0.0, null], [0.0, 0.0, 0.0, 0.0, 0.0], [0.0, 0.0, null, 0.0, null], [null, null, 0.0, 0.0, null], [24.0, 17.0, null, 10.0, 33.0], [53.0, 36.0, null, 21.0, 70.0], [98.0, 71.0, null, 38.0, 134.0], [259.0, 202.0, 12.0, 100.0, 371.0], [347.0, 308.0, null, 144.0, 519.0], [487.0, 426.0, 13.0, 194.0, 732.0], [415.0, 376.0, 17.0, 147.0, 657.0], [1686.0, 1439.0, 59.0, 654.0, 2523.0], [0.0, 0.0, 0.0, 0.0, 0.0], [0.0, null, 0.0, 0.0, null], [0.0, null, 0.0, 0.0, null], [null, null, 0.0, null, null], [null, 10.0, null, null, 15.0], [16.0, 14.0, 0.0, null, 29.0], [56.0, 50.0, null, 22.0, 86.0], [143.0, 133.0, 13.0, 55.0, 233.0], [290.0, 270.0, 15.0, 131.0, 443.0], [429.0, 347.0, 18.0, 164.0, 627.0], [678.0, 525.0, 16.0, 207.0, 1008.0], [1622.0, 1354.0, 66.0, 585.0, 2448.0], [0.0, 0.0, 0.0, 0.0, 0.0], [0.0, null, 0.0, 0.0, null], [0.0, 0.0, 0.0, 0.0, 0.0], [0.0, 0.0, 0.0, 0.0, 0.0], [null, null, 0.0, null, null], [10.0, null, null, null, 15.0], [26.0, 21.0, null, null, 44.0], [82.0, 57.0, null, 33.0, 110.0], [309.0, 253.0, 17.0, 147.0, 431.0], [672.0, 498.0, 18.0, 270.0, 918.0], [1059.0, 726.0, 25.0, 416.0, 1394.0], [1266.0, 835.0, 20.0, 483.0, 1636.0], [3428.0, 2401.0, 89.0, 1362.0, 4553.0], [0.0, 0.0, 0.0, 0.0, 0.0], [0.0, 0.0, 0.0, 0.0, 0.0], [0.0, null, 0.0, 0.0, null], [null, null, null, null, null], [null, null, null, null, 13.0], [12.0, 10.0, 0.0, null, 17.0], [58.0, 32.0, null, 17.0, 75.0], [176.0, 137.0, null, 80.0, 239.0], [443.0, 309.0, 10.0, 184.0, 578.0], [957.0, 601.0, 19.0, 353.0, 1224.0], [2200.0, 1122.0, 30.0, 637.0, 2713.0], [3854.0, 2221.0, 72.0, 1280.0, 4862.0], [0.0, 0.0, 0.0, 0.0, 0.0], [0.0, null, 0.0, 0.0, null], [0.0, 0.0, null, 0.0, null], [0.0, 0.0, 0.0, 0.0, 0.0], [null, null, 0.0, null, null], [25.0, 21.0, null, null, 40.0], [54.0, 43.0, null, 25.0, 77.0], [187.0, 145.0, 12.0, 91.0, 253.0], [389.0, 378.0, 18.0, 197.0, 588.0], [731.0, 709.0, 36.0, 377.0, 1098.0], [772.0, 812.0, 22.0, 398.0, 1205.0], [586.0, 638.0, 18.0, 297.0, 945.0], [2746.0, 2757.0, 115.0, 1396.0, 4218.0], [0.0, 0.0, 0.0, 0.0, 0.0], [0.0, 0.0, null, 0.0, null], [null, null, null, 0.0, null], [null, null, null, null, null], [11.0, 10.0, null, null, 19.0], [27.0, 28.0, null, 13.0, 44.0], [107.0, 99.0, 10.0, 58.0, 158.0], [255.0, 259.0, 25.0, 134.0, 405.0], [523.0, 515.0, 30.0, 276.0, 792.0], [625.0, 613.0, 29.0, 303.0, 963.0], [969.0, 885.0, 23.0, 415.0, 1462.0], [2522.0, 2415.0, 125.0, 1205.0, 3856.0], [null, null, 0.0, null, null], [0.0, 0.0, 0.0, 0.0, 0.0], [0.0, null, 0.0, 0.0, null], [0.0, null, 0.0, 0.0, null], [0.0, null, 0.0, 0.0, null], [null, null, null, null, null], [null, null, null, 0.0, 16.0], [20.0, 40.0, null, null, 57.0], [67.0, 90.0, null, 28.0, 138.0], [125.0, 166.0, 15.0, 48.0, 257.0], [193.0, 240.0, 14.0, 52.0, 395.0], [242.0, 258.0, 12.0, 57.0, 455.0], [655.0, 813.0, 59.0, 194.0, 1332.0], [0.0, null, 0.0, 0.0, null], [0.0, 0.0, 0.0, 0.0, 0.0], [0.0, null, 0.0, 0.0, null], [0.0, null, 0.0, 0.0, null], [null, null, null, null, null], [null, null, null, null, 12.0], [10.0, 20.0, null, null, 33.0], [33.0, 63.0, 14.0, null, 101.0], [88.0, 123.0, 13.0, 35.0, 189.0], [179.0, 192.0, 11.0, 50.0, 332.0], [379.0, 357.0, 16.0, 89.0, 663.0], [694.0, 772.0, 62.0, 187.0, 1341.0], [0.0, 0.0, 0.0, 0.0, 0.0], [0.0, 0.0, 0.0, 0.0, 0.0], [0.0, 0.0, 0.0, 0.0, 0.0], [0.0, null, 0.0, 0.0, null], [null, null, 0.0, null, null], [null, null, null, null, 10.0], [12.0, 24.0, null, null, 31.0], [35.0, 41.0, null, 16.0, 63.0], [74.0, 152.0, null, 37.0, 195.0], [120.0, 202.0, null, 58.0, 272.0], [132.0, 186.0, null, 58.0, 267.0], [74.0, 133.0, null, 32.0, 176.0], [453.0, 750.0, 28.0, 211.0, 1020.0], [0.0, 0.0, 0.0, 0.0, 0.0], [0.0, 0.0, 0.0, 0.0, 0.0], [0.0, 0.0, null, 0.0, null], [0.0, 0.0, 0.0, 0.0, 0.0], [null, null, null, null, null], [15.0, 15.0, null, null, 28.0], [30.0, 49.0, null, 18.0, 63.0], [68.0, 100.0, null, 37.0, 138.0], [103.0, 165.0, null, 54.0, 215.0], [126.0, 185.0, null, 56.0, 260.0], [153.0, 215.0, null, 64.0, 307.0], [499.0, 736.0, 23.0, 237.0, 1021.0], [null, null, 0.0, null, null], [0.0, null, 0.0, 0.0, null], [0.0, 0.0, null, 0.0, null], [0.0, null, 0.0, 0.0, null], [0.0, null, null, 0.0, null], [null, null, null, 0.0, 14.0], [null, 13.0, null, 0.0, 18.0], [19.0, 46.0, null, null, 65.0], [57.0, 129.0, 18.0, 14.0, 190.0], [106.0, 226.0, 14.0, 43.0, 303.0], [135.0, 263.0, 20.0, 48.0, 370.0], [114.0, 238.0, 14.0, 43.0, 323.0], [436.0, 929.0, 86.0, 157.0, 1294.0], [0.0, null, 0.0, 0.0, null], [0.0, null, 0.0, 0.0, null], [0.0, 0.0, null, 0.0, null], [null, null, null, 0.0, null], [null, null, null, null, null], [null, 14.0, null, null, 21.0], [null, 27.0, null, null, 37.0], [34.0, 76.0, 10.0, 11.0, 109.0], [70.0, 153.0, 17.0, 17.0, 223.0], [106.0, 220.0, 32.0, 37.0, 321.0], [225.0, 296.0, 20.0, 69.0, 472.0], [453.0, 792.0, 90.0, 140.0, 1195.0], [0.0, 0.0, 0.0, 0.0, 0.0], [0.0, 0.0, 0.0, 0.0, 0.0], [0.0, 0.0, 0.0, 0.0, 0.0], [0.0, 0.0, 0.0, 0.0, 0.0], [0.0, 0.0, 0.0, 0.0, 0.0], [0.0, 0.0, 0.0, 0.0, 0.0], [0.0, null, null, 0.0, null], [null, null, null, 0.0, null], [null, 11.0, null, null, 14.0], [null, 29.0, null, 0.0, 33.0], [null, 35.0, null, null, 43.0], [null, 43.0, null, 0.0, 49.0], [11.0, 127.0, 17.0, null, 152.0], [0.0, 0.0, 0.0, 0.0, 0.0], [0.0, 0.0, 0.0, 0.0, 0.0], [0.0, 0.0, 0.0, 0.0, 0.0], [0.0, 0.0, 0.0, 0.0, 0.0], [null, null, 0.0, 0.0, null], [0.0, null, 0.0, 0.0, null], [0.0, 0.0, 0.0, 0.0, 0.0], [0.0, null, null, 0.0, null], [null, 26.0, null, 0.0, 34.0], [null, 24.0, null, null, 28.0], [null, 33.0, null, 0.0, 42.0], [null, 91.0, 17.0, null, 116.0], [0.0, 0.0, 0.0, 0.0, 0.0], [0.0, 0.0, 0.0, 0.0, 0.0], [0.0, 0.0, 0.0, 0.0, 0.0], [0.0, 0.0, 0.0, 0.0, 0.0], [0.0, null, 0.0, 0.0, null], [null, null, null, null, null], [null, null, 0.0, null, null], [13.0, 14.0, null, null, 24.0], [20.0, 41.0, null, null, 58.0], [34.0, 54.0, null, 13.0, 78.0], [30.0, 65.0, null, 14.0, 82.0], [23.0, 80.0, null, null, 97.0], [126.0, 264.0, 11.0, 48.0, 353.0], [0.0, 0.0, 0.0, 0.0, 0.0], [0.0, 0.0, null, 0.0, null], [0.0, null, null, 0.0, null], [0.0, 0.0, 0.0, 0.0, 0.0], [null, null, 0.0, 0.0, null], [null, null, 0.0, null, null], [null, 14.0, 0.0, null, 15.0], [18.0, 29.0, null, null, 43.0], [22.0, 40.0, null, null, 59.0], [25.0, 66.0, null, null, 83.0], [42.0, 119.0, null, 15.0, 154.0], [115.0, 278.0, 17.0, 42.0, 368.0], [0.0, 0.0, 0.0, 0.0, 0.0], [0.0, null, 0.0, 0.0, null], [0.0, null, 0.0, 0.0, null], [0.0, null, 0.0, 0.0, null], [null, null, 0.0, 0.0, null], [0.0, null, 0.0, 0.0, null], [10.0, 14.0, 0.0, null, 19.0], [24.0, 44.0, null, 17.0, 53.0], [42.0, 96.0, null, 31.0, 112.0], [85.0, 167.0, null, 64.0, 194.0], [73.0, 154.0, null, 50.0, 185.0], [37.0, 98.0, null, 30.0, 106.0], [272.0, 584.0, 22.0, 197.0, 681.0], [0.0, 0.0, 0.0, 0.0, 0.0], [0.0, 0.0, 0.0, 0.0, 0.0], [0.0, 0.0, 0.0, 0.0, 0.0], [0.0, null, 0.0, 0.0, null], [null, null, null, null, null], [null, null, null, null, 10.0], [12.0, 25.0, null, null, 34.0], [24.0, 62.0, null, 18.0, 71.0], [45.0, 118.0, null, 36.0, 130.0], [65.0, 136.0, null, 50.0, 154.0], [38.0, 92.0, null, 27.0, 105.0], [191.0, 448.0, 18.0, 143.0, 514.0], [0.0, 0.0, 0.0, 0.0, 0.0], [0.0, 0.0, 0.0, 0.0, 0.0], [0.0, 0.0, 0.0, 0.0, 0.0], [0.0, null, 0.0, 0.0, null], [null, 0.0, 0.0, 0.0, null], [0.0, 0.0, 0.0, 0.0, 0.0], [0.0, null, 0.0, 0.0, null], [null, 10.0, null, null, 15.0], [14.0, 22.0, 0.0, null, 32.0], [30.0, 52.0, null, 16.0, 69.0], [57.0, 64.0, null, 22.0, 104.0], [68.0, 66.0, null, 19.0, 117.0], [178.0, 218.0, 12.0, 65.0, 342.0], [0.0, 0.0, 0.0, 0.0, 0.0], [0.0, 0.0, 0.0, 0.0, 0.0], [0.0, 0.0, 0.0, 0.0, 0.0], [0.0, 0.0, 0.0, 0.0, 0.0], [0.0, 0.0, 0.0, 0.0, 0.0], [0.0, 0.0, 0.0, 0.0, 0.0], [null, null, 0.0, 0.0, null], [null, 12.0, null, null, 18.0], [20.0, 37.0, null, null, 57.0], [43.0, 54.0, null, null, 90.0], [100.0, 75.0, null, 16.0, 165.0], [168.0, 181.0, 18.0, 33.0, 334.0], [0.0, 0.0, 0.0, 0.0, 0.0], [0.0, null, 0.0, 0.0, null], [0.0, 0.0, 0.0, 0.0, 0.0], [0.0, 0.0, 0.0, 0.0, 0.0], [11.0, null, 0.0, null, 11.0], [67.0, 38.0, null, 33.0, 74.0], [186.0, 114.0, null, 88.0, 214.0], [508.0, 301.0, null, 250.0, 567.0], [1129.0, 739.0, null, 586.0, 1289.0], [1577.0, 1082.0, 12.0, 814.0, 1856.0], [1792.0, 1266.0, 20.0, 928.0, 2147.0], [1663.0, 1249.0, 18.0, 818.0, 2112.0], [6933.0, 4791.0, 71.0, 3518.0, 8271.0], [0.0, null, null, 0.0, null], [null, 0.0, 0.0, 0.0, null], [0.0, null, 0.0, 0.0, null], [null, null, 0.0, null, null], [30.0, 21.0, null, 15.0, 38.0], [61.0, 38.0, null, 28.0, 72.0], [173.0, 116.0, null, 80.0, 210.0], [527.0, 356.0, null, 264.0, 623.0], [939.0, 640.0, null, 476.0, 1106.0], [1591.0, 1093.0, 12.0, 795.0, 1900.0], [2770.0, 1753.0, 22.0, 1203.0, 3339.0], [6095.0, 4022.0, 50.0, 2862.0, 7297.0], [0.0, 0.0, 0.0, 0.0, 0.0], [0.0, 0.0, 0.0, 0.0, 0.0], [0.0, 0.0, 0.0, 0.0, 0.0], [0.0, 0.0, null, 0.0, null], [null, null, 0.0, null, null], [11.0, 13.0, 0.0, null, 17.0], [13.0, 16.0, null, null, 22.0], [20.0, 26.0, null, 11.0, 39.0], [26.0, 42.0, null, 11.0, 58.0], [45.0, 64.0, null, 22.0, 90.0], [36.0, 85.0, null, 11.0, 114.0], [57.0, 75.0, null, 15.0, 118.0], [209.0, 323.0, 16.0, 87.0, 461.0], [0.0, 0.0, 0.0, 0.0, 0.0], [0.0, 0.0, null, 0.0, null], [0.0, 0.0, 0.0, 0.0, 0.0], [0.0, 0.0, null, 0.0, null], [null, null, 0.0, 0.0, null], [null, null, null, null, 13.0], [12.0, 14.0, null, null, 22.0], [26.0, 43.0, null, 14.0, 58.0], [24.0, 63.0, null, 13.0, 76.0], [56.0, 84.0, null, 26.0, 115.0], [77.0, 87.0, null, 22.0, 144.0], [205.0, 303.0, 13.0, 85.0, 436.0], [0.0, 0.0, 0.0, 0.0, 0.0], [0.0, 0.0, 0.0, 0.0, 0.0], [0.0, 0.0, null, 0.0, null], [null, null, 0.0, null, null], [null, 10.0, 0.0, null, 13.0], [38.0, 26.0, null, 17.0, 49.0], [110.0, 68.0, null, 47.0, 133.0], [338.0, 240.0, null, 177.0, 406.0], [834.0, 646.0, 17.0, 423.0, 1073.0], [1337.0, 1067.0, 26.0, 669.0, 1758.0], [1458.0, 1279.0, 26.0, 754.0, 2007.0], [1400.0, 1405.0, 29.0, 698.0, 2133.0], [5525.0, 4743.0, 109.0, 2791.0, 7577.0], [0.0, null, 0.0, 0.0, null], [0.0, 0.0, null, 0.0, null], [0.0, 0.0, null, 0.0, null], [null, null, null, 0.0, null], [19.0, 16.0, 0.0, 10.0, 25.0], [48.0, 36.0, null, 27.0, 59.0], [115.0, 90.0, null, 52.0, 155.0], [406.0, 357.0, 13.0, 212.0, 563.0], [747.0, 664.0, 12.0, 388.0, 1035.0], [1233.0, 1040.0, 19.0, 607.0, 1685.0], [2395.0, 1889.0, 43.0, 1032.0, 3289.0], [4965.0, 4097.0, 98.0, 2328.0, 6824.0], [0.0, 0.0, 0.0, 0.0, 0.0], [null, null, null, 0.0, null], [null, null, 0.0, null, null], [null, 0.0, null, 0.0, null], [22.0, null, null, null, 24.0], [106.0, 50.0, null, 39.0, 117.0], [365.0, 140.0, 23.0, 113.0, 398.0], [915.0, 419.0, 69.0, 335.0, 1003.0], [2045.0, 967.0, 146.0, 762.0, 2263.0], [3023.0, 1473.0, 138.0, 1177.0, 3324.0], [2881.0, 1517.0, 104.0, 1156.0, 3251.0], [1953.0, 1133.0, 75.0, 784.0, 2316.0], [11317.0, 5711.0, 568.0, 4374.0, 12708.0], [null, 0.0, 0.0, 0.0, null], [null, null, 0.0, null, null], [null, null, 0.0, 0.0, null], [null, null, null, null, 12.0], [51.0, 22.0, null, 15.0, 59.0], [108.0, 51.0, null, 34.0, 126.0], [362.0, 171.0, 33.0, 133.0, 404.0], [968.0, 496.0, 67.0, 395.0, 1081.0], [1647.0, 849.0, 87.0, 636.0, 1874.0], [2121.0, 1166.0, 89.0, 852.0, 2453.0], [2560.0, 1427.0, 89.0, 965.0, 3046.0], [7829.0, 4192.0, 377.0, 3035.0, 9060.0], [0.0, 0.0, 0.0, 0.0, 0.0], [0.0, null, null, 0.0, null], [0.0, null, null, 0.0, null], [0.0, 0.0, 0.0, 0.0, 0.0], [null, null, null, null, null], [null, 12.0, 0.0, null, 15.0], [14.0, 19.0, null, null, 32.0], [30.0, 54.0, null, 13.0, 79.0], [50.0, 144.0, 32.0, 15.0, 211.0], [103.0, 295.0, 22.0, 41.0, 378.0], [141.0, 351.0, 17.0, 57.0, 452.0], [117.0, 292.0, 18.0, 50.0, 376.0], [462.0, 1171.0, 106.0, 184.0, 1553.0], [0.0, null, 0.0, 0.0, null], [0.0, 0.0, null, 0.0, null], [0.0, null, null, 0.0, null], [0.0, null, null, 0.0, null], [null, null, null, 0.0, 10.0], [null, 16.0, null, null, 23.0], [12.0, 35.0, 11.0, null, 53.0], [34.0, 117.0, 20.0, 14.0, 157.0], [76.0, 198.0, 30.0, 26.0, 278.0], [127.0, 300.0, 20.0, 49.0, 398.0], [162.0, 384.0, 26.0, 52.0, 520.0], [417.0, 1058.0, 119.0, 147.0, 1447.0], [0.0, 0.0, 0.0, 0.0, 0.0], [0.0, 0.0, 0.0, 0.0, 0.0], [0.0, 0.0, 0.0, 0.0, 0.0], [0.0, 0.0, 0.0, 0.0, 0.0], [0.0, 0.0, 0.0, 0.0, 0.0], [0.0, 0.0, 0.0, 0.0, 0.0], [null, null, null, null, null], [null, 10.0, 0.0, 0.0, 12.0], [null, 21.0, 0.0, null, 23.0], [null, 28.0, null, null, 37.0], [null, 37.0, null, null, 42.0], [15.0, 33.0, null, null, 45.0], [44.0, 135.0, null, 20.0, 167.0], [0.0, 0.0, 0.0, 0.0, 0.0], [0.0, 0.0, 0.0, 0.0, 0.0], [0.0, 0.0, 0.0, 0.0, 0.0], [0.0, 0.0, 0.0, 0.0, 0.0], [0.0, null, 0.0, 0.0, null], [0.0, null, 0.0, 0.0, null], [0.0, null, null, 0.0, null], [null, null, 0.0, 0.0, null], [null, 18.0, null, null, 24.0], [12.0, 27.0, null, null, 42.0], [14.0, 39.0, 0.0, null, 52.0], [31.0, 97.0, 11.0, null, 134.0], [0.0, 0.0, 0.0, 0.0, 0.0], [0.0, null, 0.0, 0.0, null], [0.0, 0.0, null, 0.0, null], [0.0, null, 0.0, 0.0, null], [null, null, null, 0.0, null], [null, 14.0, null, null, 22.0], [20.0, 30.0, null, null, 48.0], [47.0, 82.0, 11.0, 25.0, 115.0], [160.0, 256.0, 29.0, 73.0, 372.0], [301.0, 454.0, 33.0, 125.0, 663.0], [353.0, 532.0, 23.0, 165.0, 743.0], [347.0, 492.0, 13.0, 138.0, 714.0], [1232.0, 1867.0, 121.0, 532.0, 2688.0], [0.0, null, 0.0, 0.0, null], [0.0, 0.0, 0.0, 0.0, 0.0], [0.0, 0.0, null, 0.0, null], [0.0, null, null, 0.0, null], [null, null, null, 0.0, 18.0], [null, 15.0, null, null, 28.0], [19.0, 67.0, null, 10.0, 85.0], [77.0, 181.0, 19.0, 36.0, 241.0], [155.0, 283.0, 24.0, 64.0, 398.0], [339.0, 460.0, 30.0, 129.0, 699.0], [505.0, 622.0, 35.0, 199.0, 963.0], [1103.0, 1642.0, 136.0, 440.0, 2440.0], [0.0, 0.0, 0.0, 0.0, 0.0], [0.0, null, 0.0, 0.0, null], [0.0, 0.0, 0.0, 0.0, 0.0], [0.0, 0.0, null, 0.0, null], [null, null, 0.0, null, null], [null, 13.0, null, null, 15.0], [null, 17.0, null, null, 20.0], [null, 34.0, null, null, 46.0], [26.0, 115.0, 12.0, null, 143.0], [50.0, 185.0, 10.0, 12.0, 232.0], [51.0, 218.0, 11.0, 18.0, 262.0], [52.0, 174.0, null, 25.0, 206.0], [194.0, 761.0, 49.0, 71.0, 930.0], [0.0, 0.0, 0.0, 0.0, 0.0], [0.0, 0.0, 0.0, 0.0, 0.0], [0.0, null, 0.0, 0.0, null], [0.0, null, 0.0, 0.0, null], [null, null, null, null, null], [null, 10.0, null, 0.0, 16.0], [null, 22.0, null, 0.0, 26.0], [22.0, 94.0, 13.0, null, 119.0], [46.0, 161.0, 14.0, 21.0, 200.0], [42.0, 183.0, 13.0, 17.0, 220.0], [63.0, 184.0, 12.0, 25.0, 234.0], [178.0, 660.0, 59.0, 72.0, 822.0], [0.0, 0.0, 0.0, 0.0, 0.0], [0.0, 0.0, 0.0, 0.0, 0.0], [0.0, 0.0, 0.0, 0.0, 0.0], [0.0, 0.0, 0.0, 0.0, 0.0], [0.0, 0.0, null, 0.0, null], [null, null, 0.0, 0.0, null], [null, 11.0, null, null, 13.0], [null, 16.0, null, null, 24.0], [16.0, 47.0, null, null, 63.0], [32.0, 103.0, 11.0, 13.0, 133.0], [26.0, 112.0, null, 10.0, 134.0], [30.0, 109.0, null, null, 139.0], [112.0, 402.0, 38.0, 39.0, 513.0], [0.0, 0.0, 0.0, 0.0, 0.0], [0.0, 0.0, 0.0, 0.0, 0.0], [0.0, 0.0, null, 0.0, null], [0.0, null, 0.0, 0.0, null], [null, null, null, 0.0, null], [null, null, null, null, null], [null, 13.0, null, 0.0, 18.0], [null, 43.0, null, null, 51.0], [20.0, 72.0, null, 13.0, 82.0], [22.0, 81.0, null, null, 105.0], [38.0, 140.0, null, 12.0, 170.0], [90.0, 357.0, 26.0, 34.0, 438.0], [0.0, 0.0, 0.0, 0.0, 0.0], [0.0, null, 0.0, 0.0, null], [0.0, null, 0.0, 0.0, null], [0.0, 0.0, null, 0.0, null], [null, null, 0.0, 0.0, null], [16.0, 18.0, null, null, 29.0], [34.0, 39.0, null, 16.0, 59.0], [146.0, 117.0, null, 64.0, 206.0], [374.0, 315.0, 15.0, 155.0, 548.0], [707.0, 598.0, 14.0, 285.0, 1034.0], [914.0, 825.0, 30.0, 365.0, 1404.0], [1066.0, 807.0, 16.0, 387.0, 1501.0], [3259.0, 2726.0, 87.0, 1279.0, 4791.0], [0.0, 0.0, 0.0, 0.0, 0.0], [0.0, null, 0.0, 0.0, null], [0.0, null, 0.0, 0.0, null], [null, null, 0.0, 0.0, null], [null, 11.0, null, null, 14.0], [15.0, 23.0, null, null, 34.0], [61.0, 63.0, null, 24.0, 104.0], [219.0, 216.0, 22.0, 84.0, 372.0], [500.0, 437.0, 11.0, 204.0, 744.0], [777.0, 596.0, 36.0, 310.0, 1099.0], [1837.0, 1177.0, 35.0, 528.0, 2521.0], [3414.0, 2530.0, 113.0, 1159.0, 4897.0], [0.0, 0.0, 0.0, 0.0, 0.0], [0.0, 0.0, 0.0, 0.0, 0.0], [0.0, 0.0, 0.0, 0.0, 0.0], [0.0, null, 0.0, 0.0, null], [0.0, 0.0, 0.0, 0.0, 0.0], [null, null, 0.0, 0.0, null], [null, null, 0.0, null, null], [null, null, 0.0, null, 11.0], [42.0, 26.0, null, 15.0, 54.0], [86.0, 61.0, null, 44.0, 105.0], [116.0, 88.0, null, 45.0, 162.0], [127.0, 81.0, null, 43.0, 169.0], [384.0, 268.0, 10.0, 151.0, 511.0], [0.0, 0.0, 0.0, 0.0, 0.0], [0.0, null, 0.0, 0.0, null], [null, 0.0, 0.0, 0.0, null], [0.0, 0.0, 0.0, 0.0, 0.0], [null, 0.0, null, 0.0, null], [null, 0.0, 0.0, 0.0, null], [null, null, 0.0, null, null], [19.0, 20.0, null, 11.0, 29.0], [69.0, 49.0, null, 35.0, 85.0], [113.0, 68.0, null, 46.0, 140.0], [250.0, 129.0, null, 83.0, 302.0], [459.0, 274.0, 15.0, 178.0, 570.0], [null, 0.0, 0.0, 0.0, null], [0.0, null, 0.0, 0.0, null], [0.0, null, 0.0, 0.0, null], [0.0, 0.0, 0.0, 0.0, 0.0], [null, null, 0.0, 0.0, null], [null, null, null, null, null], [null, 13.0, null, null, 18.0], [12.0, 39.0, null, null, 56.0], [51.0, 119.0, null, 21.0, 157.0], [77.0, 179.0, 12.0, 27.0, 241.0], [121.0, 238.0, 12.0, 52.0, 319.0], [60.0, 154.0, null, 17.0, 202.0], [331.0, 750.0, 50.0, 126.0, 1005.0], [0.0, 0.0, 0.0, 0.0, 0.0], [0.0, 0.0, null, 0.0, null], [0.0, 0.0, 0.0, 0.0, 0.0], [0.0, null, 0.0, 0.0, null], [null, null, null, null, null], [null, null, null, 0.0, 13.0], [15.0, 37.0, null, null, 53.0], [42.0, 93.0, null, 19.0, 121.0], [91.0, 160.0, null, 39.0, 219.0], [87.0, 180.0, 12.0, 39.0, 240.0], [99.0, 222.0, 11.0, 36.0, 296.0], [336.0, 704.0, 49.0, 138.0, 950.0], [0.0, 0.0, 0.0, 0.0, 0.0], [0.0, 0.0, 0.0, 0.0, 0.0], [0.0, 0.0, 0.0, 0.0, 0.0], [0.0, 0.0, null, 0.0, null], [0.0, 0.0, 0.0, 0.0, 0.0], [null, null, 0.0, null, null], [0.0, null, null, 0.0, null], [null, 10.0, 0.0, null, 11.0], [13.0, 26.0, null, null, 35.0], [null, 29.0, null, null, 37.0], [null, 42.0, null, null, 48.0], [12.0, 38.0, null, null, 49.0], [43.0, 149.0, 17.0, 22.0, 187.0], [0.0, 0.0, 0.0, 0.0, 0.0], [0.0, null, 0.0, 0.0, null], [0.0, null, 0.0, 0.0, null], [null, 0.0, null, 0.0, null], [0.0, null, 0.0, 0.0, null], [0.0, null, 0.0, 0.0, null], [null, null, 0.0, null, null], [null, 19.0, null, null, 21.0], [null, 20.0, null, 0.0, 26.0], [null, 21.0, null, null, 27.0], [21.0, 46.0, null, null, 62.0], [43.0, 116.0, null, 16.0, 152.0], [0.0, 0.0, 0.0, 0.0, 0.0], [null, null, 0.0, null, null], [0.0, 0.0, 0.0, 0.0, 0.0], [0.0, 0.0, null, 0.0, null], [0.0, null, null, 0.0, null], [null, 11.0, null, null, 14.0], [10.0, 33.0, null, null, 39.0], [17.0, 85.0, null, null, 102.0], [46.0, 217.0, 14.0, 18.0, 259.0], [73.0, 325.0, 23.0, 38.0, 383.0], [85.0, 353.0, 12.0, 25.0, 425.0], [39.0, 264.0, null, 16.0, 291.0], [275.0, 1298.0, 64.0, 112.0, 1525.0], [0.0, 0.0, 0.0, 0.0, 0.0], [null, 0.0, 0.0, 0.0, null], [0.0, null, 0.0, 0.0, null], [0.0, null, 0.0, 0.0, null], [null, null, null, 0.0, null], [null, 25.0, null, null, 29.0], [11.0, 57.0, null, null, 71.0], [22.0, 146.0, 11.0, 12.0, 167.0], [44.0, 244.0, 11.0, 11.0, 288.0], [70.0, 317.0, 16.0, 25.0, 378.0], [75.0, 293.0, 12.0, 25.0, 355.0], [229.0, 1092.0, 63.0, 81.0, 1303.0], [0.0, 0.0, 0.0, 0.0, 0.0], [null, null, null, 0.0, null], [0.0, null, null, 0.0, null], [null, null, null, 0.0, 11.0], [null, 26.0, 0.0, null, 26.0], [21.0, 44.0, null, 10.0, 60.0], [48.0, 104.0, null, 24.0, 133.0], [132.0, 229.0, 17.0, 56.0, 322.0], [292.0, 619.0, 36.0, 121.0, 826.0], [372.0, 968.0, 31.0, 185.0, 1186.0], [330.0, 1015.0, 41.0, 149.0, 1235.0], [241.0, 800.0, 25.0, 108.0, 958.0], [1439.0, 3817.0, 164.0, 654.0, 4764.0], [0.0, null, 0.0, 0.0, null], [0.0, null, null, 0.0, null], [0.0, null, null, 0.0, null], [null, null, null, null, 13.0], [null, 17.0, null, null, 26.0], [28.0, 66.0, 13.0, 10.0, 96.0], [52.0, 152.0, 21.0, 17.0, 208.0], [116.0, 404.0, 30.0, 50.0, 500.0], [191.0, 648.0, 38.0, 83.0, 794.0], [259.0, 806.0, 34.0, 120.0, 978.0], [309.0, 973.0, 31.0, 127.0, 1186.0], [968.0, 3081.0, 177.0, 413.0, 3811.0], [0.0, 0.0, 0.0, 0.0, 0.0], [0.0, null, 0.0, 0.0, null], [0.0, 0.0, 0.0, 0.0, 0.0], [0.0, 0.0, 0.0, 0.0, 0.0], [0.0, null, 0.0, 0.0, null], [null, null, null, null, null], [null, null, null, 0.0, null], [null, 16.0, null, null, 21.0], [19.0, 32.0, null, null, 49.0], [28.0, 64.0, null, 17.0, 78.0], [18.0, 67.0, null, null, 87.0], [17.0, 68.0, null, null, 86.0], [92.0, 259.0, 27.0, 39.0, 339.0], [0.0, null, 0.0, 0.0, null], [0.0, 0.0, 0.0, 0.0, 0.0], [0.0, 0.0, 0.0, 0.0, 0.0], [null, null, null, 0.0, null], [null, null, null, null, null], [0.0, null, 0.0, 0.0, null], [null, 11.0, null, null, 18.0], [null, 21.0, null, null, 26.0], [13.0, 43.0, null, null, 53.0], [16.0, 63.0, null, null, 76.0], [25.0, 69.0, null, null, 92.0], [68.0, 220.0, 13.0, 20.0, 281.0], [0.0, 0.0, 0.0, 0.0, 0.0], [0.0, null, 0.0, 0.0, null], [0.0, 0.0, 0.0, 0.0, 0.0], [0.0, 0.0, 0.0, 0.0, 0.0], [0.0, 0.0, 0.0, 0.0, 0.0], [0.0, 0.0, 0.0, 0.0, 0.0], [null, null, 0.0, null, null], [null, null, null, null, null], [null, null, null, null, null], [null, 16.0, null, null, 23.0], [16.0, 30.0, null, null, 45.0], [null, 34.0, null, null, 39.0], [33.0, 88.0, 10.0, 12.0, 119.0], [0.0, 0.0, 0.0, 0.0, 0.0], [0.0, 0.0, 0.0, 0.0, 0.0], [0.0, 0.0, 0.0, 0.0, 0.0], [0.0, 0.0, 0.0, 0.0, 0.0], [0.0, 0.0, 0.0, 0.0, 0.0], [null, 0.0, null, 0.0, null], [null, null, 0.0, null, null], [0.0, null, 0.0, 0.0, null], [null, null, null, 0.0, 13.0], [null, 15.0, null, 0.0, 23.0], [null, 35.0, null, null, 45.0], [23.0, 59.0, null, null, 86.0], [0.0, 0.0, 0.0, 0.0, 0.0], [0.0, 0.0, null, 0.0, null], [0.0, null, 0.0, 0.0, null], [0.0, 0.0, null, 0.0, null], [0.0, null, 0.0, 0.0, null], [null, null, null, null, null], [14.0, 14.0, null, null, 26.0], [51.0, 46.0, null, 24.0, 77.0], [123.0, 157.0, null, 57.0, 232.0], [209.0, 244.0, 19.0, 83.0, 389.0], [271.0, 329.0, 10.0, 109.0, 500.0], [234.0, 271.0, 12.0, 77.0, 439.0], [905.0, 1071.0, 61.0, 358.0, 1677.0], [0.0, 0.0, null, 0.0, null], [0.0, null, 0.0, 0.0, null], [0.0, 0.0, null, 0.0, null], [0.0, 0.0, null, 0.0, null], [0.0, null, null, 0.0, null], [12.0, 13.0, null, null, 22.0], [18.0, 34.0, null, null, 48.0], [65.0, 115.0, 11.0, 30.0, 161.0], [147.0, 178.0, null, 55.0, 274.0], [238.0, 235.0, 12.0, 71.0, 414.0], [418.0, 336.0, 15.0, 90.0, 679.0], [898.0, 916.0, 50.0, 257.0, 1607.0], [0.0, 0.0, 0.0, 0.0, 0.0], [0.0, null, 0.0, 0.0, null], [0.0, 0.0, 0.0, 0.0, 0.0], [0.0, 0.0, 0.0, 0.0, 0.0], [null, null, null, null, null], [null, 13.0, null, null, 15.0], [13.0, 15.0, null, null, 26.0], [30.0, 45.0, null, 14.0, 66.0], [72.0, 143.0, 12.0, 45.0, 181.0], [127.0, 257.0, 21.0, 64.0, 341.0], [165.0, 291.0, 10.0, 96.0, 370.0], [191.0, 290.0, null, 111.0, 379.0], [602.0, 1059.0, 62.0, 337.0, 1384.0], [0.0, null, 0.0, 0.0, null], [0.0, null, 0.0, 0.0, null], [0.0, 0.0, 0.0, 0.0, 0.0], [0.0, null, 0.0, 0.0, null], [0.0, null, null, 0.0, null], [null, null, null, null, 14.0], [16.0, 29.0, null, null, 40.0], [35.0, 94.0, null, 18.0, 118.0], [91.0, 168.0, null, 50.0, 218.0], [139.0, 230.0, 17.0, 79.0, 305.0], [227.0, 342.0, null, 99.0, 478.0], [512.0, 879.0, 49.0, 255.0, 1182.0], [0.0, 0.0, 0.0, 0.0, 0.0], [0.0, null, 0.0, 0.0, null], [0.0, 0.0, 0.0, 0.0, 0.0], [0.0, 0.0, 0.0, 0.0, 0.0], [0.0, 0.0, 0.0, 0.0, 0.0], [null, null, null, null, null], [0.0, null, null, 0.0, null], [null, null, null, 0.0, 16.0], [null, 49.0, null, null, 57.0], [17.0, 91.0, null, 10.0, 105.0], [13.0, 97.0, null, null, 114.0], [12.0, 59.0, null, null, 72.0], [49.0, 317.0, 31.0, 19.0, 378.0], [0.0, 0.0, 0.0, 0.0, 0.0], [0.0, null, 0.0, 0.0, null], [0.0, 0.0, null, 0.0, null], [0.0, 0.0, 0.0, 0.0, 0.0], [null, null, null, 0.0, null], [0.0, null, null, 0.0, null], [0.0, 17.0, null, 0.0, 18.0], [null, 40.0, null, 0.0, 46.0], [null, 53.0, null, null, 67.0], [12.0, 70.0, null, null, 82.0], [22.0, 92.0, null, null, 115.0], [45.0, 282.0, 27.0, 11.0, 343.0], [0.0, 0.0, 0.0, 0.0, 0.0], [0.0, null, 0.0, 0.0, null], [0.0, 0.0, 0.0, 0.0, 0.0], [0.0, 0.0, null, 0.0, null], [null, null, null, 0.0, null], [null, null, null, null, null], [10.0, null, null, null, 19.0], [26.0, 28.0, null, null, 57.0], [58.0, 75.0, 10.0, 10.0, 132.0], [100.0, 137.0, 20.0, 17.0, 239.0], [102.0, 189.0, 18.0, 19.0, 290.0], [92.0, 201.0, 14.0, 23.0, 284.0], [394.0, 643.0, 79.0, 77.0, 1037.0], [0.0, null, 0.0, 0.0, null], [0.0, 0.0, 0.0, 0.0, 0.0], [0.0, 0.0, 0.0, 0.0, 0.0], [null, 0.0, null, 0.0, null], [null, null, null, null, null], [null, null, null, null, 14.0], [12.0, 18.0, null, null, 35.0], [34.0, 73.0, 10.0, null, 108.0], [64.0, 104.0, null, null, 169.0], [80.0, 135.0, 19.0, null, 227.0], [136.0, 263.0, 22.0, 18.0, 403.0], [333.0, 606.0, 71.0, 45.0, 965.0], [0.0, 0.0, 0.0, 0.0, 0.0], [0.0, 0.0, 0.0, 0.0, 0.0], [0.0, 0.0, 0.0, 0.0, 0.0], [0.0, 0.0, 0.0, 0.0, 0.0], [0.0, 0.0, 0.0, 0.0, 0.0], [0.0, null, null, 0.0, null], [0.0, null, 0.0, 0.0, null], [null, null, 0.0, null, null], [null, null, 0.0, null, null], [null, 13.0, null, null, 17.0], [null, 15.0, 0.0, null, 16.0], [null, 16.0, 0.0, 0.0, 17.0], [null, 56.0, null, null, 63.0], [0.0, 0.0, 0.0, 0.0, 0.0], [0.0, 0.0, 0.0, 0.0, 0.0], [0.0, 0.0, 0.0, 0.0, 0.0], [0.0, 0.0, 0.0, 0.0, 0.0], [null, 0.0, null, 0.0, null], [0.0, null, 0.0, 0.0, null], [null, null, null, 0.0, null], [0.0, null, null, 0.0, null], [null, null, null, null, 11.0], [null, 25.0, 0.0, 0.0, 26.0], [null, 24.0, null, null, 27.0], [null, 67.0, null, null, 80.0], [0.0, 0.0, 0.0, 0.0, 0.0], [0.0, 0.0, 0.0, 0.0, 0.0], [0.0, 0.0, 0.0, 0.0, 0.0], [0.0, 0.0, 0.0, 0.0, 0.0], [0.0, 0.0, 0.0, 0.0, 0.0], [null, null, null, null, null], [null, 19.0, 0.0, null, 20.0], [10.0, 37.0, null, null, 47.0], [0.0, 0.0, 0.0, 0.0, 0.0], [0.0, 0.0, 0.0, 0.0, 0.0], [0.0, 0.0, 0.0, 0.0, 0.0], [0.0, 0.0, 0.0, 0.0, 0.0], [16.0, 61.0, null, null, 74.0], [0.0, 0.0, 0.0, 0.0, 0.0], [0.0, 0.0, 0.0, 0.0, 0.0], [0.0, 0.0, 0.0, 0.0, 0.0], [0.0, null, 0.0, 0.0, null], [null, null, null, null, null], [0.0, null, 0.0, 0.0, null], [null, 26.0, null, null, 29.0], [0.0, 0.0, 0.0, 0.0, 0.0], [0.0, 0.0, 0.0, 0.0, 0.0], [0.0, 0.0, 0.0, 0.0, 0.0], [0.0, 0.0, 0.0, 0.0, 0.0], [null, 41.0, null, null, 45.0], [0.0, 0.0, 0.0, 0.0, 0.0]], \"hoverlabel\": {\"namelength\": 0}, \"hovertemplate\": \"State=%{x}<br>Total Deaths=%{y}<br>COVID19=%{customdata[0]}<br>Pneumonia=%{customdata[1]}<br>Influenza=%{customdata[2]}<br>Pneumonia_COVID=%{customdata[3]}<br>Pneumonia_Influenza_COVID19=%{customdata[4]}\", \"legendgroup\": \"\", \"marker\": {\"color\": \"#636efa\"}, \"name\": \"\", \"offsetgroup\": \"\", \"orientation\": \"v\", \"showlegend\": false, \"textposition\": \"auto\", \"type\": \"bar\", \"x\": [\"Alabama\", \"Alabama\", \"Alabama\", \"Alabama\", \"Alabama\", \"Alabama\", \"Alabama\", \"Alabama\", \"Alabama\", \"Alabama\", \"Alabama\", \"Alabama\", \"Alabama\", \"Alabama\", \"Alabama\", \"Alabama\", \"Alabama\", \"Alabama\", \"Alabama\", \"Alabama\", \"Alabama\", \"Alabama\", \"Alabama\", \"Alabama\", \"Alabama\", \"Alaska\", \"Alaska\", \"Alaska\", \"Alaska\", \"Alaska\", \"Alaska\", \"Alaska\", \"Alaska\", \"Alaska\", \"Alaska\", \"Alaska\", \"Alaska\", \"Alaska\", \"Alaska\", \"Alaska\", \"Alaska\", \"Alaska\", \"Alaska\", \"Alaska\", \"Alaska\", \"Alaska\", \"Alaska\", \"Alaska\", \"Alaska\", \"Alaska\", \"Arizona\", \"Arizona\", \"Arizona\", \"Arizona\", \"Arizona\", \"Arizona\", \"Arizona\", \"Arizona\", \"Arizona\", \"Arizona\", \"Arizona\", \"Arizona\", \"Arizona\", \"Arizona\", \"Arizona\", \"Arizona\", \"Arizona\", \"Arizona\", \"Arizona\", \"Arizona\", \"Arizona\", \"Arizona\", \"Arizona\", \"Arizona\", \"Arizona\", \"Arkansas\", \"Arkansas\", \"Arkansas\", \"Arkansas\", \"Arkansas\", \"Arkansas\", \"Arkansas\", \"Arkansas\", \"Arkansas\", \"Arkansas\", \"Arkansas\", \"Arkansas\", \"Arkansas\", \"Arkansas\", \"Arkansas\", \"Arkansas\", \"Arkansas\", \"Arkansas\", \"Arkansas\", \"Arkansas\", \"Arkansas\", \"Arkansas\", \"Arkansas\", \"Arkansas\", \"Arkansas\", \"California\", \"California\", \"California\", \"California\", \"California\", \"California\", \"California\", \"California\", \"California\", \"California\", \"California\", \"California\", \"California\", \"California\", \"California\", \"California\", \"California\", \"California\", \"California\", \"California\", \"California\", \"California\", \"California\", \"California\", \"California\", \"Colorado\", \"Colorado\", \"Colorado\", \"Colorado\", \"Colorado\", \"Colorado\", \"Colorado\", \"Colorado\", \"Colorado\", \"Colorado\", \"Colorado\", \"Colorado\", \"Colorado\", \"Colorado\", \"Colorado\", \"Colorado\", \"Colorado\", \"Colorado\", \"Colorado\", \"Colorado\", \"Colorado\", \"Colorado\", \"Colorado\", \"Colorado\", \"Colorado\", \"Connecticut\", \"Connecticut\", \"Connecticut\", \"Connecticut\", \"Connecticut\", \"Connecticut\", \"Connecticut\", \"Connecticut\", \"Connecticut\", \"Connecticut\", \"Connecticut\", \"Connecticut\", \"Connecticut\", \"Connecticut\", \"Connecticut\", \"Connecticut\", \"Connecticut\", \"Connecticut\", \"Connecticut\", \"Connecticut\", \"Connecticut\", \"Connecticut\", \"Connecticut\", \"Connecticut\", \"Connecticut\", \"Delaware\", \"Delaware\", \"Delaware\", \"Delaware\", \"Delaware\", \"Delaware\", \"Delaware\", \"Delaware\", \"Delaware\", \"Delaware\", \"Delaware\", \"Delaware\", \"Delaware\", \"Delaware\", \"Delaware\", \"Delaware\", \"Delaware\", \"Delaware\", \"Delaware\", \"Delaware\", \"Delaware\", \"Delaware\", \"Delaware\", \"Delaware\", \"Delaware\", \"District of Columbia\", \"District of Columbia\", \"District of Columbia\", \"District of Columbia\", \"District of Columbia\", \"District of Columbia\", \"District of Columbia\", \"District of Columbia\", \"District of Columbia\", \"District of Columbia\", \"District of Columbia\", \"District of Columbia\", \"District of Columbia\", \"District of Columbia\", \"District of Columbia\", \"District of Columbia\", \"District of Columbia\", \"District of Columbia\", \"District of Columbia\", \"District of Columbia\", \"District of Columbia\", \"District of Columbia\", \"District of Columbia\", \"District of Columbia\", \"District of Columbia\", \"Florida\", \"Florida\", \"Florida\", \"Florida\", \"Florida\", \"Florida\", \"Florida\", \"Florida\", \"Florida\", \"Florida\", \"Florida\", \"Florida\", \"Florida\", \"Florida\", \"Florida\", \"Florida\", \"Florida\", \"Florida\", \"Florida\", \"Florida\", \"Florida\", \"Florida\", \"Florida\", \"Florida\", \"Florida\", \"Georgia\", \"Georgia\", \"Georgia\", \"Georgia\", \"Georgia\", \"Georgia\", \"Georgia\", \"Georgia\", \"Georgia\", \"Georgia\", \"Georgia\", \"Georgia\", \"Georgia\", \"Georgia\", \"Georgia\", \"Georgia\", \"Georgia\", \"Georgia\", \"Georgia\", \"Georgia\", \"Georgia\", \"Georgia\", \"Georgia\", \"Georgia\", \"Georgia\", \"Hawaii\", \"Hawaii\", \"Hawaii\", \"Hawaii\", \"Hawaii\", \"Hawaii\", \"Hawaii\", \"Hawaii\", \"Hawaii\", \"Hawaii\", \"Hawaii\", \"Hawaii\", \"Hawaii\", \"Hawaii\", \"Hawaii\", \"Hawaii\", \"Hawaii\", \"Hawaii\", \"Hawaii\", \"Hawaii\", \"Hawaii\", \"Hawaii\", \"Hawaii\", \"Hawaii\", \"Hawaii\", \"Idaho\", \"Idaho\", \"Idaho\", \"Idaho\", \"Idaho\", \"Idaho\", \"Idaho\", \"Idaho\", \"Idaho\", \"Idaho\", \"Idaho\", \"Idaho\", \"Idaho\", \"Idaho\", \"Idaho\", \"Idaho\", \"Idaho\", \"Idaho\", \"Idaho\", \"Idaho\", \"Idaho\", \"Idaho\", \"Idaho\", \"Idaho\", \"Idaho\", \"Illinois\", \"Illinois\", \"Illinois\", \"Illinois\", \"Illinois\", \"Illinois\", \"Illinois\", \"Illinois\", \"Illinois\", \"Illinois\", \"Illinois\", \"Illinois\", \"Illinois\", \"Illinois\", \"Illinois\", \"Illinois\", \"Illinois\", \"Illinois\", \"Illinois\", \"Illinois\", \"Illinois\", \"Illinois\", \"Illinois\", \"Illinois\", \"Illinois\", \"Indiana\", \"Indiana\", \"Indiana\", \"Indiana\", \"Indiana\", \"Indiana\", \"Indiana\", \"Indiana\", \"Indiana\", \"Indiana\", \"Indiana\", \"Indiana\", \"Indiana\", \"Indiana\", \"Indiana\", \"Indiana\", \"Indiana\", \"Indiana\", \"Indiana\", \"Indiana\", \"Indiana\", \"Indiana\", \"Indiana\", \"Indiana\", \"Indiana\", \"Iowa\", \"Iowa\", \"Iowa\", \"Iowa\", \"Iowa\", \"Iowa\", \"Iowa\", \"Iowa\", \"Iowa\", \"Iowa\", \"Iowa\", \"Iowa\", \"Iowa\", \"Iowa\", \"Iowa\", \"Iowa\", \"Iowa\", \"Iowa\", \"Iowa\", \"Iowa\", \"Iowa\", \"Iowa\", \"Iowa\", \"Iowa\", \"Iowa\", \"Kansas\", \"Kansas\", \"Kansas\", \"Kansas\", \"Kansas\", \"Kansas\", \"Kansas\", \"Kansas\", \"Kansas\", \"Kansas\", \"Kansas\", \"Kansas\", \"Kansas\", \"Kansas\", \"Kansas\", \"Kansas\", \"Kansas\", \"Kansas\", \"Kansas\", \"Kansas\", \"Kansas\", \"Kansas\", \"Kansas\", \"Kansas\", \"Kansas\", \"Kentucky\", \"Kentucky\", \"Kentucky\", \"Kentucky\", \"Kentucky\", \"Kentucky\", \"Kentucky\", \"Kentucky\", \"Kentucky\", \"Kentucky\", \"Kentucky\", \"Kentucky\", \"Kentucky\", \"Kentucky\", \"Kentucky\", \"Kentucky\", \"Kentucky\", \"Kentucky\", \"Kentucky\", \"Kentucky\", \"Kentucky\", \"Kentucky\", \"Kentucky\", \"Kentucky\", \"Kentucky\", \"Louisiana\", \"Louisiana\", \"Louisiana\", \"Louisiana\", \"Louisiana\", \"Louisiana\", \"Louisiana\", \"Louisiana\", \"Louisiana\", \"Louisiana\", \"Louisiana\", \"Louisiana\", \"Louisiana\", \"Louisiana\", \"Louisiana\", \"Louisiana\", \"Louisiana\", \"Louisiana\", \"Louisiana\", \"Louisiana\", \"Louisiana\", \"Louisiana\", \"Louisiana\", \"Louisiana\", \"Louisiana\", \"Maine\", \"Maine\", \"Maine\", \"Maine\", \"Maine\", \"Maine\", \"Maine\", \"Maine\", \"Maine\", \"Maine\", \"Maine\", \"Maine\", \"Maine\", \"Maine\", \"Maine\", \"Maine\", \"Maine\", \"Maine\", \"Maine\", \"Maine\", \"Maine\", \"Maine\", \"Maine\", \"Maine\", \"Maine\", \"Maryland\", \"Maryland\", \"Maryland\", \"Maryland\", \"Maryland\", \"Maryland\", \"Maryland\", \"Maryland\", \"Maryland\", \"Maryland\", \"Maryland\", \"Maryland\", \"Maryland\", \"Maryland\", \"Maryland\", \"Maryland\", \"Maryland\", \"Maryland\", \"Maryland\", \"Maryland\", \"Maryland\", \"Maryland\", \"Maryland\", \"Maryland\", \"Maryland\", \"Massachusetts\", \"Massachusetts\", \"Massachusetts\", \"Massachusetts\", \"Massachusetts\", \"Massachusetts\", \"Massachusetts\", \"Massachusetts\", \"Massachusetts\", \"Massachusetts\", \"Massachusetts\", \"Massachusetts\", \"Massachusetts\", \"Massachusetts\", \"Massachusetts\", \"Massachusetts\", \"Massachusetts\", \"Massachusetts\", \"Massachusetts\", \"Massachusetts\", \"Massachusetts\", \"Massachusetts\", \"Massachusetts\", \"Massachusetts\", \"Massachusetts\", \"Michigan\", \"Michigan\", \"Michigan\", \"Michigan\", \"Michigan\", \"Michigan\", \"Michigan\", \"Michigan\", \"Michigan\", \"Michigan\", \"Michigan\", \"Michigan\", \"Michigan\", \"Michigan\", \"Michigan\", \"Michigan\", \"Michigan\", \"Michigan\", \"Michigan\", \"Michigan\", \"Michigan\", \"Michigan\", \"Michigan\", \"Michigan\", \"Michigan\", \"Minnesota\", \"Minnesota\", \"Minnesota\", \"Minnesota\", \"Minnesota\", \"Minnesota\", \"Minnesota\", \"Minnesota\", \"Minnesota\", \"Minnesota\", \"Minnesota\", \"Minnesota\", \"Minnesota\", \"Minnesota\", \"Minnesota\", \"Minnesota\", \"Minnesota\", \"Minnesota\", \"Minnesota\", \"Minnesota\", \"Minnesota\", \"Minnesota\", \"Minnesota\", \"Minnesota\", \"Minnesota\", \"Mississippi\", \"Mississippi\", \"Mississippi\", \"Mississippi\", \"Mississippi\", \"Mississippi\", \"Mississippi\", \"Mississippi\", \"Mississippi\", \"Mississippi\", \"Mississippi\", \"Mississippi\", \"Mississippi\", \"Mississippi\", \"Mississippi\", \"Mississippi\", \"Mississippi\", \"Mississippi\", \"Mississippi\", \"Mississippi\", \"Mississippi\", \"Mississippi\", \"Mississippi\", \"Mississippi\", \"Mississippi\", \"Missouri\", \"Missouri\", \"Missouri\", \"Missouri\", \"Missouri\", \"Missouri\", \"Missouri\", \"Missouri\", \"Missouri\", \"Missouri\", \"Missouri\", \"Missouri\", \"Missouri\", \"Missouri\", \"Missouri\", \"Missouri\", \"Missouri\", \"Missouri\", \"Missouri\", \"Missouri\", \"Missouri\", \"Missouri\", \"Missouri\", \"Missouri\", \"Missouri\", \"Montana\", \"Montana\", \"Montana\", \"Montana\", \"Montana\", \"Montana\", \"Montana\", \"Montana\", \"Montana\", \"Montana\", \"Montana\", \"Montana\", \"Montana\", \"Montana\", \"Montana\", \"Montana\", \"Montana\", \"Montana\", \"Montana\", \"Montana\", \"Montana\", \"Montana\", \"Montana\", \"Montana\", \"Montana\", \"Nebraska\", \"Nebraska\", \"Nebraska\", \"Nebraska\", \"Nebraska\", \"Nebraska\", \"Nebraska\", \"Nebraska\", \"Nebraska\", \"Nebraska\", \"Nebraska\", \"Nebraska\", \"Nebraska\", \"Nebraska\", \"Nebraska\", \"Nebraska\", \"Nebraska\", \"Nebraska\", \"Nebraska\", \"Nebraska\", \"Nebraska\", \"Nebraska\", \"Nebraska\", \"Nebraska\", \"Nebraska\", \"Nevada\", \"Nevada\", \"Nevada\", \"Nevada\", \"Nevada\", \"Nevada\", \"Nevada\", \"Nevada\", \"Nevada\", \"Nevada\", \"Nevada\", \"Nevada\", \"Nevada\", \"Nevada\", \"Nevada\", \"Nevada\", \"Nevada\", \"Nevada\", \"Nevada\", \"Nevada\", \"Nevada\", \"Nevada\", \"Nevada\", \"Nevada\", \"Nevada\", \"New Hampshire\", \"New Hampshire\", \"New Hampshire\", \"New Hampshire\", \"New Hampshire\", \"New Hampshire\", \"New Hampshire\", \"New Hampshire\", \"New Hampshire\", \"New Hampshire\", \"New Hampshire\", \"New Hampshire\", \"New Hampshire\", \"New Hampshire\", \"New Hampshire\", \"New Hampshire\", \"New Hampshire\", \"New Hampshire\", \"New Hampshire\", \"New Hampshire\", \"New Hampshire\", \"New Hampshire\", \"New Hampshire\", \"New Hampshire\", \"New Hampshire\", \"New Jersey\", \"New Jersey\", \"New Jersey\", \"New Jersey\", \"New Jersey\", \"New Jersey\", \"New Jersey\", \"New Jersey\", \"New Jersey\", \"New Jersey\", \"New Jersey\", \"New Jersey\", \"New Jersey\", \"New Jersey\", \"New Jersey\", \"New Jersey\", \"New Jersey\", \"New Jersey\", \"New Jersey\", \"New Jersey\", \"New Jersey\", \"New Jersey\", \"New Jersey\", \"New Jersey\", \"New Jersey\", \"New Mexico\", \"New Mexico\", \"New Mexico\", \"New Mexico\", \"New Mexico\", \"New Mexico\", \"New Mexico\", \"New Mexico\", \"New Mexico\", \"New Mexico\", \"New Mexico\", \"New Mexico\", \"New Mexico\", \"New Mexico\", \"New Mexico\", \"New Mexico\", \"New Mexico\", \"New Mexico\", \"New Mexico\", \"New Mexico\", \"New Mexico\", \"New Mexico\", \"New Mexico\", \"New Mexico\", \"New Mexico\", \"New York\", \"New York\", \"New York\", \"New York\", \"New York\", \"New York\", \"New York\", \"New York\", \"New York\", \"New York\", \"New York\", \"New York\", \"New York\", \"New York\", \"New York\", \"New York\", \"New York\", \"New York\", \"New York\", \"New York\", \"New York\", \"New York\", \"New York\", \"New York\", \"New York\", \"New York City\", \"New York City\", \"New York City\", \"New York City\", \"New York City\", \"New York City\", \"New York City\", \"New York City\", \"New York City\", \"New York City\", \"New York City\", \"New York City\", \"New York City\", \"New York City\", \"New York City\", \"New York City\", \"New York City\", \"New York City\", \"New York City\", \"New York City\", \"New York City\", \"New York City\", \"New York City\", \"New York City\", \"New York City\", \"North Carolina\", \"North Carolina\", \"North Carolina\", \"North Carolina\", \"North Carolina\", \"North Carolina\", \"North Carolina\", \"North Carolina\", \"North Carolina\", \"North Carolina\", \"North Carolina\", \"North Carolina\", \"North Carolina\", \"North Carolina\", \"North Carolina\", \"North Carolina\", \"North Carolina\", \"North Carolina\", \"North Carolina\", \"North Carolina\", \"North Carolina\", \"North Carolina\", \"North Carolina\", \"North Carolina\", \"North Carolina\", \"North Dakota\", \"North Dakota\", \"North Dakota\", \"North Dakota\", \"North Dakota\", \"North Dakota\", \"North Dakota\", \"North Dakota\", \"North Dakota\", \"North Dakota\", \"North Dakota\", \"North Dakota\", \"North Dakota\", \"North Dakota\", \"North Dakota\", \"North Dakota\", \"North Dakota\", \"North Dakota\", \"North Dakota\", \"North Dakota\", \"North Dakota\", \"North Dakota\", \"North Dakota\", \"North Dakota\", \"North Dakota\", \"Ohio\", \"Ohio\", \"Ohio\", \"Ohio\", \"Ohio\", \"Ohio\", \"Ohio\", \"Ohio\", \"Ohio\", \"Ohio\", \"Ohio\", \"Ohio\", \"Ohio\", \"Ohio\", \"Ohio\", \"Ohio\", \"Ohio\", \"Ohio\", \"Ohio\", \"Ohio\", \"Ohio\", \"Ohio\", \"Ohio\", \"Ohio\", \"Ohio\", \"Oklahoma\", \"Oklahoma\", \"Oklahoma\", \"Oklahoma\", \"Oklahoma\", \"Oklahoma\", \"Oklahoma\", \"Oklahoma\", \"Oklahoma\", \"Oklahoma\", \"Oklahoma\", \"Oklahoma\", \"Oklahoma\", \"Oklahoma\", \"Oklahoma\", \"Oklahoma\", \"Oklahoma\", \"Oklahoma\", \"Oklahoma\", \"Oklahoma\", \"Oklahoma\", \"Oklahoma\", \"Oklahoma\", \"Oklahoma\", \"Oklahoma\", \"Oregon\", \"Oregon\", \"Oregon\", \"Oregon\", \"Oregon\", \"Oregon\", \"Oregon\", \"Oregon\", \"Oregon\", \"Oregon\", \"Oregon\", \"Oregon\", \"Oregon\", \"Oregon\", \"Oregon\", \"Oregon\", \"Oregon\", \"Oregon\", \"Oregon\", \"Oregon\", \"Oregon\", \"Oregon\", \"Oregon\", \"Oregon\", \"Oregon\", \"Pennsylvania\", \"Pennsylvania\", \"Pennsylvania\", \"Pennsylvania\", \"Pennsylvania\", \"Pennsylvania\", \"Pennsylvania\", \"Pennsylvania\", \"Pennsylvania\", \"Pennsylvania\", \"Pennsylvania\", \"Pennsylvania\", \"Pennsylvania\", \"Pennsylvania\", \"Pennsylvania\", \"Pennsylvania\", \"Pennsylvania\", \"Pennsylvania\", \"Pennsylvania\", \"Pennsylvania\", \"Pennsylvania\", \"Pennsylvania\", \"Pennsylvania\", \"Pennsylvania\", \"Pennsylvania\", \"Rhode Island\", \"Rhode Island\", \"Rhode Island\", \"Rhode Island\", \"Rhode Island\", \"Rhode Island\", \"Rhode Island\", \"Rhode Island\", \"Rhode Island\", \"Rhode Island\", \"Rhode Island\", \"Rhode Island\", \"Rhode Island\", \"Rhode Island\", \"Rhode Island\", \"Rhode Island\", \"Rhode Island\", \"Rhode Island\", \"Rhode Island\", \"Rhode Island\", \"Rhode Island\", \"Rhode Island\", \"Rhode Island\", \"Rhode Island\", \"Rhode Island\", \"South Carolina\", \"South Carolina\", \"South Carolina\", \"South Carolina\", \"South Carolina\", \"South Carolina\", \"South Carolina\", \"South Carolina\", \"South Carolina\", \"South Carolina\", \"South Carolina\", \"South Carolina\", \"South Carolina\", \"South Carolina\", \"South Carolina\", \"South Carolina\", \"South Carolina\", \"South Carolina\", \"South Carolina\", \"South Carolina\", \"South Carolina\", \"South Carolina\", \"South Carolina\", \"South Carolina\", \"South Carolina\", \"South Dakota\", \"South Dakota\", \"South Dakota\", \"South Dakota\", \"South Dakota\", \"South Dakota\", \"South Dakota\", \"South Dakota\", \"South Dakota\", \"South Dakota\", \"South Dakota\", \"South Dakota\", \"South Dakota\", \"South Dakota\", \"South Dakota\", \"South Dakota\", \"South Dakota\", \"South Dakota\", \"South Dakota\", \"South Dakota\", \"South Dakota\", \"South Dakota\", \"South Dakota\", \"South Dakota\", \"South Dakota\", \"Tennessee\", \"Tennessee\", \"Tennessee\", \"Tennessee\", \"Tennessee\", \"Tennessee\", \"Tennessee\", \"Tennessee\", \"Tennessee\", \"Tennessee\", \"Tennessee\", \"Tennessee\", \"Tennessee\", \"Tennessee\", \"Tennessee\", \"Tennessee\", \"Tennessee\", \"Tennessee\", \"Tennessee\", \"Tennessee\", \"Tennessee\", \"Tennessee\", \"Tennessee\", \"Tennessee\", \"Tennessee\", \"Texas\", \"Texas\", \"Texas\", \"Texas\", \"Texas\", \"Texas\", \"Texas\", \"Texas\", \"Texas\", \"Texas\", \"Texas\", \"Texas\", \"Texas\", \"Texas\", \"Texas\", \"Texas\", \"Texas\", \"Texas\", \"Texas\", \"Texas\", \"Texas\", \"Texas\", \"Texas\", \"Texas\", \"Texas\", \"Utah\", \"Utah\", \"Utah\", \"Utah\", \"Utah\", \"Utah\", \"Utah\", \"Utah\", \"Utah\", \"Utah\", \"Utah\", \"Utah\", \"Utah\", \"Utah\", \"Utah\", \"Utah\", \"Utah\", \"Utah\", \"Utah\", \"Utah\", \"Utah\", \"Utah\", \"Utah\", \"Utah\", \"Utah\", \"Vermont\", \"Vermont\", \"Vermont\", \"Vermont\", \"Vermont\", \"Vermont\", \"Vermont\", \"Vermont\", \"Vermont\", \"Vermont\", \"Vermont\", \"Vermont\", \"Vermont\", \"Vermont\", \"Vermont\", \"Vermont\", \"Vermont\", \"Vermont\", \"Vermont\", \"Vermont\", \"Vermont\", \"Vermont\", \"Vermont\", \"Vermont\", \"Vermont\", \"Virginia\", \"Virginia\", \"Virginia\", \"Virginia\", \"Virginia\", \"Virginia\", \"Virginia\", \"Virginia\", \"Virginia\", \"Virginia\", \"Virginia\", \"Virginia\", \"Virginia\", \"Virginia\", \"Virginia\", \"Virginia\", \"Virginia\", \"Virginia\", \"Virginia\", \"Virginia\", \"Virginia\", \"Virginia\", \"Virginia\", \"Virginia\", \"Virginia\", \"Washington\", \"Washington\", \"Washington\", \"Washington\", \"Washington\", \"Washington\", \"Washington\", \"Washington\", \"Washington\", \"Washington\", \"Washington\", \"Washington\", \"Washington\", \"Washington\", \"Washington\", \"Washington\", \"Washington\", \"Washington\", \"Washington\", \"Washington\", \"Washington\", \"Washington\", \"Washington\", \"Washington\", \"Washington\", \"West Virginia\", \"West Virginia\", \"West Virginia\", \"West Virginia\", \"West Virginia\", \"West Virginia\", \"West Virginia\", \"West Virginia\", \"West Virginia\", \"West Virginia\", \"West Virginia\", \"West Virginia\", \"West Virginia\", \"West Virginia\", \"West Virginia\", \"West Virginia\", \"West Virginia\", \"West Virginia\", \"West Virginia\", \"West Virginia\", \"West Virginia\", \"West Virginia\", \"West Virginia\", \"West Virginia\", \"West Virginia\", \"Wisconsin\", \"Wisconsin\", \"Wisconsin\", \"Wisconsin\", \"Wisconsin\", \"Wisconsin\", \"Wisconsin\", \"Wisconsin\", \"Wisconsin\", \"Wisconsin\", \"Wisconsin\", \"Wisconsin\", \"Wisconsin\", \"Wisconsin\", \"Wisconsin\", \"Wisconsin\", \"Wisconsin\", \"Wisconsin\", \"Wisconsin\", \"Wisconsin\", \"Wisconsin\", \"Wisconsin\", \"Wisconsin\", \"Wisconsin\", \"Wisconsin\", \"Wyoming\", \"Wyoming\", \"Wyoming\", \"Wyoming\", \"Wyoming\", \"Wyoming\", \"Wyoming\", \"Wyoming\", \"Wyoming\", \"Wyoming\", \"Wyoming\", \"Wyoming\", \"Wyoming\", \"Wyoming\", \"Wyoming\", \"Wyoming\", \"Wyoming\", \"Wyoming\", \"Wyoming\", \"Wyoming\", \"Wyoming\", \"Wyoming\", \"Wyoming\", \"Wyoming\", \"Wyoming\", \"Puerto Rico\", \"Puerto Rico\", \"Puerto Rico\", \"Puerto Rico\", \"Puerto Rico\", \"Puerto Rico\", \"Puerto Rico\", \"Puerto Rico\", \"Puerto Rico\", \"Puerto Rico\", \"Puerto Rico\", \"Puerto Rico\", \"Puerto Rico\", \"Puerto Rico\", \"Puerto Rico\", \"Puerto Rico\", \"Puerto Rico\", \"Puerto Rico\", \"Puerto Rico\", \"Puerto Rico\", \"Puerto Rico\", \"Puerto Rico\", \"Puerto Rico\", \"Puerto Rico\", \"Puerto Rico\"], \"xaxis\": \"x\", \"y\": [74.0, 16.0, 31.0, 192.0, 340.0, 491.0, 888.0, 2096.0, 2810.0, 2923.0, 2104.0, 11965.0, 47.0, 16.0, 16.0, 69.0, 158.0, 291.0, 605.0, 1383.0, 2154.0, 2883.0, 3574.0, 11196.0, 0.0, null, null, null, 31.0, 41.0, 40.0, 73.0, 177.0, 212.0, 235.0, 133.0, 961.0, null, null, null, 12.0, 26.0, 37.0, 47.0, 107.0, 163.0, 141.0, 175.0, 719.0, 0.0, 89.0, 27.0, 29.0, 331.0, 550.0, 628.0, 1025.0, 2213.0, 3389.0, 4114.0, 3479.0, 15874.0, 69.0, 21.0, 22.0, 99.0, 245.0, 304.0, 536.0, 1378.0, 2440.0, 3555.0, 4799.0, 13468.0, 0.0, 61.0, 15.0, 17.0, 117.0, 214.0, 286.0, 509.0, 1248.0, 1786.0, 1845.0, 1288.0, 7386.0, 35.0, 11.0, 10.0, 42.0, 104.0, 184.0, 359.0, 773.0, 1280.0, 1697.0, 2199.0, 6694.0, 0.0, 393.0, 76.0, 114.0, 1054.0, 1978.0, 2500.0, 4380.0, 9650.0, 13458.0, 15013.0, 16479.0, 65095.0, 292.0, 46.0, 82.0, 336.0, 725.0, 1188.0, 2442.0, 5610.0, 9256.0, 13526.0, 24043.0, 57546.0, null, 75.0, 11.0, 28.0, 208.0, 406.0, 486.0, 742.0, 1511.0, 2186.0, 2373.0, 2288.0, 10314.0, 71.0, null, 12.0, 75.0, 149.0, 212.0, 407.0, 875.0, 1491.0, 2065.0, 3555.0, 8917.0, null, 20.0, null, null, 45.0, 124.0, 157.0, 329.0, 765.0, 1223.0, 1521.0, 1971.0, 6162.0, 15.0, null, null, 19.0, 36.0, 83.0, 149.0, 467.0, 845.0, 1513.0, 3265.0, 6400.0, 15.0, null, null, null, 22.0, 58.0, 69.0, 126.0, 281.0, 472.0, 500.0, 515.0, 2057.0, null, null, null, 11.0, 18.0, 47.0, 70.0, 212.0, 371.0, 536.0, 863.0, 2142.0, 0.0, 21.0, null, null, 45.0, 73.0, 96.0, 148.0, 347.0, 439.0, 314.0, 271.0, 1766.0, 17.0, null, null, null, 28.0, 35.0, 87.0, 208.0, 285.0, 270.0, 445.0, 1399.0, 0.0, 291.0, 58.0, 90.0, 676.0, 1400.0, 1823.0, 3098.0, 7168.0, 10910.0, 13128.0, 12512.0, 51154.0, 231.0, 52.0, 56.0, 244.0, 632.0, 986.0, 1856.0, 4419.0, 7514.0, 10981.0, 17634.0, 44605.0, null, 113.0, 34.0, 47.0, 297.0, 535.0, 712.0, 1428.0, 3353.0, 4655.0, 4676.0, 3438.0, 19288.0, 82.0, 21.0, 31.0, 104.0, 241.0, 454.0, 1016.0, 2255.0, 3540.0, 4583.0, 6029.0, 18356.0, 0.0, 12.0, null, null, 24.0, 46.0, 84.0, 183.0, 392.0, 580.0, 612.0, 719.0, 2659.0, 18.0, null, null, 12.0, 21.0, 36.0, 95.0, 219.0, 356.0, 433.0, 1085.0, 2281.0, 0.0, 29.0, null, 13.0, 61.0, 70.0, 107.0, 177.0, 426.0, 720.0, 860.0, 770.0, 3240.0, 18.0, null, null, 18.0, 40.0, 62.0, 112.0, 305.0, 510.0, 754.0, 1125.0, 2950.0, 0.0, 151.0, 28.0, 45.0, 424.0, 798.0, 1063.0, 1884.0, 4391.0, 6055.0, 6458.0, 6461.0, 27758.0, 111.0, 17.0, 33.0, 141.0, 299.0, 514.0, 1048.0, 2697.0, 4417.0, 6275.0, 10873.0, 26425.0, 0.0, 89.0, 14.0, 32.0, 207.0, 428.0, 497.0, 1000.0, 2457.0, 3514.0, 3816.0, 3326.0, 15380.0, 80.0, 11.0, 19.0, 66.0, 172.0, 263.0, 624.0, 1614.0, 2723.0, 3754.0, 5829.0, 15155.0, 0.0, 26.0, 10.0, 12.0, 74.0, 122.0, 173.0, 352.0, 958.0, 1474.0, 1668.0, 1873.0, 6742.0, 25.0, null, null, 23.0, 49.0, 93.0, 198.0, 609.0, 1060.0, 1522.0, 2963.0, 6549.0, null, 47.0, null, 12.0, 92.0, 149.0, 196.0, 356.0, 858.0, 1253.0, 1373.0, 1548.0, 5888.0, 28.0, null, null, 36.0, 56.0, 119.0, 225.0, 589.0, 940.0, 1279.0, 2278.0, 5557.0, 0.0, 40.0, 11.0, 15.0, 135.0, 284.0, 492.0, 763.0, 1857.0, 2414.0, 2428.0, 1830.0, 10269.0, 36.0, null, 14.0, 54.0, 127.0, 229.0, 525.0, 1216.0, 1854.0, 2474.0, 3034.0, 9569.0, null, 71.0, 13.0, 26.0, 155.0, 350.0, 447.0, 822.0, 1879.0, 2691.0, 2687.0, 2078.0, 11219.0, 58.0, null, 16.0, 62.0, 161.0, 263.0, 514.0, 1325.0, 2028.0, 2714.0, 3486.0, 10635.0, 0.0, 15.0, null, null, 36.0, 81.0, 118.0, 206.0, 522.0, 732.0, 828.0, 869.0, 3417.0, 14.0, null, null, null, 31.0, 47.0, 107.0, 263.0, 518.0, 784.0, 1286.0, 3062.0, 0.0, 61.0, null, 14.0, 191.0, 444.0, 570.0, 877.0, 2119.0, 2734.0, 3061.0, 2988.0, 13063.0, 64.0, null, 14.0, 62.0, 205.0, 279.0, 544.0, 1328.0, 2160.0, 3058.0, 5071.0, 12794.0, 0.0, 56.0, null, 13.0, 115.0, 363.0, 529.0, 885.0, 2168.0, 3274.0, 4156.0, 4774.0, 16341.0, 43.0, null, null, 61.0, 171.0, 247.0, 484.0, 1235.0, 2334.0, 3970.0, 8191.0, 16748.0, 0.0, 144.0, 17.0, 35.0, 277.0, 578.0, 800.0, 1641.0, 3818.0, 5547.0, 6117.0, 5702.0, 24676.0, 137.0, 17.0, 20.0, 90.0, 272.0, 437.0, 987.0, 2382.0, 4145.0, 5652.0, 9382.0, 23521.0, null, 64.0, 18.0, 16.0, 109.0, 216.0, 282.0, 537.0, 1372.0, 2086.0, 2618.0, 2964.0, 10282.0, 43.0, 11.0, null, 46.0, 107.0, 174.0, 333.0, 849.0, 1556.0, 2431.0, 4632.0, 10190.0, 0.0, 37.0, 15.0, 22.0, 129.0, 237.0, 331.0, 613.0, 1357.0, 1865.0, 1849.0, 1274.0, 7729.0, 31.0, null, 14.0, 40.0, 93.0, 212.0, 408.0, 890.0, 1383.0, 1846.0, 2207.0, 7131.0, null, 71.0, 16.0, 33.0, 205.0, 419.0, 523.0, 902.0, 2230.0, 3242.0, 3542.0, 2992.0, 14175.0, 72.0, 13.0, 19.0, 64.0, 157.0, 279.0, 561.0, 1424.0, 2477.0, 3279.0, 4862.0, 13207.0, 0.0, 11.0, null, null, 46.0, 52.0, 70.0, 139.0, 326.0, 566.0, 601.0, 557.0, 2373.0, 11.0, null, null, 11.0, 39.0, 35.0, 58.0, 196.0, 353.0, 427.0, 770.0, 1905.0, 0.0, 32.0, 0.0, null, 48.0, 91.0, 95.0, 192.0, 522.0, 757.0, 867.0, 926.0, 3538.0, 17.0, null, null, 17.0, 28.0, 59.0, 126.0, 343.0, 594.0, 836.0, 1522.0, 3558.0, 0.0, 24.0, null, 13.0, 111.0, 184.0, 255.0, 451.0, 1016.0, 1541.0, 1675.0, 1169.0, 6447.0, 23.0, null, null, 37.0, 78.0, 125.0, 265.0, 631.0, 1100.0, 1318.0, 1509.0, 5098.0, 0.0, 13.0, null, null, 26.0, 74.0, 77.0, 176.0, 398.0, 647.0, 727.0, 786.0, 2929.0, null, null, null, 12.0, 37.0, 39.0, 111.0, 263.0, 445.0, 672.0, 1227.0, 2816.0, 0.0, 75.0, 16.0, 13.0, 168.0, 532.0, 823.0, 1707.0, 3617.0, 5081.0, 6009.0, 6386.0, 24427.0, 63.0, null, 12.0, 67.0, 216.0, 362.0, 816.0, 2000.0, 3477.0, 5750.0, 11084.0, 23856.0, null, 13.0, null, null, 69.0, 176.0, 227.0, 343.0, 637.0, 862.0, 1024.0, 919.0, 4285.0, 14.0, null, null, 22.0, 67.0, 118.0, 204.0, 391.0, 670.0, 934.0, 1343.0, 3771.0, 0.0, 111.0, 19.0, 33.0, 245.0, 628.0, 799.0, 1622.0, 3877.0, 5814.0, 6869.0, 7748.0, 27765.0, 83.0, null, 29.0, 91.0, 244.0, 415.0, 884.0, 2422.0, 4254.0, 6488.0, 12980.0, 27899.0, null, 94.0, 17.0, 29.0, 176.0, 499.0, 992.0, 2048.0, 4383.0, 6151.0, 6353.0, 5501.0, 26243.0, 79.0, null, 18.0, 72.0, 211.0, 388.0, 967.0, 2336.0, 3970.0, 5401.0, 8969.0, 22419.0, null, 133.0, 17.0, 28.0, 293.0, 507.0, 672.0, 1066.0, 2419.0, 3775.0, 4048.0, 3246.0, 16204.0, 107.0, 10.0, 26.0, 121.0, 228.0, 367.0, 763.0, 1704.0, 2832.0, 4029.0, 5588.0, 15775.0, null, null, null, null, 22.0, 52.0, 62.0, 88.0, 204.0, 316.0, 357.0, 399.0, 1515.0, 11.0, 0.0, null, null, 13.0, 28.0, 46.0, 110.0, 181.0, 326.0, 601.0, 1324.0, 0.0, 189.0, 34.0, 55.0, 357.0, 862.0, 1071.0, 1800.0, 4156.0, 6014.0, 6381.0, 6119.0, 27038.0, 152.0, 17.0, 30.0, 142.0, 416.0, 592.0, 1140.0, 2712.0, 4381.0, 6417.0, 10040.0, 26039.0, null, 58.0, 15.0, 21.0, 119.0, 234.0, 334.0, 561.0, 1438.0, 1973.0, 2068.0, 1639.0, 8460.0, 39.0, null, 11.0, 53.0, 101.0, 179.0, 375.0, 923.0, 1545.0, 1946.0, 2510.0, 7691.0, 0.0, 44.0, 10.0, 10.0, 99.0, 188.0, 232.0, 481.0, 1077.0, 1824.0, 2049.0, 1940.0, 7954.0, 30.0, null, 10.0, 36.0, 82.0, 141.0, 290.0, 696.0, 1355.0, 1786.0, 2902.0, 7332.0, null, 165.0, 35.0, 43.0, 291.0, 817.0, 945.0, 1761.0, 4133.0, 6262.0, 7372.0, 7836.0, 29660.0, 118.0, 29.0, 27.0, 111.0, 344.0, 515.0, 1017.0, 2648.0, 4640.0, 6897.0, 13428.0, 29774.0, null, 10.0, null, null, 15.0, 40.0, 61.0, 140.0, 328.0, 469.0, 598.0, 710.0, 2376.0, 12.0, null, null, null, 27.0, 37.0, 72.0, 202.0, 350.0, 582.0, 1273.0, 2563.0, null, 75.0, 17.0, 26.0, 223.0, 395.0, 464.0, 873.0, 1986.0, 2841.0, 2969.0, 2107.0, 11976.0, 52.0, 15.0, 17.0, 85.0, 163.0, 300.0, 580.0, 1276.0, 2074.0, 2624.0, 3520.0, 10706.0, 0.0, 12.0, null, null, 27.0, 40.0, 59.0, 81.0, 251.0, 361.0, 434.0, 464.0, 1736.0, null, null, null, null, 16.0, 31.0, 61.0, 174.0, 273.0, 348.0, 732.0, 1656.0, 0.0, 131.0, 26.0, 39.0, 300.0, 609.0, 789.0, 1383.0, 2981.0, 3940.0, 4026.0, 2823.0, 17047.0, 86.0, 20.0, 14.0, 117.0, 306.0, 475.0, 856.0, 1979.0, 3056.0, 3821.0, 4890.0, 15620.0, 0.0, 410.0, 89.0, 135.0, 939.0, 1470.0, 2018.0, 3661.0, 7884.0, 10643.0, 11207.0, 9177.0, 47633.0, 309.0, 68.0, 100.0, 316.0, 594.0, 1064.0, 2176.0, 4959.0, 7702.0, 10291.0, 14143.0, 41722.0, null, 52.0, null, 15.0, 94.0, 145.0, 207.0, 301.0, 573.0, 906.0, 1102.0, 1080.0, 4482.0, 53.0, null, 10.0, 34.0, 88.0, 128.0, 184.0, 384.0, 645.0, 1051.0, 1494.0, 4079.0, 0.0, null, null, null, null, 34.0, 46.0, 72.0, 190.0, 277.0, 364.0, 370.0, 1366.0, 0.0, 0.0, 0.0, null, null, 18.0, 53.0, 101.0, 217.0, 308.0, 536.0, 1250.0, 0.0, 97.0, 15.0, 24.0, 229.0, 440.0, 635.0, 1133.0, 2483.0, 3526.0, 4094.0, 3536.0, 16212.0, 86.0, 15.0, 18.0, 67.0, 200.0, 319.0, 654.0, 1613.0, 2651.0, 3901.0, 5897.0, 15421.0, null, 76.0, 16.0, 26.0, 207.0, 354.0, 467.0, 836.0, 1829.0, 2922.0, 3161.0, 3095.0, 12989.0, 63.0, 11.0, 16.0, 57.0, 133.0, 238.0, 521.0, 1183.0, 2121.0, 2799.0, 4709.0, 11851.0, null, 21.0, null, null, 42.0, 120.0, 205.0, 319.0, 698.0, 1111.0, 1164.0, 774.0, 4466.0, 12.0, null, null, null, 60.0, 95.0, 187.0, 434.0, 704.0, 1010.0, 1240.0, 3762.0, null, 83.0, null, 22.0, 164.0, 322.0, 372.0, 718.0, 1793.0, 2645.0, 2964.0, 3220.0, 12308.0, 55.0, 12.0, 18.0, 61.0, 136.0, 205.0, 432.0, 1083.0, 1790.0, 2712.0, 5065.0, 11569.0, 0.0, null, null, null, 14.0, 40.0, 49.0, 60.0, 165.0, 234.0, 235.0, 237.0, 1043.0, null, 0.0, null, null, 15.0, 23.0, 44.0, 86.0, 148.0, 233.0, 335.0, 896.0, 0.0, 26.0, null, null, 81.0, 137.0, 202.0, 381.0, 0.0, 0.0, 0.0, 0.0, 836.0, 25.0, null, null, 20.0, 48.0, 84.0, 204.0, 0.0, 0.0, 0.0, 0.0, 390.0, 0.0], \"yaxis\": \"y\"}],\n",
              "                        {\"barmode\": \"stack\", \"legend\": {\"tracegroupgap\": 0}, \"margin\": {\"t\": 60}, \"template\": {\"data\": {\"bar\": [{\"error_x\": {\"color\": \"#2a3f5f\"}, \"error_y\": {\"color\": \"#2a3f5f\"}, \"marker\": {\"line\": {\"color\": \"#E5ECF6\", \"width\": 0.5}}, \"type\": \"bar\"}], \"barpolar\": [{\"marker\": {\"line\": {\"color\": \"#E5ECF6\", \"width\": 0.5}}, \"type\": \"barpolar\"}], \"carpet\": [{\"aaxis\": {\"endlinecolor\": \"#2a3f5f\", \"gridcolor\": \"white\", \"linecolor\": \"white\", \"minorgridcolor\": \"white\", \"startlinecolor\": \"#2a3f5f\"}, \"baxis\": {\"endlinecolor\": \"#2a3f5f\", \"gridcolor\": \"white\", \"linecolor\": \"white\", \"minorgridcolor\": \"white\", \"startlinecolor\": \"#2a3f5f\"}, \"type\": \"carpet\"}], \"choropleth\": [{\"colorbar\": {\"outlinewidth\": 0, \"ticks\": \"\"}, \"type\": \"choropleth\"}], \"contour\": [{\"colorbar\": {\"outlinewidth\": 0, \"ticks\": \"\"}, \"colorscale\": [[0.0, \"#0d0887\"], [0.1111111111111111, \"#46039f\"], [0.2222222222222222, \"#7201a8\"], [0.3333333333333333, \"#9c179e\"], [0.4444444444444444, \"#bd3786\"], [0.5555555555555556, \"#d8576b\"], [0.6666666666666666, \"#ed7953\"], [0.7777777777777778, \"#fb9f3a\"], [0.8888888888888888, \"#fdca26\"], [1.0, \"#f0f921\"]], \"type\": \"contour\"}], \"contourcarpet\": [{\"colorbar\": {\"outlinewidth\": 0, \"ticks\": \"\"}, \"type\": \"contourcarpet\"}], \"heatmap\": [{\"colorbar\": {\"outlinewidth\": 0, \"ticks\": \"\"}, \"colorscale\": [[0.0, \"#0d0887\"], [0.1111111111111111, \"#46039f\"], [0.2222222222222222, \"#7201a8\"], [0.3333333333333333, \"#9c179e\"], [0.4444444444444444, \"#bd3786\"], [0.5555555555555556, \"#d8576b\"], [0.6666666666666666, \"#ed7953\"], [0.7777777777777778, \"#fb9f3a\"], [0.8888888888888888, \"#fdca26\"], [1.0, \"#f0f921\"]], \"type\": \"heatmap\"}], \"heatmapgl\": [{\"colorbar\": {\"outlinewidth\": 0, \"ticks\": \"\"}, \"colorscale\": [[0.0, \"#0d0887\"], [0.1111111111111111, \"#46039f\"], [0.2222222222222222, \"#7201a8\"], [0.3333333333333333, \"#9c179e\"], [0.4444444444444444, \"#bd3786\"], [0.5555555555555556, \"#d8576b\"], [0.6666666666666666, \"#ed7953\"], [0.7777777777777778, \"#fb9f3a\"], [0.8888888888888888, \"#fdca26\"], [1.0, \"#f0f921\"]], \"type\": \"heatmapgl\"}], \"histogram\": [{\"marker\": {\"colorbar\": {\"outlinewidth\": 0, \"ticks\": \"\"}}, \"type\": \"histogram\"}], \"histogram2d\": [{\"colorbar\": {\"outlinewidth\": 0, \"ticks\": \"\"}, \"colorscale\": [[0.0, \"#0d0887\"], [0.1111111111111111, \"#46039f\"], [0.2222222222222222, \"#7201a8\"], [0.3333333333333333, \"#9c179e\"], [0.4444444444444444, \"#bd3786\"], [0.5555555555555556, \"#d8576b\"], [0.6666666666666666, \"#ed7953\"], [0.7777777777777778, \"#fb9f3a\"], [0.8888888888888888, \"#fdca26\"], [1.0, \"#f0f921\"]], \"type\": \"histogram2d\"}], \"histogram2dcontour\": [{\"colorbar\": {\"outlinewidth\": 0, \"ticks\": \"\"}, \"colorscale\": [[0.0, \"#0d0887\"], [0.1111111111111111, \"#46039f\"], [0.2222222222222222, \"#7201a8\"], [0.3333333333333333, \"#9c179e\"], [0.4444444444444444, \"#bd3786\"], [0.5555555555555556, \"#d8576b\"], [0.6666666666666666, \"#ed7953\"], [0.7777777777777778, \"#fb9f3a\"], [0.8888888888888888, \"#fdca26\"], [1.0, \"#f0f921\"]], \"type\": \"histogram2dcontour\"}], \"mesh3d\": [{\"colorbar\": {\"outlinewidth\": 0, \"ticks\": \"\"}, \"type\": \"mesh3d\"}], \"parcoords\": [{\"line\": {\"colorbar\": {\"outlinewidth\": 0, \"ticks\": \"\"}}, \"type\": \"parcoords\"}], \"pie\": [{\"automargin\": true, \"type\": \"pie\"}], \"scatter\": [{\"marker\": {\"colorbar\": {\"outlinewidth\": 0, \"ticks\": \"\"}}, \"type\": \"scatter\"}], \"scatter3d\": [{\"line\": {\"colorbar\": {\"outlinewidth\": 0, \"ticks\": \"\"}}, \"marker\": {\"colorbar\": {\"outlinewidth\": 0, \"ticks\": \"\"}}, \"type\": \"scatter3d\"}], \"scattercarpet\": [{\"marker\": {\"colorbar\": {\"outlinewidth\": 0, \"ticks\": \"\"}}, \"type\": \"scattercarpet\"}], \"scattergeo\": [{\"marker\": {\"colorbar\": {\"outlinewidth\": 0, \"ticks\": \"\"}}, \"type\": \"scattergeo\"}], \"scattergl\": [{\"marker\": {\"colorbar\": {\"outlinewidth\": 0, \"ticks\": \"\"}}, \"type\": \"scattergl\"}], \"scattermapbox\": [{\"marker\": {\"colorbar\": {\"outlinewidth\": 0, \"ticks\": \"\"}}, \"type\": \"scattermapbox\"}], \"scatterpolar\": [{\"marker\": {\"colorbar\": {\"outlinewidth\": 0, \"ticks\": \"\"}}, \"type\": \"scatterpolar\"}], \"scatterpolargl\": [{\"marker\": {\"colorbar\": {\"outlinewidth\": 0, \"ticks\": \"\"}}, \"type\": \"scatterpolargl\"}], \"scatterternary\": [{\"marker\": {\"colorbar\": {\"outlinewidth\": 0, \"ticks\": \"\"}}, \"type\": \"scatterternary\"}], \"surface\": [{\"colorbar\": {\"outlinewidth\": 0, \"ticks\": \"\"}, \"colorscale\": [[0.0, \"#0d0887\"], [0.1111111111111111, \"#46039f\"], [0.2222222222222222, \"#7201a8\"], [0.3333333333333333, \"#9c179e\"], [0.4444444444444444, \"#bd3786\"], [0.5555555555555556, \"#d8576b\"], [0.6666666666666666, \"#ed7953\"], [0.7777777777777778, \"#fb9f3a\"], [0.8888888888888888, \"#fdca26\"], [1.0, \"#f0f921\"]], \"type\": \"surface\"}], \"table\": [{\"cells\": {\"fill\": {\"color\": \"#EBF0F8\"}, \"line\": {\"color\": \"white\"}}, \"header\": {\"fill\": {\"color\": \"#C8D4E3\"}, \"line\": {\"color\": \"white\"}}, \"type\": \"table\"}]}, \"layout\": {\"annotationdefaults\": {\"arrowcolor\": \"#2a3f5f\", \"arrowhead\": 0, \"arrowwidth\": 1}, \"coloraxis\": {\"colorbar\": {\"outlinewidth\": 0, \"ticks\": \"\"}}, \"colorscale\": {\"diverging\": [[0, \"#8e0152\"], [0.1, \"#c51b7d\"], [0.2, \"#de77ae\"], [0.3, \"#f1b6da\"], [0.4, \"#fde0ef\"], [0.5, \"#f7f7f7\"], [0.6, \"#e6f5d0\"], [0.7, \"#b8e186\"], [0.8, \"#7fbc41\"], [0.9, \"#4d9221\"], [1, \"#276419\"]], \"sequential\": [[0.0, \"#0d0887\"], [0.1111111111111111, \"#46039f\"], [0.2222222222222222, \"#7201a8\"], [0.3333333333333333, \"#9c179e\"], [0.4444444444444444, \"#bd3786\"], [0.5555555555555556, \"#d8576b\"], [0.6666666666666666, \"#ed7953\"], [0.7777777777777778, \"#fb9f3a\"], [0.8888888888888888, \"#fdca26\"], [1.0, \"#f0f921\"]], \"sequentialminus\": [[0.0, \"#0d0887\"], [0.1111111111111111, \"#46039f\"], [0.2222222222222222, \"#7201a8\"], [0.3333333333333333, \"#9c179e\"], [0.4444444444444444, \"#bd3786\"], [0.5555555555555556, \"#d8576b\"], [0.6666666666666666, \"#ed7953\"], [0.7777777777777778, \"#fb9f3a\"], [0.8888888888888888, \"#fdca26\"], [1.0, \"#f0f921\"]]}, \"colorway\": [\"#636efa\", \"#EF553B\", \"#00cc96\", \"#ab63fa\", \"#FFA15A\", \"#19d3f3\", \"#FF6692\", \"#B6E880\", \"#FF97FF\", \"#FECB52\"], \"font\": {\"color\": \"#2a3f5f\"}, \"geo\": {\"bgcolor\": \"white\", \"lakecolor\": \"white\", \"landcolor\": \"#E5ECF6\", \"showlakes\": true, \"showland\": true, \"subunitcolor\": \"white\"}, \"hoverlabel\": {\"align\": \"left\"}, \"hovermode\": \"closest\", \"mapbox\": {\"style\": \"light\"}, \"paper_bgcolor\": \"white\", \"plot_bgcolor\": \"#E5ECF6\", \"polar\": {\"angularaxis\": {\"gridcolor\": \"white\", \"linecolor\": \"white\", \"ticks\": \"\"}, \"bgcolor\": \"#E5ECF6\", \"radialaxis\": {\"gridcolor\": \"white\", \"linecolor\": \"white\", \"ticks\": \"\"}}, \"scene\": {\"xaxis\": {\"backgroundcolor\": \"#E5ECF6\", \"gridcolor\": \"white\", \"gridwidth\": 2, \"linecolor\": \"white\", \"showbackground\": true, \"ticks\": \"\", \"zerolinecolor\": \"white\"}, \"yaxis\": {\"backgroundcolor\": \"#E5ECF6\", \"gridcolor\": \"white\", \"gridwidth\": 2, \"linecolor\": \"white\", \"showbackground\": true, \"ticks\": \"\", \"zerolinecolor\": \"white\"}, \"zaxis\": {\"backgroundcolor\": \"#E5ECF6\", \"gridcolor\": \"white\", \"gridwidth\": 2, \"linecolor\": \"white\", \"showbackground\": true, \"ticks\": \"\", \"zerolinecolor\": \"white\"}}, \"shapedefaults\": {\"line\": {\"color\": \"#2a3f5f\"}}, \"ternary\": {\"aaxis\": {\"gridcolor\": \"white\", \"linecolor\": \"white\", \"ticks\": \"\"}, \"baxis\": {\"gridcolor\": \"white\", \"linecolor\": \"white\", \"ticks\": \"\"}, \"bgcolor\": \"#E5ECF6\", \"caxis\": {\"gridcolor\": \"white\", \"linecolor\": \"white\", \"ticks\": \"\"}}, \"title\": {\"x\": 0.05}, \"xaxis\": {\"automargin\": true, \"gridcolor\": \"white\", \"linecolor\": \"white\", \"ticks\": \"\", \"title\": {\"standoff\": 15}, \"zerolinecolor\": \"white\", \"zerolinewidth\": 2}, \"yaxis\": {\"automargin\": true, \"gridcolor\": \"white\", \"linecolor\": \"white\", \"ticks\": \"\", \"title\": {\"standoff\": 15}, \"zerolinecolor\": \"white\", \"zerolinewidth\": 2}}}, \"xaxis\": {\"anchor\": \"y\", \"domain\": [0.0, 1.0], \"title\": {\"text\": \"State\"}}, \"yaxis\": {\"anchor\": \"x\", \"domain\": [0.0, 1.0], \"title\": {\"text\": \"Total Deaths\"}}},\n",
              "                        {\"responsive\": true}\n",
              "                    ).then(function(){\n",
              "                            \n",
              "var gd = document.getElementById('13f94af2-502b-4489-8353-0bfb7846d11d');\n",
              "var x = new MutationObserver(function (mutations, observer) {{\n",
              "        var display = window.getComputedStyle(gd).display;\n",
              "        if (!display || display === 'none') {{\n",
              "            console.log([gd, 'removed!']);\n",
              "            Plotly.purge(gd);\n",
              "            observer.disconnect();\n",
              "        }}\n",
              "}});\n",
              "\n",
              "// Listen for the removal of the full notebook cells\n",
              "var notebookContainer = gd.closest('#notebook-container');\n",
              "if (notebookContainer) {{\n",
              "    x.observe(notebookContainer, {childList: true});\n",
              "}}\n",
              "\n",
              "// Listen for the clearing of the current output cell\n",
              "var outputEl = gd.closest('.output');\n",
              "if (outputEl) {{\n",
              "    x.observe(outputEl, {childList: true});\n",
              "}}\n",
              "\n",
              "                        })\n",
              "                };\n",
              "                });\n",
              "            </script>\n",
              "        </div>"
            ],
            "application/vnd.plotly.v1+json": {
              "data": [
                {
                  "textposition": "auto",
                  "hovertemplate": "State=%{x}<br>Total Deaths=%{y}<br>COVID19=%{customdata[0]}<br>Pneumonia=%{customdata[1]}<br>Influenza=%{customdata[2]}<br>Pneumonia_COVID=%{customdata[3]}<br>Pneumonia_Influenza_COVID19=%{customdata[4]}",
                  "showlegend": false,
                  "legendgroup": "",
                  "name": "",
                  "yaxis": "y",
                  "customdata": [
                    [
                      0,
                      0,
                      null,
                      0,
                      null
                    ],
                    [
                      0,
                      0,
                      0,
                      0,
                      0
                    ],
                    [
                      0,
                      null,
                      0,
                      0,
                      null
                    ],
                    [
                      0,
                      null,
                      null,
                      0,
                      null
                    ],
                    [
                      null,
                      null,
                      null,
                      null,
                      15
                    ],
                    [
                      null,
                      27,
                      null,
                      null,
                      31
                    ],
                    [
                      43,
                      44,
                      null,
                      11,
                      82
                    ],
                    [
                      72,
                      138,
                      15,
                      18,
                      207
                    ],
                    [
                      137,
                      215,
                      15,
                      37,
                      330
                    ],
                    [
                      137,
                      248,
                      null,
                      41,
                      351
                    ],
                    [
                      109,
                      165,
                      null,
                      34,
                      246
                    ],
                    [
                      511,
                      848,
                      56,
                      148,
                      1266
                    ],
                    [
                      0,
                      0,
                      0,
                      0,
                      0
                    ],
                    [
                      0,
                      0,
                      null,
                      0,
                      null
                    ],
                    [
                      0,
                      null,
                      0,
                      0,
                      null
                    ],
                    [
                      null,
                      null,
                      0,
                      0,
                      null
                    ],
                    [
                      null,
                      null,
                      null,
                      null,
                      null
                    ],
                    [
                      13,
                      13,
                      null,
                      null,
                      25
                    ],
                    [
                      27,
                      33,
                      null,
                      null,
                      60
                    ],
                    [
                      60,
                      127,
                      null,
                      14,
                      181
                    ],
                    [
                      108,
                      144,
                      12,
                      35,
                      229
                    ],
                    [
                      109,
                      200,
                      null,
                      42,
                      272
                    ],
                    [
                      138,
                      189,
                      null,
                      39,
                      290
                    ],
                    [
                      459,
                      715,
                      39,
                      140,
                      1071
                    ],
                    [
                      0,
                      0,
                      0,
                      0,
                      0
                    ],
                    [
                      0,
                      0,
                      0,
                      0,
                      0
                    ],
                    [
                      0,
                      0,
                      0,
                      0,
                      0
                    ],
                    [
                      0,
                      0,
                      0,
                      0,
                      0
                    ],
                    [
                      0,
                      0,
                      0,
                      0,
                      0
                    ],
                    [
                      0,
                      null,
                      0,
                      0,
                      null
                    ],
                    [
                      0,
                      null,
                      0,
                      0,
                      null
                    ],
                    [
                      0,
                      null,
                      0,
                      0,
                      null
                    ],
                    [
                      0,
                      10,
                      0,
                      0,
                      10
                    ],
                    [
                      null,
                      null,
                      0,
                      null,
                      null
                    ],
                    [
                      null,
                      12,
                      null,
                      null,
                      14
                    ],
                    [
                      null,
                      10,
                      null,
                      0,
                      13
                    ],
                    [
                      null,
                      41,
                      null,
                      null,
                      47
                    ],
                    [
                      0,
                      0,
                      0,
                      0,
                      0
                    ],
                    [
                      0,
                      null,
                      null,
                      0,
                      null
                    ],
                    [
                      0,
                      0,
                      0,
                      0,
                      0
                    ],
                    [
                      0,
                      null,
                      0,
                      0,
                      null
                    ],
                    [
                      null,
                      null,
                      0,
                      0,
                      null
                    ],
                    [
                      0,
                      0,
                      0,
                      0,
                      0
                    ],
                    [
                      null,
                      null,
                      0,
                      0,
                      null
                    ],
                    [
                      null,
                      null,
                      0,
                      null,
                      null
                    ],
                    [
                      null,
                      12,
                      null,
                      null,
                      14
                    ],
                    [
                      null,
                      null,
                      0,
                      null,
                      null
                    ],
                    [
                      0,
                      null,
                      0,
                      0,
                      null
                    ],
                    [
                      null,
                      37,
                      null,
                      null,
                      42
                    ],
                    [
                      0,
                      0,
                      0,
                      0,
                      0
                    ],
                    [
                      0,
                      null,
                      null,
                      0,
                      null
                    ],
                    [
                      null,
                      null,
                      null,
                      0,
                      null
                    ],
                    [
                      null,
                      null,
                      null,
                      null,
                      null
                    ],
                    [
                      null,
                      null,
                      null,
                      null,
                      10
                    ],
                    [
                      19,
                      20,
                      null,
                      12,
                      28
                    ],
                    [
                      20,
                      29,
                      null,
                      13,
                      38
                    ],
                    [
                      65,
                      71,
                      null,
                      34,
                      106
                    ],
                    [
                      119,
                      187,
                      13,
                      67,
                      252
                    ],
                    [
                      148,
                      298,
                      14,
                      82,
                      378
                    ],
                    [
                      220,
                      394,
                      12,
                      120,
                      506
                    ],
                    [
                      194,
                      299,
                      10,
                      96,
                      407
                    ],
                    [
                      792,
                      1306,
                      61,
                      426,
                      1733
                    ],
                    [
                      0,
                      null,
                      0,
                      0,
                      null
                    ],
                    [
                      0,
                      null,
                      0,
                      0,
                      null
                    ],
                    [
                      0,
                      0,
                      0,
                      0,
                      0
                    ],
                    [
                      null,
                      null,
                      0,
                      null,
                      null
                    ],
                    [
                      null,
                      15,
                      null,
                      null,
                      20
                    ],
                    [
                      12,
                      17,
                      null,
                      null,
                      25
                    ],
                    [
                      35,
                      46,
                      null,
                      18,
                      67
                    ],
                    [
                      65,
                      129,
                      10,
                      38,
                      166
                    ],
                    [
                      113,
                      214,
                      16,
                      65,
                      278
                    ],
                    [
                      165,
                      310,
                      10,
                      85,
                      400
                    ],
                    [
                      220,
                      338,
                      null,
                      102,
                      464
                    ],
                    [
                      619,
                      1077,
                      52,
                      320,
                      1428
                    ],
                    [
                      0,
                      0,
                      0,
                      0,
                      0
                    ],
                    [
                      0,
                      null,
                      0,
                      0,
                      null
                    ],
                    [
                      0,
                      0,
                      null,
                      0,
                      null
                    ],
                    [
                      0,
                      0,
                      0,
                      0,
                      0
                    ],
                    [
                      null,
                      null,
                      null,
                      0,
                      null
                    ],
                    [
                      null,
                      null,
                      null,
                      0,
                      15
                    ],
                    [
                      null,
                      17,
                      null,
                      null,
                      21
                    ],
                    [
                      14,
                      26,
                      null,
                      null,
                      36
                    ],
                    [
                      28,
                      86,
                      11,
                      12,
                      113
                    ],
                    [
                      30,
                      123,
                      11,
                      22,
                      142
                    ],
                    [
                      39,
                      143,
                      null,
                      14,
                      175
                    ],
                    [
                      19,
                      113,
                      null,
                      null,
                      126
                    ],
                    [
                      138,
                      520,
                      40,
                      64,
                      634
                    ],
                    [
                      0,
                      null,
                      0,
                      0,
                      null
                    ],
                    [
                      0,
                      0,
                      null,
                      0,
                      null
                    ],
                    [
                      0,
                      0,
                      0,
                      0,
                      0
                    ],
                    [
                      null,
                      null,
                      null,
                      null,
                      null
                    ],
                    [
                      null,
                      null,
                      0,
                      null,
                      null
                    ],
                    [
                      null,
                      null,
                      null,
                      null,
                      15
                    ],
                    [
                      null,
                      29,
                      null,
                      null,
                      34
                    ],
                    [
                      13,
                      66,
                      null,
                      null,
                      78
                    ],
                    [
                      10,
                      86,
                      10,
                      null,
                      101
                    ],
                    [
                      27,
                      104,
                      null,
                      null,
                      130
                    ],
                    [
                      54,
                      131,
                      null,
                      11,
                      182
                    ],
                    [
                      120,
                      436,
                      35,
                      37,
                      554
                    ],
                    [
                      0,
                      0,
                      0,
                      0,
                      0
                    ],
                    [
                      0,
                      null,
                      0,
                      0,
                      null
                    ],
                    [
                      0,
                      null,
                      null,
                      0,
                      null
                    ],
                    [
                      0,
                      null,
                      null,
                      0,
                      null
                    ],
                    [
                      null,
                      21,
                      null,
                      null,
                      24
                    ],
                    [
                      37,
                      60,
                      null,
                      21,
                      85
                    ],
                    [
                      103,
                      150,
                      10,
                      53,
                      210
                    ],
                    [
                      255,
                      354,
                      33,
                      133,
                      509
                    ],
                    [
                      505,
                      838,
                      71,
                      281,
                      1133
                    ],
                    [
                      723,
                      1390,
                      63,
                      400,
                      1775
                    ],
                    [
                      763,
                      1696,
                      57,
                      465,
                      2051
                    ],
                    [
                      714,
                      1713,
                      52,
                      383,
                      2096
                    ],
                    [
                      3103,
                      6232,
                      303,
                      1737,
                      7900
                    ],
                    [
                      0,
                      null,
                      null,
                      0,
                      null
                    ],
                    [
                      0,
                      null,
                      0,
                      0,
                      null
                    ],
                    [
                      0,
                      null,
                      null,
                      0,
                      null
                    ],
                    [
                      null,
                      13,
                      null,
                      null,
                      17
                    ],
                    [
                      null,
                      28,
                      10,
                      null,
                      44
                    ],
                    [
                      36,
                      77,
                      10,
                      19,
                      104
                    ],
                    [
                      95,
                      196,
                      22,
                      54,
                      259
                    ],
                    [
                      206,
                      485,
                      46,
                      119,
                      618
                    ],
                    [
                      388,
                      870,
                      48,
                      226,
                      1080
                    ],
                    [
                      580,
                      1277,
                      69,
                      322,
                      1604
                    ],
                    [
                      1018,
                      2095,
                      63,
                      527,
                      2649
                    ],
                    [
                      2333,
                      5050,
                      273,
                      1270,
                      6386
                    ],
                    [
                      0,
                      0,
                      0,
                      0,
                      0
                    ],
                    [
                      0,
                      0,
                      null,
                      0,
                      null
                    ],
                    [
                      0,
                      0,
                      null,
                      0,
                      null
                    ],
                    [
                      0,
                      0,
                      0,
                      0,
                      0
                    ],
                    [
                      null,
                      null,
                      null,
                      null,
                      null
                    ],
                    [
                      null,
                      null,
                      0,
                      null,
                      11
                    ],
                    [
                      14,
                      23,
                      null,
                      null,
                      33
                    ],
                    [
                      52,
                      50,
                      null,
                      27,
                      81
                    ],
                    [
                      105,
                      134,
                      10,
                      51,
                      198
                    ],
                    [
                      188,
                      253,
                      10,
                      113,
                      338
                    ],
                    [
                      247,
                      289,
                      null,
                      146,
                      394
                    ],
                    [
                      250,
                      241,
                      10,
                      122,
                      377
                    ],
                    [
                      866,
                      1002,
                      47,
                      472,
                      1441
                    ],
                    [
                      0,
                      null,
                      0,
                      0,
                      null
                    ],
                    [
                      0,
                      0,
                      0,
                      0,
                      0
                    ],
                    [
                      0,
                      null,
                      null,
                      0,
                      null
                    ],
                    [
                      null,
                      null,
                      0,
                      0,
                      null
                    ],
                    [
                      null,
                      null,
                      0,
                      0,
                      null
                    ],
                    [
                      null,
                      11,
                      null,
                      null,
                      18
                    ],
                    [
                      16,
                      27,
                      null,
                      null,
                      41
                    ],
                    [
                      36,
                      70,
                      11,
                      22,
                      95
                    ],
                    [
                      111,
                      127,
                      null,
                      52,
                      193
                    ],
                    [
                      183,
                      215,
                      null,
                      86,
                      317
                    ],
                    [
                      322,
                      325,
                      13,
                      158,
                      502
                    ],
                    [
                      678,
                      783,
                      48,
                      327,
                      1179
                    ],
                    [
                      0,
                      0,
                      0,
                      0,
                      0
                    ],
                    [
                      0,
                      0,
                      0,
                      0,
                      0
                    ],
                    [
                      0,
                      0,
                      null,
                      0,
                      null
                    ],
                    [
                      0,
                      0,
                      0,
                      0,
                      0
                    ],
                    [
                      null,
                      0,
                      0,
                      0,
                      null
                    ],
                    [
                      null,
                      null,
                      null,
                      null,
                      10
                    ],
                    [
                      16,
                      null,
                      0,
                      null,
                      21
                    ],
                    [
                      58,
                      20,
                      null,
                      11,
                      70
                    ],
                    [
                      195,
                      70,
                      null,
                      43,
                      225
                    ],
                    [
                      388,
                      148,
                      null,
                      107,
                      436
                    ],
                    [
                      481,
                      196,
                      null,
                      118,
                      567
                    ],
                    [
                      619,
                      278,
                      null,
                      151,
                      755
                    ],
                    [
                      1766,
                      722,
                      34,
                      434,
                      2086
                    ],
                    [
                      0,
                      0,
                      0,
                      0,
                      0
                    ],
                    [
                      0,
                      0,
                      0,
                      0,
                      0
                    ],
                    [
                      0,
                      0,
                      0,
                      0,
                      0
                    ],
                    [
                      null,
                      0,
                      0,
                      0,
                      null
                    ],
                    [
                      null,
                      null,
                      null,
                      null,
                      null
                    ],
                    [
                      null,
                      null,
                      0,
                      0,
                      11
                    ],
                    [
                      22,
                      null,
                      null,
                      null,
                      28
                    ],
                    [
                      98,
                      39,
                      null,
                      21,
                      121
                    ],
                    [
                      241,
                      117,
                      null,
                      63,
                      298
                    ],
                    [
                      470,
                      181,
                      13,
                      115,
                      549
                    ],
                    [
                      1026,
                      329,
                      10,
                      193,
                      1172
                    ],
                    [
                      1870,
                      678,
                      36,
                      399,
                      2185
                    ],
                    [
                      0,
                      null,
                      null,
                      0,
                      null
                    ],
                    [
                      0,
                      0,
                      0,
                      0,
                      0
                    ],
                    [
                      0,
                      0,
                      0,
                      0,
                      0
                    ],
                    [
                      0,
                      0,
                      0,
                      0,
                      0
                    ],
                    [
                      null,
                      null,
                      0,
                      0,
                      null
                    ],
                    [
                      null,
                      null,
                      0,
                      null,
                      null
                    ],
                    [
                      null,
                      null,
                      0,
                      null,
                      null
                    ],
                    [
                      null,
                      null,
                      0,
                      null,
                      12
                    ],
                    [
                      28,
                      21,
                      0,
                      14,
                      35
                    ],
                    [
                      59,
                      54,
                      null,
                      28,
                      86
                    ],
                    [
                      60,
                      34,
                      null,
                      20,
                      77
                    ],
                    [
                      59,
                      46,
                      null,
                      26,
                      80
                    ],
                    [
                      221,
                      165,
                      null,
                      93,
                      298
                    ],
                    [
                      0,
                      0,
                      0,
                      0,
                      0
                    ],
                    [
                      0,
                      0,
                      0,
                      0,
                      0
                    ],
                    [
                      0,
                      null,
                      0,
                      0,
                      null
                    ],
                    [
                      0,
                      0,
                      0,
                      0,
                      0
                    ],
                    [
                      null,
                      null,
                      0,
                      null,
                      null
                    ],
                    [
                      null,
                      null,
                      null,
                      null,
                      null
                    ],
                    [
                      15,
                      null,
                      0,
                      null,
                      18
                    ],
                    [
                      20,
                      21,
                      null,
                      10,
                      33
                    ],
                    [
                      39,
                      36,
                      null,
                      14,
                      64
                    ],
                    [
                      63,
                      50,
                      null,
                      22,
                      92
                    ],
                    [
                      122,
                      78,
                      null,
                      35,
                      169
                    ],
                    [
                      264,
                      200,
                      11,
                      90,
                      385
                    ],
                    [
                      0,
                      0,
                      0,
                      0,
                      0
                    ],
                    [
                      null,
                      0,
                      0,
                      0,
                      null
                    ],
                    [
                      0,
                      0,
                      0,
                      0,
                      0
                    ],
                    [
                      0,
                      null,
                      0,
                      0,
                      null
                    ],
                    [
                      0,
                      null,
                      0,
                      0,
                      null
                    ],
                    [
                      null,
                      null,
                      0,
                      null,
                      null
                    ],
                    [
                      15,
                      17,
                      null,
                      15,
                      18
                    ],
                    [
                      33,
                      37,
                      null,
                      33,
                      38
                    ],
                    [
                      56,
                      75,
                      null,
                      54,
                      78
                    ],
                    [
                      104,
                      131,
                      null,
                      104,
                      132
                    ],
                    [
                      71,
                      93,
                      0,
                      70,
                      94
                    ],
                    [
                      50,
                      59,
                      null,
                      49,
                      61
                    ],
                    [
                      332,
                      419,
                      null,
                      327,
                      429
                    ],
                    [
                      0,
                      0,
                      null,
                      0,
                      null
                    ],
                    [
                      0,
                      0,
                      null,
                      0,
                      null
                    ],
                    [
                      0,
                      0,
                      null,
                      0,
                      null
                    ],
                    [
                      0,
                      0,
                      0,
                      0,
                      0
                    ],
                    [
                      null,
                      null,
                      0,
                      null,
                      null
                    ],
                    [
                      null,
                      null,
                      0,
                      null,
                      null
                    ],
                    [
                      16,
                      21,
                      0,
                      16,
                      21
                    ],
                    [
                      32,
                      41,
                      0,
                      30,
                      43
                    ],
                    [
                      56,
                      78,
                      null,
                      55,
                      80
                    ],
                    [
                      49,
                      69,
                      0,
                      49,
                      69
                    ],
                    [
                      72,
                      93,
                      0,
                      72,
                      93
                    ],
                    [
                      230,
                      309,
                      null,
                      227,
                      316
                    ],
                    [
                      0,
                      0,
                      0,
                      0,
                      0
                    ],
                    [
                      0,
                      null,
                      0,
                      0,
                      null
                    ],
                    [
                      0,
                      null,
                      null,
                      0,
                      null
                    ],
                    [
                      0,
                      null,
                      null,
                      0,
                      null
                    ],
                    [
                      0,
                      10,
                      null,
                      0,
                      13
                    ],
                    [
                      11,
                      30,
                      null,
                      null,
                      41
                    ],
                    [
                      41,
                      74,
                      null,
                      19,
                      102
                    ],
                    [
                      89,
                      183,
                      20,
                      49,
                      241
                    ],
                    [
                      199,
                      492,
                      31,
                      117,
                      605
                    ],
                    [
                      400,
                      980,
                      36,
                      216,
                      1200
                    ],
                    [
                      523,
                      1272,
                      34,
                      280,
                      1548
                    ],
                    [
                      438,
                      1071,
                      18,
                      212,
                      1313
                    ],
                    [
                      1701,
                      4121,
                      157,
                      898,
                      5074
                    ],
                    [
                      0,
                      null,
                      null,
                      0,
                      null
                    ],
                    [
                      0,
                      null,
                      0,
                      0,
                      null
                    ],
                    [
                      0,
                      null,
                      null,
                      0,
                      null
                    ],
                    [
                      null,
                      null,
                      null,
                      null,
                      null
                    ],
                    [
                      null,
                      31,
                      null,
                      null,
                      36
                    ],
                    [
                      13,
                      51,
                      null,
                      null,
                      63
                    ],
                    [
                      34,
                      111,
                      12,
                      20,
                      137
                    ],
                    [
                      89,
                      333,
                      23,
                      49,
                      396
                    ],
                    [
                      255,
                      629,
                      39,
                      143,
                      780
                    ],
                    [
                      381,
                      886,
                      35,
                      189,
                      1112
                    ],
                    [
                      633,
                      1150,
                      27,
                      288,
                      1521
                    ],
                    [
                      1415,
                      3204,
                      151,
                      706,
                      4062
                    ],
                    [
                      0,
                      0,
                      0,
                      0,
                      0
                    ],
                    [
                      0,
                      null,
                      0,
                      0,
                      null
                    ],
                    [
                      0,
                      0,
                      null,
                      0,
                      null
                    ],
                    [
                      0,
                      0,
                      0,
                      0,
                      0
                    ],
                    [
                      0,
                      null,
                      null,
                      0,
                      null
                    ],
                    [
                      17,
                      15,
                      0,
                      null,
                      26
                    ],
                    [
                      14,
                      28,
                      null,
                      null,
                      36
                    ],
                    [
                      78,
                      82,
                      null,
                      30,
                      136
                    ],
                    [
                      170,
                      229,
                      10,
                      67,
                      342
                    ],
                    [
                      313,
                      406,
                      10,
                      157,
                      572
                    ],
                    [
                      309,
                      473,
                      11,
                      160,
                      632
                    ],
                    [
                      207,
                      309,
                      null,
                      96,
                      428
                    ],
                    [
                      1108,
                      1545,
                      50,
                      523,
                      2179
                    ],
                    [
                      0,
                      0,
                      0,
                      0,
                      0
                    ],
                    [
                      0,
                      0,
                      null,
                      0,
                      null
                    ],
                    [
                      0,
                      null,
                      null,
                      0,
                      null
                    ],
                    [
                      null,
                      null,
                      0,
                      null,
                      null
                    ],
                    [
                      null,
                      13,
                      null,
                      null,
                      21
                    ],
                    [
                      17,
                      29,
                      null,
                      null,
                      43
                    ],
                    [
                      52,
                      83,
                      null,
                      26,
                      114
                    ],
                    [
                      108,
                      171,
                      13,
                      48,
                      244
                    ],
                    [
                      204,
                      270,
                      12,
                      96,
                      390
                    ],
                    [
                      301,
                      344,
                      14,
                      128,
                      531
                    ],
                    [
                      341,
                      401,
                      null,
                      128,
                      622
                    ],
                    [
                      1034,
                      1317,
                      59,
                      436,
                      1974
                    ],
                    [
                      0,
                      0,
                      0,
                      0,
                      0
                    ],
                    [
                      0,
                      0,
                      0,
                      0,
                      0
                    ],
                    [
                      0,
                      0,
                      0,
                      0,
                      0
                    ],
                    [
                      0,
                      null,
                      0,
                      0,
                      null
                    ],
                    [
                      0,
                      null,
                      0,
                      0,
                      null
                    ],
                    [
                      0,
                      null,
                      0,
                      0,
                      null
                    ],
                    [
                      0,
                      null,
                      0,
                      0,
                      null
                    ],
                    [
                      null,
                      null,
                      0,
                      0,
                      null
                    ],
                    [
                      null,
                      null,
                      null,
                      0,
                      12
                    ],
                    [
                      null,
                      31,
                      null,
                      null,
                      36
                    ],
                    [
                      null,
                      42,
                      null,
                      null,
                      49
                    ],
                    [
                      null,
                      66,
                      null,
                      0,
                      71
                    ],
                    [
                      10,
                      162,
                      14,
                      null,
                      184
                    ],
                    [
                      0,
                      0,
                      0,
                      0,
                      0
                    ],
                    [
                      0,
                      0,
                      0,
                      0,
                      0
                    ],
                    [
                      0,
                      null,
                      0,
                      0,
                      null
                    ],
                    [
                      0,
                      0,
                      0,
                      0,
                      0
                    ],
                    [
                      null,
                      null,
                      0,
                      null,
                      null
                    ],
                    [
                      0,
                      0,
                      0,
                      0,
                      0
                    ],
                    [
                      null,
                      null,
                      0,
                      null,
                      null
                    ],
                    [
                      0,
                      20,
                      null,
                      0,
                      22
                    ],
                    [
                      0,
                      21,
                      null,
                      0,
                      24
                    ],
                    [
                      null,
                      22,
                      0,
                      0,
                      24
                    ],
                    [
                      null,
                      70,
                      null,
                      null,
                      71
                    ],
                    [
                      null,
                      140,
                      null,
                      null,
                      148
                    ],
                    [
                      0,
                      0,
                      0,
                      0,
                      0
                    ],
                    [
                      0,
                      0,
                      0,
                      0,
                      0
                    ],
                    [
                      0,
                      null,
                      0,
                      0,
                      null
                    ],
                    [
                      0,
                      null,
                      0,
                      0,
                      null
                    ],
                    [
                      0,
                      0,
                      0,
                      0,
                      0
                    ],
                    [
                      0,
                      0,
                      0,
                      0,
                      0
                    ],
                    [
                      0,
                      null,
                      null,
                      0,
                      null
                    ],
                    [
                      0,
                      null,
                      0,
                      0,
                      null
                    ],
                    [
                      null,
                      22,
                      null,
                      0,
                      28
                    ],
                    [
                      11,
                      32,
                      null,
                      null,
                      49
                    ],
                    [
                      17,
                      52,
                      null,
                      null,
                      64
                    ],
                    [
                      14,
                      38,
                      null,
                      null,
                      48
                    ],
                    [
                      46,
                      154,
                      13,
                      12,
                      201
                    ],
                    [
                      0,
                      0,
                      0,
                      0,
                      0
                    ],
                    [
                      0,
                      0,
                      0,
                      0,
                      0
                    ],
                    [
                      0,
                      0,
                      0,
                      0,
                      0
                    ],
                    [
                      0,
                      0,
                      null,
                      0,
                      null
                    ],
                    [
                      0,
                      0,
                      0,
                      0,
                      0
                    ],
                    [
                      0,
                      null,
                      0,
                      0,
                      null
                    ],
                    [
                      0,
                      null,
                      0,
                      0,
                      null
                    ],
                    [
                      0,
                      20,
                      null,
                      0,
                      22
                    ],
                    [
                      null,
                      36,
                      null,
                      null,
                      40
                    ],
                    [
                      13,
                      33,
                      null,
                      null,
                      44
                    ],
                    [
                      26,
                      50,
                      null,
                      null,
                      76
                    ],
                    [
                      46,
                      144,
                      12,
                      14,
                      188
                    ],
                    [
                      0,
                      0,
                      0,
                      0,
                      0
                    ],
                    [
                      null,
                      null,
                      0,
                      null,
                      null
                    ],
                    [
                      0,
                      0,
                      null,
                      0,
                      null
                    ],
                    [
                      null,
                      null,
                      0,
                      null,
                      null
                    ],
                    [
                      null,
                      null,
                      0,
                      null,
                      10
                    ],
                    [
                      37,
                      30,
                      null,
                      13,
                      56
                    ],
                    [
                      107,
                      71,
                      null,
                      46,
                      134
                    ],
                    [
                      259,
                      195,
                      null,
                      126,
                      331
                    ],
                    [
                      519,
                      460,
                      15,
                      278,
                      716
                    ],
                    [
                      848,
                      795,
                      15,
                      461,
                      1197
                    ],
                    [
                      862,
                      895,
                      18,
                      467,
                      1308
                    ],
                    [
                      722,
                      825,
                      14,
                      356,
                      1204
                    ],
                    [
                      3363,
                      3279,
                      70,
                      1750,
                      4961
                    ],
                    [
                      null,
                      null,
                      0,
                      0,
                      null
                    ],
                    [
                      0,
                      0,
                      0,
                      0,
                      0
                    ],
                    [
                      0,
                      null,
                      null,
                      0,
                      null
                    ],
                    [
                      null,
                      null,
                      null,
                      null,
                      null
                    ],
                    [
                      18,
                      18,
                      null,
                      null,
                      29
                    ],
                    [
                      38,
                      47,
                      null,
                      21,
                      68
                    ],
                    [
                      97,
                      100,
                      null,
                      52,
                      147
                    ],
                    [
                      257,
                      297,
                      16,
                      139,
                      431
                    ],
                    [
                      472,
                      530,
                      15,
                      258,
                      758
                    ],
                    [
                      669,
                      736,
                      27,
                      330,
                      1101
                    ],
                    [
                      1189,
                      1139,
                      38,
                      523,
                      1843
                    ],
                    [
                      2746,
                      2872,
                      106,
                      1332,
                      4390
                    ],
                    [
                      0,
                      0,
                      0,
                      0,
                      0
                    ],
                    [
                      0,
                      null,
                      0,
                      0,
                      null
                    ],
                    [
                      null,
                      0,
                      0,
                      0,
                      null
                    ],
                    [
                      0,
                      0,
                      0,
                      0,
                      0
                    ],
                    [
                      null,
                      null,
                      0,
                      0,
                      null
                    ],
                    [
                      null,
                      17,
                      0,
                      null,
                      20
                    ],
                    [
                      11,
                      31,
                      null,
                      null,
                      38
                    ],
                    [
                      46,
                      70,
                      null,
                      18,
                      105
                    ],
                    [
                      148,
                      219,
                      11,
                      75,
                      302
                    ],
                    [
                      326,
                      404,
                      13,
                      157,
                      586
                    ],
                    [
                      357,
                      488,
                      16,
                      164,
                      696
                    ],
                    [
                      336,
                      382,
                      12,
                      141,
                      589
                    ],
                    [
                      1235,
                      1613,
                      61,
                      567,
                      2340
                    ],
                    [
                      0,
                      0,
                      0,
                      0,
                      0
                    ],
                    [
                      0,
                      0,
                      null,
                      0,
                      null
                    ],
                    [
                      0,
                      0,
                      null,
                      0,
                      null
                    ],
                    [
                      null,
                      null,
                      0,
                      0,
                      null
                    ],
                    [
                      null,
                      null,
                      null,
                      0,
                      null
                    ],
                    [
                      15,
                      15,
                      0,
                      null,
                      21
                    ],
                    [
                      28,
                      55,
                      null,
                      14,
                      74
                    ],
                    [
                      88,
                      153,
                      11,
                      52,
                      200
                    ],
                    [
                      200,
                      286,
                      13,
                      92,
                      407
                    ],
                    [
                      350,
                      400,
                      14,
                      139,
                      624
                    ],
                    [
                      528,
                      474,
                      24,
                      155,
                      870
                    ],
                    [
                      1211,
                      1391,
                      70,
                      461,
                      2209
                    ],
                    [
                      0,
                      0,
                      0,
                      0,
                      0
                    ],
                    [
                      0,
                      null,
                      null,
                      0,
                      null
                    ],
                    [
                      0,
                      null,
                      null,
                      0,
                      null
                    ],
                    [
                      0,
                      null,
                      0,
                      0,
                      null
                    ],
                    [
                      0,
                      0,
                      null,
                      0,
                      null
                    ],
                    [
                      null,
                      null,
                      0,
                      null,
                      null
                    ],
                    [
                      null,
                      null,
                      0,
                      null,
                      12
                    ],
                    [
                      21,
                      21,
                      null,
                      null,
                      34
                    ],
                    [
                      55,
                      72,
                      null,
                      25,
                      105
                    ],
                    [
                      96,
                      117,
                      null,
                      27,
                      195
                    ],
                    [
                      82,
                      135,
                      null,
                      21,
                      205
                    ],
                    [
                      110,
                      151,
                      null,
                      26,
                      243
                    ],
                    [
                      374,
                      511,
                      33,
                      112,
                      806
                    ],
                    [
                      null,
                      null,
                      0,
                      0,
                      null
                    ],
                    [
                      0,
                      0,
                      0,
                      0,
                      0
                    ],
                    [
                      0,
                      null,
                      0,
                      0,
                      null
                    ],
                    [
                      null,
                      null,
                      0,
                      null,
                      null
                    ],
                    [
                      null,
                      null,
                      null,
                      null,
                      null
                    ],
                    [
                      null,
                      null,
                      0,
                      0,
                      null
                    ],
                    [
                      null,
                      14,
                      null,
                      null,
                      18
                    ],
                    [
                      39,
                      46,
                      null,
                      16,
                      73
                    ],
                    [
                      64,
                      87,
                      12,
                      22,
                      141
                    ],
                    [
                      77,
                      117,
                      12,
                      22,
                      184
                    ],
                    [
                      130,
                      188,
                      21,
                      24,
                      315
                    ],
                    [
                      325,
                      464,
                      51,
                      93,
                      747
                    ],
                    [
                      0,
                      0,
                      0,
                      0,
                      0
                    ],
                    [
                      0,
                      0,
                      0,
                      0,
                      0
                    ],
                    [
                      0,
                      null,
                      0,
                      0,
                      null
                    ],
                    [
                      0,
                      0,
                      0,
                      0,
                      0
                    ],
                    [
                      0,
                      null,
                      0,
                      0,
                      null
                    ],
                    [
                      null,
                      null,
                      null,
                      null,
                      null
                    ],
                    [
                      null,
                      null,
                      null,
                      0,
                      10
                    ],
                    [
                      12,
                      13,
                      null,
                      null,
                      23
                    ],
                    [
                      24,
                      50,
                      null,
                      13,
                      70
                    ],
                    [
                      29,
                      92,
                      null,
                      13,
                      117
                    ],
                    [
                      32,
                      97,
                      13,
                      15,
                      127
                    ],
                    [
                      34,
                      136,
                      null,
                      17,
                      160
                    ],
                    [
                      136,
                      401,
                      42,
                      63,
                      516
                    ],
                    [
                      0,
                      0,
                      0,
                      0,
                      0
                    ],
                    [
                      0,
                      0,
                      0,
                      0,
                      0
                    ],
                    [
                      0,
                      null,
                      0,
                      0,
                      null
                    ],
                    [
                      0,
                      null,
                      0,
                      0,
                      null
                    ],
                    [
                      null,
                      null,
                      null,
                      0,
                      null
                    ],
                    [
                      null,
                      null,
                      0,
                      null,
                      null
                    ],
                    [
                      null,
                      null,
                      null,
                      null,
                      14
                    ],
                    [
                      15,
                      35,
                      null,
                      null,
                      53
                    ],
                    [
                      16,
                      67,
                      null,
                      null,
                      86
                    ],
                    [
                      22,
                      81,
                      15,
                      12,
                      106
                    ],
                    [
                      57,
                      158,
                      13,
                      23,
                      205
                    ],
                    [
                      117,
                      359,
                      47,
                      46,
                      477
                    ],
                    [
                      0,
                      0,
                      0,
                      0,
                      0
                    ],
                    [
                      0,
                      0,
                      0,
                      0,
                      0
                    ],
                    [
                      0,
                      0,
                      0,
                      0,
                      0
                    ],
                    [
                      0,
                      0,
                      0,
                      0,
                      0
                    ],
                    [
                      0,
                      null,
                      0,
                      0,
                      null
                    ],
                    [
                      null,
                      null,
                      null,
                      null,
                      10
                    ],
                    [
                      null,
                      26,
                      null,
                      null,
                      31
                    ],
                    [
                      13,
                      49,
                      null,
                      null,
                      60
                    ],
                    [
                      31,
                      147,
                      null,
                      15,
                      171
                    ],
                    [
                      77,
                      241,
                      12,
                      43,
                      287
                    ],
                    [
                      57,
                      276,
                      11,
                      32,
                      312
                    ],
                    [
                      56,
                      205,
                      11,
                      28,
                      244
                    ],
                    [
                      245,
                      955,
                      49,
                      131,
                      1118
                    ],
                    [
                      0,
                      0,
                      0,
                      0,
                      0
                    ],
                    [
                      0,
                      0,
                      0,
                      0,
                      0
                    ],
                    [
                      0,
                      0,
                      0,
                      0,
                      0
                    ],
                    [
                      0,
                      0,
                      null,
                      0,
                      null
                    ],
                    [
                      0,
                      null,
                      null,
                      0,
                      null
                    ],
                    [
                      0,
                      15,
                      null,
                      0,
                      16
                    ],
                    [
                      null,
                      39,
                      null,
                      null,
                      45
                    ],
                    [
                      25,
                      99,
                      12,
                      15,
                      120
                    ],
                    [
                      44,
                      183,
                      12,
                      27,
                      212
                    ],
                    [
                      73,
                      242,
                      null,
                      37,
                      283
                    ],
                    [
                      138,
                      279,
                      12,
                      54,
                      375
                    ],
                    [
                      286,
                      861,
                      49,
                      138,
                      1057
                    ],
                    [
                      0,
                      0,
                      0,
                      0,
                      0
                    ],
                    [
                      0,
                      0,
                      0,
                      0,
                      0
                    ],
                    [
                      0,
                      0,
                      0,
                      0,
                      0
                    ],
                    [
                      null,
                      null,
                      0,
                      0,
                      null
                    ],
                    [
                      null,
                      null,
                      0,
                      0,
                      null
                    ],
                    [
                      10,
                      16,
                      null,
                      null,
                      21
                    ],
                    [
                      33,
                      30,
                      null,
                      18,
                      46
                    ],
                    [
                      97,
                      47,
                      null,
                      35,
                      114
                    ],
                    [
                      220,
                      169,
                      null,
                      101,
                      291
                    ],
                    [
                      370,
                      303,
                      11,
                      174,
                      508
                    ],
                    [
                      419,
                      323,
                      null,
                      200,
                      549
                    ],
                    [
                      276,
                      245,
                      null,
                      135,
                      390
                    ],
                    [
                      1429,
                      1137,
                      33,
                      669,
                      1927
                    ],
                    [
                      null,
                      null,
                      0,
                      0,
                      null
                    ],
                    [
                      0,
                      0,
                      0,
                      0,
                      0
                    ],
                    [
                      0,
                      null,
                      0,
                      0,
                      null
                    ],
                    [
                      null,
                      null,
                      null,
                      null,
                      null
                    ],
                    [
                      12,
                      11,
                      0,
                      null,
                      17
                    ],
                    [
                      30,
                      21,
                      null,
                      15,
                      37
                    ],
                    [
                      52,
                      36,
                      null,
                      20,
                      77
                    ],
                    [
                      158,
                      139,
                      null,
                      79,
                      220
                    ],
                    [
                      234,
                      190,
                      null,
                      108,
                      323
                    ],
                    [
                      364,
                      275,
                      null,
                      165,
                      482
                    ],
                    [
                      419,
                      323,
                      null,
                      194,
                      556
                    ],
                    [
                      1272,
                      1002,
                      38,
                      589,
                      1721
                    ],
                    [
                      0,
                      0,
                      0,
                      0,
                      0
                    ],
                    [
                      0,
                      0,
                      0,
                      0,
                      0
                    ],
                    [
                      0,
                      0,
                      0,
                      0,
                      0
                    ],
                    [
                      0,
                      0,
                      0,
                      0,
                      0
                    ],
                    [
                      0,
                      0,
                      0,
                      0,
                      0
                    ],
                    [
                      0,
                      null,
                      0,
                      0,
                      null
                    ],
                    [
                      null,
                      null,
                      null,
                      null,
                      null
                    ],
                    [
                      null,
                      null,
                      null,
                      null,
                      null
                    ],
                    [
                      null,
                      22,
                      null,
                      0,
                      33
                    ],
                    [
                      14,
                      61,
                      null,
                      null,
                      72
                    ],
                    [
                      14,
                      70,
                      null,
                      null,
                      85
                    ],
                    [
                      16,
                      89,
                      null,
                      null,
                      103
                    ],
                    [
                      53,
                      251,
                      16,
                      14,
                      306
                    ],
                    [
                      0,
                      0,
                      0,
                      0,
                      0
                    ],
                    [
                      0,
                      0,
                      null,
                      0,
                      null
                    ],
                    [
                      0,
                      0,
                      0,
                      0,
                      0
                    ],
                    [
                      0,
                      0,
                      0,
                      0,
                      0
                    ],
                    [
                      0,
                      null,
                      0,
                      0,
                      null
                    ],
                    [
                      null,
                      null,
                      0,
                      null,
                      null
                    ],
                    [
                      null,
                      null,
                      0,
                      0,
                      null
                    ],
                    [
                      null,
                      15,
                      0,
                      0,
                      17
                    ],
                    [
                      null,
                      35,
                      null,
                      0,
                      43
                    ],
                    [
                      19,
                      61,
                      null,
                      null,
                      77
                    ],
                    [
                      27,
                      89,
                      null,
                      null,
                      120
                    ],
                    [
                      56,
                      213,
                      15,
                      12,
                      272
                    ],
                    [
                      0,
                      0,
                      0,
                      0,
                      0
                    ],
                    [
                      0,
                      null,
                      0,
                      0,
                      null
                    ],
                    [
                      0,
                      0,
                      0,
                      0,
                      0
                    ],
                    [
                      0,
                      0,
                      null,
                      0,
                      null
                    ],
                    [
                      null,
                      null,
                      0,
                      0,
                      null
                    ],
                    [
                      24,
                      17,
                      null,
                      10,
                      33
                    ],
                    [
                      53,
                      36,
                      null,
                      21,
                      70
                    ],
                    [
                      98,
                      71,
                      null,
                      38,
                      134
                    ],
                    [
                      259,
                      202,
                      12,
                      100,
                      371
                    ],
                    [
                      347,
                      308,
                      null,
                      144,
                      519
                    ],
                    [
                      487,
                      426,
                      13,
                      194,
                      732
                    ],
                    [
                      415,
                      376,
                      17,
                      147,
                      657
                    ],
                    [
                      1686,
                      1439,
                      59,
                      654,
                      2523
                    ],
                    [
                      0,
                      0,
                      0,
                      0,
                      0
                    ],
                    [
                      0,
                      null,
                      0,
                      0,
                      null
                    ],
                    [
                      0,
                      null,
                      0,
                      0,
                      null
                    ],
                    [
                      null,
                      null,
                      0,
                      null,
                      null
                    ],
                    [
                      null,
                      10,
                      null,
                      null,
                      15
                    ],
                    [
                      16,
                      14,
                      0,
                      null,
                      29
                    ],
                    [
                      56,
                      50,
                      null,
                      22,
                      86
                    ],
                    [
                      143,
                      133,
                      13,
                      55,
                      233
                    ],
                    [
                      290,
                      270,
                      15,
                      131,
                      443
                    ],
                    [
                      429,
                      347,
                      18,
                      164,
                      627
                    ],
                    [
                      678,
                      525,
                      16,
                      207,
                      1008
                    ],
                    [
                      1622,
                      1354,
                      66,
                      585,
                      2448
                    ],
                    [
                      0,
                      0,
                      0,
                      0,
                      0
                    ],
                    [
                      0,
                      null,
                      0,
                      0,
                      null
                    ],
                    [
                      0,
                      0,
                      0,
                      0,
                      0
                    ],
                    [
                      0,
                      0,
                      0,
                      0,
                      0
                    ],
                    [
                      null,
                      null,
                      0,
                      null,
                      null
                    ],
                    [
                      10,
                      null,
                      null,
                      null,
                      15
                    ],
                    [
                      26,
                      21,
                      null,
                      null,
                      44
                    ],
                    [
                      82,
                      57,
                      null,
                      33,
                      110
                    ],
                    [
                      309,
                      253,
                      17,
                      147,
                      431
                    ],
                    [
                      672,
                      498,
                      18,
                      270,
                      918
                    ],
                    [
                      1059,
                      726,
                      25,
                      416,
                      1394
                    ],
                    [
                      1266,
                      835,
                      20,
                      483,
                      1636
                    ],
                    [
                      3428,
                      2401,
                      89,
                      1362,
                      4553
                    ],
                    [
                      0,
                      0,
                      0,
                      0,
                      0
                    ],
                    [
                      0,
                      0,
                      0,
                      0,
                      0
                    ],
                    [
                      0,
                      null,
                      0,
                      0,
                      null
                    ],
                    [
                      null,
                      null,
                      null,
                      null,
                      null
                    ],
                    [
                      null,
                      null,
                      null,
                      null,
                      13
                    ],
                    [
                      12,
                      10,
                      0,
                      null,
                      17
                    ],
                    [
                      58,
                      32,
                      null,
                      17,
                      75
                    ],
                    [
                      176,
                      137,
                      null,
                      80,
                      239
                    ],
                    [
                      443,
                      309,
                      10,
                      184,
                      578
                    ],
                    [
                      957,
                      601,
                      19,
                      353,
                      1224
                    ],
                    [
                      2200,
                      1122,
                      30,
                      637,
                      2713
                    ],
                    [
                      3854,
                      2221,
                      72,
                      1280,
                      4862
                    ],
                    [
                      0,
                      0,
                      0,
                      0,
                      0
                    ],
                    [
                      0,
                      null,
                      0,
                      0,
                      null
                    ],
                    [
                      0,
                      0,
                      null,
                      0,
                      null
                    ],
                    [
                      0,
                      0,
                      0,
                      0,
                      0
                    ],
                    [
                      null,
                      null,
                      0,
                      null,
                      null
                    ],
                    [
                      25,
                      21,
                      null,
                      null,
                      40
                    ],
                    [
                      54,
                      43,
                      null,
                      25,
                      77
                    ],
                    [
                      187,
                      145,
                      12,
                      91,
                      253
                    ],
                    [
                      389,
                      378,
                      18,
                      197,
                      588
                    ],
                    [
                      731,
                      709,
                      36,
                      377,
                      1098
                    ],
                    [
                      772,
                      812,
                      22,
                      398,
                      1205
                    ],
                    [
                      586,
                      638,
                      18,
                      297,
                      945
                    ],
                    [
                      2746,
                      2757,
                      115,
                      1396,
                      4218
                    ],
                    [
                      0,
                      0,
                      0,
                      0,
                      0
                    ],
                    [
                      0,
                      0,
                      null,
                      0,
                      null
                    ],
                    [
                      null,
                      null,
                      null,
                      0,
                      null
                    ],
                    [
                      null,
                      null,
                      null,
                      null,
                      null
                    ],
                    [
                      11,
                      10,
                      null,
                      null,
                      19
                    ],
                    [
                      27,
                      28,
                      null,
                      13,
                      44
                    ],
                    [
                      107,
                      99,
                      10,
                      58,
                      158
                    ],
                    [
                      255,
                      259,
                      25,
                      134,
                      405
                    ],
                    [
                      523,
                      515,
                      30,
                      276,
                      792
                    ],
                    [
                      625,
                      613,
                      29,
                      303,
                      963
                    ],
                    [
                      969,
                      885,
                      23,
                      415,
                      1462
                    ],
                    [
                      2522,
                      2415,
                      125,
                      1205,
                      3856
                    ],
                    [
                      null,
                      null,
                      0,
                      null,
                      null
                    ],
                    [
                      0,
                      0,
                      0,
                      0,
                      0
                    ],
                    [
                      0,
                      null,
                      0,
                      0,
                      null
                    ],
                    [
                      0,
                      null,
                      0,
                      0,
                      null
                    ],
                    [
                      0,
                      null,
                      0,
                      0,
                      null
                    ],
                    [
                      null,
                      null,
                      null,
                      null,
                      null
                    ],
                    [
                      null,
                      null,
                      null,
                      0,
                      16
                    ],
                    [
                      20,
                      40,
                      null,
                      null,
                      57
                    ],
                    [
                      67,
                      90,
                      null,
                      28,
                      138
                    ],
                    [
                      125,
                      166,
                      15,
                      48,
                      257
                    ],
                    [
                      193,
                      240,
                      14,
                      52,
                      395
                    ],
                    [
                      242,
                      258,
                      12,
                      57,
                      455
                    ],
                    [
                      655,
                      813,
                      59,
                      194,
                      1332
                    ],
                    [
                      0,
                      null,
                      0,
                      0,
                      null
                    ],
                    [
                      0,
                      0,
                      0,
                      0,
                      0
                    ],
                    [
                      0,
                      null,
                      0,
                      0,
                      null
                    ],
                    [
                      0,
                      null,
                      0,
                      0,
                      null
                    ],
                    [
                      null,
                      null,
                      null,
                      null,
                      null
                    ],
                    [
                      null,
                      null,
                      null,
                      null,
                      12
                    ],
                    [
                      10,
                      20,
                      null,
                      null,
                      33
                    ],
                    [
                      33,
                      63,
                      14,
                      null,
                      101
                    ],
                    [
                      88,
                      123,
                      13,
                      35,
                      189
                    ],
                    [
                      179,
                      192,
                      11,
                      50,
                      332
                    ],
                    [
                      379,
                      357,
                      16,
                      89,
                      663
                    ],
                    [
                      694,
                      772,
                      62,
                      187,
                      1341
                    ],
                    [
                      0,
                      0,
                      0,
                      0,
                      0
                    ],
                    [
                      0,
                      0,
                      0,
                      0,
                      0
                    ],
                    [
                      0,
                      0,
                      0,
                      0,
                      0
                    ],
                    [
                      0,
                      null,
                      0,
                      0,
                      null
                    ],
                    [
                      null,
                      null,
                      0,
                      null,
                      null
                    ],
                    [
                      null,
                      null,
                      null,
                      null,
                      10
                    ],
                    [
                      12,
                      24,
                      null,
                      null,
                      31
                    ],
                    [
                      35,
                      41,
                      null,
                      16,
                      63
                    ],
                    [
                      74,
                      152,
                      null,
                      37,
                      195
                    ],
                    [
                      120,
                      202,
                      null,
                      58,
                      272
                    ],
                    [
                      132,
                      186,
                      null,
                      58,
                      267
                    ],
                    [
                      74,
                      133,
                      null,
                      32,
                      176
                    ],
                    [
                      453,
                      750,
                      28,
                      211,
                      1020
                    ],
                    [
                      0,
                      0,
                      0,
                      0,
                      0
                    ],
                    [
                      0,
                      0,
                      0,
                      0,
                      0
                    ],
                    [
                      0,
                      0,
                      null,
                      0,
                      null
                    ],
                    [
                      0,
                      0,
                      0,
                      0,
                      0
                    ],
                    [
                      null,
                      null,
                      null,
                      null,
                      null
                    ],
                    [
                      15,
                      15,
                      null,
                      null,
                      28
                    ],
                    [
                      30,
                      49,
                      null,
                      18,
                      63
                    ],
                    [
                      68,
                      100,
                      null,
                      37,
                      138
                    ],
                    [
                      103,
                      165,
                      null,
                      54,
                      215
                    ],
                    [
                      126,
                      185,
                      null,
                      56,
                      260
                    ],
                    [
                      153,
                      215,
                      null,
                      64,
                      307
                    ],
                    [
                      499,
                      736,
                      23,
                      237,
                      1021
                    ],
                    [
                      null,
                      null,
                      0,
                      null,
                      null
                    ],
                    [
                      0,
                      null,
                      0,
                      0,
                      null
                    ],
                    [
                      0,
                      0,
                      null,
                      0,
                      null
                    ],
                    [
                      0,
                      null,
                      0,
                      0,
                      null
                    ],
                    [
                      0,
                      null,
                      null,
                      0,
                      null
                    ],
                    [
                      null,
                      null,
                      null,
                      0,
                      14
                    ],
                    [
                      null,
                      13,
                      null,
                      0,
                      18
                    ],
                    [
                      19,
                      46,
                      null,
                      null,
                      65
                    ],
                    [
                      57,
                      129,
                      18,
                      14,
                      190
                    ],
                    [
                      106,
                      226,
                      14,
                      43,
                      303
                    ],
                    [
                      135,
                      263,
                      20,
                      48,
                      370
                    ],
                    [
                      114,
                      238,
                      14,
                      43,
                      323
                    ],
                    [
                      436,
                      929,
                      86,
                      157,
                      1294
                    ],
                    [
                      0,
                      null,
                      0,
                      0,
                      null
                    ],
                    [
                      0,
                      null,
                      0,
                      0,
                      null
                    ],
                    [
                      0,
                      0,
                      null,
                      0,
                      null
                    ],
                    [
                      null,
                      null,
                      null,
                      0,
                      null
                    ],
                    [
                      null,
                      null,
                      null,
                      null,
                      null
                    ],
                    [
                      null,
                      14,
                      null,
                      null,
                      21
                    ],
                    [
                      null,
                      27,
                      null,
                      null,
                      37
                    ],
                    [
                      34,
                      76,
                      10,
                      11,
                      109
                    ],
                    [
                      70,
                      153,
                      17,
                      17,
                      223
                    ],
                    [
                      106,
                      220,
                      32,
                      37,
                      321
                    ],
                    [
                      225,
                      296,
                      20,
                      69,
                      472
                    ],
                    [
                      453,
                      792,
                      90,
                      140,
                      1195
                    ],
                    [
                      0,
                      0,
                      0,
                      0,
                      0
                    ],
                    [
                      0,
                      0,
                      0,
                      0,
                      0
                    ],
                    [
                      0,
                      0,
                      0,
                      0,
                      0
                    ],
                    [
                      0,
                      0,
                      0,
                      0,
                      0
                    ],
                    [
                      0,
                      0,
                      0,
                      0,
                      0
                    ],
                    [
                      0,
                      0,
                      0,
                      0,
                      0
                    ],
                    [
                      0,
                      null,
                      null,
                      0,
                      null
                    ],
                    [
                      null,
                      null,
                      null,
                      0,
                      null
                    ],
                    [
                      null,
                      11,
                      null,
                      null,
                      14
                    ],
                    [
                      null,
                      29,
                      null,
                      0,
                      33
                    ],
                    [
                      null,
                      35,
                      null,
                      null,
                      43
                    ],
                    [
                      null,
                      43,
                      null,
                      0,
                      49
                    ],
                    [
                      11,
                      127,
                      17,
                      null,
                      152
                    ],
                    [
                      0,
                      0,
                      0,
                      0,
                      0
                    ],
                    [
                      0,
                      0,
                      0,
                      0,
                      0
                    ],
                    [
                      0,
                      0,
                      0,
                      0,
                      0
                    ],
                    [
                      0,
                      0,
                      0,
                      0,
                      0
                    ],
                    [
                      null,
                      null,
                      0,
                      0,
                      null
                    ],
                    [
                      0,
                      null,
                      0,
                      0,
                      null
                    ],
                    [
                      0,
                      0,
                      0,
                      0,
                      0
                    ],
                    [
                      0,
                      null,
                      null,
                      0,
                      null
                    ],
                    [
                      null,
                      26,
                      null,
                      0,
                      34
                    ],
                    [
                      null,
                      24,
                      null,
                      null,
                      28
                    ],
                    [
                      null,
                      33,
                      null,
                      0,
                      42
                    ],
                    [
                      null,
                      91,
                      17,
                      null,
                      116
                    ],
                    [
                      0,
                      0,
                      0,
                      0,
                      0
                    ],
                    [
                      0,
                      0,
                      0,
                      0,
                      0
                    ],
                    [
                      0,
                      0,
                      0,
                      0,
                      0
                    ],
                    [
                      0,
                      0,
                      0,
                      0,
                      0
                    ],
                    [
                      0,
                      null,
                      0,
                      0,
                      null
                    ],
                    [
                      null,
                      null,
                      null,
                      null,
                      null
                    ],
                    [
                      null,
                      null,
                      0,
                      null,
                      null
                    ],
                    [
                      13,
                      14,
                      null,
                      null,
                      24
                    ],
                    [
                      20,
                      41,
                      null,
                      null,
                      58
                    ],
                    [
                      34,
                      54,
                      null,
                      13,
                      78
                    ],
                    [
                      30,
                      65,
                      null,
                      14,
                      82
                    ],
                    [
                      23,
                      80,
                      null,
                      null,
                      97
                    ],
                    [
                      126,
                      264,
                      11,
                      48,
                      353
                    ],
                    [
                      0,
                      0,
                      0,
                      0,
                      0
                    ],
                    [
                      0,
                      0,
                      null,
                      0,
                      null
                    ],
                    [
                      0,
                      null,
                      null,
                      0,
                      null
                    ],
                    [
                      0,
                      0,
                      0,
                      0,
                      0
                    ],
                    [
                      null,
                      null,
                      0,
                      0,
                      null
                    ],
                    [
                      null,
                      null,
                      0,
                      null,
                      null
                    ],
                    [
                      null,
                      14,
                      0,
                      null,
                      15
                    ],
                    [
                      18,
                      29,
                      null,
                      null,
                      43
                    ],
                    [
                      22,
                      40,
                      null,
                      null,
                      59
                    ],
                    [
                      25,
                      66,
                      null,
                      null,
                      83
                    ],
                    [
                      42,
                      119,
                      null,
                      15,
                      154
                    ],
                    [
                      115,
                      278,
                      17,
                      42,
                      368
                    ],
                    [
                      0,
                      0,
                      0,
                      0,
                      0
                    ],
                    [
                      0,
                      null,
                      0,
                      0,
                      null
                    ],
                    [
                      0,
                      null,
                      0,
                      0,
                      null
                    ],
                    [
                      0,
                      null,
                      0,
                      0,
                      null
                    ],
                    [
                      null,
                      null,
                      0,
                      0,
                      null
                    ],
                    [
                      0,
                      null,
                      0,
                      0,
                      null
                    ],
                    [
                      10,
                      14,
                      0,
                      null,
                      19
                    ],
                    [
                      24,
                      44,
                      null,
                      17,
                      53
                    ],
                    [
                      42,
                      96,
                      null,
                      31,
                      112
                    ],
                    [
                      85,
                      167,
                      null,
                      64,
                      194
                    ],
                    [
                      73,
                      154,
                      null,
                      50,
                      185
                    ],
                    [
                      37,
                      98,
                      null,
                      30,
                      106
                    ],
                    [
                      272,
                      584,
                      22,
                      197,
                      681
                    ],
                    [
                      0,
                      0,
                      0,
                      0,
                      0
                    ],
                    [
                      0,
                      0,
                      0,
                      0,
                      0
                    ],
                    [
                      0,
                      0,
                      0,
                      0,
                      0
                    ],
                    [
                      0,
                      null,
                      0,
                      0,
                      null
                    ],
                    [
                      null,
                      null,
                      null,
                      null,
                      null
                    ],
                    [
                      null,
                      null,
                      null,
                      null,
                      10
                    ],
                    [
                      12,
                      25,
                      null,
                      null,
                      34
                    ],
                    [
                      24,
                      62,
                      null,
                      18,
                      71
                    ],
                    [
                      45,
                      118,
                      null,
                      36,
                      130
                    ],
                    [
                      65,
                      136,
                      null,
                      50,
                      154
                    ],
                    [
                      38,
                      92,
                      null,
                      27,
                      105
                    ],
                    [
                      191,
                      448,
                      18,
                      143,
                      514
                    ],
                    [
                      0,
                      0,
                      0,
                      0,
                      0
                    ],
                    [
                      0,
                      0,
                      0,
                      0,
                      0
                    ],
                    [
                      0,
                      0,
                      0,
                      0,
                      0
                    ],
                    [
                      0,
                      null,
                      0,
                      0,
                      null
                    ],
                    [
                      null,
                      0,
                      0,
                      0,
                      null
                    ],
                    [
                      0,
                      0,
                      0,
                      0,
                      0
                    ],
                    [
                      0,
                      null,
                      0,
                      0,
                      null
                    ],
                    [
                      null,
                      10,
                      null,
                      null,
                      15
                    ],
                    [
                      14,
                      22,
                      0,
                      null,
                      32
                    ],
                    [
                      30,
                      52,
                      null,
                      16,
                      69
                    ],
                    [
                      57,
                      64,
                      null,
                      22,
                      104
                    ],
                    [
                      68,
                      66,
                      null,
                      19,
                      117
                    ],
                    [
                      178,
                      218,
                      12,
                      65,
                      342
                    ],
                    [
                      0,
                      0,
                      0,
                      0,
                      0
                    ],
                    [
                      0,
                      0,
                      0,
                      0,
                      0
                    ],
                    [
                      0,
                      0,
                      0,
                      0,
                      0
                    ],
                    [
                      0,
                      0,
                      0,
                      0,
                      0
                    ],
                    [
                      0,
                      0,
                      0,
                      0,
                      0
                    ],
                    [
                      0,
                      0,
                      0,
                      0,
                      0
                    ],
                    [
                      null,
                      null,
                      0,
                      0,
                      null
                    ],
                    [
                      null,
                      12,
                      null,
                      null,
                      18
                    ],
                    [
                      20,
                      37,
                      null,
                      null,
                      57
                    ],
                    [
                      43,
                      54,
                      null,
                      null,
                      90
                    ],
                    [
                      100,
                      75,
                      null,
                      16,
                      165
                    ],
                    [
                      168,
                      181,
                      18,
                      33,
                      334
                    ],
                    [
                      0,
                      0,
                      0,
                      0,
                      0
                    ],
                    [
                      0,
                      null,
                      0,
                      0,
                      null
                    ],
                    [
                      0,
                      0,
                      0,
                      0,
                      0
                    ],
                    [
                      0,
                      0,
                      0,
                      0,
                      0
                    ],
                    [
                      11,
                      null,
                      0,
                      null,
                      11
                    ],
                    [
                      67,
                      38,
                      null,
                      33,
                      74
                    ],
                    [
                      186,
                      114,
                      null,
                      88,
                      214
                    ],
                    [
                      508,
                      301,
                      null,
                      250,
                      567
                    ],
                    [
                      1129,
                      739,
                      null,
                      586,
                      1289
                    ],
                    [
                      1577,
                      1082,
                      12,
                      814,
                      1856
                    ],
                    [
                      1792,
                      1266,
                      20,
                      928,
                      2147
                    ],
                    [
                      1663,
                      1249,
                      18,
                      818,
                      2112
                    ],
                    [
                      6933,
                      4791,
                      71,
                      3518,
                      8271
                    ],
                    [
                      0,
                      null,
                      null,
                      0,
                      null
                    ],
                    [
                      null,
                      0,
                      0,
                      0,
                      null
                    ],
                    [
                      0,
                      null,
                      0,
                      0,
                      null
                    ],
                    [
                      null,
                      null,
                      0,
                      null,
                      null
                    ],
                    [
                      30,
                      21,
                      null,
                      15,
                      38
                    ],
                    [
                      61,
                      38,
                      null,
                      28,
                      72
                    ],
                    [
                      173,
                      116,
                      null,
                      80,
                      210
                    ],
                    [
                      527,
                      356,
                      null,
                      264,
                      623
                    ],
                    [
                      939,
                      640,
                      null,
                      476,
                      1106
                    ],
                    [
                      1591,
                      1093,
                      12,
                      795,
                      1900
                    ],
                    [
                      2770,
                      1753,
                      22,
                      1203,
                      3339
                    ],
                    [
                      6095,
                      4022,
                      50,
                      2862,
                      7297
                    ],
                    [
                      0,
                      0,
                      0,
                      0,
                      0
                    ],
                    [
                      0,
                      0,
                      0,
                      0,
                      0
                    ],
                    [
                      0,
                      0,
                      0,
                      0,
                      0
                    ],
                    [
                      0,
                      0,
                      null,
                      0,
                      null
                    ],
                    [
                      null,
                      null,
                      0,
                      null,
                      null
                    ],
                    [
                      11,
                      13,
                      0,
                      null,
                      17
                    ],
                    [
                      13,
                      16,
                      null,
                      null,
                      22
                    ],
                    [
                      20,
                      26,
                      null,
                      11,
                      39
                    ],
                    [
                      26,
                      42,
                      null,
                      11,
                      58
                    ],
                    [
                      45,
                      64,
                      null,
                      22,
                      90
                    ],
                    [
                      36,
                      85,
                      null,
                      11,
                      114
                    ],
                    [
                      57,
                      75,
                      null,
                      15,
                      118
                    ],
                    [
                      209,
                      323,
                      16,
                      87,
                      461
                    ],
                    [
                      0,
                      0,
                      0,
                      0,
                      0
                    ],
                    [
                      0,
                      0,
                      null,
                      0,
                      null
                    ],
                    [
                      0,
                      0,
                      0,
                      0,
                      0
                    ],
                    [
                      0,
                      0,
                      null,
                      0,
                      null
                    ],
                    [
                      null,
                      null,
                      0,
                      0,
                      null
                    ],
                    [
                      null,
                      null,
                      null,
                      null,
                      13
                    ],
                    [
                      12,
                      14,
                      null,
                      null,
                      22
                    ],
                    [
                      26,
                      43,
                      null,
                      14,
                      58
                    ],
                    [
                      24,
                      63,
                      null,
                      13,
                      76
                    ],
                    [
                      56,
                      84,
                      null,
                      26,
                      115
                    ],
                    [
                      77,
                      87,
                      null,
                      22,
                      144
                    ],
                    [
                      205,
                      303,
                      13,
                      85,
                      436
                    ],
                    [
                      0,
                      0,
                      0,
                      0,
                      0
                    ],
                    [
                      0,
                      0,
                      0,
                      0,
                      0
                    ],
                    [
                      0,
                      0,
                      null,
                      0,
                      null
                    ],
                    [
                      null,
                      null,
                      0,
                      null,
                      null
                    ],
                    [
                      null,
                      10,
                      0,
                      null,
                      13
                    ],
                    [
                      38,
                      26,
                      null,
                      17,
                      49
                    ],
                    [
                      110,
                      68,
                      null,
                      47,
                      133
                    ],
                    [
                      338,
                      240,
                      null,
                      177,
                      406
                    ],
                    [
                      834,
                      646,
                      17,
                      423,
                      1073
                    ],
                    [
                      1337,
                      1067,
                      26,
                      669,
                      1758
                    ],
                    [
                      1458,
                      1279,
                      26,
                      754,
                      2007
                    ],
                    [
                      1400,
                      1405,
                      29,
                      698,
                      2133
                    ],
                    [
                      5525,
                      4743,
                      109,
                      2791,
                      7577
                    ],
                    [
                      0,
                      null,
                      0,
                      0,
                      null
                    ],
                    [
                      0,
                      0,
                      null,
                      0,
                      null
                    ],
                    [
                      0,
                      0,
                      null,
                      0,
                      null
                    ],
                    [
                      null,
                      null,
                      null,
                      0,
                      null
                    ],
                    [
                      19,
                      16,
                      0,
                      10,
                      25
                    ],
                    [
                      48,
                      36,
                      null,
                      27,
                      59
                    ],
                    [
                      115,
                      90,
                      null,
                      52,
                      155
                    ],
                    [
                      406,
                      357,
                      13,
                      212,
                      563
                    ],
                    [
                      747,
                      664,
                      12,
                      388,
                      1035
                    ],
                    [
                      1233,
                      1040,
                      19,
                      607,
                      1685
                    ],
                    [
                      2395,
                      1889,
                      43,
                      1032,
                      3289
                    ],
                    [
                      4965,
                      4097,
                      98,
                      2328,
                      6824
                    ],
                    [
                      0,
                      0,
                      0,
                      0,
                      0
                    ],
                    [
                      null,
                      null,
                      null,
                      0,
                      null
                    ],
                    [
                      null,
                      null,
                      0,
                      null,
                      null
                    ],
                    [
                      null,
                      0,
                      null,
                      0,
                      null
                    ],
                    [
                      22,
                      null,
                      null,
                      null,
                      24
                    ],
                    [
                      106,
                      50,
                      null,
                      39,
                      117
                    ],
                    [
                      365,
                      140,
                      23,
                      113,
                      398
                    ],
                    [
                      915,
                      419,
                      69,
                      335,
                      1003
                    ],
                    [
                      2045,
                      967,
                      146,
                      762,
                      2263
                    ],
                    [
                      3023,
                      1473,
                      138,
                      1177,
                      3324
                    ],
                    [
                      2881,
                      1517,
                      104,
                      1156,
                      3251
                    ],
                    [
                      1953,
                      1133,
                      75,
                      784,
                      2316
                    ],
                    [
                      11317,
                      5711,
                      568,
                      4374,
                      12708
                    ],
                    [
                      null,
                      0,
                      0,
                      0,
                      null
                    ],
                    [
                      null,
                      null,
                      0,
                      null,
                      null
                    ],
                    [
                      null,
                      null,
                      0,
                      0,
                      null
                    ],
                    [
                      null,
                      null,
                      null,
                      null,
                      12
                    ],
                    [
                      51,
                      22,
                      null,
                      15,
                      59
                    ],
                    [
                      108,
                      51,
                      null,
                      34,
                      126
                    ],
                    [
                      362,
                      171,
                      33,
                      133,
                      404
                    ],
                    [
                      968,
                      496,
                      67,
                      395,
                      1081
                    ],
                    [
                      1647,
                      849,
                      87,
                      636,
                      1874
                    ],
                    [
                      2121,
                      1166,
                      89,
                      852,
                      2453
                    ],
                    [
                      2560,
                      1427,
                      89,
                      965,
                      3046
                    ],
                    [
                      7829,
                      4192,
                      377,
                      3035,
                      9060
                    ],
                    [
                      0,
                      0,
                      0,
                      0,
                      0
                    ],
                    [
                      0,
                      null,
                      null,
                      0,
                      null
                    ],
                    [
                      0,
                      null,
                      null,
                      0,
                      null
                    ],
                    [
                      0,
                      0,
                      0,
                      0,
                      0
                    ],
                    [
                      null,
                      null,
                      null,
                      null,
                      null
                    ],
                    [
                      null,
                      12,
                      0,
                      null,
                      15
                    ],
                    [
                      14,
                      19,
                      null,
                      null,
                      32
                    ],
                    [
                      30,
                      54,
                      null,
                      13,
                      79
                    ],
                    [
                      50,
                      144,
                      32,
                      15,
                      211
                    ],
                    [
                      103,
                      295,
                      22,
                      41,
                      378
                    ],
                    [
                      141,
                      351,
                      17,
                      57,
                      452
                    ],
                    [
                      117,
                      292,
                      18,
                      50,
                      376
                    ],
                    [
                      462,
                      1171,
                      106,
                      184,
                      1553
                    ],
                    [
                      0,
                      null,
                      0,
                      0,
                      null
                    ],
                    [
                      0,
                      0,
                      null,
                      0,
                      null
                    ],
                    [
                      0,
                      null,
                      null,
                      0,
                      null
                    ],
                    [
                      0,
                      null,
                      null,
                      0,
                      null
                    ],
                    [
                      null,
                      null,
                      null,
                      0,
                      10
                    ],
                    [
                      null,
                      16,
                      null,
                      null,
                      23
                    ],
                    [
                      12,
                      35,
                      11,
                      null,
                      53
                    ],
                    [
                      34,
                      117,
                      20,
                      14,
                      157
                    ],
                    [
                      76,
                      198,
                      30,
                      26,
                      278
                    ],
                    [
                      127,
                      300,
                      20,
                      49,
                      398
                    ],
                    [
                      162,
                      384,
                      26,
                      52,
                      520
                    ],
                    [
                      417,
                      1058,
                      119,
                      147,
                      1447
                    ],
                    [
                      0,
                      0,
                      0,
                      0,
                      0
                    ],
                    [
                      0,
                      0,
                      0,
                      0,
                      0
                    ],
                    [
                      0,
                      0,
                      0,
                      0,
                      0
                    ],
                    [
                      0,
                      0,
                      0,
                      0,
                      0
                    ],
                    [
                      0,
                      0,
                      0,
                      0,
                      0
                    ],
                    [
                      0,
                      0,
                      0,
                      0,
                      0
                    ],
                    [
                      null,
                      null,
                      null,
                      null,
                      null
                    ],
                    [
                      null,
                      10,
                      0,
                      0,
                      12
                    ],
                    [
                      null,
                      21,
                      0,
                      null,
                      23
                    ],
                    [
                      null,
                      28,
                      null,
                      null,
                      37
                    ],
                    [
                      null,
                      37,
                      null,
                      null,
                      42
                    ],
                    [
                      15,
                      33,
                      null,
                      null,
                      45
                    ],
                    [
                      44,
                      135,
                      null,
                      20,
                      167
                    ],
                    [
                      0,
                      0,
                      0,
                      0,
                      0
                    ],
                    [
                      0,
                      0,
                      0,
                      0,
                      0
                    ],
                    [
                      0,
                      0,
                      0,
                      0,
                      0
                    ],
                    [
                      0,
                      0,
                      0,
                      0,
                      0
                    ],
                    [
                      0,
                      null,
                      0,
                      0,
                      null
                    ],
                    [
                      0,
                      null,
                      0,
                      0,
                      null
                    ],
                    [
                      0,
                      null,
                      null,
                      0,
                      null
                    ],
                    [
                      null,
                      null,
                      0,
                      0,
                      null
                    ],
                    [
                      null,
                      18,
                      null,
                      null,
                      24
                    ],
                    [
                      12,
                      27,
                      null,
                      null,
                      42
                    ],
                    [
                      14,
                      39,
                      0,
                      null,
                      52
                    ],
                    [
                      31,
                      97,
                      11,
                      null,
                      134
                    ],
                    [
                      0,
                      0,
                      0,
                      0,
                      0
                    ],
                    [
                      0,
                      null,
                      0,
                      0,
                      null
                    ],
                    [
                      0,
                      0,
                      null,
                      0,
                      null
                    ],
                    [
                      0,
                      null,
                      0,
                      0,
                      null
                    ],
                    [
                      null,
                      null,
                      null,
                      0,
                      null
                    ],
                    [
                      null,
                      14,
                      null,
                      null,
                      22
                    ],
                    [
                      20,
                      30,
                      null,
                      null,
                      48
                    ],
                    [
                      47,
                      82,
                      11,
                      25,
                      115
                    ],
                    [
                      160,
                      256,
                      29,
                      73,
                      372
                    ],
                    [
                      301,
                      454,
                      33,
                      125,
                      663
                    ],
                    [
                      353,
                      532,
                      23,
                      165,
                      743
                    ],
                    [
                      347,
                      492,
                      13,
                      138,
                      714
                    ],
                    [
                      1232,
                      1867,
                      121,
                      532,
                      2688
                    ],
                    [
                      0,
                      null,
                      0,
                      0,
                      null
                    ],
                    [
                      0,
                      0,
                      0,
                      0,
                      0
                    ],
                    [
                      0,
                      0,
                      null,
                      0,
                      null
                    ],
                    [
                      0,
                      null,
                      null,
                      0,
                      null
                    ],
                    [
                      null,
                      null,
                      null,
                      0,
                      18
                    ],
                    [
                      null,
                      15,
                      null,
                      null,
                      28
                    ],
                    [
                      19,
                      67,
                      null,
                      10,
                      85
                    ],
                    [
                      77,
                      181,
                      19,
                      36,
                      241
                    ],
                    [
                      155,
                      283,
                      24,
                      64,
                      398
                    ],
                    [
                      339,
                      460,
                      30,
                      129,
                      699
                    ],
                    [
                      505,
                      622,
                      35,
                      199,
                      963
                    ],
                    [
                      1103,
                      1642,
                      136,
                      440,
                      2440
                    ],
                    [
                      0,
                      0,
                      0,
                      0,
                      0
                    ],
                    [
                      0,
                      null,
                      0,
                      0,
                      null
                    ],
                    [
                      0,
                      0,
                      0,
                      0,
                      0
                    ],
                    [
                      0,
                      0,
                      null,
                      0,
                      null
                    ],
                    [
                      null,
                      null,
                      0,
                      null,
                      null
                    ],
                    [
                      null,
                      13,
                      null,
                      null,
                      15
                    ],
                    [
                      null,
                      17,
                      null,
                      null,
                      20
                    ],
                    [
                      null,
                      34,
                      null,
                      null,
                      46
                    ],
                    [
                      26,
                      115,
                      12,
                      null,
                      143
                    ],
                    [
                      50,
                      185,
                      10,
                      12,
                      232
                    ],
                    [
                      51,
                      218,
                      11,
                      18,
                      262
                    ],
                    [
                      52,
                      174,
                      null,
                      25,
                      206
                    ],
                    [
                      194,
                      761,
                      49,
                      71,
                      930
                    ],
                    [
                      0,
                      0,
                      0,
                      0,
                      0
                    ],
                    [
                      0,
                      0,
                      0,
                      0,
                      0
                    ],
                    [
                      0,
                      null,
                      0,
                      0,
                      null
                    ],
                    [
                      0,
                      null,
                      0,
                      0,
                      null
                    ],
                    [
                      null,
                      null,
                      null,
                      null,
                      null
                    ],
                    [
                      null,
                      10,
                      null,
                      0,
                      16
                    ],
                    [
                      null,
                      22,
                      null,
                      0,
                      26
                    ],
                    [
                      22,
                      94,
                      13,
                      null,
                      119
                    ],
                    [
                      46,
                      161,
                      14,
                      21,
                      200
                    ],
                    [
                      42,
                      183,
                      13,
                      17,
                      220
                    ],
                    [
                      63,
                      184,
                      12,
                      25,
                      234
                    ],
                    [
                      178,
                      660,
                      59,
                      72,
                      822
                    ],
                    [
                      0,
                      0,
                      0,
                      0,
                      0
                    ],
                    [
                      0,
                      0,
                      0,
                      0,
                      0
                    ],
                    [
                      0,
                      0,
                      0,
                      0,
                      0
                    ],
                    [
                      0,
                      0,
                      0,
                      0,
                      0
                    ],
                    [
                      0,
                      0,
                      null,
                      0,
                      null
                    ],
                    [
                      null,
                      null,
                      0,
                      0,
                      null
                    ],
                    [
                      null,
                      11,
                      null,
                      null,
                      13
                    ],
                    [
                      null,
                      16,
                      null,
                      null,
                      24
                    ],
                    [
                      16,
                      47,
                      null,
                      null,
                      63
                    ],
                    [
                      32,
                      103,
                      11,
                      13,
                      133
                    ],
                    [
                      26,
                      112,
                      null,
                      10,
                      134
                    ],
                    [
                      30,
                      109,
                      null,
                      null,
                      139
                    ],
                    [
                      112,
                      402,
                      38,
                      39,
                      513
                    ],
                    [
                      0,
                      0,
                      0,
                      0,
                      0
                    ],
                    [
                      0,
                      0,
                      0,
                      0,
                      0
                    ],
                    [
                      0,
                      0,
                      null,
                      0,
                      null
                    ],
                    [
                      0,
                      null,
                      0,
                      0,
                      null
                    ],
                    [
                      null,
                      null,
                      null,
                      0,
                      null
                    ],
                    [
                      null,
                      null,
                      null,
                      null,
                      null
                    ],
                    [
                      null,
                      13,
                      null,
                      0,
                      18
                    ],
                    [
                      null,
                      43,
                      null,
                      null,
                      51
                    ],
                    [
                      20,
                      72,
                      null,
                      13,
                      82
                    ],
                    [
                      22,
                      81,
                      null,
                      null,
                      105
                    ],
                    [
                      38,
                      140,
                      null,
                      12,
                      170
                    ],
                    [
                      90,
                      357,
                      26,
                      34,
                      438
                    ],
                    [
                      0,
                      0,
                      0,
                      0,
                      0
                    ],
                    [
                      0,
                      null,
                      0,
                      0,
                      null
                    ],
                    [
                      0,
                      null,
                      0,
                      0,
                      null
                    ],
                    [
                      0,
                      0,
                      null,
                      0,
                      null
                    ],
                    [
                      null,
                      null,
                      0,
                      0,
                      null
                    ],
                    [
                      16,
                      18,
                      null,
                      null,
                      29
                    ],
                    [
                      34,
                      39,
                      null,
                      16,
                      59
                    ],
                    [
                      146,
                      117,
                      null,
                      64,
                      206
                    ],
                    [
                      374,
                      315,
                      15,
                      155,
                      548
                    ],
                    [
                      707,
                      598,
                      14,
                      285,
                      1034
                    ],
                    [
                      914,
                      825,
                      30,
                      365,
                      1404
                    ],
                    [
                      1066,
                      807,
                      16,
                      387,
                      1501
                    ],
                    [
                      3259,
                      2726,
                      87,
                      1279,
                      4791
                    ],
                    [
                      0,
                      0,
                      0,
                      0,
                      0
                    ],
                    [
                      0,
                      null,
                      0,
                      0,
                      null
                    ],
                    [
                      0,
                      null,
                      0,
                      0,
                      null
                    ],
                    [
                      null,
                      null,
                      0,
                      0,
                      null
                    ],
                    [
                      null,
                      11,
                      null,
                      null,
                      14
                    ],
                    [
                      15,
                      23,
                      null,
                      null,
                      34
                    ],
                    [
                      61,
                      63,
                      null,
                      24,
                      104
                    ],
                    [
                      219,
                      216,
                      22,
                      84,
                      372
                    ],
                    [
                      500,
                      437,
                      11,
                      204,
                      744
                    ],
                    [
                      777,
                      596,
                      36,
                      310,
                      1099
                    ],
                    [
                      1837,
                      1177,
                      35,
                      528,
                      2521
                    ],
                    [
                      3414,
                      2530,
                      113,
                      1159,
                      4897
                    ],
                    [
                      0,
                      0,
                      0,
                      0,
                      0
                    ],
                    [
                      0,
                      0,
                      0,
                      0,
                      0
                    ],
                    [
                      0,
                      0,
                      0,
                      0,
                      0
                    ],
                    [
                      0,
                      null,
                      0,
                      0,
                      null
                    ],
                    [
                      0,
                      0,
                      0,
                      0,
                      0
                    ],
                    [
                      null,
                      null,
                      0,
                      0,
                      null
                    ],
                    [
                      null,
                      null,
                      0,
                      null,
                      null
                    ],
                    [
                      null,
                      null,
                      0,
                      null,
                      11
                    ],
                    [
                      42,
                      26,
                      null,
                      15,
                      54
                    ],
                    [
                      86,
                      61,
                      null,
                      44,
                      105
                    ],
                    [
                      116,
                      88,
                      null,
                      45,
                      162
                    ],
                    [
                      127,
                      81,
                      null,
                      43,
                      169
                    ],
                    [
                      384,
                      268,
                      10,
                      151,
                      511
                    ],
                    [
                      0,
                      0,
                      0,
                      0,
                      0
                    ],
                    [
                      0,
                      null,
                      0,
                      0,
                      null
                    ],
                    [
                      null,
                      0,
                      0,
                      0,
                      null
                    ],
                    [
                      0,
                      0,
                      0,
                      0,
                      0
                    ],
                    [
                      null,
                      0,
                      null,
                      0,
                      null
                    ],
                    [
                      null,
                      0,
                      0,
                      0,
                      null
                    ],
                    [
                      null,
                      null,
                      0,
                      null,
                      null
                    ],
                    [
                      19,
                      20,
                      null,
                      11,
                      29
                    ],
                    [
                      69,
                      49,
                      null,
                      35,
                      85
                    ],
                    [
                      113,
                      68,
                      null,
                      46,
                      140
                    ],
                    [
                      250,
                      129,
                      null,
                      83,
                      302
                    ],
                    [
                      459,
                      274,
                      15,
                      178,
                      570
                    ],
                    [
                      null,
                      0,
                      0,
                      0,
                      null
                    ],
                    [
                      0,
                      null,
                      0,
                      0,
                      null
                    ],
                    [
                      0,
                      null,
                      0,
                      0,
                      null
                    ],
                    [
                      0,
                      0,
                      0,
                      0,
                      0
                    ],
                    [
                      null,
                      null,
                      0,
                      0,
                      null
                    ],
                    [
                      null,
                      null,
                      null,
                      null,
                      null
                    ],
                    [
                      null,
                      13,
                      null,
                      null,
                      18
                    ],
                    [
                      12,
                      39,
                      null,
                      null,
                      56
                    ],
                    [
                      51,
                      119,
                      null,
                      21,
                      157
                    ],
                    [
                      77,
                      179,
                      12,
                      27,
                      241
                    ],
                    [
                      121,
                      238,
                      12,
                      52,
                      319
                    ],
                    [
                      60,
                      154,
                      null,
                      17,
                      202
                    ],
                    [
                      331,
                      750,
                      50,
                      126,
                      1005
                    ],
                    [
                      0,
                      0,
                      0,
                      0,
                      0
                    ],
                    [
                      0,
                      0,
                      null,
                      0,
                      null
                    ],
                    [
                      0,
                      0,
                      0,
                      0,
                      0
                    ],
                    [
                      0,
                      null,
                      0,
                      0,
                      null
                    ],
                    [
                      null,
                      null,
                      null,
                      null,
                      null
                    ],
                    [
                      null,
                      null,
                      null,
                      0,
                      13
                    ],
                    [
                      15,
                      37,
                      null,
                      null,
                      53
                    ],
                    [
                      42,
                      93,
                      null,
                      19,
                      121
                    ],
                    [
                      91,
                      160,
                      null,
                      39,
                      219
                    ],
                    [
                      87,
                      180,
                      12,
                      39,
                      240
                    ],
                    [
                      99,
                      222,
                      11,
                      36,
                      296
                    ],
                    [
                      336,
                      704,
                      49,
                      138,
                      950
                    ],
                    [
                      0,
                      0,
                      0,
                      0,
                      0
                    ],
                    [
                      0,
                      0,
                      0,
                      0,
                      0
                    ],
                    [
                      0,
                      0,
                      0,
                      0,
                      0
                    ],
                    [
                      0,
                      0,
                      null,
                      0,
                      null
                    ],
                    [
                      0,
                      0,
                      0,
                      0,
                      0
                    ],
                    [
                      null,
                      null,
                      0,
                      null,
                      null
                    ],
                    [
                      0,
                      null,
                      null,
                      0,
                      null
                    ],
                    [
                      null,
                      10,
                      0,
                      null,
                      11
                    ],
                    [
                      13,
                      26,
                      null,
                      null,
                      35
                    ],
                    [
                      null,
                      29,
                      null,
                      null,
                      37
                    ],
                    [
                      null,
                      42,
                      null,
                      null,
                      48
                    ],
                    [
                      12,
                      38,
                      null,
                      null,
                      49
                    ],
                    [
                      43,
                      149,
                      17,
                      22,
                      187
                    ],
                    [
                      0,
                      0,
                      0,
                      0,
                      0
                    ],
                    [
                      0,
                      null,
                      0,
                      0,
                      null
                    ],
                    [
                      0,
                      null,
                      0,
                      0,
                      null
                    ],
                    [
                      null,
                      0,
                      null,
                      0,
                      null
                    ],
                    [
                      0,
                      null,
                      0,
                      0,
                      null
                    ],
                    [
                      0,
                      null,
                      0,
                      0,
                      null
                    ],
                    [
                      null,
                      null,
                      0,
                      null,
                      null
                    ],
                    [
                      null,
                      19,
                      null,
                      null,
                      21
                    ],
                    [
                      null,
                      20,
                      null,
                      0,
                      26
                    ],
                    [
                      null,
                      21,
                      null,
                      null,
                      27
                    ],
                    [
                      21,
                      46,
                      null,
                      null,
                      62
                    ],
                    [
                      43,
                      116,
                      null,
                      16,
                      152
                    ],
                    [
                      0,
                      0,
                      0,
                      0,
                      0
                    ],
                    [
                      null,
                      null,
                      0,
                      null,
                      null
                    ],
                    [
                      0,
                      0,
                      0,
                      0,
                      0
                    ],
                    [
                      0,
                      0,
                      null,
                      0,
                      null
                    ],
                    [
                      0,
                      null,
                      null,
                      0,
                      null
                    ],
                    [
                      null,
                      11,
                      null,
                      null,
                      14
                    ],
                    [
                      10,
                      33,
                      null,
                      null,
                      39
                    ],
                    [
                      17,
                      85,
                      null,
                      null,
                      102
                    ],
                    [
                      46,
                      217,
                      14,
                      18,
                      259
                    ],
                    [
                      73,
                      325,
                      23,
                      38,
                      383
                    ],
                    [
                      85,
                      353,
                      12,
                      25,
                      425
                    ],
                    [
                      39,
                      264,
                      null,
                      16,
                      291
                    ],
                    [
                      275,
                      1298,
                      64,
                      112,
                      1525
                    ],
                    [
                      0,
                      0,
                      0,
                      0,
                      0
                    ],
                    [
                      null,
                      0,
                      0,
                      0,
                      null
                    ],
                    [
                      0,
                      null,
                      0,
                      0,
                      null
                    ],
                    [
                      0,
                      null,
                      0,
                      0,
                      null
                    ],
                    [
                      null,
                      null,
                      null,
                      0,
                      null
                    ],
                    [
                      null,
                      25,
                      null,
                      null,
                      29
                    ],
                    [
                      11,
                      57,
                      null,
                      null,
                      71
                    ],
                    [
                      22,
                      146,
                      11,
                      12,
                      167
                    ],
                    [
                      44,
                      244,
                      11,
                      11,
                      288
                    ],
                    [
                      70,
                      317,
                      16,
                      25,
                      378
                    ],
                    [
                      75,
                      293,
                      12,
                      25,
                      355
                    ],
                    [
                      229,
                      1092,
                      63,
                      81,
                      1303
                    ],
                    [
                      0,
                      0,
                      0,
                      0,
                      0
                    ],
                    [
                      null,
                      null,
                      null,
                      0,
                      null
                    ],
                    [
                      0,
                      null,
                      null,
                      0,
                      null
                    ],
                    [
                      null,
                      null,
                      null,
                      0,
                      11
                    ],
                    [
                      null,
                      26,
                      0,
                      null,
                      26
                    ],
                    [
                      21,
                      44,
                      null,
                      10,
                      60
                    ],
                    [
                      48,
                      104,
                      null,
                      24,
                      133
                    ],
                    [
                      132,
                      229,
                      17,
                      56,
                      322
                    ],
                    [
                      292,
                      619,
                      36,
                      121,
                      826
                    ],
                    [
                      372,
                      968,
                      31,
                      185,
                      1186
                    ],
                    [
                      330,
                      1015,
                      41,
                      149,
                      1235
                    ],
                    [
                      241,
                      800,
                      25,
                      108,
                      958
                    ],
                    [
                      1439,
                      3817,
                      164,
                      654,
                      4764
                    ],
                    [
                      0,
                      null,
                      0,
                      0,
                      null
                    ],
                    [
                      0,
                      null,
                      null,
                      0,
                      null
                    ],
                    [
                      0,
                      null,
                      null,
                      0,
                      null
                    ],
                    [
                      null,
                      null,
                      null,
                      null,
                      13
                    ],
                    [
                      null,
                      17,
                      null,
                      null,
                      26
                    ],
                    [
                      28,
                      66,
                      13,
                      10,
                      96
                    ],
                    [
                      52,
                      152,
                      21,
                      17,
                      208
                    ],
                    [
                      116,
                      404,
                      30,
                      50,
                      500
                    ],
                    [
                      191,
                      648,
                      38,
                      83,
                      794
                    ],
                    [
                      259,
                      806,
                      34,
                      120,
                      978
                    ],
                    [
                      309,
                      973,
                      31,
                      127,
                      1186
                    ],
                    [
                      968,
                      3081,
                      177,
                      413,
                      3811
                    ],
                    [
                      0,
                      0,
                      0,
                      0,
                      0
                    ],
                    [
                      0,
                      null,
                      0,
                      0,
                      null
                    ],
                    [
                      0,
                      0,
                      0,
                      0,
                      0
                    ],
                    [
                      0,
                      0,
                      0,
                      0,
                      0
                    ],
                    [
                      0,
                      null,
                      0,
                      0,
                      null
                    ],
                    [
                      null,
                      null,
                      null,
                      null,
                      null
                    ],
                    [
                      null,
                      null,
                      null,
                      0,
                      null
                    ],
                    [
                      null,
                      16,
                      null,
                      null,
                      21
                    ],
                    [
                      19,
                      32,
                      null,
                      null,
                      49
                    ],
                    [
                      28,
                      64,
                      null,
                      17,
                      78
                    ],
                    [
                      18,
                      67,
                      null,
                      null,
                      87
                    ],
                    [
                      17,
                      68,
                      null,
                      null,
                      86
                    ],
                    [
                      92,
                      259,
                      27,
                      39,
                      339
                    ],
                    [
                      0,
                      null,
                      0,
                      0,
                      null
                    ],
                    [
                      0,
                      0,
                      0,
                      0,
                      0
                    ],
                    [
                      0,
                      0,
                      0,
                      0,
                      0
                    ],
                    [
                      null,
                      null,
                      null,
                      0,
                      null
                    ],
                    [
                      null,
                      null,
                      null,
                      null,
                      null
                    ],
                    [
                      0,
                      null,
                      0,
                      0,
                      null
                    ],
                    [
                      null,
                      11,
                      null,
                      null,
                      18
                    ],
                    [
                      null,
                      21,
                      null,
                      null,
                      26
                    ],
                    [
                      13,
                      43,
                      null,
                      null,
                      53
                    ],
                    [
                      16,
                      63,
                      null,
                      null,
                      76
                    ],
                    [
                      25,
                      69,
                      null,
                      null,
                      92
                    ],
                    [
                      68,
                      220,
                      13,
                      20,
                      281
                    ],
                    [
                      0,
                      0,
                      0,
                      0,
                      0
                    ],
                    [
                      0,
                      null,
                      0,
                      0,
                      null
                    ],
                    [
                      0,
                      0,
                      0,
                      0,
                      0
                    ],
                    [
                      0,
                      0,
                      0,
                      0,
                      0
                    ],
                    [
                      0,
                      0,
                      0,
                      0,
                      0
                    ],
                    [
                      0,
                      0,
                      0,
                      0,
                      0
                    ],
                    [
                      null,
                      null,
                      0,
                      null,
                      null
                    ],
                    [
                      null,
                      null,
                      null,
                      null,
                      null
                    ],
                    [
                      null,
                      null,
                      null,
                      null,
                      null
                    ],
                    [
                      null,
                      16,
                      null,
                      null,
                      23
                    ],
                    [
                      16,
                      30,
                      null,
                      null,
                      45
                    ],
                    [
                      null,
                      34,
                      null,
                      null,
                      39
                    ],
                    [
                      33,
                      88,
                      10,
                      12,
                      119
                    ],
                    [
                      0,
                      0,
                      0,
                      0,
                      0
                    ],
                    [
                      0,
                      0,
                      0,
                      0,
                      0
                    ],
                    [
                      0,
                      0,
                      0,
                      0,
                      0
                    ],
                    [
                      0,
                      0,
                      0,
                      0,
                      0
                    ],
                    [
                      0,
                      0,
                      0,
                      0,
                      0
                    ],
                    [
                      null,
                      0,
                      null,
                      0,
                      null
                    ],
                    [
                      null,
                      null,
                      0,
                      null,
                      null
                    ],
                    [
                      0,
                      null,
                      0,
                      0,
                      null
                    ],
                    [
                      null,
                      null,
                      null,
                      0,
                      13
                    ],
                    [
                      null,
                      15,
                      null,
                      0,
                      23
                    ],
                    [
                      null,
                      35,
                      null,
                      null,
                      45
                    ],
                    [
                      23,
                      59,
                      null,
                      null,
                      86
                    ],
                    [
                      0,
                      0,
                      0,
                      0,
                      0
                    ],
                    [
                      0,
                      0,
                      null,
                      0,
                      null
                    ],
                    [
                      0,
                      null,
                      0,
                      0,
                      null
                    ],
                    [
                      0,
                      0,
                      null,
                      0,
                      null
                    ],
                    [
                      0,
                      null,
                      0,
                      0,
                      null
                    ],
                    [
                      null,
                      null,
                      null,
                      null,
                      null
                    ],
                    [
                      14,
                      14,
                      null,
                      null,
                      26
                    ],
                    [
                      51,
                      46,
                      null,
                      24,
                      77
                    ],
                    [
                      123,
                      157,
                      null,
                      57,
                      232
                    ],
                    [
                      209,
                      244,
                      19,
                      83,
                      389
                    ],
                    [
                      271,
                      329,
                      10,
                      109,
                      500
                    ],
                    [
                      234,
                      271,
                      12,
                      77,
                      439
                    ],
                    [
                      905,
                      1071,
                      61,
                      358,
                      1677
                    ],
                    [
                      0,
                      0,
                      null,
                      0,
                      null
                    ],
                    [
                      0,
                      null,
                      0,
                      0,
                      null
                    ],
                    [
                      0,
                      0,
                      null,
                      0,
                      null
                    ],
                    [
                      0,
                      0,
                      null,
                      0,
                      null
                    ],
                    [
                      0,
                      null,
                      null,
                      0,
                      null
                    ],
                    [
                      12,
                      13,
                      null,
                      null,
                      22
                    ],
                    [
                      18,
                      34,
                      null,
                      null,
                      48
                    ],
                    [
                      65,
                      115,
                      11,
                      30,
                      161
                    ],
                    [
                      147,
                      178,
                      null,
                      55,
                      274
                    ],
                    [
                      238,
                      235,
                      12,
                      71,
                      414
                    ],
                    [
                      418,
                      336,
                      15,
                      90,
                      679
                    ],
                    [
                      898,
                      916,
                      50,
                      257,
                      1607
                    ],
                    [
                      0,
                      0,
                      0,
                      0,
                      0
                    ],
                    [
                      0,
                      null,
                      0,
                      0,
                      null
                    ],
                    [
                      0,
                      0,
                      0,
                      0,
                      0
                    ],
                    [
                      0,
                      0,
                      0,
                      0,
                      0
                    ],
                    [
                      null,
                      null,
                      null,
                      null,
                      null
                    ],
                    [
                      null,
                      13,
                      null,
                      null,
                      15
                    ],
                    [
                      13,
                      15,
                      null,
                      null,
                      26
                    ],
                    [
                      30,
                      45,
                      null,
                      14,
                      66
                    ],
                    [
                      72,
                      143,
                      12,
                      45,
                      181
                    ],
                    [
                      127,
                      257,
                      21,
                      64,
                      341
                    ],
                    [
                      165,
                      291,
                      10,
                      96,
                      370
                    ],
                    [
                      191,
                      290,
                      null,
                      111,
                      379
                    ],
                    [
                      602,
                      1059,
                      62,
                      337,
                      1384
                    ],
                    [
                      0,
                      null,
                      0,
                      0,
                      null
                    ],
                    [
                      0,
                      null,
                      0,
                      0,
                      null
                    ],
                    [
                      0,
                      0,
                      0,
                      0,
                      0
                    ],
                    [
                      0,
                      null,
                      0,
                      0,
                      null
                    ],
                    [
                      0,
                      null,
                      null,
                      0,
                      null
                    ],
                    [
                      null,
                      null,
                      null,
                      null,
                      14
                    ],
                    [
                      16,
                      29,
                      null,
                      null,
                      40
                    ],
                    [
                      35,
                      94,
                      null,
                      18,
                      118
                    ],
                    [
                      91,
                      168,
                      null,
                      50,
                      218
                    ],
                    [
                      139,
                      230,
                      17,
                      79,
                      305
                    ],
                    [
                      227,
                      342,
                      null,
                      99,
                      478
                    ],
                    [
                      512,
                      879,
                      49,
                      255,
                      1182
                    ],
                    [
                      0,
                      0,
                      0,
                      0,
                      0
                    ],
                    [
                      0,
                      null,
                      0,
                      0,
                      null
                    ],
                    [
                      0,
                      0,
                      0,
                      0,
                      0
                    ],
                    [
                      0,
                      0,
                      0,
                      0,
                      0
                    ],
                    [
                      0,
                      0,
                      0,
                      0,
                      0
                    ],
                    [
                      null,
                      null,
                      null,
                      null,
                      null
                    ],
                    [
                      0,
                      null,
                      null,
                      0,
                      null
                    ],
                    [
                      null,
                      null,
                      null,
                      0,
                      16
                    ],
                    [
                      null,
                      49,
                      null,
                      null,
                      57
                    ],
                    [
                      17,
                      91,
                      null,
                      10,
                      105
                    ],
                    [
                      13,
                      97,
                      null,
                      null,
                      114
                    ],
                    [
                      12,
                      59,
                      null,
                      null,
                      72
                    ],
                    [
                      49,
                      317,
                      31,
                      19,
                      378
                    ],
                    [
                      0,
                      0,
                      0,
                      0,
                      0
                    ],
                    [
                      0,
                      null,
                      0,
                      0,
                      null
                    ],
                    [
                      0,
                      0,
                      null,
                      0,
                      null
                    ],
                    [
                      0,
                      0,
                      0,
                      0,
                      0
                    ],
                    [
                      null,
                      null,
                      null,
                      0,
                      null
                    ],
                    [
                      0,
                      null,
                      null,
                      0,
                      null
                    ],
                    [
                      0,
                      17,
                      null,
                      0,
                      18
                    ],
                    [
                      null,
                      40,
                      null,
                      0,
                      46
                    ],
                    [
                      null,
                      53,
                      null,
                      null,
                      67
                    ],
                    [
                      12,
                      70,
                      null,
                      null,
                      82
                    ],
                    [
                      22,
                      92,
                      null,
                      null,
                      115
                    ],
                    [
                      45,
                      282,
                      27,
                      11,
                      343
                    ],
                    [
                      0,
                      0,
                      0,
                      0,
                      0
                    ],
                    [
                      0,
                      null,
                      0,
                      0,
                      null
                    ],
                    [
                      0,
                      0,
                      0,
                      0,
                      0
                    ],
                    [
                      0,
                      0,
                      null,
                      0,
                      null
                    ],
                    [
                      null,
                      null,
                      null,
                      0,
                      null
                    ],
                    [
                      null,
                      null,
                      null,
                      null,
                      null
                    ],
                    [
                      10,
                      null,
                      null,
                      null,
                      19
                    ],
                    [
                      26,
                      28,
                      null,
                      null,
                      57
                    ],
                    [
                      58,
                      75,
                      10,
                      10,
                      132
                    ],
                    [
                      100,
                      137,
                      20,
                      17,
                      239
                    ],
                    [
                      102,
                      189,
                      18,
                      19,
                      290
                    ],
                    [
                      92,
                      201,
                      14,
                      23,
                      284
                    ],
                    [
                      394,
                      643,
                      79,
                      77,
                      1037
                    ],
                    [
                      0,
                      null,
                      0,
                      0,
                      null
                    ],
                    [
                      0,
                      0,
                      0,
                      0,
                      0
                    ],
                    [
                      0,
                      0,
                      0,
                      0,
                      0
                    ],
                    [
                      null,
                      0,
                      null,
                      0,
                      null
                    ],
                    [
                      null,
                      null,
                      null,
                      null,
                      null
                    ],
                    [
                      null,
                      null,
                      null,
                      null,
                      14
                    ],
                    [
                      12,
                      18,
                      null,
                      null,
                      35
                    ],
                    [
                      34,
                      73,
                      10,
                      null,
                      108
                    ],
                    [
                      64,
                      104,
                      null,
                      null,
                      169
                    ],
                    [
                      80,
                      135,
                      19,
                      null,
                      227
                    ],
                    [
                      136,
                      263,
                      22,
                      18,
                      403
                    ],
                    [
                      333,
                      606,
                      71,
                      45,
                      965
                    ],
                    [
                      0,
                      0,
                      0,
                      0,
                      0
                    ],
                    [
                      0,
                      0,
                      0,
                      0,
                      0
                    ],
                    [
                      0,
                      0,
                      0,
                      0,
                      0
                    ],
                    [
                      0,
                      0,
                      0,
                      0,
                      0
                    ],
                    [
                      0,
                      0,
                      0,
                      0,
                      0
                    ],
                    [
                      0,
                      null,
                      null,
                      0,
                      null
                    ],
                    [
                      0,
                      null,
                      0,
                      0,
                      null
                    ],
                    [
                      null,
                      null,
                      0,
                      null,
                      null
                    ],
                    [
                      null,
                      null,
                      0,
                      null,
                      null
                    ],
                    [
                      null,
                      13,
                      null,
                      null,
                      17
                    ],
                    [
                      null,
                      15,
                      0,
                      null,
                      16
                    ],
                    [
                      null,
                      16,
                      0,
                      0,
                      17
                    ],
                    [
                      null,
                      56,
                      null,
                      null,
                      63
                    ],
                    [
                      0,
                      0,
                      0,
                      0,
                      0
                    ],
                    [
                      0,
                      0,
                      0,
                      0,
                      0
                    ],
                    [
                      0,
                      0,
                      0,
                      0,
                      0
                    ],
                    [
                      0,
                      0,
                      0,
                      0,
                      0
                    ],
                    [
                      null,
                      0,
                      null,
                      0,
                      null
                    ],
                    [
                      0,
                      null,
                      0,
                      0,
                      null
                    ],
                    [
                      null,
                      null,
                      null,
                      0,
                      null
                    ],
                    [
                      0,
                      null,
                      null,
                      0,
                      null
                    ],
                    [
                      null,
                      null,
                      null,
                      null,
                      11
                    ],
                    [
                      null,
                      25,
                      0,
                      0,
                      26
                    ],
                    [
                      null,
                      24,
                      null,
                      null,
                      27
                    ],
                    [
                      null,
                      67,
                      null,
                      null,
                      80
                    ],
                    [
                      0,
                      0,
                      0,
                      0,
                      0
                    ],
                    [
                      0,
                      0,
                      0,
                      0,
                      0
                    ],
                    [
                      0,
                      0,
                      0,
                      0,
                      0
                    ],
                    [
                      0,
                      0,
                      0,
                      0,
                      0
                    ],
                    [
                      0,
                      0,
                      0,
                      0,
                      0
                    ],
                    [
                      null,
                      null,
                      null,
                      null,
                      null
                    ],
                    [
                      null,
                      19,
                      0,
                      null,
                      20
                    ],
                    [
                      10,
                      37,
                      null,
                      null,
                      47
                    ],
                    [
                      0,
                      0,
                      0,
                      0,
                      0
                    ],
                    [
                      0,
                      0,
                      0,
                      0,
                      0
                    ],
                    [
                      0,
                      0,
                      0,
                      0,
                      0
                    ],
                    [
                      0,
                      0,
                      0,
                      0,
                      0
                    ],
                    [
                      16,
                      61,
                      null,
                      null,
                      74
                    ],
                    [
                      0,
                      0,
                      0,
                      0,
                      0
                    ],
                    [
                      0,
                      0,
                      0,
                      0,
                      0
                    ],
                    [
                      0,
                      0,
                      0,
                      0,
                      0
                    ],
                    [
                      0,
                      null,
                      0,
                      0,
                      null
                    ],
                    [
                      null,
                      null,
                      null,
                      null,
                      null
                    ],
                    [
                      0,
                      null,
                      0,
                      0,
                      null
                    ],
                    [
                      null,
                      26,
                      null,
                      null,
                      29
                    ],
                    [
                      0,
                      0,
                      0,
                      0,
                      0
                    ],
                    [
                      0,
                      0,
                      0,
                      0,
                      0
                    ],
                    [
                      0,
                      0,
                      0,
                      0,
                      0
                    ],
                    [
                      0,
                      0,
                      0,
                      0,
                      0
                    ],
                    [
                      null,
                      41,
                      null,
                      null,
                      45
                    ],
                    [
                      0,
                      0,
                      0,
                      0,
                      0
                    ]
                  ],
                  "y": [
                    74,
                    16,
                    31,
                    192,
                    340,
                    491,
                    888,
                    2096,
                    2810,
                    2923,
                    2104,
                    11965,
                    47,
                    16,
                    16,
                    69,
                    158,
                    291,
                    605,
                    1383,
                    2154,
                    2883,
                    3574,
                    11196,
                    0,
                    null,
                    null,
                    null,
                    31,
                    41,
                    40,
                    73,
                    177,
                    212,
                    235,
                    133,
                    961,
                    null,
                    null,
                    null,
                    12,
                    26,
                    37,
                    47,
                    107,
                    163,
                    141,
                    175,
                    719,
                    0,
                    89,
                    27,
                    29,
                    331,
                    550,
                    628,
                    1025,
                    2213,
                    3389,
                    4114,
                    3479,
                    15874,
                    69,
                    21,
                    22,
                    99,
                    245,
                    304,
                    536,
                    1378,
                    2440,
                    3555,
                    4799,
                    13468,
                    0,
                    61,
                    15,
                    17,
                    117,
                    214,
                    286,
                    509,
                    1248,
                    1786,
                    1845,
                    1288,
                    7386,
                    35,
                    11,
                    10,
                    42,
                    104,
                    184,
                    359,
                    773,
                    1280,
                    1697,
                    2199,
                    6694,
                    0,
                    393,
                    76,
                    114,
                    1054,
                    1978,
                    2500,
                    4380,
                    9650,
                    13458,
                    15013,
                    16479,
                    65095,
                    292,
                    46,
                    82,
                    336,
                    725,
                    1188,
                    2442,
                    5610,
                    9256,
                    13526,
                    24043,
                    57546,
                    null,
                    75,
                    11,
                    28,
                    208,
                    406,
                    486,
                    742,
                    1511,
                    2186,
                    2373,
                    2288,
                    10314,
                    71,
                    null,
                    12,
                    75,
                    149,
                    212,
                    407,
                    875,
                    1491,
                    2065,
                    3555,
                    8917,
                    null,
                    20,
                    null,
                    null,
                    45,
                    124,
                    157,
                    329,
                    765,
                    1223,
                    1521,
                    1971,
                    6162,
                    15,
                    null,
                    null,
                    19,
                    36,
                    83,
                    149,
                    467,
                    845,
                    1513,
                    3265,
                    6400,
                    15,
                    null,
                    null,
                    null,
                    22,
                    58,
                    69,
                    126,
                    281,
                    472,
                    500,
                    515,
                    2057,
                    null,
                    null,
                    null,
                    11,
                    18,
                    47,
                    70,
                    212,
                    371,
                    536,
                    863,
                    2142,
                    0,
                    21,
                    null,
                    null,
                    45,
                    73,
                    96,
                    148,
                    347,
                    439,
                    314,
                    271,
                    1766,
                    17,
                    null,
                    null,
                    null,
                    28,
                    35,
                    87,
                    208,
                    285,
                    270,
                    445,
                    1399,
                    0,
                    291,
                    58,
                    90,
                    676,
                    1400,
                    1823,
                    3098,
                    7168,
                    10910,
                    13128,
                    12512,
                    51154,
                    231,
                    52,
                    56,
                    244,
                    632,
                    986,
                    1856,
                    4419,
                    7514,
                    10981,
                    17634,
                    44605,
                    null,
                    113,
                    34,
                    47,
                    297,
                    535,
                    712,
                    1428,
                    3353,
                    4655,
                    4676,
                    3438,
                    19288,
                    82,
                    21,
                    31,
                    104,
                    241,
                    454,
                    1016,
                    2255,
                    3540,
                    4583,
                    6029,
                    18356,
                    0,
                    12,
                    null,
                    null,
                    24,
                    46,
                    84,
                    183,
                    392,
                    580,
                    612,
                    719,
                    2659,
                    18,
                    null,
                    null,
                    12,
                    21,
                    36,
                    95,
                    219,
                    356,
                    433,
                    1085,
                    2281,
                    0,
                    29,
                    null,
                    13,
                    61,
                    70,
                    107,
                    177,
                    426,
                    720,
                    860,
                    770,
                    3240,
                    18,
                    null,
                    null,
                    18,
                    40,
                    62,
                    112,
                    305,
                    510,
                    754,
                    1125,
                    2950,
                    0,
                    151,
                    28,
                    45,
                    424,
                    798,
                    1063,
                    1884,
                    4391,
                    6055,
                    6458,
                    6461,
                    27758,
                    111,
                    17,
                    33,
                    141,
                    299,
                    514,
                    1048,
                    2697,
                    4417,
                    6275,
                    10873,
                    26425,
                    0,
                    89,
                    14,
                    32,
                    207,
                    428,
                    497,
                    1000,
                    2457,
                    3514,
                    3816,
                    3326,
                    15380,
                    80,
                    11,
                    19,
                    66,
                    172,
                    263,
                    624,
                    1614,
                    2723,
                    3754,
                    5829,
                    15155,
                    0,
                    26,
                    10,
                    12,
                    74,
                    122,
                    173,
                    352,
                    958,
                    1474,
                    1668,
                    1873,
                    6742,
                    25,
                    null,
                    null,
                    23,
                    49,
                    93,
                    198,
                    609,
                    1060,
                    1522,
                    2963,
                    6549,
                    null,
                    47,
                    null,
                    12,
                    92,
                    149,
                    196,
                    356,
                    858,
                    1253,
                    1373,
                    1548,
                    5888,
                    28,
                    null,
                    null,
                    36,
                    56,
                    119,
                    225,
                    589,
                    940,
                    1279,
                    2278,
                    5557,
                    0,
                    40,
                    11,
                    15,
                    135,
                    284,
                    492,
                    763,
                    1857,
                    2414,
                    2428,
                    1830,
                    10269,
                    36,
                    null,
                    14,
                    54,
                    127,
                    229,
                    525,
                    1216,
                    1854,
                    2474,
                    3034,
                    9569,
                    null,
                    71,
                    13,
                    26,
                    155,
                    350,
                    447,
                    822,
                    1879,
                    2691,
                    2687,
                    2078,
                    11219,
                    58,
                    null,
                    16,
                    62,
                    161,
                    263,
                    514,
                    1325,
                    2028,
                    2714,
                    3486,
                    10635,
                    0,
                    15,
                    null,
                    null,
                    36,
                    81,
                    118,
                    206,
                    522,
                    732,
                    828,
                    869,
                    3417,
                    14,
                    null,
                    null,
                    null,
                    31,
                    47,
                    107,
                    263,
                    518,
                    784,
                    1286,
                    3062,
                    0,
                    61,
                    null,
                    14,
                    191,
                    444,
                    570,
                    877,
                    2119,
                    2734,
                    3061,
                    2988,
                    13063,
                    64,
                    null,
                    14,
                    62,
                    205,
                    279,
                    544,
                    1328,
                    2160,
                    3058,
                    5071,
                    12794,
                    0,
                    56,
                    null,
                    13,
                    115,
                    363,
                    529,
                    885,
                    2168,
                    3274,
                    4156,
                    4774,
                    16341,
                    43,
                    null,
                    null,
                    61,
                    171,
                    247,
                    484,
                    1235,
                    2334,
                    3970,
                    8191,
                    16748,
                    0,
                    144,
                    17,
                    35,
                    277,
                    578,
                    800,
                    1641,
                    3818,
                    5547,
                    6117,
                    5702,
                    24676,
                    137,
                    17,
                    20,
                    90,
                    272,
                    437,
                    987,
                    2382,
                    4145,
                    5652,
                    9382,
                    23521,
                    null,
                    64,
                    18,
                    16,
                    109,
                    216,
                    282,
                    537,
                    1372,
                    2086,
                    2618,
                    2964,
                    10282,
                    43,
                    11,
                    null,
                    46,
                    107,
                    174,
                    333,
                    849,
                    1556,
                    2431,
                    4632,
                    10190,
                    0,
                    37,
                    15,
                    22,
                    129,
                    237,
                    331,
                    613,
                    1357,
                    1865,
                    1849,
                    1274,
                    7729,
                    31,
                    null,
                    14,
                    40,
                    93,
                    212,
                    408,
                    890,
                    1383,
                    1846,
                    2207,
                    7131,
                    null,
                    71,
                    16,
                    33,
                    205,
                    419,
                    523,
                    902,
                    2230,
                    3242,
                    3542,
                    2992,
                    14175,
                    72,
                    13,
                    19,
                    64,
                    157,
                    279,
                    561,
                    1424,
                    2477,
                    3279,
                    4862,
                    13207,
                    0,
                    11,
                    null,
                    null,
                    46,
                    52,
                    70,
                    139,
                    326,
                    566,
                    601,
                    557,
                    2373,
                    11,
                    null,
                    null,
                    11,
                    39,
                    35,
                    58,
                    196,
                    353,
                    427,
                    770,
                    1905,
                    0,
                    32,
                    0,
                    null,
                    48,
                    91,
                    95,
                    192,
                    522,
                    757,
                    867,
                    926,
                    3538,
                    17,
                    null,
                    null,
                    17,
                    28,
                    59,
                    126,
                    343,
                    594,
                    836,
                    1522,
                    3558,
                    0,
                    24,
                    null,
                    13,
                    111,
                    184,
                    255,
                    451,
                    1016,
                    1541,
                    1675,
                    1169,
                    6447,
                    23,
                    null,
                    null,
                    37,
                    78,
                    125,
                    265,
                    631,
                    1100,
                    1318,
                    1509,
                    5098,
                    0,
                    13,
                    null,
                    null,
                    26,
                    74,
                    77,
                    176,
                    398,
                    647,
                    727,
                    786,
                    2929,
                    null,
                    null,
                    null,
                    12,
                    37,
                    39,
                    111,
                    263,
                    445,
                    672,
                    1227,
                    2816,
                    0,
                    75,
                    16,
                    13,
                    168,
                    532,
                    823,
                    1707,
                    3617,
                    5081,
                    6009,
                    6386,
                    24427,
                    63,
                    null,
                    12,
                    67,
                    216,
                    362,
                    816,
                    2000,
                    3477,
                    5750,
                    11084,
                    23856,
                    null,
                    13,
                    null,
                    null,
                    69,
                    176,
                    227,
                    343,
                    637,
                    862,
                    1024,
                    919,
                    4285,
                    14,
                    null,
                    null,
                    22,
                    67,
                    118,
                    204,
                    391,
                    670,
                    934,
                    1343,
                    3771,
                    0,
                    111,
                    19,
                    33,
                    245,
                    628,
                    799,
                    1622,
                    3877,
                    5814,
                    6869,
                    7748,
                    27765,
                    83,
                    null,
                    29,
                    91,
                    244,
                    415,
                    884,
                    2422,
                    4254,
                    6488,
                    12980,
                    27899,
                    null,
                    94,
                    17,
                    29,
                    176,
                    499,
                    992,
                    2048,
                    4383,
                    6151,
                    6353,
                    5501,
                    26243,
                    79,
                    null,
                    18,
                    72,
                    211,
                    388,
                    967,
                    2336,
                    3970,
                    5401,
                    8969,
                    22419,
                    null,
                    133,
                    17,
                    28,
                    293,
                    507,
                    672,
                    1066,
                    2419,
                    3775,
                    4048,
                    3246,
                    16204,
                    107,
                    10,
                    26,
                    121,
                    228,
                    367,
                    763,
                    1704,
                    2832,
                    4029,
                    5588,
                    15775,
                    null,
                    null,
                    null,
                    null,
                    22,
                    52,
                    62,
                    88,
                    204,
                    316,
                    357,
                    399,
                    1515,
                    11,
                    0,
                    null,
                    null,
                    13,
                    28,
                    46,
                    110,
                    181,
                    326,
                    601,
                    1324,
                    0,
                    189,
                    34,
                    55,
                    357,
                    862,
                    1071,
                    1800,
                    4156,
                    6014,
                    6381,
                    6119,
                    27038,
                    152,
                    17,
                    30,
                    142,
                    416,
                    592,
                    1140,
                    2712,
                    4381,
                    6417,
                    10040,
                    26039,
                    null,
                    58,
                    15,
                    21,
                    119,
                    234,
                    334,
                    561,
                    1438,
                    1973,
                    2068,
                    1639,
                    8460,
                    39,
                    null,
                    11,
                    53,
                    101,
                    179,
                    375,
                    923,
                    1545,
                    1946,
                    2510,
                    7691,
                    0,
                    44,
                    10,
                    10,
                    99,
                    188,
                    232,
                    481,
                    1077,
                    1824,
                    2049,
                    1940,
                    7954,
                    30,
                    null,
                    10,
                    36,
                    82,
                    141,
                    290,
                    696,
                    1355,
                    1786,
                    2902,
                    7332,
                    null,
                    165,
                    35,
                    43,
                    291,
                    817,
                    945,
                    1761,
                    4133,
                    6262,
                    7372,
                    7836,
                    29660,
                    118,
                    29,
                    27,
                    111,
                    344,
                    515,
                    1017,
                    2648,
                    4640,
                    6897,
                    13428,
                    29774,
                    null,
                    10,
                    null,
                    null,
                    15,
                    40,
                    61,
                    140,
                    328,
                    469,
                    598,
                    710,
                    2376,
                    12,
                    null,
                    null,
                    null,
                    27,
                    37,
                    72,
                    202,
                    350,
                    582,
                    1273,
                    2563,
                    null,
                    75,
                    17,
                    26,
                    223,
                    395,
                    464,
                    873,
                    1986,
                    2841,
                    2969,
                    2107,
                    11976,
                    52,
                    15,
                    17,
                    85,
                    163,
                    300,
                    580,
                    1276,
                    2074,
                    2624,
                    3520,
                    10706,
                    0,
                    12,
                    null,
                    null,
                    27,
                    40,
                    59,
                    81,
                    251,
                    361,
                    434,
                    464,
                    1736,
                    null,
                    null,
                    null,
                    null,
                    16,
                    31,
                    61,
                    174,
                    273,
                    348,
                    732,
                    1656,
                    0,
                    131,
                    26,
                    39,
                    300,
                    609,
                    789,
                    1383,
                    2981,
                    3940,
                    4026,
                    2823,
                    17047,
                    86,
                    20,
                    14,
                    117,
                    306,
                    475,
                    856,
                    1979,
                    3056,
                    3821,
                    4890,
                    15620,
                    0,
                    410,
                    89,
                    135,
                    939,
                    1470,
                    2018,
                    3661,
                    7884,
                    10643,
                    11207,
                    9177,
                    47633,
                    309,
                    68,
                    100,
                    316,
                    594,
                    1064,
                    2176,
                    4959,
                    7702,
                    10291,
                    14143,
                    41722,
                    null,
                    52,
                    null,
                    15,
                    94,
                    145,
                    207,
                    301,
                    573,
                    906,
                    1102,
                    1080,
                    4482,
                    53,
                    null,
                    10,
                    34,
                    88,
                    128,
                    184,
                    384,
                    645,
                    1051,
                    1494,
                    4079,
                    0,
                    null,
                    null,
                    null,
                    null,
                    34,
                    46,
                    72,
                    190,
                    277,
                    364,
                    370,
                    1366,
                    0,
                    0,
                    0,
                    null,
                    null,
                    18,
                    53,
                    101,
                    217,
                    308,
                    536,
                    1250,
                    0,
                    97,
                    15,
                    24,
                    229,
                    440,
                    635,
                    1133,
                    2483,
                    3526,
                    4094,
                    3536,
                    16212,
                    86,
                    15,
                    18,
                    67,
                    200,
                    319,
                    654,
                    1613,
                    2651,
                    3901,
                    5897,
                    15421,
                    null,
                    76,
                    16,
                    26,
                    207,
                    354,
                    467,
                    836,
                    1829,
                    2922,
                    3161,
                    3095,
                    12989,
                    63,
                    11,
                    16,
                    57,
                    133,
                    238,
                    521,
                    1183,
                    2121,
                    2799,
                    4709,
                    11851,
                    null,
                    21,
                    null,
                    null,
                    42,
                    120,
                    205,
                    319,
                    698,
                    1111,
                    1164,
                    774,
                    4466,
                    12,
                    null,
                    null,
                    null,
                    60,
                    95,
                    187,
                    434,
                    704,
                    1010,
                    1240,
                    3762,
                    null,
                    83,
                    null,
                    22,
                    164,
                    322,
                    372,
                    718,
                    1793,
                    2645,
                    2964,
                    3220,
                    12308,
                    55,
                    12,
                    18,
                    61,
                    136,
                    205,
                    432,
                    1083,
                    1790,
                    2712,
                    5065,
                    11569,
                    0,
                    null,
                    null,
                    null,
                    14,
                    40,
                    49,
                    60,
                    165,
                    234,
                    235,
                    237,
                    1043,
                    null,
                    0,
                    null,
                    null,
                    15,
                    23,
                    44,
                    86,
                    148,
                    233,
                    335,
                    896,
                    0,
                    26,
                    null,
                    null,
                    81,
                    137,
                    202,
                    381,
                    0,
                    0,
                    0,
                    0,
                    836,
                    25,
                    null,
                    null,
                    20,
                    48,
                    84,
                    204,
                    0,
                    0,
                    0,
                    0,
                    390,
                    0
                  ],
                  "hoverlabel": {
                    "namelength": 0
                  },
                  "offsetgroup": "",
                  "xaxis": "x",
                  "marker": {
                    "color": "#636efa"
                  },
                  "x": [
                    "Alabama",
                    "Alabama",
                    "Alabama",
                    "Alabama",
                    "Alabama",
                    "Alabama",
                    "Alabama",
                    "Alabama",
                    "Alabama",
                    "Alabama",
                    "Alabama",
                    "Alabama",
                    "Alabama",
                    "Alabama",
                    "Alabama",
                    "Alabama",
                    "Alabama",
                    "Alabama",
                    "Alabama",
                    "Alabama",
                    "Alabama",
                    "Alabama",
                    "Alabama",
                    "Alabama",
                    "Alabama",
                    "Alaska",
                    "Alaska",
                    "Alaska",
                    "Alaska",
                    "Alaska",
                    "Alaska",
                    "Alaska",
                    "Alaska",
                    "Alaska",
                    "Alaska",
                    "Alaska",
                    "Alaska",
                    "Alaska",
                    "Alaska",
                    "Alaska",
                    "Alaska",
                    "Alaska",
                    "Alaska",
                    "Alaska",
                    "Alaska",
                    "Alaska",
                    "Alaska",
                    "Alaska",
                    "Alaska",
                    "Alaska",
                    "Arizona",
                    "Arizona",
                    "Arizona",
                    "Arizona",
                    "Arizona",
                    "Arizona",
                    "Arizona",
                    "Arizona",
                    "Arizona",
                    "Arizona",
                    "Arizona",
                    "Arizona",
                    "Arizona",
                    "Arizona",
                    "Arizona",
                    "Arizona",
                    "Arizona",
                    "Arizona",
                    "Arizona",
                    "Arizona",
                    "Arizona",
                    "Arizona",
                    "Arizona",
                    "Arizona",
                    "Arizona",
                    "Arkansas",
                    "Arkansas",
                    "Arkansas",
                    "Arkansas",
                    "Arkansas",
                    "Arkansas",
                    "Arkansas",
                    "Arkansas",
                    "Arkansas",
                    "Arkansas",
                    "Arkansas",
                    "Arkansas",
                    "Arkansas",
                    "Arkansas",
                    "Arkansas",
                    "Arkansas",
                    "Arkansas",
                    "Arkansas",
                    "Arkansas",
                    "Arkansas",
                    "Arkansas",
                    "Arkansas",
                    "Arkansas",
                    "Arkansas",
                    "Arkansas",
                    "California",
                    "California",
                    "California",
                    "California",
                    "California",
                    "California",
                    "California",
                    "California",
                    "California",
                    "California",
                    "California",
                    "California",
                    "California",
                    "California",
                    "California",
                    "California",
                    "California",
                    "California",
                    "California",
                    "California",
                    "California",
                    "California",
                    "California",
                    "California",
                    "California",
                    "Colorado",
                    "Colorado",
                    "Colorado",
                    "Colorado",
                    "Colorado",
                    "Colorado",
                    "Colorado",
                    "Colorado",
                    "Colorado",
                    "Colorado",
                    "Colorado",
                    "Colorado",
                    "Colorado",
                    "Colorado",
                    "Colorado",
                    "Colorado",
                    "Colorado",
                    "Colorado",
                    "Colorado",
                    "Colorado",
                    "Colorado",
                    "Colorado",
                    "Colorado",
                    "Colorado",
                    "Colorado",
                    "Connecticut",
                    "Connecticut",
                    "Connecticut",
                    "Connecticut",
                    "Connecticut",
                    "Connecticut",
                    "Connecticut",
                    "Connecticut",
                    "Connecticut",
                    "Connecticut",
                    "Connecticut",
                    "Connecticut",
                    "Connecticut",
                    "Connecticut",
                    "Connecticut",
                    "Connecticut",
                    "Connecticut",
                    "Connecticut",
                    "Connecticut",
                    "Connecticut",
                    "Connecticut",
                    "Connecticut",
                    "Connecticut",
                    "Connecticut",
                    "Connecticut",
                    "Delaware",
                    "Delaware",
                    "Delaware",
                    "Delaware",
                    "Delaware",
                    "Delaware",
                    "Delaware",
                    "Delaware",
                    "Delaware",
                    "Delaware",
                    "Delaware",
                    "Delaware",
                    "Delaware",
                    "Delaware",
                    "Delaware",
                    "Delaware",
                    "Delaware",
                    "Delaware",
                    "Delaware",
                    "Delaware",
                    "Delaware",
                    "Delaware",
                    "Delaware",
                    "Delaware",
                    "Delaware",
                    "District of Columbia",
                    "District of Columbia",
                    "District of Columbia",
                    "District of Columbia",
                    "District of Columbia",
                    "District of Columbia",
                    "District of Columbia",
                    "District of Columbia",
                    "District of Columbia",
                    "District of Columbia",
                    "District of Columbia",
                    "District of Columbia",
                    "District of Columbia",
                    "District of Columbia",
                    "District of Columbia",
                    "District of Columbia",
                    "District of Columbia",
                    "District of Columbia",
                    "District of Columbia",
                    "District of Columbia",
                    "District of Columbia",
                    "District of Columbia",
                    "District of Columbia",
                    "District of Columbia",
                    "District of Columbia",
                    "Florida",
                    "Florida",
                    "Florida",
                    "Florida",
                    "Florida",
                    "Florida",
                    "Florida",
                    "Florida",
                    "Florida",
                    "Florida",
                    "Florida",
                    "Florida",
                    "Florida",
                    "Florida",
                    "Florida",
                    "Florida",
                    "Florida",
                    "Florida",
                    "Florida",
                    "Florida",
                    "Florida",
                    "Florida",
                    "Florida",
                    "Florida",
                    "Florida",
                    "Georgia",
                    "Georgia",
                    "Georgia",
                    "Georgia",
                    "Georgia",
                    "Georgia",
                    "Georgia",
                    "Georgia",
                    "Georgia",
                    "Georgia",
                    "Georgia",
                    "Georgia",
                    "Georgia",
                    "Georgia",
                    "Georgia",
                    "Georgia",
                    "Georgia",
                    "Georgia",
                    "Georgia",
                    "Georgia",
                    "Georgia",
                    "Georgia",
                    "Georgia",
                    "Georgia",
                    "Georgia",
                    "Hawaii",
                    "Hawaii",
                    "Hawaii",
                    "Hawaii",
                    "Hawaii",
                    "Hawaii",
                    "Hawaii",
                    "Hawaii",
                    "Hawaii",
                    "Hawaii",
                    "Hawaii",
                    "Hawaii",
                    "Hawaii",
                    "Hawaii",
                    "Hawaii",
                    "Hawaii",
                    "Hawaii",
                    "Hawaii",
                    "Hawaii",
                    "Hawaii",
                    "Hawaii",
                    "Hawaii",
                    "Hawaii",
                    "Hawaii",
                    "Hawaii",
                    "Idaho",
                    "Idaho",
                    "Idaho",
                    "Idaho",
                    "Idaho",
                    "Idaho",
                    "Idaho",
                    "Idaho",
                    "Idaho",
                    "Idaho",
                    "Idaho",
                    "Idaho",
                    "Idaho",
                    "Idaho",
                    "Idaho",
                    "Idaho",
                    "Idaho",
                    "Idaho",
                    "Idaho",
                    "Idaho",
                    "Idaho",
                    "Idaho",
                    "Idaho",
                    "Idaho",
                    "Idaho",
                    "Illinois",
                    "Illinois",
                    "Illinois",
                    "Illinois",
                    "Illinois",
                    "Illinois",
                    "Illinois",
                    "Illinois",
                    "Illinois",
                    "Illinois",
                    "Illinois",
                    "Illinois",
                    "Illinois",
                    "Illinois",
                    "Illinois",
                    "Illinois",
                    "Illinois",
                    "Illinois",
                    "Illinois",
                    "Illinois",
                    "Illinois",
                    "Illinois",
                    "Illinois",
                    "Illinois",
                    "Illinois",
                    "Indiana",
                    "Indiana",
                    "Indiana",
                    "Indiana",
                    "Indiana",
                    "Indiana",
                    "Indiana",
                    "Indiana",
                    "Indiana",
                    "Indiana",
                    "Indiana",
                    "Indiana",
                    "Indiana",
                    "Indiana",
                    "Indiana",
                    "Indiana",
                    "Indiana",
                    "Indiana",
                    "Indiana",
                    "Indiana",
                    "Indiana",
                    "Indiana",
                    "Indiana",
                    "Indiana",
                    "Indiana",
                    "Iowa",
                    "Iowa",
                    "Iowa",
                    "Iowa",
                    "Iowa",
                    "Iowa",
                    "Iowa",
                    "Iowa",
                    "Iowa",
                    "Iowa",
                    "Iowa",
                    "Iowa",
                    "Iowa",
                    "Iowa",
                    "Iowa",
                    "Iowa",
                    "Iowa",
                    "Iowa",
                    "Iowa",
                    "Iowa",
                    "Iowa",
                    "Iowa",
                    "Iowa",
                    "Iowa",
                    "Iowa",
                    "Kansas",
                    "Kansas",
                    "Kansas",
                    "Kansas",
                    "Kansas",
                    "Kansas",
                    "Kansas",
                    "Kansas",
                    "Kansas",
                    "Kansas",
                    "Kansas",
                    "Kansas",
                    "Kansas",
                    "Kansas",
                    "Kansas",
                    "Kansas",
                    "Kansas",
                    "Kansas",
                    "Kansas",
                    "Kansas",
                    "Kansas",
                    "Kansas",
                    "Kansas",
                    "Kansas",
                    "Kansas",
                    "Kentucky",
                    "Kentucky",
                    "Kentucky",
                    "Kentucky",
                    "Kentucky",
                    "Kentucky",
                    "Kentucky",
                    "Kentucky",
                    "Kentucky",
                    "Kentucky",
                    "Kentucky",
                    "Kentucky",
                    "Kentucky",
                    "Kentucky",
                    "Kentucky",
                    "Kentucky",
                    "Kentucky",
                    "Kentucky",
                    "Kentucky",
                    "Kentucky",
                    "Kentucky",
                    "Kentucky",
                    "Kentucky",
                    "Kentucky",
                    "Kentucky",
                    "Louisiana",
                    "Louisiana",
                    "Louisiana",
                    "Louisiana",
                    "Louisiana",
                    "Louisiana",
                    "Louisiana",
                    "Louisiana",
                    "Louisiana",
                    "Louisiana",
                    "Louisiana",
                    "Louisiana",
                    "Louisiana",
                    "Louisiana",
                    "Louisiana",
                    "Louisiana",
                    "Louisiana",
                    "Louisiana",
                    "Louisiana",
                    "Louisiana",
                    "Louisiana",
                    "Louisiana",
                    "Louisiana",
                    "Louisiana",
                    "Louisiana",
                    "Maine",
                    "Maine",
                    "Maine",
                    "Maine",
                    "Maine",
                    "Maine",
                    "Maine",
                    "Maine",
                    "Maine",
                    "Maine",
                    "Maine",
                    "Maine",
                    "Maine",
                    "Maine",
                    "Maine",
                    "Maine",
                    "Maine",
                    "Maine",
                    "Maine",
                    "Maine",
                    "Maine",
                    "Maine",
                    "Maine",
                    "Maine",
                    "Maine",
                    "Maryland",
                    "Maryland",
                    "Maryland",
                    "Maryland",
                    "Maryland",
                    "Maryland",
                    "Maryland",
                    "Maryland",
                    "Maryland",
                    "Maryland",
                    "Maryland",
                    "Maryland",
                    "Maryland",
                    "Maryland",
                    "Maryland",
                    "Maryland",
                    "Maryland",
                    "Maryland",
                    "Maryland",
                    "Maryland",
                    "Maryland",
                    "Maryland",
                    "Maryland",
                    "Maryland",
                    "Maryland",
                    "Massachusetts",
                    "Massachusetts",
                    "Massachusetts",
                    "Massachusetts",
                    "Massachusetts",
                    "Massachusetts",
                    "Massachusetts",
                    "Massachusetts",
                    "Massachusetts",
                    "Massachusetts",
                    "Massachusetts",
                    "Massachusetts",
                    "Massachusetts",
                    "Massachusetts",
                    "Massachusetts",
                    "Massachusetts",
                    "Massachusetts",
                    "Massachusetts",
                    "Massachusetts",
                    "Massachusetts",
                    "Massachusetts",
                    "Massachusetts",
                    "Massachusetts",
                    "Massachusetts",
                    "Massachusetts",
                    "Michigan",
                    "Michigan",
                    "Michigan",
                    "Michigan",
                    "Michigan",
                    "Michigan",
                    "Michigan",
                    "Michigan",
                    "Michigan",
                    "Michigan",
                    "Michigan",
                    "Michigan",
                    "Michigan",
                    "Michigan",
                    "Michigan",
                    "Michigan",
                    "Michigan",
                    "Michigan",
                    "Michigan",
                    "Michigan",
                    "Michigan",
                    "Michigan",
                    "Michigan",
                    "Michigan",
                    "Michigan",
                    "Minnesota",
                    "Minnesota",
                    "Minnesota",
                    "Minnesota",
                    "Minnesota",
                    "Minnesota",
                    "Minnesota",
                    "Minnesota",
                    "Minnesota",
                    "Minnesota",
                    "Minnesota",
                    "Minnesota",
                    "Minnesota",
                    "Minnesota",
                    "Minnesota",
                    "Minnesota",
                    "Minnesota",
                    "Minnesota",
                    "Minnesota",
                    "Minnesota",
                    "Minnesota",
                    "Minnesota",
                    "Minnesota",
                    "Minnesota",
                    "Minnesota",
                    "Mississippi",
                    "Mississippi",
                    "Mississippi",
                    "Mississippi",
                    "Mississippi",
                    "Mississippi",
                    "Mississippi",
                    "Mississippi",
                    "Mississippi",
                    "Mississippi",
                    "Mississippi",
                    "Mississippi",
                    "Mississippi",
                    "Mississippi",
                    "Mississippi",
                    "Mississippi",
                    "Mississippi",
                    "Mississippi",
                    "Mississippi",
                    "Mississippi",
                    "Mississippi",
                    "Mississippi",
                    "Mississippi",
                    "Mississippi",
                    "Mississippi",
                    "Missouri",
                    "Missouri",
                    "Missouri",
                    "Missouri",
                    "Missouri",
                    "Missouri",
                    "Missouri",
                    "Missouri",
                    "Missouri",
                    "Missouri",
                    "Missouri",
                    "Missouri",
                    "Missouri",
                    "Missouri",
                    "Missouri",
                    "Missouri",
                    "Missouri",
                    "Missouri",
                    "Missouri",
                    "Missouri",
                    "Missouri",
                    "Missouri",
                    "Missouri",
                    "Missouri",
                    "Missouri",
                    "Montana",
                    "Montana",
                    "Montana",
                    "Montana",
                    "Montana",
                    "Montana",
                    "Montana",
                    "Montana",
                    "Montana",
                    "Montana",
                    "Montana",
                    "Montana",
                    "Montana",
                    "Montana",
                    "Montana",
                    "Montana",
                    "Montana",
                    "Montana",
                    "Montana",
                    "Montana",
                    "Montana",
                    "Montana",
                    "Montana",
                    "Montana",
                    "Montana",
                    "Nebraska",
                    "Nebraska",
                    "Nebraska",
                    "Nebraska",
                    "Nebraska",
                    "Nebraska",
                    "Nebraska",
                    "Nebraska",
                    "Nebraska",
                    "Nebraska",
                    "Nebraska",
                    "Nebraska",
                    "Nebraska",
                    "Nebraska",
                    "Nebraska",
                    "Nebraska",
                    "Nebraska",
                    "Nebraska",
                    "Nebraska",
                    "Nebraska",
                    "Nebraska",
                    "Nebraska",
                    "Nebraska",
                    "Nebraska",
                    "Nebraska",
                    "Nevada",
                    "Nevada",
                    "Nevada",
                    "Nevada",
                    "Nevada",
                    "Nevada",
                    "Nevada",
                    "Nevada",
                    "Nevada",
                    "Nevada",
                    "Nevada",
                    "Nevada",
                    "Nevada",
                    "Nevada",
                    "Nevada",
                    "Nevada",
                    "Nevada",
                    "Nevada",
                    "Nevada",
                    "Nevada",
                    "Nevada",
                    "Nevada",
                    "Nevada",
                    "Nevada",
                    "Nevada",
                    "New Hampshire",
                    "New Hampshire",
                    "New Hampshire",
                    "New Hampshire",
                    "New Hampshire",
                    "New Hampshire",
                    "New Hampshire",
                    "New Hampshire",
                    "New Hampshire",
                    "New Hampshire",
                    "New Hampshire",
                    "New Hampshire",
                    "New Hampshire",
                    "New Hampshire",
                    "New Hampshire",
                    "New Hampshire",
                    "New Hampshire",
                    "New Hampshire",
                    "New Hampshire",
                    "New Hampshire",
                    "New Hampshire",
                    "New Hampshire",
                    "New Hampshire",
                    "New Hampshire",
                    "New Hampshire",
                    "New Jersey",
                    "New Jersey",
                    "New Jersey",
                    "New Jersey",
                    "New Jersey",
                    "New Jersey",
                    "New Jersey",
                    "New Jersey",
                    "New Jersey",
                    "New Jersey",
                    "New Jersey",
                    "New Jersey",
                    "New Jersey",
                    "New Jersey",
                    "New Jersey",
                    "New Jersey",
                    "New Jersey",
                    "New Jersey",
                    "New Jersey",
                    "New Jersey",
                    "New Jersey",
                    "New Jersey",
                    "New Jersey",
                    "New Jersey",
                    "New Jersey",
                    "New Mexico",
                    "New Mexico",
                    "New Mexico",
                    "New Mexico",
                    "New Mexico",
                    "New Mexico",
                    "New Mexico",
                    "New Mexico",
                    "New Mexico",
                    "New Mexico",
                    "New Mexico",
                    "New Mexico",
                    "New Mexico",
                    "New Mexico",
                    "New Mexico",
                    "New Mexico",
                    "New Mexico",
                    "New Mexico",
                    "New Mexico",
                    "New Mexico",
                    "New Mexico",
                    "New Mexico",
                    "New Mexico",
                    "New Mexico",
                    "New Mexico",
                    "New York",
                    "New York",
                    "New York",
                    "New York",
                    "New York",
                    "New York",
                    "New York",
                    "New York",
                    "New York",
                    "New York",
                    "New York",
                    "New York",
                    "New York",
                    "New York",
                    "New York",
                    "New York",
                    "New York",
                    "New York",
                    "New York",
                    "New York",
                    "New York",
                    "New York",
                    "New York",
                    "New York",
                    "New York",
                    "New York City",
                    "New York City",
                    "New York City",
                    "New York City",
                    "New York City",
                    "New York City",
                    "New York City",
                    "New York City",
                    "New York City",
                    "New York City",
                    "New York City",
                    "New York City",
                    "New York City",
                    "New York City",
                    "New York City",
                    "New York City",
                    "New York City",
                    "New York City",
                    "New York City",
                    "New York City",
                    "New York City",
                    "New York City",
                    "New York City",
                    "New York City",
                    "New York City",
                    "North Carolina",
                    "North Carolina",
                    "North Carolina",
                    "North Carolina",
                    "North Carolina",
                    "North Carolina",
                    "North Carolina",
                    "North Carolina",
                    "North Carolina",
                    "North Carolina",
                    "North Carolina",
                    "North Carolina",
                    "North Carolina",
                    "North Carolina",
                    "North Carolina",
                    "North Carolina",
                    "North Carolina",
                    "North Carolina",
                    "North Carolina",
                    "North Carolina",
                    "North Carolina",
                    "North Carolina",
                    "North Carolina",
                    "North Carolina",
                    "North Carolina",
                    "North Dakota",
                    "North Dakota",
                    "North Dakota",
                    "North Dakota",
                    "North Dakota",
                    "North Dakota",
                    "North Dakota",
                    "North Dakota",
                    "North Dakota",
                    "North Dakota",
                    "North Dakota",
                    "North Dakota",
                    "North Dakota",
                    "North Dakota",
                    "North Dakota",
                    "North Dakota",
                    "North Dakota",
                    "North Dakota",
                    "North Dakota",
                    "North Dakota",
                    "North Dakota",
                    "North Dakota",
                    "North Dakota",
                    "North Dakota",
                    "North Dakota",
                    "Ohio",
                    "Ohio",
                    "Ohio",
                    "Ohio",
                    "Ohio",
                    "Ohio",
                    "Ohio",
                    "Ohio",
                    "Ohio",
                    "Ohio",
                    "Ohio",
                    "Ohio",
                    "Ohio",
                    "Ohio",
                    "Ohio",
                    "Ohio",
                    "Ohio",
                    "Ohio",
                    "Ohio",
                    "Ohio",
                    "Ohio",
                    "Ohio",
                    "Ohio",
                    "Ohio",
                    "Ohio",
                    "Oklahoma",
                    "Oklahoma",
                    "Oklahoma",
                    "Oklahoma",
                    "Oklahoma",
                    "Oklahoma",
                    "Oklahoma",
                    "Oklahoma",
                    "Oklahoma",
                    "Oklahoma",
                    "Oklahoma",
                    "Oklahoma",
                    "Oklahoma",
                    "Oklahoma",
                    "Oklahoma",
                    "Oklahoma",
                    "Oklahoma",
                    "Oklahoma",
                    "Oklahoma",
                    "Oklahoma",
                    "Oklahoma",
                    "Oklahoma",
                    "Oklahoma",
                    "Oklahoma",
                    "Oklahoma",
                    "Oregon",
                    "Oregon",
                    "Oregon",
                    "Oregon",
                    "Oregon",
                    "Oregon",
                    "Oregon",
                    "Oregon",
                    "Oregon",
                    "Oregon",
                    "Oregon",
                    "Oregon",
                    "Oregon",
                    "Oregon",
                    "Oregon",
                    "Oregon",
                    "Oregon",
                    "Oregon",
                    "Oregon",
                    "Oregon",
                    "Oregon",
                    "Oregon",
                    "Oregon",
                    "Oregon",
                    "Oregon",
                    "Pennsylvania",
                    "Pennsylvania",
                    "Pennsylvania",
                    "Pennsylvania",
                    "Pennsylvania",
                    "Pennsylvania",
                    "Pennsylvania",
                    "Pennsylvania",
                    "Pennsylvania",
                    "Pennsylvania",
                    "Pennsylvania",
                    "Pennsylvania",
                    "Pennsylvania",
                    "Pennsylvania",
                    "Pennsylvania",
                    "Pennsylvania",
                    "Pennsylvania",
                    "Pennsylvania",
                    "Pennsylvania",
                    "Pennsylvania",
                    "Pennsylvania",
                    "Pennsylvania",
                    "Pennsylvania",
                    "Pennsylvania",
                    "Pennsylvania",
                    "Rhode Island",
                    "Rhode Island",
                    "Rhode Island",
                    "Rhode Island",
                    "Rhode Island",
                    "Rhode Island",
                    "Rhode Island",
                    "Rhode Island",
                    "Rhode Island",
                    "Rhode Island",
                    "Rhode Island",
                    "Rhode Island",
                    "Rhode Island",
                    "Rhode Island",
                    "Rhode Island",
                    "Rhode Island",
                    "Rhode Island",
                    "Rhode Island",
                    "Rhode Island",
                    "Rhode Island",
                    "Rhode Island",
                    "Rhode Island",
                    "Rhode Island",
                    "Rhode Island",
                    "Rhode Island",
                    "South Carolina",
                    "South Carolina",
                    "South Carolina",
                    "South Carolina",
                    "South Carolina",
                    "South Carolina",
                    "South Carolina",
                    "South Carolina",
                    "South Carolina",
                    "South Carolina",
                    "South Carolina",
                    "South Carolina",
                    "South Carolina",
                    "South Carolina",
                    "South Carolina",
                    "South Carolina",
                    "South Carolina",
                    "South Carolina",
                    "South Carolina",
                    "South Carolina",
                    "South Carolina",
                    "South Carolina",
                    "South Carolina",
                    "South Carolina",
                    "South Carolina",
                    "South Dakota",
                    "South Dakota",
                    "South Dakota",
                    "South Dakota",
                    "South Dakota",
                    "South Dakota",
                    "South Dakota",
                    "South Dakota",
                    "South Dakota",
                    "South Dakota",
                    "South Dakota",
                    "South Dakota",
                    "South Dakota",
                    "South Dakota",
                    "South Dakota",
                    "South Dakota",
                    "South Dakota",
                    "South Dakota",
                    "South Dakota",
                    "South Dakota",
                    "South Dakota",
                    "South Dakota",
                    "South Dakota",
                    "South Dakota",
                    "South Dakota",
                    "Tennessee",
                    "Tennessee",
                    "Tennessee",
                    "Tennessee",
                    "Tennessee",
                    "Tennessee",
                    "Tennessee",
                    "Tennessee",
                    "Tennessee",
                    "Tennessee",
                    "Tennessee",
                    "Tennessee",
                    "Tennessee",
                    "Tennessee",
                    "Tennessee",
                    "Tennessee",
                    "Tennessee",
                    "Tennessee",
                    "Tennessee",
                    "Tennessee",
                    "Tennessee",
                    "Tennessee",
                    "Tennessee",
                    "Tennessee",
                    "Tennessee",
                    "Texas",
                    "Texas",
                    "Texas",
                    "Texas",
                    "Texas",
                    "Texas",
                    "Texas",
                    "Texas",
                    "Texas",
                    "Texas",
                    "Texas",
                    "Texas",
                    "Texas",
                    "Texas",
                    "Texas",
                    "Texas",
                    "Texas",
                    "Texas",
                    "Texas",
                    "Texas",
                    "Texas",
                    "Texas",
                    "Texas",
                    "Texas",
                    "Texas",
                    "Utah",
                    "Utah",
                    "Utah",
                    "Utah",
                    "Utah",
                    "Utah",
                    "Utah",
                    "Utah",
                    "Utah",
                    "Utah",
                    "Utah",
                    "Utah",
                    "Utah",
                    "Utah",
                    "Utah",
                    "Utah",
                    "Utah",
                    "Utah",
                    "Utah",
                    "Utah",
                    "Utah",
                    "Utah",
                    "Utah",
                    "Utah",
                    "Utah",
                    "Vermont",
                    "Vermont",
                    "Vermont",
                    "Vermont",
                    "Vermont",
                    "Vermont",
                    "Vermont",
                    "Vermont",
                    "Vermont",
                    "Vermont",
                    "Vermont",
                    "Vermont",
                    "Vermont",
                    "Vermont",
                    "Vermont",
                    "Vermont",
                    "Vermont",
                    "Vermont",
                    "Vermont",
                    "Vermont",
                    "Vermont",
                    "Vermont",
                    "Vermont",
                    "Vermont",
                    "Vermont",
                    "Virginia",
                    "Virginia",
                    "Virginia",
                    "Virginia",
                    "Virginia",
                    "Virginia",
                    "Virginia",
                    "Virginia",
                    "Virginia",
                    "Virginia",
                    "Virginia",
                    "Virginia",
                    "Virginia",
                    "Virginia",
                    "Virginia",
                    "Virginia",
                    "Virginia",
                    "Virginia",
                    "Virginia",
                    "Virginia",
                    "Virginia",
                    "Virginia",
                    "Virginia",
                    "Virginia",
                    "Virginia",
                    "Washington",
                    "Washington",
                    "Washington",
                    "Washington",
                    "Washington",
                    "Washington",
                    "Washington",
                    "Washington",
                    "Washington",
                    "Washington",
                    "Washington",
                    "Washington",
                    "Washington",
                    "Washington",
                    "Washington",
                    "Washington",
                    "Washington",
                    "Washington",
                    "Washington",
                    "Washington",
                    "Washington",
                    "Washington",
                    "Washington",
                    "Washington",
                    "Washington",
                    "West Virginia",
                    "West Virginia",
                    "West Virginia",
                    "West Virginia",
                    "West Virginia",
                    "West Virginia",
                    "West Virginia",
                    "West Virginia",
                    "West Virginia",
                    "West Virginia",
                    "West Virginia",
                    "West Virginia",
                    "West Virginia",
                    "West Virginia",
                    "West Virginia",
                    "West Virginia",
                    "West Virginia",
                    "West Virginia",
                    "West Virginia",
                    "West Virginia",
                    "West Virginia",
                    "West Virginia",
                    "West Virginia",
                    "West Virginia",
                    "West Virginia",
                    "Wisconsin",
                    "Wisconsin",
                    "Wisconsin",
                    "Wisconsin",
                    "Wisconsin",
                    "Wisconsin",
                    "Wisconsin",
                    "Wisconsin",
                    "Wisconsin",
                    "Wisconsin",
                    "Wisconsin",
                    "Wisconsin",
                    "Wisconsin",
                    "Wisconsin",
                    "Wisconsin",
                    "Wisconsin",
                    "Wisconsin",
                    "Wisconsin",
                    "Wisconsin",
                    "Wisconsin",
                    "Wisconsin",
                    "Wisconsin",
                    "Wisconsin",
                    "Wisconsin",
                    "Wisconsin",
                    "Wyoming",
                    "Wyoming",
                    "Wyoming",
                    "Wyoming",
                    "Wyoming",
                    "Wyoming",
                    "Wyoming",
                    "Wyoming",
                    "Wyoming",
                    "Wyoming",
                    "Wyoming",
                    "Wyoming",
                    "Wyoming",
                    "Wyoming",
                    "Wyoming",
                    "Wyoming",
                    "Wyoming",
                    "Wyoming",
                    "Wyoming",
                    "Wyoming",
                    "Wyoming",
                    "Wyoming",
                    "Wyoming",
                    "Wyoming",
                    "Wyoming",
                    "Puerto Rico",
                    "Puerto Rico",
                    "Puerto Rico",
                    "Puerto Rico",
                    "Puerto Rico",
                    "Puerto Rico",
                    "Puerto Rico",
                    "Puerto Rico",
                    "Puerto Rico",
                    "Puerto Rico",
                    "Puerto Rico",
                    "Puerto Rico",
                    "Puerto Rico",
                    "Puerto Rico",
                    "Puerto Rico",
                    "Puerto Rico",
                    "Puerto Rico",
                    "Puerto Rico",
                    "Puerto Rico",
                    "Puerto Rico",
                    "Puerto Rico",
                    "Puerto Rico",
                    "Puerto Rico",
                    "Puerto Rico",
                    "Puerto Rico"
                  ],
                  "alignmentgroup": "True",
                  "type": "bar",
                  "orientation": "v"
                }
              ],
              "config": {
                "plotlyServerURL": "https://plot.ly"
              },
              "layout": {
                "xaxis": {
                  "domain": [
                    0,
                    1
                  ],
                  "anchor": "y",
                  "title": {
                    "text": "State"
                  }
                },
                "yaxis": {
                  "domain": [
                    0,
                    1
                  ],
                  "anchor": "x",
                  "title": {
                    "text": "Total Deaths"
                  }
                },
                "barmode": "stack",
                "template": {
                  "layout": {
                    "shapedefaults": {
                      "line": {
                        "color": "#2a3f5f"
                      }
                    },
                    "polar": {
                      "radialaxis": {
                        "ticks": "",
                        "gridcolor": "white",
                        "linecolor": "white"
                      },
                      "bgcolor": "#E5ECF6",
                      "angularaxis": {
                        "ticks": "",
                        "gridcolor": "white",
                        "linecolor": "white"
                      }
                    },
                    "colorway": [
                      "#636efa",
                      "#EF553B",
                      "#00cc96",
                      "#ab63fa",
                      "#FFA15A",
                      "#19d3f3",
                      "#FF6692",
                      "#B6E880",
                      "#FF97FF",
                      "#FECB52"
                    ],
                    "xaxis": {
                      "automargin": true,
                      "title": {
                        "standoff": 15
                      },
                      "zerolinewidth": 2,
                      "ticks": "",
                      "zerolinecolor": "white",
                      "gridcolor": "white",
                      "linecolor": "white"
                    },
                    "colorscale": {
                      "diverging": [
                        [
                          0,
                          "#8e0152"
                        ],
                        [
                          0.1,
                          "#c51b7d"
                        ],
                        [
                          0.2,
                          "#de77ae"
                        ],
                        [
                          0.3,
                          "#f1b6da"
                        ],
                        [
                          0.4,
                          "#fde0ef"
                        ],
                        [
                          0.5,
                          "#f7f7f7"
                        ],
                        [
                          0.6,
                          "#e6f5d0"
                        ],
                        [
                          0.7,
                          "#b8e186"
                        ],
                        [
                          0.8,
                          "#7fbc41"
                        ],
                        [
                          0.9,
                          "#4d9221"
                        ],
                        [
                          1,
                          "#276419"
                        ]
                      ],
                      "sequential": [
                        [
                          0,
                          "#0d0887"
                        ],
                        [
                          0.1111111111111111,
                          "#46039f"
                        ],
                        [
                          0.2222222222222222,
                          "#7201a8"
                        ],
                        [
                          0.3333333333333333,
                          "#9c179e"
                        ],
                        [
                          0.4444444444444444,
                          "#bd3786"
                        ],
                        [
                          0.5555555555555556,
                          "#d8576b"
                        ],
                        [
                          0.6666666666666666,
                          "#ed7953"
                        ],
                        [
                          0.7777777777777778,
                          "#fb9f3a"
                        ],
                        [
                          0.8888888888888888,
                          "#fdca26"
                        ],
                        [
                          1,
                          "#f0f921"
                        ]
                      ],
                      "sequentialminus": [
                        [
                          0,
                          "#0d0887"
                        ],
                        [
                          0.1111111111111111,
                          "#46039f"
                        ],
                        [
                          0.2222222222222222,
                          "#7201a8"
                        ],
                        [
                          0.3333333333333333,
                          "#9c179e"
                        ],
                        [
                          0.4444444444444444,
                          "#bd3786"
                        ],
                        [
                          0.5555555555555556,
                          "#d8576b"
                        ],
                        [
                          0.6666666666666666,
                          "#ed7953"
                        ],
                        [
                          0.7777777777777778,
                          "#fb9f3a"
                        ],
                        [
                          0.8888888888888888,
                          "#fdca26"
                        ],
                        [
                          1,
                          "#f0f921"
                        ]
                      ]
                    },
                    "paper_bgcolor": "white",
                    "plot_bgcolor": "#E5ECF6",
                    "title": {
                      "x": 0.05
                    },
                    "scene": {
                      "zaxis": {
                        "backgroundcolor": "#E5ECF6",
                        "ticks": "",
                        "gridwidth": 2,
                        "showbackground": true,
                        "zerolinecolor": "white",
                        "gridcolor": "white",
                        "linecolor": "white"
                      },
                      "xaxis": {
                        "backgroundcolor": "#E5ECF6",
                        "ticks": "",
                        "gridwidth": 2,
                        "showbackground": true,
                        "zerolinecolor": "white",
                        "gridcolor": "white",
                        "linecolor": "white"
                      },
                      "yaxis": {
                        "backgroundcolor": "#E5ECF6",
                        "ticks": "",
                        "gridwidth": 2,
                        "showbackground": true,
                        "zerolinecolor": "white",
                        "gridcolor": "white",
                        "linecolor": "white"
                      }
                    },
                    "yaxis": {
                      "automargin": true,
                      "title": {
                        "standoff": 15
                      },
                      "zerolinewidth": 2,
                      "ticks": "",
                      "zerolinecolor": "white",
                      "gridcolor": "white",
                      "linecolor": "white"
                    },
                    "annotationdefaults": {
                      "arrowwidth": 1,
                      "arrowhead": 0,
                      "arrowcolor": "#2a3f5f"
                    },
                    "hoverlabel": {
                      "align": "left"
                    },
                    "ternary": {
                      "bgcolor": "#E5ECF6",
                      "baxis": {
                        "ticks": "",
                        "gridcolor": "white",
                        "linecolor": "white"
                      },
                      "caxis": {
                        "ticks": "",
                        "gridcolor": "white",
                        "linecolor": "white"
                      },
                      "aaxis": {
                        "ticks": "",
                        "gridcolor": "white",
                        "linecolor": "white"
                      }
                    },
                    "mapbox": {
                      "style": "light"
                    },
                    "hovermode": "closest",
                    "font": {
                      "color": "#2a3f5f"
                    },
                    "geo": {
                      "showland": true,
                      "landcolor": "#E5ECF6",
                      "showlakes": true,
                      "bgcolor": "white",
                      "subunitcolor": "white",
                      "lakecolor": "white"
                    },
                    "coloraxis": {
                      "colorbar": {
                        "outlinewidth": 0,
                        "ticks": ""
                      }
                    }
                  },
                  "data": {
                    "mesh3d": [
                      {
                        "colorbar": {
                          "outlinewidth": 0,
                          "ticks": ""
                        },
                        "type": "mesh3d"
                      }
                    ],
                    "scattercarpet": [
                      {
                        "marker": {
                          "colorbar": {
                            "outlinewidth": 0,
                            "ticks": ""
                          }
                        },
                        "type": "scattercarpet"
                      }
                    ],
                    "pie": [
                      {
                        "automargin": true,
                        "type": "pie"
                      }
                    ],
                    "surface": [
                      {
                        "colorbar": {
                          "outlinewidth": 0,
                          "ticks": ""
                        },
                        "type": "surface",
                        "colorscale": [
                          [
                            0,
                            "#0d0887"
                          ],
                          [
                            0.1111111111111111,
                            "#46039f"
                          ],
                          [
                            0.2222222222222222,
                            "#7201a8"
                          ],
                          [
                            0.3333333333333333,
                            "#9c179e"
                          ],
                          [
                            0.4444444444444444,
                            "#bd3786"
                          ],
                          [
                            0.5555555555555556,
                            "#d8576b"
                          ],
                          [
                            0.6666666666666666,
                            "#ed7953"
                          ],
                          [
                            0.7777777777777778,
                            "#fb9f3a"
                          ],
                          [
                            0.8888888888888888,
                            "#fdca26"
                          ],
                          [
                            1,
                            "#f0f921"
                          ]
                        ]
                      }
                    ],
                    "table": [
                      {
                        "header": {
                          "line": {
                            "color": "white"
                          },
                          "fill": {
                            "color": "#C8D4E3"
                          }
                        },
                        "cells": {
                          "line": {
                            "color": "white"
                          },
                          "fill": {
                            "color": "#EBF0F8"
                          }
                        },
                        "type": "table"
                      }
                    ],
                    "scatterpolargl": [
                      {
                        "marker": {
                          "colorbar": {
                            "outlinewidth": 0,
                            "ticks": ""
                          }
                        },
                        "type": "scatterpolargl"
                      }
                    ],
                    "contour": [
                      {
                        "colorbar": {
                          "outlinewidth": 0,
                          "ticks": ""
                        },
                        "type": "contour",
                        "colorscale": [
                          [
                            0,
                            "#0d0887"
                          ],
                          [
                            0.1111111111111111,
                            "#46039f"
                          ],
                          [
                            0.2222222222222222,
                            "#7201a8"
                          ],
                          [
                            0.3333333333333333,
                            "#9c179e"
                          ],
                          [
                            0.4444444444444444,
                            "#bd3786"
                          ],
                          [
                            0.5555555555555556,
                            "#d8576b"
                          ],
                          [
                            0.6666666666666666,
                            "#ed7953"
                          ],
                          [
                            0.7777777777777778,
                            "#fb9f3a"
                          ],
                          [
                            0.8888888888888888,
                            "#fdca26"
                          ],
                          [
                            1,
                            "#f0f921"
                          ]
                        ]
                      }
                    ],
                    "carpet": [
                      {
                        "type": "carpet",
                        "baxis": {
                          "minorgridcolor": "white",
                          "gridcolor": "white",
                          "linecolor": "white",
                          "endlinecolor": "#2a3f5f",
                          "startlinecolor": "#2a3f5f"
                        },
                        "aaxis": {
                          "minorgridcolor": "white",
                          "gridcolor": "white",
                          "linecolor": "white",
                          "endlinecolor": "#2a3f5f",
                          "startlinecolor": "#2a3f5f"
                        }
                      }
                    ],
                    "contourcarpet": [
                      {
                        "colorbar": {
                          "outlinewidth": 0,
                          "ticks": ""
                        },
                        "type": "contourcarpet"
                      }
                    ],
                    "heatmap": [
                      {
                        "colorbar": {
                          "outlinewidth": 0,
                          "ticks": ""
                        },
                        "type": "heatmap",
                        "colorscale": [
                          [
                            0,
                            "#0d0887"
                          ],
                          [
                            0.1111111111111111,
                            "#46039f"
                          ],
                          [
                            0.2222222222222222,
                            "#7201a8"
                          ],
                          [
                            0.3333333333333333,
                            "#9c179e"
                          ],
                          [
                            0.4444444444444444,
                            "#bd3786"
                          ],
                          [
                            0.5555555555555556,
                            "#d8576b"
                          ],
                          [
                            0.6666666666666666,
                            "#ed7953"
                          ],
                          [
                            0.7777777777777778,
                            "#fb9f3a"
                          ],
                          [
                            0.8888888888888888,
                            "#fdca26"
                          ],
                          [
                            1,
                            "#f0f921"
                          ]
                        ]
                      }
                    ],
                    "scattermapbox": [
                      {
                        "marker": {
                          "colorbar": {
                            "outlinewidth": 0,
                            "ticks": ""
                          }
                        },
                        "type": "scattermapbox"
                      }
                    ],
                    "scatter3d": [
                      {
                        "marker": {
                          "colorbar": {
                            "outlinewidth": 0,
                            "ticks": ""
                          }
                        },
                        "line": {
                          "colorbar": {
                            "outlinewidth": 0,
                            "ticks": ""
                          }
                        },
                        "type": "scatter3d"
                      }
                    ],
                    "scattergl": [
                      {
                        "marker": {
                          "colorbar": {
                            "outlinewidth": 0,
                            "ticks": ""
                          }
                        },
                        "type": "scattergl"
                      }
                    ],
                    "scatterternary": [
                      {
                        "marker": {
                          "colorbar": {
                            "outlinewidth": 0,
                            "ticks": ""
                          }
                        },
                        "type": "scatterternary"
                      }
                    ],
                    "histogram": [
                      {
                        "marker": {
                          "colorbar": {
                            "outlinewidth": 0,
                            "ticks": ""
                          }
                        },
                        "type": "histogram"
                      }
                    ],
                    "heatmapgl": [
                      {
                        "colorbar": {
                          "outlinewidth": 0,
                          "ticks": ""
                        },
                        "type": "heatmapgl",
                        "colorscale": [
                          [
                            0,
                            "#0d0887"
                          ],
                          [
                            0.1111111111111111,
                            "#46039f"
                          ],
                          [
                            0.2222222222222222,
                            "#7201a8"
                          ],
                          [
                            0.3333333333333333,
                            "#9c179e"
                          ],
                          [
                            0.4444444444444444,
                            "#bd3786"
                          ],
                          [
                            0.5555555555555556,
                            "#d8576b"
                          ],
                          [
                            0.6666666666666666,
                            "#ed7953"
                          ],
                          [
                            0.7777777777777778,
                            "#fb9f3a"
                          ],
                          [
                            0.8888888888888888,
                            "#fdca26"
                          ],
                          [
                            1,
                            "#f0f921"
                          ]
                        ]
                      }
                    ],
                    "scatterpolar": [
                      {
                        "marker": {
                          "colorbar": {
                            "outlinewidth": 0,
                            "ticks": ""
                          }
                        },
                        "type": "scatterpolar"
                      }
                    ],
                    "histogram2d": [
                      {
                        "colorbar": {
                          "outlinewidth": 0,
                          "ticks": ""
                        },
                        "type": "histogram2d",
                        "colorscale": [
                          [
                            0,
                            "#0d0887"
                          ],
                          [
                            0.1111111111111111,
                            "#46039f"
                          ],
                          [
                            0.2222222222222222,
                            "#7201a8"
                          ],
                          [
                            0.3333333333333333,
                            "#9c179e"
                          ],
                          [
                            0.4444444444444444,
                            "#bd3786"
                          ],
                          [
                            0.5555555555555556,
                            "#d8576b"
                          ],
                          [
                            0.6666666666666666,
                            "#ed7953"
                          ],
                          [
                            0.7777777777777778,
                            "#fb9f3a"
                          ],
                          [
                            0.8888888888888888,
                            "#fdca26"
                          ],
                          [
                            1,
                            "#f0f921"
                          ]
                        ]
                      }
                    ],
                    "scattergeo": [
                      {
                        "marker": {
                          "colorbar": {
                            "outlinewidth": 0,
                            "ticks": ""
                          }
                        },
                        "type": "scattergeo"
                      }
                    ],
                    "bar": [
                      {
                        "marker": {
                          "line": {
                            "color": "#E5ECF6",
                            "width": 0.5
                          }
                        },
                        "type": "bar",
                        "error_x": {
                          "color": "#2a3f5f"
                        },
                        "error_y": {
                          "color": "#2a3f5f"
                        }
                      }
                    ],
                    "choropleth": [
                      {
                        "colorbar": {
                          "outlinewidth": 0,
                          "ticks": ""
                        },
                        "type": "choropleth"
                      }
                    ],
                    "parcoords": [
                      {
                        "line": {
                          "colorbar": {
                            "outlinewidth": 0,
                            "ticks": ""
                          }
                        },
                        "type": "parcoords"
                      }
                    ],
                    "barpolar": [
                      {
                        "marker": {
                          "line": {
                            "color": "#E5ECF6",
                            "width": 0.5
                          }
                        },
                        "type": "barpolar"
                      }
                    ],
                    "histogram2dcontour": [
                      {
                        "colorbar": {
                          "outlinewidth": 0,
                          "ticks": ""
                        },
                        "type": "histogram2dcontour",
                        "colorscale": [
                          [
                            0,
                            "#0d0887"
                          ],
                          [
                            0.1111111111111111,
                            "#46039f"
                          ],
                          [
                            0.2222222222222222,
                            "#7201a8"
                          ],
                          [
                            0.3333333333333333,
                            "#9c179e"
                          ],
                          [
                            0.4444444444444444,
                            "#bd3786"
                          ],
                          [
                            0.5555555555555556,
                            "#d8576b"
                          ],
                          [
                            0.6666666666666666,
                            "#ed7953"
                          ],
                          [
                            0.7777777777777778,
                            "#fb9f3a"
                          ],
                          [
                            0.8888888888888888,
                            "#fdca26"
                          ],
                          [
                            1,
                            "#f0f921"
                          ]
                        ]
                      }
                    ],
                    "scatter": [
                      {
                        "marker": {
                          "colorbar": {
                            "outlinewidth": 0,
                            "ticks": ""
                          }
                        },
                        "type": "scatter"
                      }
                    ]
                  }
                },
                "margin": {
                  "t": 60
                },
                "legend": {
                  "tracegroupgap": 0
                }
              }
            }
          },
          "metadata": {
            "tags": []
          }
        }
      ]
    },
    {
      "cell_type": "markdown",
      "metadata": {
        "id": "0nUibfDh-8MQ",
        "colab_type": "text"
      },
      "source": [
        "## Question-2\n",
        "**How is age is affecting the mortality rate?**\n",
        "\n",
        "From the below chart, it shows mortality rate in each state with a age group marker."
      ]
    },
    {
      "cell_type": "code",
      "metadata": {
        "id": "sPyBA3Vy-_vg",
        "colab_type": "code",
        "colab": {
          "base_uri": "https://localhost:8080/",
          "height": 542
        },
        "outputId": "14ec857a-faf3-403e-9908-a7e8b8b15d48"
      },
      "source": [
        "fig = px.bar(df, x='State', y='Total Deaths', color= 'Age_group',title='Total Deaths by each state and grouped by Age group')\n",
        "fig.show()"
      ],
      "execution_count": 56,
      "outputs": [
        {
          "output_type": "display_data",
          "data": {
            "text/html": [
              "<div>\n",
              "        \n",
              "        \n",
              "            <div id=\"2aac3839-bdc7-49fc-b8ae-5b47a6a578ca\" class=\"plotly-graph-div\" style=\"height:525px; width:100%;\"></div>\n",
              "            <script type=\"text/javascript\">\n",
              "                require([\"plotly\"], function(Plotly) {\n",
              "                    window.PLOTLYENV=window.PLOTLYENV || {};\n",
              "                    \n",
              "                if (document.getElementById(\"2aac3839-bdc7-49fc-b8ae-5b47a6a578ca\")) {\n",
              "                    Plotly.newPlot(\n",
              "                        '2aac3839-bdc7-49fc-b8ae-5b47a6a578ca',\n",
              "                        [{\"alignmentgroup\": \"True\", \"hoverlabel\": {\"namelength\": 0}, \"hovertemplate\": \"Age_group=Under 1 year<br>State=%{x}<br>Total Deaths=%{y}\", \"legendgroup\": \"Age_group=Under 1 year\", \"marker\": {\"color\": \"#636efa\"}, \"name\": \"Age_group=Under 1 year\", \"offsetgroup\": \"Age_group=Under 1 year\", \"orientation\": \"v\", \"showlegend\": true, \"textposition\": \"auto\", \"type\": \"bar\", \"x\": [\"Alabama\", \"Alabama\", \"Alaska\", \"Alaska\", \"Arizona\", \"Arizona\", \"Arkansas\", \"Arkansas\", \"California\", \"California\", \"Colorado\", \"Colorado\", \"Connecticut\", \"Connecticut\", \"Delaware\", \"Delaware\", \"District of Columbia\", \"District of Columbia\", \"Florida\", \"Florida\", \"Georgia\", \"Georgia\", \"Hawaii\", \"Hawaii\", \"Idaho\", \"Idaho\", \"Illinois\", \"Illinois\", \"Indiana\", \"Indiana\", \"Iowa\", \"Iowa\", \"Kansas\", \"Kansas\", \"Kentucky\", \"Kentucky\", \"Louisiana\", \"Louisiana\", \"Maine\", \"Maine\", \"Maryland\", \"Maryland\", \"Massachusetts\", \"Massachusetts\", \"Michigan\", \"Michigan\", \"Minnesota\", \"Minnesota\", \"Mississippi\", \"Mississippi\", \"Missouri\", \"Missouri\", \"Montana\", \"Montana\", \"Nebraska\", \"Nebraska\", \"Nevada\", \"Nevada\", \"New Hampshire\", \"New Hampshire\", \"New Jersey\", \"New Jersey\", \"New Mexico\", \"New Mexico\", \"New York\", \"New York\", \"New York City\", \"New York City\", \"North Carolina\", \"North Carolina\", \"North Dakota\", \"North Dakota\", \"Ohio\", \"Ohio\", \"Oklahoma\", \"Oklahoma\", \"Oregon\", \"Oregon\", \"Pennsylvania\", \"Pennsylvania\", \"Rhode Island\", \"Rhode Island\", \"South Carolina\", \"South Carolina\", \"South Dakota\", \"South Dakota\", \"Tennessee\", \"Tennessee\", \"Texas\", \"Texas\", \"Utah\", \"Utah\", \"Vermont\", \"Vermont\", \"Virginia\", \"Virginia\", \"Washington\", \"Washington\", \"West Virginia\", \"West Virginia\", \"Wisconsin\", \"Wisconsin\", \"Wyoming\", \"Wyoming\", \"Puerto Rico\", \"Puerto Rico\"], \"xaxis\": \"x\", \"y\": [74.0, 47.0, null, null, 89.0, 69.0, 61.0, 35.0, 393.0, 292.0, 75.0, 71.0, 20.0, 15.0, null, null, 21.0, 17.0, 291.0, 231.0, 113.0, 82.0, 12.0, 18.0, 29.0, 18.0, 151.0, 111.0, 89.0, 80.0, 26.0, 25.0, 47.0, 28.0, 40.0, 36.0, 71.0, 58.0, 15.0, 14.0, 61.0, 64.0, 56.0, 43.0, 144.0, 137.0, 64.0, 43.0, 37.0, 31.0, 71.0, 72.0, 11.0, 11.0, 32.0, 17.0, 24.0, 23.0, 13.0, null, 75.0, 63.0, 13.0, 14.0, 111.0, 83.0, 94.0, 79.0, 133.0, 107.0, null, 11.0, 189.0, 152.0, 58.0, 39.0, 44.0, 30.0, 165.0, 118.0, 10.0, 12.0, 75.0, 52.0, 12.0, null, 131.0, 86.0, 410.0, 309.0, 52.0, 53.0, null, 0.0, 97.0, 86.0, 76.0, 63.0, 21.0, 12.0, 83.0, 55.0, null, null, 26.0, 25.0], \"yaxis\": \"y\"}, {\"alignmentgroup\": \"True\", \"hoverlabel\": {\"namelength\": 0}, \"hovertemplate\": \"Age_group=1-4 years<br>State=%{x}<br>Total Deaths=%{y}\", \"legendgroup\": \"Age_group=1-4 years\", \"marker\": {\"color\": \"#EF553B\"}, \"name\": \"Age_group=1-4 years\", \"offsetgroup\": \"Age_group=1-4 years\", \"orientation\": \"v\", \"showlegend\": true, \"textposition\": \"auto\", \"type\": \"bar\", \"x\": [\"Alabama\", \"Alabama\", \"Alaska\", \"Alaska\", \"Arizona\", \"Arizona\", \"Arkansas\", \"Arkansas\", \"California\", \"California\", \"Colorado\", \"Colorado\", \"Connecticut\", \"Connecticut\", \"Delaware\", \"Delaware\", \"District of Columbia\", \"District of Columbia\", \"Florida\", \"Florida\", \"Georgia\", \"Georgia\", \"Hawaii\", \"Hawaii\", \"Idaho\", \"Idaho\", \"Illinois\", \"Illinois\", \"Indiana\", \"Indiana\", \"Iowa\", \"Iowa\", \"Kansas\", \"Kansas\", \"Kentucky\", \"Kentucky\", \"Louisiana\", \"Louisiana\", \"Maine\", \"Maine\", \"Maryland\", \"Maryland\", \"Massachusetts\", \"Massachusetts\", \"Michigan\", \"Michigan\", \"Minnesota\", \"Minnesota\", \"Mississippi\", \"Mississippi\", \"Missouri\", \"Missouri\", \"Montana\", \"Montana\", \"Nebraska\", \"Nebraska\", \"Nevada\", \"Nevada\", \"New Hampshire\", \"New Hampshire\", \"New Jersey\", \"New Jersey\", \"New Mexico\", \"New Mexico\", \"New York\", \"New York\", \"New York City\", \"New York City\", \"North Carolina\", \"North Carolina\", \"North Dakota\", \"North Dakota\", \"Ohio\", \"Ohio\", \"Oklahoma\", \"Oklahoma\", \"Oregon\", \"Oregon\", \"Pennsylvania\", \"Pennsylvania\", \"Rhode Island\", \"Rhode Island\", \"South Carolina\", \"South Carolina\", \"South Dakota\", \"South Dakota\", \"Tennessee\", \"Tennessee\", \"Texas\", \"Texas\", \"Utah\", \"Utah\", \"Vermont\", \"Vermont\", \"Virginia\", \"Virginia\", \"Washington\", \"Washington\", \"West Virginia\", \"West Virginia\", \"Wisconsin\", \"Wisconsin\", \"Wyoming\", \"Wyoming\", \"Puerto Rico\", \"Puerto Rico\"], \"xaxis\": \"x\", \"y\": [16.0, 16.0, null, null, 27.0, 21.0, 15.0, 11.0, 76.0, 46.0, 11.0, null, null, null, null, null, null, null, 58.0, 52.0, 34.0, 21.0, null, null, null, null, 28.0, 17.0, 14.0, 11.0, 10.0, null, null, null, 11.0, null, 13.0, null, null, null, null, null, null, null, 17.0, 17.0, 18.0, 11.0, 15.0, null, 16.0, 13.0, null, null, 0.0, null, null, null, null, null, 16.0, null, null, null, 19.0, null, 17.0, null, 17.0, 10.0, null, 0.0, 34.0, 17.0, 15.0, null, 10.0, null, 35.0, 29.0, null, null, 17.0, 15.0, null, null, 26.0, 20.0, 89.0, 68.0, null, null, null, 0.0, 15.0, 15.0, 16.0, 11.0, null, null, null, 12.0, null, 0.0, null, null], \"yaxis\": \"y\"}, {\"alignmentgroup\": \"True\", \"hoverlabel\": {\"namelength\": 0}, \"hovertemplate\": \"Age_group=5-14 years<br>State=%{x}<br>Total Deaths=%{y}\", \"legendgroup\": \"Age_group=5-14 years\", \"marker\": {\"color\": \"#00cc96\"}, \"name\": \"Age_group=5-14 years\", \"offsetgroup\": \"Age_group=5-14 years\", \"orientation\": \"v\", \"showlegend\": true, \"textposition\": \"auto\", \"type\": \"bar\", \"x\": [\"Alabama\", \"Alabama\", \"Alaska\", \"Alaska\", \"Arizona\", \"Arizona\", \"Arkansas\", \"Arkansas\", \"California\", \"California\", \"Colorado\", \"Colorado\", \"Connecticut\", \"Connecticut\", \"Delaware\", \"Delaware\", \"District of Columbia\", \"District of Columbia\", \"Florida\", \"Florida\", \"Georgia\", \"Georgia\", \"Hawaii\", \"Hawaii\", \"Idaho\", \"Idaho\", \"Illinois\", \"Illinois\", \"Indiana\", \"Indiana\", \"Iowa\", \"Iowa\", \"Kansas\", \"Kansas\", \"Kentucky\", \"Kentucky\", \"Louisiana\", \"Louisiana\", \"Maine\", \"Maine\", \"Maryland\", \"Maryland\", \"Massachusetts\", \"Massachusetts\", \"Michigan\", \"Michigan\", \"Minnesota\", \"Minnesota\", \"Mississippi\", \"Mississippi\", \"Missouri\", \"Missouri\", \"Montana\", \"Montana\", \"Nebraska\", \"Nebraska\", \"Nevada\", \"Nevada\", \"New Hampshire\", \"New Hampshire\", \"New Jersey\", \"New Jersey\", \"New Mexico\", \"New Mexico\", \"New York\", \"New York\", \"New York City\", \"New York City\", \"North Carolina\", \"North Carolina\", \"North Dakota\", \"North Dakota\", \"Ohio\", \"Ohio\", \"Oklahoma\", \"Oklahoma\", \"Oregon\", \"Oregon\", \"Pennsylvania\", \"Pennsylvania\", \"Rhode Island\", \"Rhode Island\", \"South Carolina\", \"South Carolina\", \"South Dakota\", \"South Dakota\", \"Tennessee\", \"Tennessee\", \"Texas\", \"Texas\", \"Utah\", \"Utah\", \"Vermont\", \"Vermont\", \"Virginia\", \"Virginia\", \"Washington\", \"Washington\", \"West Virginia\", \"West Virginia\", \"Wisconsin\", \"Wisconsin\", \"Wyoming\", \"Wyoming\", \"Puerto Rico\", \"Puerto Rico\"], \"xaxis\": \"x\", \"y\": [31.0, 16.0, null, null, 29.0, 22.0, 17.0, 10.0, 114.0, 82.0, 28.0, 12.0, null, null, null, null, null, null, 90.0, 56.0, 47.0, 31.0, null, null, 13.0, null, 45.0, 33.0, 32.0, 19.0, 12.0, null, 12.0, null, 15.0, 14.0, 26.0, 16.0, null, null, 14.0, 14.0, 13.0, null, 35.0, 20.0, 16.0, null, 22.0, 14.0, 33.0, 19.0, null, null, null, null, 13.0, null, null, null, 13.0, 12.0, null, null, 33.0, 29.0, 29.0, 18.0, 28.0, 26.0, null, null, 55.0, 30.0, 21.0, 11.0, 10.0, 10.0, 43.0, 27.0, null, null, 26.0, 17.0, null, null, 39.0, 14.0, 135.0, 100.0, 15.0, 10.0, null, 0.0, 24.0, 18.0, 26.0, 16.0, null, null, 22.0, 18.0, null, null, null, null], \"yaxis\": \"y\"}, {\"alignmentgroup\": \"True\", \"hoverlabel\": {\"namelength\": 0}, \"hovertemplate\": \"Age_group=15-24 years<br>State=%{x}<br>Total Deaths=%{y}\", \"legendgroup\": \"Age_group=15-24 years\", \"marker\": {\"color\": \"#ab63fa\"}, \"name\": \"Age_group=15-24 years\", \"offsetgroup\": \"Age_group=15-24 years\", \"orientation\": \"v\", \"showlegend\": true, \"textposition\": \"auto\", \"type\": \"bar\", \"x\": [\"Alabama\", \"Alabama\", \"Alaska\", \"Alaska\", \"Arizona\", \"Arizona\", \"Arkansas\", \"Arkansas\", \"California\", \"California\", \"Colorado\", \"Colorado\", \"Connecticut\", \"Connecticut\", \"Delaware\", \"Delaware\", \"District of Columbia\", \"District of Columbia\", \"Florida\", \"Florida\", \"Georgia\", \"Georgia\", \"Hawaii\", \"Hawaii\", \"Idaho\", \"Idaho\", \"Illinois\", \"Illinois\", \"Indiana\", \"Indiana\", \"Iowa\", \"Iowa\", \"Kansas\", \"Kansas\", \"Kentucky\", \"Kentucky\", \"Louisiana\", \"Louisiana\", \"Maine\", \"Maine\", \"Maryland\", \"Maryland\", \"Massachusetts\", \"Massachusetts\", \"Michigan\", \"Michigan\", \"Minnesota\", \"Minnesota\", \"Mississippi\", \"Mississippi\", \"Missouri\", \"Missouri\", \"Montana\", \"Montana\", \"Nebraska\", \"Nebraska\", \"Nevada\", \"Nevada\", \"New Hampshire\", \"New Hampshire\", \"New Jersey\", \"New Jersey\", \"New Mexico\", \"New Mexico\", \"New York\", \"New York\", \"New York City\", \"New York City\", \"North Carolina\", \"North Carolina\", \"North Dakota\", \"North Dakota\", \"Ohio\", \"Ohio\", \"Oklahoma\", \"Oklahoma\", \"Oregon\", \"Oregon\", \"Pennsylvania\", \"Pennsylvania\", \"Rhode Island\", \"Rhode Island\", \"South Carolina\", \"South Carolina\", \"South Dakota\", \"South Dakota\", \"Tennessee\", \"Tennessee\", \"Texas\", \"Texas\", \"Utah\", \"Utah\", \"Vermont\", \"Vermont\", \"Virginia\", \"Virginia\", \"Washington\", \"Washington\", \"West Virginia\", \"West Virginia\", \"Wisconsin\", \"Wisconsin\", \"Wyoming\", \"Wyoming\", \"Puerto Rico\", \"Puerto Rico\"], \"xaxis\": \"x\", \"y\": [192.0, 69.0, 31.0, 12.0, 331.0, 99.0, 117.0, 42.0, 1054.0, 336.0, 208.0, 75.0, 45.0, 19.0, 22.0, 11.0, 45.0, null, 676.0, 244.0, 297.0, 104.0, 24.0, 12.0, 61.0, 18.0, 424.0, 141.0, 207.0, 66.0, 74.0, 23.0, 92.0, 36.0, 135.0, 54.0, 155.0, 62.0, 36.0, null, 191.0, 62.0, 115.0, 61.0, 277.0, 90.0, 109.0, 46.0, 129.0, 40.0, 205.0, 64.0, 46.0, 11.0, 48.0, 17.0, 111.0, 37.0, 26.0, 12.0, 168.0, 67.0, 69.0, 22.0, 245.0, 91.0, 176.0, 72.0, 293.0, 121.0, 22.0, null, 357.0, 142.0, 119.0, 53.0, 99.0, 36.0, 291.0, 111.0, 15.0, null, 223.0, 85.0, 27.0, null, 300.0, 117.0, 939.0, 316.0, 94.0, 34.0, null, null, 229.0, 67.0, 207.0, 57.0, 42.0, null, 164.0, 61.0, 14.0, null, 81.0, 20.0], \"yaxis\": \"y\"}, {\"alignmentgroup\": \"True\", \"hoverlabel\": {\"namelength\": 0}, \"hovertemplate\": \"Age_group=25-34 years<br>State=%{x}<br>Total Deaths=%{y}\", \"legendgroup\": \"Age_group=25-34 years\", \"marker\": {\"color\": \"#FFA15A\"}, \"name\": \"Age_group=25-34 years\", \"offsetgroup\": \"Age_group=25-34 years\", \"orientation\": \"v\", \"showlegend\": true, \"textposition\": \"auto\", \"type\": \"bar\", \"x\": [\"Alabama\", \"Alabama\", \"Alaska\", \"Alaska\", \"Arizona\", \"Arizona\", \"Arkansas\", \"Arkansas\", \"California\", \"California\", \"Colorado\", \"Colorado\", \"Connecticut\", \"Connecticut\", \"Delaware\", \"Delaware\", \"District of Columbia\", \"District of Columbia\", \"Florida\", \"Florida\", \"Georgia\", \"Georgia\", \"Hawaii\", \"Hawaii\", \"Idaho\", \"Idaho\", \"Illinois\", \"Illinois\", \"Indiana\", \"Indiana\", \"Iowa\", \"Iowa\", \"Kansas\", \"Kansas\", \"Kentucky\", \"Kentucky\", \"Louisiana\", \"Louisiana\", \"Maine\", \"Maine\", \"Maryland\", \"Maryland\", \"Massachusetts\", \"Massachusetts\", \"Michigan\", \"Michigan\", \"Minnesota\", \"Minnesota\", \"Mississippi\", \"Mississippi\", \"Missouri\", \"Missouri\", \"Montana\", \"Montana\", \"Nebraska\", \"Nebraska\", \"Nevada\", \"Nevada\", \"New Hampshire\", \"New Hampshire\", \"New Jersey\", \"New Jersey\", \"New Mexico\", \"New Mexico\", \"New York\", \"New York\", \"New York City\", \"New York City\", \"North Carolina\", \"North Carolina\", \"North Dakota\", \"North Dakota\", \"Ohio\", \"Ohio\", \"Oklahoma\", \"Oklahoma\", \"Oregon\", \"Oregon\", \"Pennsylvania\", \"Pennsylvania\", \"Rhode Island\", \"Rhode Island\", \"South Carolina\", \"South Carolina\", \"South Dakota\", \"South Dakota\", \"Tennessee\", \"Tennessee\", \"Texas\", \"Texas\", \"Utah\", \"Utah\", \"Vermont\", \"Vermont\", \"Virginia\", \"Virginia\", \"Washington\", \"Washington\", \"West Virginia\", \"West Virginia\", \"Wisconsin\", \"Wisconsin\", \"Wyoming\", \"Wyoming\", \"Puerto Rico\", \"Puerto Rico\"], \"xaxis\": \"x\", \"y\": [340.0, 158.0, 41.0, 26.0, 550.0, 245.0, 214.0, 104.0, 1978.0, 725.0, 406.0, 149.0, 124.0, 36.0, 58.0, 18.0, 73.0, 28.0, 1400.0, 632.0, 535.0, 241.0, 46.0, 21.0, 70.0, 40.0, 798.0, 299.0, 428.0, 172.0, 122.0, 49.0, 149.0, 56.0, 284.0, 127.0, 350.0, 161.0, 81.0, 31.0, 444.0, 205.0, 363.0, 171.0, 578.0, 272.0, 216.0, 107.0, 237.0, 93.0, 419.0, 157.0, 52.0, 39.0, 91.0, 28.0, 184.0, 78.0, 74.0, 37.0, 532.0, 216.0, 176.0, 67.0, 628.0, 244.0, 499.0, 211.0, 507.0, 228.0, 52.0, 13.0, 862.0, 416.0, 234.0, 101.0, 188.0, 82.0, 817.0, 344.0, 40.0, 27.0, 395.0, 163.0, 40.0, 16.0, 609.0, 306.0, 1470.0, 594.0, 145.0, 88.0, 34.0, null, 440.0, 200.0, 354.0, 133.0, 120.0, 60.0, 322.0, 136.0, 40.0, 15.0, 137.0, 48.0], \"yaxis\": \"y\"}, {\"alignmentgroup\": \"True\", \"hoverlabel\": {\"namelength\": 0}, \"hovertemplate\": \"Age_group=35-44 years<br>State=%{x}<br>Total Deaths=%{y}\", \"legendgroup\": \"Age_group=35-44 years\", \"marker\": {\"color\": \"#19d3f3\"}, \"name\": \"Age_group=35-44 years\", \"offsetgroup\": \"Age_group=35-44 years\", \"orientation\": \"v\", \"showlegend\": true, \"textposition\": \"auto\", \"type\": \"bar\", \"x\": [\"Alabama\", \"Alabama\", \"Alaska\", \"Alaska\", \"Arizona\", \"Arizona\", \"Arkansas\", \"Arkansas\", \"California\", \"California\", \"Colorado\", \"Colorado\", \"Connecticut\", \"Connecticut\", \"Delaware\", \"Delaware\", \"District of Columbia\", \"District of Columbia\", \"Florida\", \"Florida\", \"Georgia\", \"Georgia\", \"Hawaii\", \"Hawaii\", \"Idaho\", \"Idaho\", \"Illinois\", \"Illinois\", \"Indiana\", \"Indiana\", \"Iowa\", \"Iowa\", \"Kansas\", \"Kansas\", \"Kentucky\", \"Kentucky\", \"Louisiana\", \"Louisiana\", \"Maine\", \"Maine\", \"Maryland\", \"Maryland\", \"Massachusetts\", \"Massachusetts\", \"Michigan\", \"Michigan\", \"Minnesota\", \"Minnesota\", \"Mississippi\", \"Mississippi\", \"Missouri\", \"Missouri\", \"Montana\", \"Montana\", \"Nebraska\", \"Nebraska\", \"Nevada\", \"Nevada\", \"New Hampshire\", \"New Hampshire\", \"New Jersey\", \"New Jersey\", \"New Mexico\", \"New Mexico\", \"New York\", \"New York\", \"New York City\", \"New York City\", \"North Carolina\", \"North Carolina\", \"North Dakota\", \"North Dakota\", \"Ohio\", \"Ohio\", \"Oklahoma\", \"Oklahoma\", \"Oregon\", \"Oregon\", \"Pennsylvania\", \"Pennsylvania\", \"Rhode Island\", \"Rhode Island\", \"South Carolina\", \"South Carolina\", \"South Dakota\", \"South Dakota\", \"Tennessee\", \"Tennessee\", \"Texas\", \"Texas\", \"Utah\", \"Utah\", \"Vermont\", \"Vermont\", \"Virginia\", \"Virginia\", \"Washington\", \"Washington\", \"West Virginia\", \"West Virginia\", \"Wisconsin\", \"Wisconsin\", \"Wyoming\", \"Wyoming\", \"Puerto Rico\", \"Puerto Rico\"], \"xaxis\": \"x\", \"y\": [491.0, 291.0, 40.0, 37.0, 628.0, 304.0, 286.0, 184.0, 2500.0, 1188.0, 486.0, 212.0, 157.0, 83.0, 69.0, 47.0, 96.0, 35.0, 1823.0, 986.0, 712.0, 454.0, 84.0, 36.0, 107.0, 62.0, 1063.0, 514.0, 497.0, 263.0, 173.0, 93.0, 196.0, 119.0, 492.0, 229.0, 447.0, 263.0, 118.0, 47.0, 570.0, 279.0, 529.0, 247.0, 800.0, 437.0, 282.0, 174.0, 331.0, 212.0, 523.0, 279.0, 70.0, 35.0, 95.0, 59.0, 255.0, 125.0, 77.0, 39.0, 823.0, 362.0, 227.0, 118.0, 799.0, 415.0, 992.0, 388.0, 672.0, 367.0, 62.0, 28.0, 1071.0, 592.0, 334.0, 179.0, 232.0, 141.0, 945.0, 515.0, 61.0, 37.0, 464.0, 300.0, 59.0, 31.0, 789.0, 475.0, 2018.0, 1064.0, 207.0, 128.0, 46.0, 18.0, 635.0, 319.0, 467.0, 238.0, 205.0, 95.0, 372.0, 205.0, 49.0, 23.0, 202.0, 84.0], \"yaxis\": \"y\"}, {\"alignmentgroup\": \"True\", \"hoverlabel\": {\"namelength\": 0}, \"hovertemplate\": \"Age_group=45-54 years<br>State=%{x}<br>Total Deaths=%{y}\", \"legendgroup\": \"Age_group=45-54 years\", \"marker\": {\"color\": \"#FF6692\"}, \"name\": \"Age_group=45-54 years\", \"offsetgroup\": \"Age_group=45-54 years\", \"orientation\": \"v\", \"showlegend\": true, \"textposition\": \"auto\", \"type\": \"bar\", \"x\": [\"Alabama\", \"Alabama\", \"Alaska\", \"Alaska\", \"Arizona\", \"Arizona\", \"Arkansas\", \"Arkansas\", \"California\", \"California\", \"Colorado\", \"Colorado\", \"Connecticut\", \"Connecticut\", \"Delaware\", \"Delaware\", \"District of Columbia\", \"District of Columbia\", \"Florida\", \"Florida\", \"Georgia\", \"Georgia\", \"Hawaii\", \"Hawaii\", \"Idaho\", \"Idaho\", \"Illinois\", \"Illinois\", \"Indiana\", \"Indiana\", \"Iowa\", \"Iowa\", \"Kansas\", \"Kansas\", \"Kentucky\", \"Kentucky\", \"Louisiana\", \"Louisiana\", \"Maine\", \"Maine\", \"Maryland\", \"Maryland\", \"Massachusetts\", \"Massachusetts\", \"Michigan\", \"Michigan\", \"Minnesota\", \"Minnesota\", \"Mississippi\", \"Mississippi\", \"Missouri\", \"Missouri\", \"Montana\", \"Montana\", \"Nebraska\", \"Nebraska\", \"Nevada\", \"Nevada\", \"New Hampshire\", \"New Hampshire\", \"New Jersey\", \"New Jersey\", \"New Mexico\", \"New Mexico\", \"New York\", \"New York\", \"New York City\", \"New York City\", \"North Carolina\", \"North Carolina\", \"North Dakota\", \"North Dakota\", \"Ohio\", \"Ohio\", \"Oklahoma\", \"Oklahoma\", \"Oregon\", \"Oregon\", \"Pennsylvania\", \"Pennsylvania\", \"Rhode Island\", \"Rhode Island\", \"South Carolina\", \"South Carolina\", \"South Dakota\", \"South Dakota\", \"Tennessee\", \"Tennessee\", \"Texas\", \"Texas\", \"Utah\", \"Utah\", \"Vermont\", \"Vermont\", \"Virginia\", \"Virginia\", \"Washington\", \"Washington\", \"West Virginia\", \"West Virginia\", \"Wisconsin\", \"Wisconsin\", \"Wyoming\", \"Wyoming\", \"Puerto Rico\", \"Puerto Rico\"], \"xaxis\": \"x\", \"y\": [888.0, 605.0, 73.0, 47.0, 1025.0, 536.0, 509.0, 359.0, 4380.0, 2442.0, 742.0, 407.0, 329.0, 149.0, 126.0, 70.0, 148.0, 87.0, 3098.0, 1856.0, 1428.0, 1016.0, 183.0, 95.0, 177.0, 112.0, 1884.0, 1048.0, 1000.0, 624.0, 352.0, 198.0, 356.0, 225.0, 763.0, 525.0, 822.0, 514.0, 206.0, 107.0, 877.0, 544.0, 885.0, 484.0, 1641.0, 987.0, 537.0, 333.0, 613.0, 408.0, 902.0, 561.0, 139.0, 58.0, 192.0, 126.0, 451.0, 265.0, 176.0, 111.0, 1707.0, 816.0, 343.0, 204.0, 1622.0, 884.0, 2048.0, 967.0, 1066.0, 763.0, 88.0, 46.0, 1800.0, 1140.0, 561.0, 375.0, 481.0, 290.0, 1761.0, 1017.0, 140.0, 72.0, 873.0, 580.0, 81.0, 61.0, 1383.0, 856.0, 3661.0, 2176.0, 301.0, 184.0, 72.0, 53.0, 1133.0, 654.0, 836.0, 521.0, 319.0, 187.0, 718.0, 432.0, 60.0, 44.0, 381.0, 204.0], \"yaxis\": \"y\"}, {\"alignmentgroup\": \"True\", \"hoverlabel\": {\"namelength\": 0}, \"hovertemplate\": \"Age_group=55-64 years<br>State=%{x}<br>Total Deaths=%{y}\", \"legendgroup\": \"Age_group=55-64 years\", \"marker\": {\"color\": \"#B6E880\"}, \"name\": \"Age_group=55-64 years\", \"offsetgroup\": \"Age_group=55-64 years\", \"orientation\": \"v\", \"showlegend\": true, \"textposition\": \"auto\", \"type\": \"bar\", \"x\": [\"Alabama\", \"Alabama\", \"Alaska\", \"Alaska\", \"Arizona\", \"Arizona\", \"Arkansas\", \"Arkansas\", \"California\", \"California\", \"Colorado\", \"Colorado\", \"Connecticut\", \"Connecticut\", \"Delaware\", \"Delaware\", \"District of Columbia\", \"District of Columbia\", \"Florida\", \"Florida\", \"Georgia\", \"Georgia\", \"Hawaii\", \"Hawaii\", \"Idaho\", \"Idaho\", \"Illinois\", \"Illinois\", \"Indiana\", \"Indiana\", \"Iowa\", \"Iowa\", \"Kansas\", \"Kansas\", \"Kentucky\", \"Kentucky\", \"Louisiana\", \"Louisiana\", \"Maine\", \"Maine\", \"Maryland\", \"Maryland\", \"Massachusetts\", \"Massachusetts\", \"Michigan\", \"Michigan\", \"Minnesota\", \"Minnesota\", \"Mississippi\", \"Mississippi\", \"Missouri\", \"Missouri\", \"Montana\", \"Montana\", \"Nebraska\", \"Nebraska\", \"Nevada\", \"Nevada\", \"New Hampshire\", \"New Hampshire\", \"New Jersey\", \"New Jersey\", \"New Mexico\", \"New Mexico\", \"New York\", \"New York\", \"New York City\", \"New York City\", \"North Carolina\", \"North Carolina\", \"North Dakota\", \"North Dakota\", \"Ohio\", \"Ohio\", \"Oklahoma\", \"Oklahoma\", \"Oregon\", \"Oregon\", \"Pennsylvania\", \"Pennsylvania\", \"Rhode Island\", \"Rhode Island\", \"South Carolina\", \"South Carolina\", \"South Dakota\", \"South Dakota\", \"Tennessee\", \"Tennessee\", \"Texas\", \"Texas\", \"Utah\", \"Utah\", \"Vermont\", \"Vermont\", \"Virginia\", \"Virginia\", \"Washington\", \"Washington\", \"West Virginia\", \"West Virginia\", \"Wisconsin\", \"Wisconsin\", \"Wyoming\", \"Wyoming\", \"Puerto Rico\", \"Puerto Rico\"], \"xaxis\": \"x\", \"y\": [2096.0, 1383.0, 177.0, 107.0, 2213.0, 1378.0, 1248.0, 773.0, 9650.0, 5610.0, 1511.0, 875.0, 765.0, 467.0, 281.0, 212.0, 347.0, 208.0, 7168.0, 4419.0, 3353.0, 2255.0, 392.0, 219.0, 426.0, 305.0, 4391.0, 2697.0, 2457.0, 1614.0, 958.0, 609.0, 858.0, 589.0, 1857.0, 1216.0, 1879.0, 1325.0, 522.0, 263.0, 2119.0, 1328.0, 2168.0, 1235.0, 3818.0, 2382.0, 1372.0, 849.0, 1357.0, 890.0, 2230.0, 1424.0, 326.0, 196.0, 522.0, 343.0, 1016.0, 631.0, 398.0, 263.0, 3617.0, 2000.0, 637.0, 391.0, 3877.0, 2422.0, 4383.0, 2336.0, 2419.0, 1704.0, 204.0, 110.0, 4156.0, 2712.0, 1438.0, 923.0, 1077.0, 696.0, 4133.0, 2648.0, 328.0, 202.0, 1986.0, 1276.0, 251.0, 174.0, 2981.0, 1979.0, 7884.0, 4959.0, 573.0, 384.0, 190.0, 101.0, 2483.0, 1613.0, 1829.0, 1183.0, 698.0, 434.0, 1793.0, 1083.0, 165.0, 86.0, 0.0, 0.0], \"yaxis\": \"y\"}, {\"alignmentgroup\": \"True\", \"hoverlabel\": {\"namelength\": 0}, \"hovertemplate\": \"Age_group=65-74 years<br>State=%{x}<br>Total Deaths=%{y}\", \"legendgroup\": \"Age_group=65-74 years\", \"marker\": {\"color\": \"#FF97FF\"}, \"name\": \"Age_group=65-74 years\", \"offsetgroup\": \"Age_group=65-74 years\", \"orientation\": \"v\", \"showlegend\": true, \"textposition\": \"auto\", \"type\": \"bar\", \"x\": [\"Alabama\", \"Alabama\", \"Alaska\", \"Alaska\", \"Arizona\", \"Arizona\", \"Arkansas\", \"Arkansas\", \"California\", \"California\", \"Colorado\", \"Colorado\", \"Connecticut\", \"Connecticut\", \"Delaware\", \"Delaware\", \"District of Columbia\", \"District of Columbia\", \"Florida\", \"Florida\", \"Georgia\", \"Georgia\", \"Hawaii\", \"Hawaii\", \"Idaho\", \"Idaho\", \"Illinois\", \"Illinois\", \"Indiana\", \"Indiana\", \"Iowa\", \"Iowa\", \"Kansas\", \"Kansas\", \"Kentucky\", \"Kentucky\", \"Louisiana\", \"Louisiana\", \"Maine\", \"Maine\", \"Maryland\", \"Maryland\", \"Massachusetts\", \"Massachusetts\", \"Michigan\", \"Michigan\", \"Minnesota\", \"Minnesota\", \"Mississippi\", \"Mississippi\", \"Missouri\", \"Missouri\", \"Montana\", \"Montana\", \"Nebraska\", \"Nebraska\", \"Nevada\", \"Nevada\", \"New Hampshire\", \"New Hampshire\", \"New Jersey\", \"New Jersey\", \"New Mexico\", \"New Mexico\", \"New York\", \"New York\", \"New York City\", \"New York City\", \"North Carolina\", \"North Carolina\", \"North Dakota\", \"North Dakota\", \"Ohio\", \"Ohio\", \"Oklahoma\", \"Oklahoma\", \"Oregon\", \"Oregon\", \"Pennsylvania\", \"Pennsylvania\", \"Rhode Island\", \"Rhode Island\", \"South Carolina\", \"South Carolina\", \"South Dakota\", \"South Dakota\", \"Tennessee\", \"Tennessee\", \"Texas\", \"Texas\", \"Utah\", \"Utah\", \"Vermont\", \"Vermont\", \"Virginia\", \"Virginia\", \"Washington\", \"Washington\", \"West Virginia\", \"West Virginia\", \"Wisconsin\", \"Wisconsin\", \"Wyoming\", \"Wyoming\", \"Puerto Rico\", \"Puerto Rico\"], \"xaxis\": \"x\", \"y\": [2810.0, 2154.0, 212.0, 163.0, 3389.0, 2440.0, 1786.0, 1280.0, 13458.0, 9256.0, 2186.0, 1491.0, 1223.0, 845.0, 472.0, 371.0, 439.0, 285.0, 10910.0, 7514.0, 4655.0, 3540.0, 580.0, 356.0, 720.0, 510.0, 6055.0, 4417.0, 3514.0, 2723.0, 1474.0, 1060.0, 1253.0, 940.0, 2414.0, 1854.0, 2691.0, 2028.0, 732.0, 518.0, 2734.0, 2160.0, 3274.0, 2334.0, 5547.0, 4145.0, 2086.0, 1556.0, 1865.0, 1383.0, 3242.0, 2477.0, 566.0, 353.0, 757.0, 594.0, 1541.0, 1100.0, 647.0, 445.0, 5081.0, 3477.0, 862.0, 670.0, 5814.0, 4254.0, 6151.0, 3970.0, 3775.0, 2832.0, 316.0, 181.0, 6014.0, 4381.0, 1973.0, 1545.0, 1824.0, 1355.0, 6262.0, 4640.0, 469.0, 350.0, 2841.0, 2074.0, 361.0, 273.0, 3940.0, 3056.0, 10643.0, 7702.0, 906.0, 645.0, 277.0, 217.0, 3526.0, 2651.0, 2922.0, 2121.0, 1111.0, 704.0, 2645.0, 1790.0, 234.0, 148.0, 0.0, 0.0], \"yaxis\": \"y\"}, {\"alignmentgroup\": \"True\", \"hoverlabel\": {\"namelength\": 0}, \"hovertemplate\": \"Age_group=75-84 years<br>State=%{x}<br>Total Deaths=%{y}\", \"legendgroup\": \"Age_group=75-84 years\", \"marker\": {\"color\": \"#FECB52\"}, \"name\": \"Age_group=75-84 years\", \"offsetgroup\": \"Age_group=75-84 years\", \"orientation\": \"v\", \"showlegend\": true, \"textposition\": \"auto\", \"type\": \"bar\", \"x\": [\"Alabama\", \"Alabama\", \"Alaska\", \"Alaska\", \"Arizona\", \"Arizona\", \"Arkansas\", \"Arkansas\", \"California\", \"California\", \"Colorado\", \"Colorado\", \"Connecticut\", \"Connecticut\", \"Delaware\", \"Delaware\", \"District of Columbia\", \"District of Columbia\", \"Florida\", \"Florida\", \"Georgia\", \"Georgia\", \"Hawaii\", \"Hawaii\", \"Idaho\", \"Idaho\", \"Illinois\", \"Illinois\", \"Indiana\", \"Indiana\", \"Iowa\", \"Iowa\", \"Kansas\", \"Kansas\", \"Kentucky\", \"Kentucky\", \"Louisiana\", \"Louisiana\", \"Maine\", \"Maine\", \"Maryland\", \"Maryland\", \"Massachusetts\", \"Massachusetts\", \"Michigan\", \"Michigan\", \"Minnesota\", \"Minnesota\", \"Mississippi\", \"Mississippi\", \"Missouri\", \"Missouri\", \"Montana\", \"Montana\", \"Nebraska\", \"Nebraska\", \"Nevada\", \"Nevada\", \"New Hampshire\", \"New Hampshire\", \"New Jersey\", \"New Jersey\", \"New Mexico\", \"New Mexico\", \"New York\", \"New York\", \"New York City\", \"New York City\", \"North Carolina\", \"North Carolina\", \"North Dakota\", \"North Dakota\", \"Ohio\", \"Ohio\", \"Oklahoma\", \"Oklahoma\", \"Oregon\", \"Oregon\", \"Pennsylvania\", \"Pennsylvania\", \"Rhode Island\", \"Rhode Island\", \"South Carolina\", \"South Carolina\", \"South Dakota\", \"South Dakota\", \"Tennessee\", \"Tennessee\", \"Texas\", \"Texas\", \"Utah\", \"Utah\", \"Vermont\", \"Vermont\", \"Virginia\", \"Virginia\", \"Washington\", \"Washington\", \"West Virginia\", \"West Virginia\", \"Wisconsin\", \"Wisconsin\", \"Wyoming\", \"Wyoming\", \"Puerto Rico\", \"Puerto Rico\"], \"xaxis\": \"x\", \"y\": [2923.0, 2883.0, 235.0, 141.0, 4114.0, 3555.0, 1845.0, 1697.0, 15013.0, 13526.0, 2373.0, 2065.0, 1521.0, 1513.0, 500.0, 536.0, 314.0, 270.0, 13128.0, 10981.0, 4676.0, 4583.0, 612.0, 433.0, 860.0, 754.0, 6458.0, 6275.0, 3816.0, 3754.0, 1668.0, 1522.0, 1373.0, 1279.0, 2428.0, 2474.0, 2687.0, 2714.0, 828.0, 784.0, 3061.0, 3058.0, 4156.0, 3970.0, 6117.0, 5652.0, 2618.0, 2431.0, 1849.0, 1846.0, 3542.0, 3279.0, 601.0, 427.0, 867.0, 836.0, 1675.0, 1318.0, 727.0, 672.0, 6009.0, 5750.0, 1024.0, 934.0, 6869.0, 6488.0, 6353.0, 5401.0, 4048.0, 4029.0, 357.0, 326.0, 6381.0, 6417.0, 2068.0, 1946.0, 2049.0, 1786.0, 7372.0, 6897.0, 598.0, 582.0, 2969.0, 2624.0, 434.0, 348.0, 4026.0, 3821.0, 11207.0, 10291.0, 1102.0, 1051.0, 364.0, 308.0, 4094.0, 3901.0, 3161.0, 2799.0, 1164.0, 1010.0, 2964.0, 2712.0, 235.0, 233.0, 0.0, 0.0], \"yaxis\": \"y\"}, {\"alignmentgroup\": \"True\", \"hoverlabel\": {\"namelength\": 0}, \"hovertemplate\": \"Age_group=85 years and over<br>State=%{x}<br>Total Deaths=%{y}\", \"legendgroup\": \"Age_group=85 years and over\", \"marker\": {\"color\": \"#636efa\"}, \"name\": \"Age_group=85 years and over\", \"offsetgroup\": \"Age_group=85 years and over\", \"orientation\": \"v\", \"showlegend\": true, \"textposition\": \"auto\", \"type\": \"bar\", \"x\": [\"Alabama\", \"Alabama\", \"Alaska\", \"Alaska\", \"Arizona\", \"Arizona\", \"Arkansas\", \"Arkansas\", \"California\", \"California\", \"Colorado\", \"Colorado\", \"Connecticut\", \"Connecticut\", \"Delaware\", \"Delaware\", \"District of Columbia\", \"District of Columbia\", \"Florida\", \"Florida\", \"Georgia\", \"Georgia\", \"Hawaii\", \"Hawaii\", \"Idaho\", \"Idaho\", \"Illinois\", \"Illinois\", \"Indiana\", \"Indiana\", \"Iowa\", \"Iowa\", \"Kansas\", \"Kansas\", \"Kentucky\", \"Kentucky\", \"Louisiana\", \"Louisiana\", \"Maine\", \"Maine\", \"Maryland\", \"Maryland\", \"Massachusetts\", \"Massachusetts\", \"Michigan\", \"Michigan\", \"Minnesota\", \"Minnesota\", \"Mississippi\", \"Mississippi\", \"Missouri\", \"Missouri\", \"Montana\", \"Montana\", \"Nebraska\", \"Nebraska\", \"Nevada\", \"Nevada\", \"New Hampshire\", \"New Hampshire\", \"New Jersey\", \"New Jersey\", \"New Mexico\", \"New Mexico\", \"New York\", \"New York\", \"New York City\", \"New York City\", \"North Carolina\", \"North Carolina\", \"North Dakota\", \"North Dakota\", \"Ohio\", \"Ohio\", \"Oklahoma\", \"Oklahoma\", \"Oregon\", \"Oregon\", \"Pennsylvania\", \"Pennsylvania\", \"Rhode Island\", \"Rhode Island\", \"South Carolina\", \"South Carolina\", \"South Dakota\", \"South Dakota\", \"Tennessee\", \"Tennessee\", \"Texas\", \"Texas\", \"Utah\", \"Utah\", \"Vermont\", \"Vermont\", \"Virginia\", \"Virginia\", \"Washington\", \"Washington\", \"West Virginia\", \"West Virginia\", \"Wisconsin\", \"Wisconsin\", \"Wyoming\", \"Wyoming\", \"Puerto Rico\", \"Puerto Rico\"], \"xaxis\": \"x\", \"y\": [2104.0, 3574.0, 133.0, 175.0, 3479.0, 4799.0, 1288.0, 2199.0, 16479.0, 24043.0, 2288.0, 3555.0, 1971.0, 3265.0, 515.0, 863.0, 271.0, 445.0, 12512.0, 17634.0, 3438.0, 6029.0, 719.0, 1085.0, 770.0, 1125.0, 6461.0, 10873.0, 3326.0, 5829.0, 1873.0, 2963.0, 1548.0, 2278.0, 1830.0, 3034.0, 2078.0, 3486.0, 869.0, 1286.0, 2988.0, 5071.0, 4774.0, 8191.0, 5702.0, 9382.0, 2964.0, 4632.0, 1274.0, 2207.0, 2992.0, 4862.0, 557.0, 770.0, 926.0, 1522.0, 1169.0, 1509.0, 786.0, 1227.0, 6386.0, 11084.0, 919.0, 1343.0, 7748.0, 12980.0, 5501.0, 8969.0, 3246.0, 5588.0, 399.0, 601.0, 6119.0, 10040.0, 1639.0, 2510.0, 1940.0, 2902.0, 7836.0, 13428.0, 710.0, 1273.0, 2107.0, 3520.0, 464.0, 732.0, 2823.0, 4890.0, 9177.0, 14143.0, 1080.0, 1494.0, 370.0, 536.0, 3536.0, 5897.0, 3095.0, 4709.0, 774.0, 1240.0, 3220.0, 5065.0, 237.0, 335.0, 0.0, 0.0], \"yaxis\": \"y\"}, {\"alignmentgroup\": \"True\", \"hoverlabel\": {\"namelength\": 0}, \"hovertemplate\": \"Age_group=All ages<br>State=%{x}<br>Total Deaths=%{y}\", \"legendgroup\": \"Age_group=All ages\", \"marker\": {\"color\": \"#EF553B\"}, \"name\": \"Age_group=All ages\", \"offsetgroup\": \"Age_group=All ages\", \"orientation\": \"v\", \"showlegend\": true, \"textposition\": \"auto\", \"type\": \"bar\", \"x\": [\"Alabama\", \"Alabama\", \"Alabama\", \"Alaska\", \"Alaska\", \"Alaska\", \"Arizona\", \"Arizona\", \"Arizona\", \"Arkansas\", \"Arkansas\", \"Arkansas\", \"California\", \"California\", \"California\", \"Colorado\", \"Colorado\", \"Colorado\", \"Connecticut\", \"Connecticut\", \"Connecticut\", \"Delaware\", \"Delaware\", \"Delaware\", \"District of Columbia\", \"District of Columbia\", \"District of Columbia\", \"Florida\", \"Florida\", \"Florida\", \"Georgia\", \"Georgia\", \"Georgia\", \"Hawaii\", \"Hawaii\", \"Hawaii\", \"Idaho\", \"Idaho\", \"Idaho\", \"Illinois\", \"Illinois\", \"Illinois\", \"Indiana\", \"Indiana\", \"Indiana\", \"Iowa\", \"Iowa\", \"Iowa\", \"Kansas\", \"Kansas\", \"Kansas\", \"Kentucky\", \"Kentucky\", \"Kentucky\", \"Louisiana\", \"Louisiana\", \"Louisiana\", \"Maine\", \"Maine\", \"Maine\", \"Maryland\", \"Maryland\", \"Maryland\", \"Massachusetts\", \"Massachusetts\", \"Massachusetts\", \"Michigan\", \"Michigan\", \"Michigan\", \"Minnesota\", \"Minnesota\", \"Minnesota\", \"Mississippi\", \"Mississippi\", \"Mississippi\", \"Missouri\", \"Missouri\", \"Missouri\", \"Montana\", \"Montana\", \"Montana\", \"Nebraska\", \"Nebraska\", \"Nebraska\", \"Nevada\", \"Nevada\", \"Nevada\", \"New Hampshire\", \"New Hampshire\", \"New Hampshire\", \"New Jersey\", \"New Jersey\", \"New Jersey\", \"New Mexico\", \"New Mexico\", \"New Mexico\", \"New York\", \"New York\", \"New York\", \"New York City\", \"New York City\", \"New York City\", \"North Carolina\", \"North Carolina\", \"North Carolina\", \"North Dakota\", \"North Dakota\", \"North Dakota\", \"Ohio\", \"Ohio\", \"Ohio\", \"Oklahoma\", \"Oklahoma\", \"Oklahoma\", \"Oregon\", \"Oregon\", \"Oregon\", \"Pennsylvania\", \"Pennsylvania\", \"Pennsylvania\", \"Rhode Island\", \"Rhode Island\", \"Rhode Island\", \"South Carolina\", \"South Carolina\", \"South Carolina\", \"South Dakota\", \"South Dakota\", \"South Dakota\", \"Tennessee\", \"Tennessee\", \"Tennessee\", \"Texas\", \"Texas\", \"Texas\", \"Utah\", \"Utah\", \"Utah\", \"Vermont\", \"Vermont\", \"Vermont\", \"Virginia\", \"Virginia\", \"Virginia\", \"Washington\", \"Washington\", \"Washington\", \"West Virginia\", \"West Virginia\", \"West Virginia\", \"Wisconsin\", \"Wisconsin\", \"Wisconsin\", \"Wyoming\", \"Wyoming\", \"Wyoming\", \"Puerto Rico\", \"Puerto Rico\", \"Puerto Rico\"], \"xaxis\": \"x\", \"y\": [11965.0, 11196.0, 0.0, 961.0, 719.0, 0.0, 15874.0, 13468.0, 0.0, 7386.0, 6694.0, 0.0, 65095.0, 57546.0, null, 10314.0, 8917.0, null, 6162.0, 6400.0, 15.0, 2057.0, 2142.0, 0.0, 1766.0, 1399.0, 0.0, 51154.0, 44605.0, null, 19288.0, 18356.0, 0.0, 2659.0, 2281.0, 0.0, 3240.0, 2950.0, 0.0, 27758.0, 26425.0, 0.0, 15380.0, 15155.0, 0.0, 6742.0, 6549.0, null, 5888.0, 5557.0, 0.0, 10269.0, 9569.0, null, 11219.0, 10635.0, 0.0, 3417.0, 3062.0, 0.0, 13063.0, 12794.0, 0.0, 16341.0, 16748.0, 0.0, 24676.0, 23521.0, null, 10282.0, 10190.0, 0.0, 7729.0, 7131.0, null, 14175.0, 13207.0, 0.0, 2373.0, 1905.0, 0.0, 3538.0, 3558.0, 0.0, 6447.0, 5098.0, 0.0, 2929.0, 2816.0, 0.0, 24427.0, 23856.0, null, 4285.0, 3771.0, 0.0, 27765.0, 27899.0, null, 26243.0, 22419.0, null, 16204.0, 15775.0, null, 1515.0, 1324.0, 0.0, 27038.0, 26039.0, null, 8460.0, 7691.0, 0.0, 7954.0, 7332.0, null, 29660.0, 29774.0, null, 2376.0, 2563.0, null, 11976.0, 10706.0, 0.0, 1736.0, 1656.0, 0.0, 17047.0, 15620.0, 0.0, 47633.0, 41722.0, null, 4482.0, 4079.0, 0.0, 1366.0, 1250.0, 0.0, 16212.0, 15421.0, null, 12989.0, 11851.0, null, 4466.0, 3762.0, null, 12308.0, 11569.0, 0.0, 1043.0, 896.0, 0.0, 836.0, 390.0, 0.0], \"yaxis\": \"y\"}],\n",
              "                        {\"barmode\": \"relative\", \"legend\": {\"tracegroupgap\": 0}, \"template\": {\"data\": {\"bar\": [{\"error_x\": {\"color\": \"#2a3f5f\"}, \"error_y\": {\"color\": \"#2a3f5f\"}, \"marker\": {\"line\": {\"color\": \"#E5ECF6\", \"width\": 0.5}}, \"type\": \"bar\"}], \"barpolar\": [{\"marker\": {\"line\": {\"color\": \"#E5ECF6\", \"width\": 0.5}}, \"type\": \"barpolar\"}], \"carpet\": [{\"aaxis\": {\"endlinecolor\": \"#2a3f5f\", \"gridcolor\": \"white\", \"linecolor\": \"white\", \"minorgridcolor\": \"white\", \"startlinecolor\": \"#2a3f5f\"}, \"baxis\": {\"endlinecolor\": \"#2a3f5f\", \"gridcolor\": \"white\", \"linecolor\": \"white\", \"minorgridcolor\": \"white\", \"startlinecolor\": \"#2a3f5f\"}, \"type\": \"carpet\"}], \"choropleth\": [{\"colorbar\": {\"outlinewidth\": 0, \"ticks\": \"\"}, \"type\": \"choropleth\"}], \"contour\": [{\"colorbar\": {\"outlinewidth\": 0, \"ticks\": \"\"}, \"colorscale\": [[0.0, \"#0d0887\"], [0.1111111111111111, \"#46039f\"], [0.2222222222222222, \"#7201a8\"], [0.3333333333333333, \"#9c179e\"], [0.4444444444444444, \"#bd3786\"], [0.5555555555555556, \"#d8576b\"], [0.6666666666666666, \"#ed7953\"], [0.7777777777777778, \"#fb9f3a\"], [0.8888888888888888, \"#fdca26\"], [1.0, \"#f0f921\"]], \"type\": \"contour\"}], \"contourcarpet\": [{\"colorbar\": {\"outlinewidth\": 0, \"ticks\": \"\"}, \"type\": \"contourcarpet\"}], \"heatmap\": [{\"colorbar\": {\"outlinewidth\": 0, \"ticks\": \"\"}, \"colorscale\": [[0.0, \"#0d0887\"], [0.1111111111111111, \"#46039f\"], [0.2222222222222222, \"#7201a8\"], [0.3333333333333333, \"#9c179e\"], [0.4444444444444444, \"#bd3786\"], [0.5555555555555556, \"#d8576b\"], [0.6666666666666666, \"#ed7953\"], [0.7777777777777778, \"#fb9f3a\"], [0.8888888888888888, \"#fdca26\"], [1.0, \"#f0f921\"]], \"type\": \"heatmap\"}], \"heatmapgl\": [{\"colorbar\": {\"outlinewidth\": 0, \"ticks\": \"\"}, \"colorscale\": [[0.0, \"#0d0887\"], [0.1111111111111111, \"#46039f\"], [0.2222222222222222, \"#7201a8\"], [0.3333333333333333, \"#9c179e\"], [0.4444444444444444, \"#bd3786\"], [0.5555555555555556, \"#d8576b\"], [0.6666666666666666, \"#ed7953\"], [0.7777777777777778, \"#fb9f3a\"], [0.8888888888888888, \"#fdca26\"], [1.0, \"#f0f921\"]], \"type\": \"heatmapgl\"}], \"histogram\": [{\"marker\": {\"colorbar\": {\"outlinewidth\": 0, \"ticks\": \"\"}}, \"type\": \"histogram\"}], \"histogram2d\": [{\"colorbar\": {\"outlinewidth\": 0, \"ticks\": \"\"}, \"colorscale\": [[0.0, \"#0d0887\"], [0.1111111111111111, \"#46039f\"], [0.2222222222222222, \"#7201a8\"], [0.3333333333333333, \"#9c179e\"], [0.4444444444444444, \"#bd3786\"], [0.5555555555555556, \"#d8576b\"], [0.6666666666666666, \"#ed7953\"], [0.7777777777777778, \"#fb9f3a\"], [0.8888888888888888, \"#fdca26\"], [1.0, \"#f0f921\"]], \"type\": \"histogram2d\"}], \"histogram2dcontour\": [{\"colorbar\": {\"outlinewidth\": 0, \"ticks\": \"\"}, \"colorscale\": [[0.0, \"#0d0887\"], [0.1111111111111111, \"#46039f\"], [0.2222222222222222, \"#7201a8\"], [0.3333333333333333, \"#9c179e\"], [0.4444444444444444, \"#bd3786\"], [0.5555555555555556, \"#d8576b\"], [0.6666666666666666, \"#ed7953\"], [0.7777777777777778, \"#fb9f3a\"], [0.8888888888888888, \"#fdca26\"], [1.0, \"#f0f921\"]], \"type\": \"histogram2dcontour\"}], \"mesh3d\": [{\"colorbar\": {\"outlinewidth\": 0, \"ticks\": \"\"}, \"type\": \"mesh3d\"}], \"parcoords\": [{\"line\": {\"colorbar\": {\"outlinewidth\": 0, \"ticks\": \"\"}}, \"type\": \"parcoords\"}], \"pie\": [{\"automargin\": true, \"type\": \"pie\"}], \"scatter\": [{\"marker\": {\"colorbar\": {\"outlinewidth\": 0, \"ticks\": \"\"}}, \"type\": \"scatter\"}], \"scatter3d\": [{\"line\": {\"colorbar\": {\"outlinewidth\": 0, \"ticks\": \"\"}}, \"marker\": {\"colorbar\": {\"outlinewidth\": 0, \"ticks\": \"\"}}, \"type\": \"scatter3d\"}], \"scattercarpet\": [{\"marker\": {\"colorbar\": {\"outlinewidth\": 0, \"ticks\": \"\"}}, \"type\": \"scattercarpet\"}], \"scattergeo\": [{\"marker\": {\"colorbar\": {\"outlinewidth\": 0, \"ticks\": \"\"}}, \"type\": \"scattergeo\"}], \"scattergl\": [{\"marker\": {\"colorbar\": {\"outlinewidth\": 0, \"ticks\": \"\"}}, \"type\": \"scattergl\"}], \"scattermapbox\": [{\"marker\": {\"colorbar\": {\"outlinewidth\": 0, \"ticks\": \"\"}}, \"type\": \"scattermapbox\"}], \"scatterpolar\": [{\"marker\": {\"colorbar\": {\"outlinewidth\": 0, \"ticks\": \"\"}}, \"type\": \"scatterpolar\"}], \"scatterpolargl\": [{\"marker\": {\"colorbar\": {\"outlinewidth\": 0, \"ticks\": \"\"}}, \"type\": \"scatterpolargl\"}], \"scatterternary\": [{\"marker\": {\"colorbar\": {\"outlinewidth\": 0, \"ticks\": \"\"}}, \"type\": \"scatterternary\"}], \"surface\": [{\"colorbar\": {\"outlinewidth\": 0, \"ticks\": \"\"}, \"colorscale\": [[0.0, \"#0d0887\"], [0.1111111111111111, \"#46039f\"], [0.2222222222222222, \"#7201a8\"], [0.3333333333333333, \"#9c179e\"], [0.4444444444444444, \"#bd3786\"], [0.5555555555555556, \"#d8576b\"], [0.6666666666666666, \"#ed7953\"], [0.7777777777777778, \"#fb9f3a\"], [0.8888888888888888, \"#fdca26\"], [1.0, \"#f0f921\"]], \"type\": \"surface\"}], \"table\": [{\"cells\": {\"fill\": {\"color\": \"#EBF0F8\"}, \"line\": {\"color\": \"white\"}}, \"header\": {\"fill\": {\"color\": \"#C8D4E3\"}, \"line\": {\"color\": \"white\"}}, \"type\": \"table\"}]}, \"layout\": {\"annotationdefaults\": {\"arrowcolor\": \"#2a3f5f\", \"arrowhead\": 0, \"arrowwidth\": 1}, \"coloraxis\": {\"colorbar\": {\"outlinewidth\": 0, \"ticks\": \"\"}}, \"colorscale\": {\"diverging\": [[0, \"#8e0152\"], [0.1, \"#c51b7d\"], [0.2, \"#de77ae\"], [0.3, \"#f1b6da\"], [0.4, \"#fde0ef\"], [0.5, \"#f7f7f7\"], [0.6, \"#e6f5d0\"], [0.7, \"#b8e186\"], [0.8, \"#7fbc41\"], [0.9, \"#4d9221\"], [1, \"#276419\"]], \"sequential\": [[0.0, \"#0d0887\"], [0.1111111111111111, \"#46039f\"], [0.2222222222222222, \"#7201a8\"], [0.3333333333333333, \"#9c179e\"], [0.4444444444444444, \"#bd3786\"], [0.5555555555555556, \"#d8576b\"], [0.6666666666666666, \"#ed7953\"], [0.7777777777777778, \"#fb9f3a\"], [0.8888888888888888, \"#fdca26\"], [1.0, \"#f0f921\"]], \"sequentialminus\": [[0.0, \"#0d0887\"], [0.1111111111111111, \"#46039f\"], [0.2222222222222222, \"#7201a8\"], [0.3333333333333333, \"#9c179e\"], [0.4444444444444444, \"#bd3786\"], [0.5555555555555556, \"#d8576b\"], [0.6666666666666666, \"#ed7953\"], [0.7777777777777778, \"#fb9f3a\"], [0.8888888888888888, \"#fdca26\"], [1.0, \"#f0f921\"]]}, \"colorway\": [\"#636efa\", \"#EF553B\", \"#00cc96\", \"#ab63fa\", \"#FFA15A\", \"#19d3f3\", \"#FF6692\", \"#B6E880\", \"#FF97FF\", \"#FECB52\"], \"font\": {\"color\": \"#2a3f5f\"}, \"geo\": {\"bgcolor\": \"white\", \"lakecolor\": \"white\", \"landcolor\": \"#E5ECF6\", \"showlakes\": true, \"showland\": true, \"subunitcolor\": \"white\"}, \"hoverlabel\": {\"align\": \"left\"}, \"hovermode\": \"closest\", \"mapbox\": {\"style\": \"light\"}, \"paper_bgcolor\": \"white\", \"plot_bgcolor\": \"#E5ECF6\", \"polar\": {\"angularaxis\": {\"gridcolor\": \"white\", \"linecolor\": \"white\", \"ticks\": \"\"}, \"bgcolor\": \"#E5ECF6\", \"radialaxis\": {\"gridcolor\": \"white\", \"linecolor\": \"white\", \"ticks\": \"\"}}, \"scene\": {\"xaxis\": {\"backgroundcolor\": \"#E5ECF6\", \"gridcolor\": \"white\", \"gridwidth\": 2, \"linecolor\": \"white\", \"showbackground\": true, \"ticks\": \"\", \"zerolinecolor\": \"white\"}, \"yaxis\": {\"backgroundcolor\": \"#E5ECF6\", \"gridcolor\": \"white\", \"gridwidth\": 2, \"linecolor\": \"white\", \"showbackground\": true, \"ticks\": \"\", \"zerolinecolor\": \"white\"}, \"zaxis\": {\"backgroundcolor\": \"#E5ECF6\", \"gridcolor\": \"white\", \"gridwidth\": 2, \"linecolor\": \"white\", \"showbackground\": true, \"ticks\": \"\", \"zerolinecolor\": \"white\"}}, \"shapedefaults\": {\"line\": {\"color\": \"#2a3f5f\"}}, \"ternary\": {\"aaxis\": {\"gridcolor\": \"white\", \"linecolor\": \"white\", \"ticks\": \"\"}, \"baxis\": {\"gridcolor\": \"white\", \"linecolor\": \"white\", \"ticks\": \"\"}, \"bgcolor\": \"#E5ECF6\", \"caxis\": {\"gridcolor\": \"white\", \"linecolor\": \"white\", \"ticks\": \"\"}}, \"title\": {\"x\": 0.05}, \"xaxis\": {\"automargin\": true, \"gridcolor\": \"white\", \"linecolor\": \"white\", \"ticks\": \"\", \"title\": {\"standoff\": 15}, \"zerolinecolor\": \"white\", \"zerolinewidth\": 2}, \"yaxis\": {\"automargin\": true, \"gridcolor\": \"white\", \"linecolor\": \"white\", \"ticks\": \"\", \"title\": {\"standoff\": 15}, \"zerolinecolor\": \"white\", \"zerolinewidth\": 2}}}, \"title\": {\"text\": \"Total Deaths by each state and grouped by Age group\"}, \"xaxis\": {\"anchor\": \"y\", \"domain\": [0.0, 1.0], \"title\": {\"text\": \"State\"}}, \"yaxis\": {\"anchor\": \"x\", \"domain\": [0.0, 1.0], \"title\": {\"text\": \"Total Deaths\"}}},\n",
              "                        {\"responsive\": true}\n",
              "                    ).then(function(){\n",
              "                            \n",
              "var gd = document.getElementById('2aac3839-bdc7-49fc-b8ae-5b47a6a578ca');\n",
              "var x = new MutationObserver(function (mutations, observer) {{\n",
              "        var display = window.getComputedStyle(gd).display;\n",
              "        if (!display || display === 'none') {{\n",
              "            console.log([gd, 'removed!']);\n",
              "            Plotly.purge(gd);\n",
              "            observer.disconnect();\n",
              "        }}\n",
              "}});\n",
              "\n",
              "// Listen for the removal of the full notebook cells\n",
              "var notebookContainer = gd.closest('#notebook-container');\n",
              "if (notebookContainer) {{\n",
              "    x.observe(notebookContainer, {childList: true});\n",
              "}}\n",
              "\n",
              "// Listen for the clearing of the current output cell\n",
              "var outputEl = gd.closest('.output');\n",
              "if (outputEl) {{\n",
              "    x.observe(outputEl, {childList: true});\n",
              "}}\n",
              "\n",
              "                        })\n",
              "                };\n",
              "                });\n",
              "            </script>\n",
              "        </div>"
            ],
            "application/vnd.plotly.v1+json": {
              "data": [
                {
                  "textposition": "auto",
                  "hovertemplate": "Age_group=Under 1 year<br>State=%{x}<br>Total Deaths=%{y}",
                  "showlegend": true,
                  "legendgroup": "Age_group=Under 1 year",
                  "name": "Age_group=Under 1 year",
                  "yaxis": "y",
                  "y": [
                    74,
                    47,
                    null,
                    null,
                    89,
                    69,
                    61,
                    35,
                    393,
                    292,
                    75,
                    71,
                    20,
                    15,
                    null,
                    null,
                    21,
                    17,
                    291,
                    231,
                    113,
                    82,
                    12,
                    18,
                    29,
                    18,
                    151,
                    111,
                    89,
                    80,
                    26,
                    25,
                    47,
                    28,
                    40,
                    36,
                    71,
                    58,
                    15,
                    14,
                    61,
                    64,
                    56,
                    43,
                    144,
                    137,
                    64,
                    43,
                    37,
                    31,
                    71,
                    72,
                    11,
                    11,
                    32,
                    17,
                    24,
                    23,
                    13,
                    null,
                    75,
                    63,
                    13,
                    14,
                    111,
                    83,
                    94,
                    79,
                    133,
                    107,
                    null,
                    11,
                    189,
                    152,
                    58,
                    39,
                    44,
                    30,
                    165,
                    118,
                    10,
                    12,
                    75,
                    52,
                    12,
                    null,
                    131,
                    86,
                    410,
                    309,
                    52,
                    53,
                    null,
                    0,
                    97,
                    86,
                    76,
                    63,
                    21,
                    12,
                    83,
                    55,
                    null,
                    null,
                    26,
                    25
                  ],
                  "hoverlabel": {
                    "namelength": 0
                  },
                  "offsetgroup": "Age_group=Under 1 year",
                  "xaxis": "x",
                  "marker": {
                    "color": "#636efa"
                  },
                  "x": [
                    "Alabama",
                    "Alabama",
                    "Alaska",
                    "Alaska",
                    "Arizona",
                    "Arizona",
                    "Arkansas",
                    "Arkansas",
                    "California",
                    "California",
                    "Colorado",
                    "Colorado",
                    "Connecticut",
                    "Connecticut",
                    "Delaware",
                    "Delaware",
                    "District of Columbia",
                    "District of Columbia",
                    "Florida",
                    "Florida",
                    "Georgia",
                    "Georgia",
                    "Hawaii",
                    "Hawaii",
                    "Idaho",
                    "Idaho",
                    "Illinois",
                    "Illinois",
                    "Indiana",
                    "Indiana",
                    "Iowa",
                    "Iowa",
                    "Kansas",
                    "Kansas",
                    "Kentucky",
                    "Kentucky",
                    "Louisiana",
                    "Louisiana",
                    "Maine",
                    "Maine",
                    "Maryland",
                    "Maryland",
                    "Massachusetts",
                    "Massachusetts",
                    "Michigan",
                    "Michigan",
                    "Minnesota",
                    "Minnesota",
                    "Mississippi",
                    "Mississippi",
                    "Missouri",
                    "Missouri",
                    "Montana",
                    "Montana",
                    "Nebraska",
                    "Nebraska",
                    "Nevada",
                    "Nevada",
                    "New Hampshire",
                    "New Hampshire",
                    "New Jersey",
                    "New Jersey",
                    "New Mexico",
                    "New Mexico",
                    "New York",
                    "New York",
                    "New York City",
                    "New York City",
                    "North Carolina",
                    "North Carolina",
                    "North Dakota",
                    "North Dakota",
                    "Ohio",
                    "Ohio",
                    "Oklahoma",
                    "Oklahoma",
                    "Oregon",
                    "Oregon",
                    "Pennsylvania",
                    "Pennsylvania",
                    "Rhode Island",
                    "Rhode Island",
                    "South Carolina",
                    "South Carolina",
                    "South Dakota",
                    "South Dakota",
                    "Tennessee",
                    "Tennessee",
                    "Texas",
                    "Texas",
                    "Utah",
                    "Utah",
                    "Vermont",
                    "Vermont",
                    "Virginia",
                    "Virginia",
                    "Washington",
                    "Washington",
                    "West Virginia",
                    "West Virginia",
                    "Wisconsin",
                    "Wisconsin",
                    "Wyoming",
                    "Wyoming",
                    "Puerto Rico",
                    "Puerto Rico"
                  ],
                  "alignmentgroup": "True",
                  "type": "bar",
                  "orientation": "v"
                },
                {
                  "textposition": "auto",
                  "hovertemplate": "Age_group=1-4 years<br>State=%{x}<br>Total Deaths=%{y}",
                  "showlegend": true,
                  "legendgroup": "Age_group=1-4 years",
                  "name": "Age_group=1-4 years",
                  "yaxis": "y",
                  "y": [
                    16,
                    16,
                    null,
                    null,
                    27,
                    21,
                    15,
                    11,
                    76,
                    46,
                    11,
                    null,
                    null,
                    null,
                    null,
                    null,
                    null,
                    null,
                    58,
                    52,
                    34,
                    21,
                    null,
                    null,
                    null,
                    null,
                    28,
                    17,
                    14,
                    11,
                    10,
                    null,
                    null,
                    null,
                    11,
                    null,
                    13,
                    null,
                    null,
                    null,
                    null,
                    null,
                    null,
                    null,
                    17,
                    17,
                    18,
                    11,
                    15,
                    null,
                    16,
                    13,
                    null,
                    null,
                    0,
                    null,
                    null,
                    null,
                    null,
                    null,
                    16,
                    null,
                    null,
                    null,
                    19,
                    null,
                    17,
                    null,
                    17,
                    10,
                    null,
                    0,
                    34,
                    17,
                    15,
                    null,
                    10,
                    null,
                    35,
                    29,
                    null,
                    null,
                    17,
                    15,
                    null,
                    null,
                    26,
                    20,
                    89,
                    68,
                    null,
                    null,
                    null,
                    0,
                    15,
                    15,
                    16,
                    11,
                    null,
                    null,
                    null,
                    12,
                    null,
                    0,
                    null,
                    null
                  ],
                  "hoverlabel": {
                    "namelength": 0
                  },
                  "offsetgroup": "Age_group=1-4 years",
                  "xaxis": "x",
                  "marker": {
                    "color": "#EF553B"
                  },
                  "x": [
                    "Alabama",
                    "Alabama",
                    "Alaska",
                    "Alaska",
                    "Arizona",
                    "Arizona",
                    "Arkansas",
                    "Arkansas",
                    "California",
                    "California",
                    "Colorado",
                    "Colorado",
                    "Connecticut",
                    "Connecticut",
                    "Delaware",
                    "Delaware",
                    "District of Columbia",
                    "District of Columbia",
                    "Florida",
                    "Florida",
                    "Georgia",
                    "Georgia",
                    "Hawaii",
                    "Hawaii",
                    "Idaho",
                    "Idaho",
                    "Illinois",
                    "Illinois",
                    "Indiana",
                    "Indiana",
                    "Iowa",
                    "Iowa",
                    "Kansas",
                    "Kansas",
                    "Kentucky",
                    "Kentucky",
                    "Louisiana",
                    "Louisiana",
                    "Maine",
                    "Maine",
                    "Maryland",
                    "Maryland",
                    "Massachusetts",
                    "Massachusetts",
                    "Michigan",
                    "Michigan",
                    "Minnesota",
                    "Minnesota",
                    "Mississippi",
                    "Mississippi",
                    "Missouri",
                    "Missouri",
                    "Montana",
                    "Montana",
                    "Nebraska",
                    "Nebraska",
                    "Nevada",
                    "Nevada",
                    "New Hampshire",
                    "New Hampshire",
                    "New Jersey",
                    "New Jersey",
                    "New Mexico",
                    "New Mexico",
                    "New York",
                    "New York",
                    "New York City",
                    "New York City",
                    "North Carolina",
                    "North Carolina",
                    "North Dakota",
                    "North Dakota",
                    "Ohio",
                    "Ohio",
                    "Oklahoma",
                    "Oklahoma",
                    "Oregon",
                    "Oregon",
                    "Pennsylvania",
                    "Pennsylvania",
                    "Rhode Island",
                    "Rhode Island",
                    "South Carolina",
                    "South Carolina",
                    "South Dakota",
                    "South Dakota",
                    "Tennessee",
                    "Tennessee",
                    "Texas",
                    "Texas",
                    "Utah",
                    "Utah",
                    "Vermont",
                    "Vermont",
                    "Virginia",
                    "Virginia",
                    "Washington",
                    "Washington",
                    "West Virginia",
                    "West Virginia",
                    "Wisconsin",
                    "Wisconsin",
                    "Wyoming",
                    "Wyoming",
                    "Puerto Rico",
                    "Puerto Rico"
                  ],
                  "alignmentgroup": "True",
                  "type": "bar",
                  "orientation": "v"
                },
                {
                  "textposition": "auto",
                  "hovertemplate": "Age_group=5-14 years<br>State=%{x}<br>Total Deaths=%{y}",
                  "showlegend": true,
                  "legendgroup": "Age_group=5-14 years",
                  "name": "Age_group=5-14 years",
                  "yaxis": "y",
                  "y": [
                    31,
                    16,
                    null,
                    null,
                    29,
                    22,
                    17,
                    10,
                    114,
                    82,
                    28,
                    12,
                    null,
                    null,
                    null,
                    null,
                    null,
                    null,
                    90,
                    56,
                    47,
                    31,
                    null,
                    null,
                    13,
                    null,
                    45,
                    33,
                    32,
                    19,
                    12,
                    null,
                    12,
                    null,
                    15,
                    14,
                    26,
                    16,
                    null,
                    null,
                    14,
                    14,
                    13,
                    null,
                    35,
                    20,
                    16,
                    null,
                    22,
                    14,
                    33,
                    19,
                    null,
                    null,
                    null,
                    null,
                    13,
                    null,
                    null,
                    null,
                    13,
                    12,
                    null,
                    null,
                    33,
                    29,
                    29,
                    18,
                    28,
                    26,
                    null,
                    null,
                    55,
                    30,
                    21,
                    11,
                    10,
                    10,
                    43,
                    27,
                    null,
                    null,
                    26,
                    17,
                    null,
                    null,
                    39,
                    14,
                    135,
                    100,
                    15,
                    10,
                    null,
                    0,
                    24,
                    18,
                    26,
                    16,
                    null,
                    null,
                    22,
                    18,
                    null,
                    null,
                    null,
                    null
                  ],
                  "hoverlabel": {
                    "namelength": 0
                  },
                  "offsetgroup": "Age_group=5-14 years",
                  "xaxis": "x",
                  "marker": {
                    "color": "#00cc96"
                  },
                  "x": [
                    "Alabama",
                    "Alabama",
                    "Alaska",
                    "Alaska",
                    "Arizona",
                    "Arizona",
                    "Arkansas",
                    "Arkansas",
                    "California",
                    "California",
                    "Colorado",
                    "Colorado",
                    "Connecticut",
                    "Connecticut",
                    "Delaware",
                    "Delaware",
                    "District of Columbia",
                    "District of Columbia",
                    "Florida",
                    "Florida",
                    "Georgia",
                    "Georgia",
                    "Hawaii",
                    "Hawaii",
                    "Idaho",
                    "Idaho",
                    "Illinois",
                    "Illinois",
                    "Indiana",
                    "Indiana",
                    "Iowa",
                    "Iowa",
                    "Kansas",
                    "Kansas",
                    "Kentucky",
                    "Kentucky",
                    "Louisiana",
                    "Louisiana",
                    "Maine",
                    "Maine",
                    "Maryland",
                    "Maryland",
                    "Massachusetts",
                    "Massachusetts",
                    "Michigan",
                    "Michigan",
                    "Minnesota",
                    "Minnesota",
                    "Mississippi",
                    "Mississippi",
                    "Missouri",
                    "Missouri",
                    "Montana",
                    "Montana",
                    "Nebraska",
                    "Nebraska",
                    "Nevada",
                    "Nevada",
                    "New Hampshire",
                    "New Hampshire",
                    "New Jersey",
                    "New Jersey",
                    "New Mexico",
                    "New Mexico",
                    "New York",
                    "New York",
                    "New York City",
                    "New York City",
                    "North Carolina",
                    "North Carolina",
                    "North Dakota",
                    "North Dakota",
                    "Ohio",
                    "Ohio",
                    "Oklahoma",
                    "Oklahoma",
                    "Oregon",
                    "Oregon",
                    "Pennsylvania",
                    "Pennsylvania",
                    "Rhode Island",
                    "Rhode Island",
                    "South Carolina",
                    "South Carolina",
                    "South Dakota",
                    "South Dakota",
                    "Tennessee",
                    "Tennessee",
                    "Texas",
                    "Texas",
                    "Utah",
                    "Utah",
                    "Vermont",
                    "Vermont",
                    "Virginia",
                    "Virginia",
                    "Washington",
                    "Washington",
                    "West Virginia",
                    "West Virginia",
                    "Wisconsin",
                    "Wisconsin",
                    "Wyoming",
                    "Wyoming",
                    "Puerto Rico",
                    "Puerto Rico"
                  ],
                  "alignmentgroup": "True",
                  "type": "bar",
                  "orientation": "v"
                },
                {
                  "textposition": "auto",
                  "hovertemplate": "Age_group=15-24 years<br>State=%{x}<br>Total Deaths=%{y}",
                  "showlegend": true,
                  "legendgroup": "Age_group=15-24 years",
                  "name": "Age_group=15-24 years",
                  "yaxis": "y",
                  "y": [
                    192,
                    69,
                    31,
                    12,
                    331,
                    99,
                    117,
                    42,
                    1054,
                    336,
                    208,
                    75,
                    45,
                    19,
                    22,
                    11,
                    45,
                    null,
                    676,
                    244,
                    297,
                    104,
                    24,
                    12,
                    61,
                    18,
                    424,
                    141,
                    207,
                    66,
                    74,
                    23,
                    92,
                    36,
                    135,
                    54,
                    155,
                    62,
                    36,
                    null,
                    191,
                    62,
                    115,
                    61,
                    277,
                    90,
                    109,
                    46,
                    129,
                    40,
                    205,
                    64,
                    46,
                    11,
                    48,
                    17,
                    111,
                    37,
                    26,
                    12,
                    168,
                    67,
                    69,
                    22,
                    245,
                    91,
                    176,
                    72,
                    293,
                    121,
                    22,
                    null,
                    357,
                    142,
                    119,
                    53,
                    99,
                    36,
                    291,
                    111,
                    15,
                    null,
                    223,
                    85,
                    27,
                    null,
                    300,
                    117,
                    939,
                    316,
                    94,
                    34,
                    null,
                    null,
                    229,
                    67,
                    207,
                    57,
                    42,
                    null,
                    164,
                    61,
                    14,
                    null,
                    81,
                    20
                  ],
                  "hoverlabel": {
                    "namelength": 0
                  },
                  "offsetgroup": "Age_group=15-24 years",
                  "xaxis": "x",
                  "marker": {
                    "color": "#ab63fa"
                  },
                  "x": [
                    "Alabama",
                    "Alabama",
                    "Alaska",
                    "Alaska",
                    "Arizona",
                    "Arizona",
                    "Arkansas",
                    "Arkansas",
                    "California",
                    "California",
                    "Colorado",
                    "Colorado",
                    "Connecticut",
                    "Connecticut",
                    "Delaware",
                    "Delaware",
                    "District of Columbia",
                    "District of Columbia",
                    "Florida",
                    "Florida",
                    "Georgia",
                    "Georgia",
                    "Hawaii",
                    "Hawaii",
                    "Idaho",
                    "Idaho",
                    "Illinois",
                    "Illinois",
                    "Indiana",
                    "Indiana",
                    "Iowa",
                    "Iowa",
                    "Kansas",
                    "Kansas",
                    "Kentucky",
                    "Kentucky",
                    "Louisiana",
                    "Louisiana",
                    "Maine",
                    "Maine",
                    "Maryland",
                    "Maryland",
                    "Massachusetts",
                    "Massachusetts",
                    "Michigan",
                    "Michigan",
                    "Minnesota",
                    "Minnesota",
                    "Mississippi",
                    "Mississippi",
                    "Missouri",
                    "Missouri",
                    "Montana",
                    "Montana",
                    "Nebraska",
                    "Nebraska",
                    "Nevada",
                    "Nevada",
                    "New Hampshire",
                    "New Hampshire",
                    "New Jersey",
                    "New Jersey",
                    "New Mexico",
                    "New Mexico",
                    "New York",
                    "New York",
                    "New York City",
                    "New York City",
                    "North Carolina",
                    "North Carolina",
                    "North Dakota",
                    "North Dakota",
                    "Ohio",
                    "Ohio",
                    "Oklahoma",
                    "Oklahoma",
                    "Oregon",
                    "Oregon",
                    "Pennsylvania",
                    "Pennsylvania",
                    "Rhode Island",
                    "Rhode Island",
                    "South Carolina",
                    "South Carolina",
                    "South Dakota",
                    "South Dakota",
                    "Tennessee",
                    "Tennessee",
                    "Texas",
                    "Texas",
                    "Utah",
                    "Utah",
                    "Vermont",
                    "Vermont",
                    "Virginia",
                    "Virginia",
                    "Washington",
                    "Washington",
                    "West Virginia",
                    "West Virginia",
                    "Wisconsin",
                    "Wisconsin",
                    "Wyoming",
                    "Wyoming",
                    "Puerto Rico",
                    "Puerto Rico"
                  ],
                  "alignmentgroup": "True",
                  "type": "bar",
                  "orientation": "v"
                },
                {
                  "textposition": "auto",
                  "hovertemplate": "Age_group=25-34 years<br>State=%{x}<br>Total Deaths=%{y}",
                  "showlegend": true,
                  "legendgroup": "Age_group=25-34 years",
                  "name": "Age_group=25-34 years",
                  "yaxis": "y",
                  "y": [
                    340,
                    158,
                    41,
                    26,
                    550,
                    245,
                    214,
                    104,
                    1978,
                    725,
                    406,
                    149,
                    124,
                    36,
                    58,
                    18,
                    73,
                    28,
                    1400,
                    632,
                    535,
                    241,
                    46,
                    21,
                    70,
                    40,
                    798,
                    299,
                    428,
                    172,
                    122,
                    49,
                    149,
                    56,
                    284,
                    127,
                    350,
                    161,
                    81,
                    31,
                    444,
                    205,
                    363,
                    171,
                    578,
                    272,
                    216,
                    107,
                    237,
                    93,
                    419,
                    157,
                    52,
                    39,
                    91,
                    28,
                    184,
                    78,
                    74,
                    37,
                    532,
                    216,
                    176,
                    67,
                    628,
                    244,
                    499,
                    211,
                    507,
                    228,
                    52,
                    13,
                    862,
                    416,
                    234,
                    101,
                    188,
                    82,
                    817,
                    344,
                    40,
                    27,
                    395,
                    163,
                    40,
                    16,
                    609,
                    306,
                    1470,
                    594,
                    145,
                    88,
                    34,
                    null,
                    440,
                    200,
                    354,
                    133,
                    120,
                    60,
                    322,
                    136,
                    40,
                    15,
                    137,
                    48
                  ],
                  "hoverlabel": {
                    "namelength": 0
                  },
                  "offsetgroup": "Age_group=25-34 years",
                  "xaxis": "x",
                  "marker": {
                    "color": "#FFA15A"
                  },
                  "x": [
                    "Alabama",
                    "Alabama",
                    "Alaska",
                    "Alaska",
                    "Arizona",
                    "Arizona",
                    "Arkansas",
                    "Arkansas",
                    "California",
                    "California",
                    "Colorado",
                    "Colorado",
                    "Connecticut",
                    "Connecticut",
                    "Delaware",
                    "Delaware",
                    "District of Columbia",
                    "District of Columbia",
                    "Florida",
                    "Florida",
                    "Georgia",
                    "Georgia",
                    "Hawaii",
                    "Hawaii",
                    "Idaho",
                    "Idaho",
                    "Illinois",
                    "Illinois",
                    "Indiana",
                    "Indiana",
                    "Iowa",
                    "Iowa",
                    "Kansas",
                    "Kansas",
                    "Kentucky",
                    "Kentucky",
                    "Louisiana",
                    "Louisiana",
                    "Maine",
                    "Maine",
                    "Maryland",
                    "Maryland",
                    "Massachusetts",
                    "Massachusetts",
                    "Michigan",
                    "Michigan",
                    "Minnesota",
                    "Minnesota",
                    "Mississippi",
                    "Mississippi",
                    "Missouri",
                    "Missouri",
                    "Montana",
                    "Montana",
                    "Nebraska",
                    "Nebraska",
                    "Nevada",
                    "Nevada",
                    "New Hampshire",
                    "New Hampshire",
                    "New Jersey",
                    "New Jersey",
                    "New Mexico",
                    "New Mexico",
                    "New York",
                    "New York",
                    "New York City",
                    "New York City",
                    "North Carolina",
                    "North Carolina",
                    "North Dakota",
                    "North Dakota",
                    "Ohio",
                    "Ohio",
                    "Oklahoma",
                    "Oklahoma",
                    "Oregon",
                    "Oregon",
                    "Pennsylvania",
                    "Pennsylvania",
                    "Rhode Island",
                    "Rhode Island",
                    "South Carolina",
                    "South Carolina",
                    "South Dakota",
                    "South Dakota",
                    "Tennessee",
                    "Tennessee",
                    "Texas",
                    "Texas",
                    "Utah",
                    "Utah",
                    "Vermont",
                    "Vermont",
                    "Virginia",
                    "Virginia",
                    "Washington",
                    "Washington",
                    "West Virginia",
                    "West Virginia",
                    "Wisconsin",
                    "Wisconsin",
                    "Wyoming",
                    "Wyoming",
                    "Puerto Rico",
                    "Puerto Rico"
                  ],
                  "alignmentgroup": "True",
                  "type": "bar",
                  "orientation": "v"
                },
                {
                  "textposition": "auto",
                  "hovertemplate": "Age_group=35-44 years<br>State=%{x}<br>Total Deaths=%{y}",
                  "showlegend": true,
                  "legendgroup": "Age_group=35-44 years",
                  "name": "Age_group=35-44 years",
                  "yaxis": "y",
                  "y": [
                    491,
                    291,
                    40,
                    37,
                    628,
                    304,
                    286,
                    184,
                    2500,
                    1188,
                    486,
                    212,
                    157,
                    83,
                    69,
                    47,
                    96,
                    35,
                    1823,
                    986,
                    712,
                    454,
                    84,
                    36,
                    107,
                    62,
                    1063,
                    514,
                    497,
                    263,
                    173,
                    93,
                    196,
                    119,
                    492,
                    229,
                    447,
                    263,
                    118,
                    47,
                    570,
                    279,
                    529,
                    247,
                    800,
                    437,
                    282,
                    174,
                    331,
                    212,
                    523,
                    279,
                    70,
                    35,
                    95,
                    59,
                    255,
                    125,
                    77,
                    39,
                    823,
                    362,
                    227,
                    118,
                    799,
                    415,
                    992,
                    388,
                    672,
                    367,
                    62,
                    28,
                    1071,
                    592,
                    334,
                    179,
                    232,
                    141,
                    945,
                    515,
                    61,
                    37,
                    464,
                    300,
                    59,
                    31,
                    789,
                    475,
                    2018,
                    1064,
                    207,
                    128,
                    46,
                    18,
                    635,
                    319,
                    467,
                    238,
                    205,
                    95,
                    372,
                    205,
                    49,
                    23,
                    202,
                    84
                  ],
                  "hoverlabel": {
                    "namelength": 0
                  },
                  "offsetgroup": "Age_group=35-44 years",
                  "xaxis": "x",
                  "marker": {
                    "color": "#19d3f3"
                  },
                  "x": [
                    "Alabama",
                    "Alabama",
                    "Alaska",
                    "Alaska",
                    "Arizona",
                    "Arizona",
                    "Arkansas",
                    "Arkansas",
                    "California",
                    "California",
                    "Colorado",
                    "Colorado",
                    "Connecticut",
                    "Connecticut",
                    "Delaware",
                    "Delaware",
                    "District of Columbia",
                    "District of Columbia",
                    "Florida",
                    "Florida",
                    "Georgia",
                    "Georgia",
                    "Hawaii",
                    "Hawaii",
                    "Idaho",
                    "Idaho",
                    "Illinois",
                    "Illinois",
                    "Indiana",
                    "Indiana",
                    "Iowa",
                    "Iowa",
                    "Kansas",
                    "Kansas",
                    "Kentucky",
                    "Kentucky",
                    "Louisiana",
                    "Louisiana",
                    "Maine",
                    "Maine",
                    "Maryland",
                    "Maryland",
                    "Massachusetts",
                    "Massachusetts",
                    "Michigan",
                    "Michigan",
                    "Minnesota",
                    "Minnesota",
                    "Mississippi",
                    "Mississippi",
                    "Missouri",
                    "Missouri",
                    "Montana",
                    "Montana",
                    "Nebraska",
                    "Nebraska",
                    "Nevada",
                    "Nevada",
                    "New Hampshire",
                    "New Hampshire",
                    "New Jersey",
                    "New Jersey",
                    "New Mexico",
                    "New Mexico",
                    "New York",
                    "New York",
                    "New York City",
                    "New York City",
                    "North Carolina",
                    "North Carolina",
                    "North Dakota",
                    "North Dakota",
                    "Ohio",
                    "Ohio",
                    "Oklahoma",
                    "Oklahoma",
                    "Oregon",
                    "Oregon",
                    "Pennsylvania",
                    "Pennsylvania",
                    "Rhode Island",
                    "Rhode Island",
                    "South Carolina",
                    "South Carolina",
                    "South Dakota",
                    "South Dakota",
                    "Tennessee",
                    "Tennessee",
                    "Texas",
                    "Texas",
                    "Utah",
                    "Utah",
                    "Vermont",
                    "Vermont",
                    "Virginia",
                    "Virginia",
                    "Washington",
                    "Washington",
                    "West Virginia",
                    "West Virginia",
                    "Wisconsin",
                    "Wisconsin",
                    "Wyoming",
                    "Wyoming",
                    "Puerto Rico",
                    "Puerto Rico"
                  ],
                  "alignmentgroup": "True",
                  "type": "bar",
                  "orientation": "v"
                },
                {
                  "textposition": "auto",
                  "hovertemplate": "Age_group=45-54 years<br>State=%{x}<br>Total Deaths=%{y}",
                  "showlegend": true,
                  "legendgroup": "Age_group=45-54 years",
                  "name": "Age_group=45-54 years",
                  "yaxis": "y",
                  "y": [
                    888,
                    605,
                    73,
                    47,
                    1025,
                    536,
                    509,
                    359,
                    4380,
                    2442,
                    742,
                    407,
                    329,
                    149,
                    126,
                    70,
                    148,
                    87,
                    3098,
                    1856,
                    1428,
                    1016,
                    183,
                    95,
                    177,
                    112,
                    1884,
                    1048,
                    1000,
                    624,
                    352,
                    198,
                    356,
                    225,
                    763,
                    525,
                    822,
                    514,
                    206,
                    107,
                    877,
                    544,
                    885,
                    484,
                    1641,
                    987,
                    537,
                    333,
                    613,
                    408,
                    902,
                    561,
                    139,
                    58,
                    192,
                    126,
                    451,
                    265,
                    176,
                    111,
                    1707,
                    816,
                    343,
                    204,
                    1622,
                    884,
                    2048,
                    967,
                    1066,
                    763,
                    88,
                    46,
                    1800,
                    1140,
                    561,
                    375,
                    481,
                    290,
                    1761,
                    1017,
                    140,
                    72,
                    873,
                    580,
                    81,
                    61,
                    1383,
                    856,
                    3661,
                    2176,
                    301,
                    184,
                    72,
                    53,
                    1133,
                    654,
                    836,
                    521,
                    319,
                    187,
                    718,
                    432,
                    60,
                    44,
                    381,
                    204
                  ],
                  "hoverlabel": {
                    "namelength": 0
                  },
                  "offsetgroup": "Age_group=45-54 years",
                  "xaxis": "x",
                  "marker": {
                    "color": "#FF6692"
                  },
                  "x": [
                    "Alabama",
                    "Alabama",
                    "Alaska",
                    "Alaska",
                    "Arizona",
                    "Arizona",
                    "Arkansas",
                    "Arkansas",
                    "California",
                    "California",
                    "Colorado",
                    "Colorado",
                    "Connecticut",
                    "Connecticut",
                    "Delaware",
                    "Delaware",
                    "District of Columbia",
                    "District of Columbia",
                    "Florida",
                    "Florida",
                    "Georgia",
                    "Georgia",
                    "Hawaii",
                    "Hawaii",
                    "Idaho",
                    "Idaho",
                    "Illinois",
                    "Illinois",
                    "Indiana",
                    "Indiana",
                    "Iowa",
                    "Iowa",
                    "Kansas",
                    "Kansas",
                    "Kentucky",
                    "Kentucky",
                    "Louisiana",
                    "Louisiana",
                    "Maine",
                    "Maine",
                    "Maryland",
                    "Maryland",
                    "Massachusetts",
                    "Massachusetts",
                    "Michigan",
                    "Michigan",
                    "Minnesota",
                    "Minnesota",
                    "Mississippi",
                    "Mississippi",
                    "Missouri",
                    "Missouri",
                    "Montana",
                    "Montana",
                    "Nebraska",
                    "Nebraska",
                    "Nevada",
                    "Nevada",
                    "New Hampshire",
                    "New Hampshire",
                    "New Jersey",
                    "New Jersey",
                    "New Mexico",
                    "New Mexico",
                    "New York",
                    "New York",
                    "New York City",
                    "New York City",
                    "North Carolina",
                    "North Carolina",
                    "North Dakota",
                    "North Dakota",
                    "Ohio",
                    "Ohio",
                    "Oklahoma",
                    "Oklahoma",
                    "Oregon",
                    "Oregon",
                    "Pennsylvania",
                    "Pennsylvania",
                    "Rhode Island",
                    "Rhode Island",
                    "South Carolina",
                    "South Carolina",
                    "South Dakota",
                    "South Dakota",
                    "Tennessee",
                    "Tennessee",
                    "Texas",
                    "Texas",
                    "Utah",
                    "Utah",
                    "Vermont",
                    "Vermont",
                    "Virginia",
                    "Virginia",
                    "Washington",
                    "Washington",
                    "West Virginia",
                    "West Virginia",
                    "Wisconsin",
                    "Wisconsin",
                    "Wyoming",
                    "Wyoming",
                    "Puerto Rico",
                    "Puerto Rico"
                  ],
                  "alignmentgroup": "True",
                  "type": "bar",
                  "orientation": "v"
                },
                {
                  "textposition": "auto",
                  "hovertemplate": "Age_group=55-64 years<br>State=%{x}<br>Total Deaths=%{y}",
                  "showlegend": true,
                  "legendgroup": "Age_group=55-64 years",
                  "name": "Age_group=55-64 years",
                  "yaxis": "y",
                  "y": [
                    2096,
                    1383,
                    177,
                    107,
                    2213,
                    1378,
                    1248,
                    773,
                    9650,
                    5610,
                    1511,
                    875,
                    765,
                    467,
                    281,
                    212,
                    347,
                    208,
                    7168,
                    4419,
                    3353,
                    2255,
                    392,
                    219,
                    426,
                    305,
                    4391,
                    2697,
                    2457,
                    1614,
                    958,
                    609,
                    858,
                    589,
                    1857,
                    1216,
                    1879,
                    1325,
                    522,
                    263,
                    2119,
                    1328,
                    2168,
                    1235,
                    3818,
                    2382,
                    1372,
                    849,
                    1357,
                    890,
                    2230,
                    1424,
                    326,
                    196,
                    522,
                    343,
                    1016,
                    631,
                    398,
                    263,
                    3617,
                    2000,
                    637,
                    391,
                    3877,
                    2422,
                    4383,
                    2336,
                    2419,
                    1704,
                    204,
                    110,
                    4156,
                    2712,
                    1438,
                    923,
                    1077,
                    696,
                    4133,
                    2648,
                    328,
                    202,
                    1986,
                    1276,
                    251,
                    174,
                    2981,
                    1979,
                    7884,
                    4959,
                    573,
                    384,
                    190,
                    101,
                    2483,
                    1613,
                    1829,
                    1183,
                    698,
                    434,
                    1793,
                    1083,
                    165,
                    86,
                    0,
                    0
                  ],
                  "hoverlabel": {
                    "namelength": 0
                  },
                  "offsetgroup": "Age_group=55-64 years",
                  "xaxis": "x",
                  "marker": {
                    "color": "#B6E880"
                  },
                  "x": [
                    "Alabama",
                    "Alabama",
                    "Alaska",
                    "Alaska",
                    "Arizona",
                    "Arizona",
                    "Arkansas",
                    "Arkansas",
                    "California",
                    "California",
                    "Colorado",
                    "Colorado",
                    "Connecticut",
                    "Connecticut",
                    "Delaware",
                    "Delaware",
                    "District of Columbia",
                    "District of Columbia",
                    "Florida",
                    "Florida",
                    "Georgia",
                    "Georgia",
                    "Hawaii",
                    "Hawaii",
                    "Idaho",
                    "Idaho",
                    "Illinois",
                    "Illinois",
                    "Indiana",
                    "Indiana",
                    "Iowa",
                    "Iowa",
                    "Kansas",
                    "Kansas",
                    "Kentucky",
                    "Kentucky",
                    "Louisiana",
                    "Louisiana",
                    "Maine",
                    "Maine",
                    "Maryland",
                    "Maryland",
                    "Massachusetts",
                    "Massachusetts",
                    "Michigan",
                    "Michigan",
                    "Minnesota",
                    "Minnesota",
                    "Mississippi",
                    "Mississippi",
                    "Missouri",
                    "Missouri",
                    "Montana",
                    "Montana",
                    "Nebraska",
                    "Nebraska",
                    "Nevada",
                    "Nevada",
                    "New Hampshire",
                    "New Hampshire",
                    "New Jersey",
                    "New Jersey",
                    "New Mexico",
                    "New Mexico",
                    "New York",
                    "New York",
                    "New York City",
                    "New York City",
                    "North Carolina",
                    "North Carolina",
                    "North Dakota",
                    "North Dakota",
                    "Ohio",
                    "Ohio",
                    "Oklahoma",
                    "Oklahoma",
                    "Oregon",
                    "Oregon",
                    "Pennsylvania",
                    "Pennsylvania",
                    "Rhode Island",
                    "Rhode Island",
                    "South Carolina",
                    "South Carolina",
                    "South Dakota",
                    "South Dakota",
                    "Tennessee",
                    "Tennessee",
                    "Texas",
                    "Texas",
                    "Utah",
                    "Utah",
                    "Vermont",
                    "Vermont",
                    "Virginia",
                    "Virginia",
                    "Washington",
                    "Washington",
                    "West Virginia",
                    "West Virginia",
                    "Wisconsin",
                    "Wisconsin",
                    "Wyoming",
                    "Wyoming",
                    "Puerto Rico",
                    "Puerto Rico"
                  ],
                  "alignmentgroup": "True",
                  "type": "bar",
                  "orientation": "v"
                },
                {
                  "textposition": "auto",
                  "hovertemplate": "Age_group=65-74 years<br>State=%{x}<br>Total Deaths=%{y}",
                  "showlegend": true,
                  "legendgroup": "Age_group=65-74 years",
                  "name": "Age_group=65-74 years",
                  "yaxis": "y",
                  "y": [
                    2810,
                    2154,
                    212,
                    163,
                    3389,
                    2440,
                    1786,
                    1280,
                    13458,
                    9256,
                    2186,
                    1491,
                    1223,
                    845,
                    472,
                    371,
                    439,
                    285,
                    10910,
                    7514,
                    4655,
                    3540,
                    580,
                    356,
                    720,
                    510,
                    6055,
                    4417,
                    3514,
                    2723,
                    1474,
                    1060,
                    1253,
                    940,
                    2414,
                    1854,
                    2691,
                    2028,
                    732,
                    518,
                    2734,
                    2160,
                    3274,
                    2334,
                    5547,
                    4145,
                    2086,
                    1556,
                    1865,
                    1383,
                    3242,
                    2477,
                    566,
                    353,
                    757,
                    594,
                    1541,
                    1100,
                    647,
                    445,
                    5081,
                    3477,
                    862,
                    670,
                    5814,
                    4254,
                    6151,
                    3970,
                    3775,
                    2832,
                    316,
                    181,
                    6014,
                    4381,
                    1973,
                    1545,
                    1824,
                    1355,
                    6262,
                    4640,
                    469,
                    350,
                    2841,
                    2074,
                    361,
                    273,
                    3940,
                    3056,
                    10643,
                    7702,
                    906,
                    645,
                    277,
                    217,
                    3526,
                    2651,
                    2922,
                    2121,
                    1111,
                    704,
                    2645,
                    1790,
                    234,
                    148,
                    0,
                    0
                  ],
                  "hoverlabel": {
                    "namelength": 0
                  },
                  "offsetgroup": "Age_group=65-74 years",
                  "xaxis": "x",
                  "marker": {
                    "color": "#FF97FF"
                  },
                  "x": [
                    "Alabama",
                    "Alabama",
                    "Alaska",
                    "Alaska",
                    "Arizona",
                    "Arizona",
                    "Arkansas",
                    "Arkansas",
                    "California",
                    "California",
                    "Colorado",
                    "Colorado",
                    "Connecticut",
                    "Connecticut",
                    "Delaware",
                    "Delaware",
                    "District of Columbia",
                    "District of Columbia",
                    "Florida",
                    "Florida",
                    "Georgia",
                    "Georgia",
                    "Hawaii",
                    "Hawaii",
                    "Idaho",
                    "Idaho",
                    "Illinois",
                    "Illinois",
                    "Indiana",
                    "Indiana",
                    "Iowa",
                    "Iowa",
                    "Kansas",
                    "Kansas",
                    "Kentucky",
                    "Kentucky",
                    "Louisiana",
                    "Louisiana",
                    "Maine",
                    "Maine",
                    "Maryland",
                    "Maryland",
                    "Massachusetts",
                    "Massachusetts",
                    "Michigan",
                    "Michigan",
                    "Minnesota",
                    "Minnesota",
                    "Mississippi",
                    "Mississippi",
                    "Missouri",
                    "Missouri",
                    "Montana",
                    "Montana",
                    "Nebraska",
                    "Nebraska",
                    "Nevada",
                    "Nevada",
                    "New Hampshire",
                    "New Hampshire",
                    "New Jersey",
                    "New Jersey",
                    "New Mexico",
                    "New Mexico",
                    "New York",
                    "New York",
                    "New York City",
                    "New York City",
                    "North Carolina",
                    "North Carolina",
                    "North Dakota",
                    "North Dakota",
                    "Ohio",
                    "Ohio",
                    "Oklahoma",
                    "Oklahoma",
                    "Oregon",
                    "Oregon",
                    "Pennsylvania",
                    "Pennsylvania",
                    "Rhode Island",
                    "Rhode Island",
                    "South Carolina",
                    "South Carolina",
                    "South Dakota",
                    "South Dakota",
                    "Tennessee",
                    "Tennessee",
                    "Texas",
                    "Texas",
                    "Utah",
                    "Utah",
                    "Vermont",
                    "Vermont",
                    "Virginia",
                    "Virginia",
                    "Washington",
                    "Washington",
                    "West Virginia",
                    "West Virginia",
                    "Wisconsin",
                    "Wisconsin",
                    "Wyoming",
                    "Wyoming",
                    "Puerto Rico",
                    "Puerto Rico"
                  ],
                  "alignmentgroup": "True",
                  "type": "bar",
                  "orientation": "v"
                },
                {
                  "textposition": "auto",
                  "hovertemplate": "Age_group=75-84 years<br>State=%{x}<br>Total Deaths=%{y}",
                  "showlegend": true,
                  "legendgroup": "Age_group=75-84 years",
                  "name": "Age_group=75-84 years",
                  "yaxis": "y",
                  "y": [
                    2923,
                    2883,
                    235,
                    141,
                    4114,
                    3555,
                    1845,
                    1697,
                    15013,
                    13526,
                    2373,
                    2065,
                    1521,
                    1513,
                    500,
                    536,
                    314,
                    270,
                    13128,
                    10981,
                    4676,
                    4583,
                    612,
                    433,
                    860,
                    754,
                    6458,
                    6275,
                    3816,
                    3754,
                    1668,
                    1522,
                    1373,
                    1279,
                    2428,
                    2474,
                    2687,
                    2714,
                    828,
                    784,
                    3061,
                    3058,
                    4156,
                    3970,
                    6117,
                    5652,
                    2618,
                    2431,
                    1849,
                    1846,
                    3542,
                    3279,
                    601,
                    427,
                    867,
                    836,
                    1675,
                    1318,
                    727,
                    672,
                    6009,
                    5750,
                    1024,
                    934,
                    6869,
                    6488,
                    6353,
                    5401,
                    4048,
                    4029,
                    357,
                    326,
                    6381,
                    6417,
                    2068,
                    1946,
                    2049,
                    1786,
                    7372,
                    6897,
                    598,
                    582,
                    2969,
                    2624,
                    434,
                    348,
                    4026,
                    3821,
                    11207,
                    10291,
                    1102,
                    1051,
                    364,
                    308,
                    4094,
                    3901,
                    3161,
                    2799,
                    1164,
                    1010,
                    2964,
                    2712,
                    235,
                    233,
                    0,
                    0
                  ],
                  "hoverlabel": {
                    "namelength": 0
                  },
                  "offsetgroup": "Age_group=75-84 years",
                  "xaxis": "x",
                  "marker": {
                    "color": "#FECB52"
                  },
                  "x": [
                    "Alabama",
                    "Alabama",
                    "Alaska",
                    "Alaska",
                    "Arizona",
                    "Arizona",
                    "Arkansas",
                    "Arkansas",
                    "California",
                    "California",
                    "Colorado",
                    "Colorado",
                    "Connecticut",
                    "Connecticut",
                    "Delaware",
                    "Delaware",
                    "District of Columbia",
                    "District of Columbia",
                    "Florida",
                    "Florida",
                    "Georgia",
                    "Georgia",
                    "Hawaii",
                    "Hawaii",
                    "Idaho",
                    "Idaho",
                    "Illinois",
                    "Illinois",
                    "Indiana",
                    "Indiana",
                    "Iowa",
                    "Iowa",
                    "Kansas",
                    "Kansas",
                    "Kentucky",
                    "Kentucky",
                    "Louisiana",
                    "Louisiana",
                    "Maine",
                    "Maine",
                    "Maryland",
                    "Maryland",
                    "Massachusetts",
                    "Massachusetts",
                    "Michigan",
                    "Michigan",
                    "Minnesota",
                    "Minnesota",
                    "Mississippi",
                    "Mississippi",
                    "Missouri",
                    "Missouri",
                    "Montana",
                    "Montana",
                    "Nebraska",
                    "Nebraska",
                    "Nevada",
                    "Nevada",
                    "New Hampshire",
                    "New Hampshire",
                    "New Jersey",
                    "New Jersey",
                    "New Mexico",
                    "New Mexico",
                    "New York",
                    "New York",
                    "New York City",
                    "New York City",
                    "North Carolina",
                    "North Carolina",
                    "North Dakota",
                    "North Dakota",
                    "Ohio",
                    "Ohio",
                    "Oklahoma",
                    "Oklahoma",
                    "Oregon",
                    "Oregon",
                    "Pennsylvania",
                    "Pennsylvania",
                    "Rhode Island",
                    "Rhode Island",
                    "South Carolina",
                    "South Carolina",
                    "South Dakota",
                    "South Dakota",
                    "Tennessee",
                    "Tennessee",
                    "Texas",
                    "Texas",
                    "Utah",
                    "Utah",
                    "Vermont",
                    "Vermont",
                    "Virginia",
                    "Virginia",
                    "Washington",
                    "Washington",
                    "West Virginia",
                    "West Virginia",
                    "Wisconsin",
                    "Wisconsin",
                    "Wyoming",
                    "Wyoming",
                    "Puerto Rico",
                    "Puerto Rico"
                  ],
                  "alignmentgroup": "True",
                  "type": "bar",
                  "orientation": "v"
                },
                {
                  "textposition": "auto",
                  "hovertemplate": "Age_group=85 years and over<br>State=%{x}<br>Total Deaths=%{y}",
                  "showlegend": true,
                  "legendgroup": "Age_group=85 years and over",
                  "name": "Age_group=85 years and over",
                  "yaxis": "y",
                  "y": [
                    2104,
                    3574,
                    133,
                    175,
                    3479,
                    4799,
                    1288,
                    2199,
                    16479,
                    24043,
                    2288,
                    3555,
                    1971,
                    3265,
                    515,
                    863,
                    271,
                    445,
                    12512,
                    17634,
                    3438,
                    6029,
                    719,
                    1085,
                    770,
                    1125,
                    6461,
                    10873,
                    3326,
                    5829,
                    1873,
                    2963,
                    1548,
                    2278,
                    1830,
                    3034,
                    2078,
                    3486,
                    869,
                    1286,
                    2988,
                    5071,
                    4774,
                    8191,
                    5702,
                    9382,
                    2964,
                    4632,
                    1274,
                    2207,
                    2992,
                    4862,
                    557,
                    770,
                    926,
                    1522,
                    1169,
                    1509,
                    786,
                    1227,
                    6386,
                    11084,
                    919,
                    1343,
                    7748,
                    12980,
                    5501,
                    8969,
                    3246,
                    5588,
                    399,
                    601,
                    6119,
                    10040,
                    1639,
                    2510,
                    1940,
                    2902,
                    7836,
                    13428,
                    710,
                    1273,
                    2107,
                    3520,
                    464,
                    732,
                    2823,
                    4890,
                    9177,
                    14143,
                    1080,
                    1494,
                    370,
                    536,
                    3536,
                    5897,
                    3095,
                    4709,
                    774,
                    1240,
                    3220,
                    5065,
                    237,
                    335,
                    0,
                    0
                  ],
                  "hoverlabel": {
                    "namelength": 0
                  },
                  "offsetgroup": "Age_group=85 years and over",
                  "xaxis": "x",
                  "marker": {
                    "color": "#636efa"
                  },
                  "x": [
                    "Alabama",
                    "Alabama",
                    "Alaska",
                    "Alaska",
                    "Arizona",
                    "Arizona",
                    "Arkansas",
                    "Arkansas",
                    "California",
                    "California",
                    "Colorado",
                    "Colorado",
                    "Connecticut",
                    "Connecticut",
                    "Delaware",
                    "Delaware",
                    "District of Columbia",
                    "District of Columbia",
                    "Florida",
                    "Florida",
                    "Georgia",
                    "Georgia",
                    "Hawaii",
                    "Hawaii",
                    "Idaho",
                    "Idaho",
                    "Illinois",
                    "Illinois",
                    "Indiana",
                    "Indiana",
                    "Iowa",
                    "Iowa",
                    "Kansas",
                    "Kansas",
                    "Kentucky",
                    "Kentucky",
                    "Louisiana",
                    "Louisiana",
                    "Maine",
                    "Maine",
                    "Maryland",
                    "Maryland",
                    "Massachusetts",
                    "Massachusetts",
                    "Michigan",
                    "Michigan",
                    "Minnesota",
                    "Minnesota",
                    "Mississippi",
                    "Mississippi",
                    "Missouri",
                    "Missouri",
                    "Montana",
                    "Montana",
                    "Nebraska",
                    "Nebraska",
                    "Nevada",
                    "Nevada",
                    "New Hampshire",
                    "New Hampshire",
                    "New Jersey",
                    "New Jersey",
                    "New Mexico",
                    "New Mexico",
                    "New York",
                    "New York",
                    "New York City",
                    "New York City",
                    "North Carolina",
                    "North Carolina",
                    "North Dakota",
                    "North Dakota",
                    "Ohio",
                    "Ohio",
                    "Oklahoma",
                    "Oklahoma",
                    "Oregon",
                    "Oregon",
                    "Pennsylvania",
                    "Pennsylvania",
                    "Rhode Island",
                    "Rhode Island",
                    "South Carolina",
                    "South Carolina",
                    "South Dakota",
                    "South Dakota",
                    "Tennessee",
                    "Tennessee",
                    "Texas",
                    "Texas",
                    "Utah",
                    "Utah",
                    "Vermont",
                    "Vermont",
                    "Virginia",
                    "Virginia",
                    "Washington",
                    "Washington",
                    "West Virginia",
                    "West Virginia",
                    "Wisconsin",
                    "Wisconsin",
                    "Wyoming",
                    "Wyoming",
                    "Puerto Rico",
                    "Puerto Rico"
                  ],
                  "alignmentgroup": "True",
                  "type": "bar",
                  "orientation": "v"
                },
                {
                  "textposition": "auto",
                  "hovertemplate": "Age_group=All ages<br>State=%{x}<br>Total Deaths=%{y}",
                  "showlegend": true,
                  "legendgroup": "Age_group=All ages",
                  "name": "Age_group=All ages",
                  "yaxis": "y",
                  "y": [
                    11965,
                    11196,
                    0,
                    961,
                    719,
                    0,
                    15874,
                    13468,
                    0,
                    7386,
                    6694,
                    0,
                    65095,
                    57546,
                    null,
                    10314,
                    8917,
                    null,
                    6162,
                    6400,
                    15,
                    2057,
                    2142,
                    0,
                    1766,
                    1399,
                    0,
                    51154,
                    44605,
                    null,
                    19288,
                    18356,
                    0,
                    2659,
                    2281,
                    0,
                    3240,
                    2950,
                    0,
                    27758,
                    26425,
                    0,
                    15380,
                    15155,
                    0,
                    6742,
                    6549,
                    null,
                    5888,
                    5557,
                    0,
                    10269,
                    9569,
                    null,
                    11219,
                    10635,
                    0,
                    3417,
                    3062,
                    0,
                    13063,
                    12794,
                    0,
                    16341,
                    16748,
                    0,
                    24676,
                    23521,
                    null,
                    10282,
                    10190,
                    0,
                    7729,
                    7131,
                    null,
                    14175,
                    13207,
                    0,
                    2373,
                    1905,
                    0,
                    3538,
                    3558,
                    0,
                    6447,
                    5098,
                    0,
                    2929,
                    2816,
                    0,
                    24427,
                    23856,
                    null,
                    4285,
                    3771,
                    0,
                    27765,
                    27899,
                    null,
                    26243,
                    22419,
                    null,
                    16204,
                    15775,
                    null,
                    1515,
                    1324,
                    0,
                    27038,
                    26039,
                    null,
                    8460,
                    7691,
                    0,
                    7954,
                    7332,
                    null,
                    29660,
                    29774,
                    null,
                    2376,
                    2563,
                    null,
                    11976,
                    10706,
                    0,
                    1736,
                    1656,
                    0,
                    17047,
                    15620,
                    0,
                    47633,
                    41722,
                    null,
                    4482,
                    4079,
                    0,
                    1366,
                    1250,
                    0,
                    16212,
                    15421,
                    null,
                    12989,
                    11851,
                    null,
                    4466,
                    3762,
                    null,
                    12308,
                    11569,
                    0,
                    1043,
                    896,
                    0,
                    836,
                    390,
                    0
                  ],
                  "hoverlabel": {
                    "namelength": 0
                  },
                  "offsetgroup": "Age_group=All ages",
                  "xaxis": "x",
                  "marker": {
                    "color": "#EF553B"
                  },
                  "x": [
                    "Alabama",
                    "Alabama",
                    "Alabama",
                    "Alaska",
                    "Alaska",
                    "Alaska",
                    "Arizona",
                    "Arizona",
                    "Arizona",
                    "Arkansas",
                    "Arkansas",
                    "Arkansas",
                    "California",
                    "California",
                    "California",
                    "Colorado",
                    "Colorado",
                    "Colorado",
                    "Connecticut",
                    "Connecticut",
                    "Connecticut",
                    "Delaware",
                    "Delaware",
                    "Delaware",
                    "District of Columbia",
                    "District of Columbia",
                    "District of Columbia",
                    "Florida",
                    "Florida",
                    "Florida",
                    "Georgia",
                    "Georgia",
                    "Georgia",
                    "Hawaii",
                    "Hawaii",
                    "Hawaii",
                    "Idaho",
                    "Idaho",
                    "Idaho",
                    "Illinois",
                    "Illinois",
                    "Illinois",
                    "Indiana",
                    "Indiana",
                    "Indiana",
                    "Iowa",
                    "Iowa",
                    "Iowa",
                    "Kansas",
                    "Kansas",
                    "Kansas",
                    "Kentucky",
                    "Kentucky",
                    "Kentucky",
                    "Louisiana",
                    "Louisiana",
                    "Louisiana",
                    "Maine",
                    "Maine",
                    "Maine",
                    "Maryland",
                    "Maryland",
                    "Maryland",
                    "Massachusetts",
                    "Massachusetts",
                    "Massachusetts",
                    "Michigan",
                    "Michigan",
                    "Michigan",
                    "Minnesota",
                    "Minnesota",
                    "Minnesota",
                    "Mississippi",
                    "Mississippi",
                    "Mississippi",
                    "Missouri",
                    "Missouri",
                    "Missouri",
                    "Montana",
                    "Montana",
                    "Montana",
                    "Nebraska",
                    "Nebraska",
                    "Nebraska",
                    "Nevada",
                    "Nevada",
                    "Nevada",
                    "New Hampshire",
                    "New Hampshire",
                    "New Hampshire",
                    "New Jersey",
                    "New Jersey",
                    "New Jersey",
                    "New Mexico",
                    "New Mexico",
                    "New Mexico",
                    "New York",
                    "New York",
                    "New York",
                    "New York City",
                    "New York City",
                    "New York City",
                    "North Carolina",
                    "North Carolina",
                    "North Carolina",
                    "North Dakota",
                    "North Dakota",
                    "North Dakota",
                    "Ohio",
                    "Ohio",
                    "Ohio",
                    "Oklahoma",
                    "Oklahoma",
                    "Oklahoma",
                    "Oregon",
                    "Oregon",
                    "Oregon",
                    "Pennsylvania",
                    "Pennsylvania",
                    "Pennsylvania",
                    "Rhode Island",
                    "Rhode Island",
                    "Rhode Island",
                    "South Carolina",
                    "South Carolina",
                    "South Carolina",
                    "South Dakota",
                    "South Dakota",
                    "South Dakota",
                    "Tennessee",
                    "Tennessee",
                    "Tennessee",
                    "Texas",
                    "Texas",
                    "Texas",
                    "Utah",
                    "Utah",
                    "Utah",
                    "Vermont",
                    "Vermont",
                    "Vermont",
                    "Virginia",
                    "Virginia",
                    "Virginia",
                    "Washington",
                    "Washington",
                    "Washington",
                    "West Virginia",
                    "West Virginia",
                    "West Virginia",
                    "Wisconsin",
                    "Wisconsin",
                    "Wisconsin",
                    "Wyoming",
                    "Wyoming",
                    "Wyoming",
                    "Puerto Rico",
                    "Puerto Rico",
                    "Puerto Rico"
                  ],
                  "alignmentgroup": "True",
                  "type": "bar",
                  "orientation": "v"
                }
              ],
              "config": {
                "plotlyServerURL": "https://plot.ly"
              },
              "layout": {
                "template": {
                  "layout": {
                    "shapedefaults": {
                      "line": {
                        "color": "#2a3f5f"
                      }
                    },
                    "polar": {
                      "radialaxis": {
                        "ticks": "",
                        "gridcolor": "white",
                        "linecolor": "white"
                      },
                      "bgcolor": "#E5ECF6",
                      "angularaxis": {
                        "ticks": "",
                        "gridcolor": "white",
                        "linecolor": "white"
                      }
                    },
                    "colorway": [
                      "#636efa",
                      "#EF553B",
                      "#00cc96",
                      "#ab63fa",
                      "#FFA15A",
                      "#19d3f3",
                      "#FF6692",
                      "#B6E880",
                      "#FF97FF",
                      "#FECB52"
                    ],
                    "xaxis": {
                      "automargin": true,
                      "title": {
                        "standoff": 15
                      },
                      "zerolinewidth": 2,
                      "ticks": "",
                      "zerolinecolor": "white",
                      "gridcolor": "white",
                      "linecolor": "white"
                    },
                    "colorscale": {
                      "diverging": [
                        [
                          0,
                          "#8e0152"
                        ],
                        [
                          0.1,
                          "#c51b7d"
                        ],
                        [
                          0.2,
                          "#de77ae"
                        ],
                        [
                          0.3,
                          "#f1b6da"
                        ],
                        [
                          0.4,
                          "#fde0ef"
                        ],
                        [
                          0.5,
                          "#f7f7f7"
                        ],
                        [
                          0.6,
                          "#e6f5d0"
                        ],
                        [
                          0.7,
                          "#b8e186"
                        ],
                        [
                          0.8,
                          "#7fbc41"
                        ],
                        [
                          0.9,
                          "#4d9221"
                        ],
                        [
                          1,
                          "#276419"
                        ]
                      ],
                      "sequential": [
                        [
                          0,
                          "#0d0887"
                        ],
                        [
                          0.1111111111111111,
                          "#46039f"
                        ],
                        [
                          0.2222222222222222,
                          "#7201a8"
                        ],
                        [
                          0.3333333333333333,
                          "#9c179e"
                        ],
                        [
                          0.4444444444444444,
                          "#bd3786"
                        ],
                        [
                          0.5555555555555556,
                          "#d8576b"
                        ],
                        [
                          0.6666666666666666,
                          "#ed7953"
                        ],
                        [
                          0.7777777777777778,
                          "#fb9f3a"
                        ],
                        [
                          0.8888888888888888,
                          "#fdca26"
                        ],
                        [
                          1,
                          "#f0f921"
                        ]
                      ],
                      "sequentialminus": [
                        [
                          0,
                          "#0d0887"
                        ],
                        [
                          0.1111111111111111,
                          "#46039f"
                        ],
                        [
                          0.2222222222222222,
                          "#7201a8"
                        ],
                        [
                          0.3333333333333333,
                          "#9c179e"
                        ],
                        [
                          0.4444444444444444,
                          "#bd3786"
                        ],
                        [
                          0.5555555555555556,
                          "#d8576b"
                        ],
                        [
                          0.6666666666666666,
                          "#ed7953"
                        ],
                        [
                          0.7777777777777778,
                          "#fb9f3a"
                        ],
                        [
                          0.8888888888888888,
                          "#fdca26"
                        ],
                        [
                          1,
                          "#f0f921"
                        ]
                      ]
                    },
                    "paper_bgcolor": "white",
                    "plot_bgcolor": "#E5ECF6",
                    "title": {
                      "x": 0.05
                    },
                    "scene": {
                      "zaxis": {
                        "backgroundcolor": "#E5ECF6",
                        "ticks": "",
                        "gridwidth": 2,
                        "showbackground": true,
                        "zerolinecolor": "white",
                        "gridcolor": "white",
                        "linecolor": "white"
                      },
                      "xaxis": {
                        "backgroundcolor": "#E5ECF6",
                        "ticks": "",
                        "gridwidth": 2,
                        "showbackground": true,
                        "zerolinecolor": "white",
                        "gridcolor": "white",
                        "linecolor": "white"
                      },
                      "yaxis": {
                        "backgroundcolor": "#E5ECF6",
                        "ticks": "",
                        "gridwidth": 2,
                        "showbackground": true,
                        "zerolinecolor": "white",
                        "gridcolor": "white",
                        "linecolor": "white"
                      }
                    },
                    "yaxis": {
                      "automargin": true,
                      "title": {
                        "standoff": 15
                      },
                      "zerolinewidth": 2,
                      "ticks": "",
                      "zerolinecolor": "white",
                      "gridcolor": "white",
                      "linecolor": "white"
                    },
                    "annotationdefaults": {
                      "arrowwidth": 1,
                      "arrowhead": 0,
                      "arrowcolor": "#2a3f5f"
                    },
                    "hoverlabel": {
                      "align": "left"
                    },
                    "ternary": {
                      "bgcolor": "#E5ECF6",
                      "baxis": {
                        "ticks": "",
                        "gridcolor": "white",
                        "linecolor": "white"
                      },
                      "caxis": {
                        "ticks": "",
                        "gridcolor": "white",
                        "linecolor": "white"
                      },
                      "aaxis": {
                        "ticks": "",
                        "gridcolor": "white",
                        "linecolor": "white"
                      }
                    },
                    "mapbox": {
                      "style": "light"
                    },
                    "hovermode": "closest",
                    "font": {
                      "color": "#2a3f5f"
                    },
                    "geo": {
                      "showland": true,
                      "landcolor": "#E5ECF6",
                      "showlakes": true,
                      "bgcolor": "white",
                      "subunitcolor": "white",
                      "lakecolor": "white"
                    },
                    "coloraxis": {
                      "colorbar": {
                        "outlinewidth": 0,
                        "ticks": ""
                      }
                    }
                  },
                  "data": {
                    "mesh3d": [
                      {
                        "colorbar": {
                          "outlinewidth": 0,
                          "ticks": ""
                        },
                        "type": "mesh3d"
                      }
                    ],
                    "scattercarpet": [
                      {
                        "marker": {
                          "colorbar": {
                            "outlinewidth": 0,
                            "ticks": ""
                          }
                        },
                        "type": "scattercarpet"
                      }
                    ],
                    "pie": [
                      {
                        "automargin": true,
                        "type": "pie"
                      }
                    ],
                    "surface": [
                      {
                        "colorbar": {
                          "outlinewidth": 0,
                          "ticks": ""
                        },
                        "type": "surface",
                        "colorscale": [
                          [
                            0,
                            "#0d0887"
                          ],
                          [
                            0.1111111111111111,
                            "#46039f"
                          ],
                          [
                            0.2222222222222222,
                            "#7201a8"
                          ],
                          [
                            0.3333333333333333,
                            "#9c179e"
                          ],
                          [
                            0.4444444444444444,
                            "#bd3786"
                          ],
                          [
                            0.5555555555555556,
                            "#d8576b"
                          ],
                          [
                            0.6666666666666666,
                            "#ed7953"
                          ],
                          [
                            0.7777777777777778,
                            "#fb9f3a"
                          ],
                          [
                            0.8888888888888888,
                            "#fdca26"
                          ],
                          [
                            1,
                            "#f0f921"
                          ]
                        ]
                      }
                    ],
                    "table": [
                      {
                        "header": {
                          "line": {
                            "color": "white"
                          },
                          "fill": {
                            "color": "#C8D4E3"
                          }
                        },
                        "cells": {
                          "line": {
                            "color": "white"
                          },
                          "fill": {
                            "color": "#EBF0F8"
                          }
                        },
                        "type": "table"
                      }
                    ],
                    "scatterpolargl": [
                      {
                        "marker": {
                          "colorbar": {
                            "outlinewidth": 0,
                            "ticks": ""
                          }
                        },
                        "type": "scatterpolargl"
                      }
                    ],
                    "contour": [
                      {
                        "colorbar": {
                          "outlinewidth": 0,
                          "ticks": ""
                        },
                        "type": "contour",
                        "colorscale": [
                          [
                            0,
                            "#0d0887"
                          ],
                          [
                            0.1111111111111111,
                            "#46039f"
                          ],
                          [
                            0.2222222222222222,
                            "#7201a8"
                          ],
                          [
                            0.3333333333333333,
                            "#9c179e"
                          ],
                          [
                            0.4444444444444444,
                            "#bd3786"
                          ],
                          [
                            0.5555555555555556,
                            "#d8576b"
                          ],
                          [
                            0.6666666666666666,
                            "#ed7953"
                          ],
                          [
                            0.7777777777777778,
                            "#fb9f3a"
                          ],
                          [
                            0.8888888888888888,
                            "#fdca26"
                          ],
                          [
                            1,
                            "#f0f921"
                          ]
                        ]
                      }
                    ],
                    "carpet": [
                      {
                        "type": "carpet",
                        "baxis": {
                          "minorgridcolor": "white",
                          "gridcolor": "white",
                          "linecolor": "white",
                          "endlinecolor": "#2a3f5f",
                          "startlinecolor": "#2a3f5f"
                        },
                        "aaxis": {
                          "minorgridcolor": "white",
                          "gridcolor": "white",
                          "linecolor": "white",
                          "endlinecolor": "#2a3f5f",
                          "startlinecolor": "#2a3f5f"
                        }
                      }
                    ],
                    "contourcarpet": [
                      {
                        "colorbar": {
                          "outlinewidth": 0,
                          "ticks": ""
                        },
                        "type": "contourcarpet"
                      }
                    ],
                    "heatmap": [
                      {
                        "colorbar": {
                          "outlinewidth": 0,
                          "ticks": ""
                        },
                        "type": "heatmap",
                        "colorscale": [
                          [
                            0,
                            "#0d0887"
                          ],
                          [
                            0.1111111111111111,
                            "#46039f"
                          ],
                          [
                            0.2222222222222222,
                            "#7201a8"
                          ],
                          [
                            0.3333333333333333,
                            "#9c179e"
                          ],
                          [
                            0.4444444444444444,
                            "#bd3786"
                          ],
                          [
                            0.5555555555555556,
                            "#d8576b"
                          ],
                          [
                            0.6666666666666666,
                            "#ed7953"
                          ],
                          [
                            0.7777777777777778,
                            "#fb9f3a"
                          ],
                          [
                            0.8888888888888888,
                            "#fdca26"
                          ],
                          [
                            1,
                            "#f0f921"
                          ]
                        ]
                      }
                    ],
                    "scattermapbox": [
                      {
                        "marker": {
                          "colorbar": {
                            "outlinewidth": 0,
                            "ticks": ""
                          }
                        },
                        "type": "scattermapbox"
                      }
                    ],
                    "scatter3d": [
                      {
                        "marker": {
                          "colorbar": {
                            "outlinewidth": 0,
                            "ticks": ""
                          }
                        },
                        "line": {
                          "colorbar": {
                            "outlinewidth": 0,
                            "ticks": ""
                          }
                        },
                        "type": "scatter3d"
                      }
                    ],
                    "scattergl": [
                      {
                        "marker": {
                          "colorbar": {
                            "outlinewidth": 0,
                            "ticks": ""
                          }
                        },
                        "type": "scattergl"
                      }
                    ],
                    "scatterternary": [
                      {
                        "marker": {
                          "colorbar": {
                            "outlinewidth": 0,
                            "ticks": ""
                          }
                        },
                        "type": "scatterternary"
                      }
                    ],
                    "histogram": [
                      {
                        "marker": {
                          "colorbar": {
                            "outlinewidth": 0,
                            "ticks": ""
                          }
                        },
                        "type": "histogram"
                      }
                    ],
                    "heatmapgl": [
                      {
                        "colorbar": {
                          "outlinewidth": 0,
                          "ticks": ""
                        },
                        "type": "heatmapgl",
                        "colorscale": [
                          [
                            0,
                            "#0d0887"
                          ],
                          [
                            0.1111111111111111,
                            "#46039f"
                          ],
                          [
                            0.2222222222222222,
                            "#7201a8"
                          ],
                          [
                            0.3333333333333333,
                            "#9c179e"
                          ],
                          [
                            0.4444444444444444,
                            "#bd3786"
                          ],
                          [
                            0.5555555555555556,
                            "#d8576b"
                          ],
                          [
                            0.6666666666666666,
                            "#ed7953"
                          ],
                          [
                            0.7777777777777778,
                            "#fb9f3a"
                          ],
                          [
                            0.8888888888888888,
                            "#fdca26"
                          ],
                          [
                            1,
                            "#f0f921"
                          ]
                        ]
                      }
                    ],
                    "scatterpolar": [
                      {
                        "marker": {
                          "colorbar": {
                            "outlinewidth": 0,
                            "ticks": ""
                          }
                        },
                        "type": "scatterpolar"
                      }
                    ],
                    "histogram2d": [
                      {
                        "colorbar": {
                          "outlinewidth": 0,
                          "ticks": ""
                        },
                        "type": "histogram2d",
                        "colorscale": [
                          [
                            0,
                            "#0d0887"
                          ],
                          [
                            0.1111111111111111,
                            "#46039f"
                          ],
                          [
                            0.2222222222222222,
                            "#7201a8"
                          ],
                          [
                            0.3333333333333333,
                            "#9c179e"
                          ],
                          [
                            0.4444444444444444,
                            "#bd3786"
                          ],
                          [
                            0.5555555555555556,
                            "#d8576b"
                          ],
                          [
                            0.6666666666666666,
                            "#ed7953"
                          ],
                          [
                            0.7777777777777778,
                            "#fb9f3a"
                          ],
                          [
                            0.8888888888888888,
                            "#fdca26"
                          ],
                          [
                            1,
                            "#f0f921"
                          ]
                        ]
                      }
                    ],
                    "scattergeo": [
                      {
                        "marker": {
                          "colorbar": {
                            "outlinewidth": 0,
                            "ticks": ""
                          }
                        },
                        "type": "scattergeo"
                      }
                    ],
                    "bar": [
                      {
                        "marker": {
                          "line": {
                            "color": "#E5ECF6",
                            "width": 0.5
                          }
                        },
                        "type": "bar",
                        "error_x": {
                          "color": "#2a3f5f"
                        },
                        "error_y": {
                          "color": "#2a3f5f"
                        }
                      }
                    ],
                    "choropleth": [
                      {
                        "colorbar": {
                          "outlinewidth": 0,
                          "ticks": ""
                        },
                        "type": "choropleth"
                      }
                    ],
                    "parcoords": [
                      {
                        "line": {
                          "colorbar": {
                            "outlinewidth": 0,
                            "ticks": ""
                          }
                        },
                        "type": "parcoords"
                      }
                    ],
                    "barpolar": [
                      {
                        "marker": {
                          "line": {
                            "color": "#E5ECF6",
                            "width": 0.5
                          }
                        },
                        "type": "barpolar"
                      }
                    ],
                    "histogram2dcontour": [
                      {
                        "colorbar": {
                          "outlinewidth": 0,
                          "ticks": ""
                        },
                        "type": "histogram2dcontour",
                        "colorscale": [
                          [
                            0,
                            "#0d0887"
                          ],
                          [
                            0.1111111111111111,
                            "#46039f"
                          ],
                          [
                            0.2222222222222222,
                            "#7201a8"
                          ],
                          [
                            0.3333333333333333,
                            "#9c179e"
                          ],
                          [
                            0.4444444444444444,
                            "#bd3786"
                          ],
                          [
                            0.5555555555555556,
                            "#d8576b"
                          ],
                          [
                            0.6666666666666666,
                            "#ed7953"
                          ],
                          [
                            0.7777777777777778,
                            "#fb9f3a"
                          ],
                          [
                            0.8888888888888888,
                            "#fdca26"
                          ],
                          [
                            1,
                            "#f0f921"
                          ]
                        ]
                      }
                    ],
                    "scatter": [
                      {
                        "marker": {
                          "colorbar": {
                            "outlinewidth": 0,
                            "ticks": ""
                          }
                        },
                        "type": "scatter"
                      }
                    ]
                  }
                },
                "yaxis": {
                  "domain": [
                    0,
                    1
                  ],
                  "anchor": "x",
                  "title": {
                    "text": "Total Deaths"
                  }
                },
                "title": {
                  "text": "Total Deaths by each state and grouped by Age group"
                },
                "barmode": "relative",
                "xaxis": {
                  "domain": [
                    0,
                    1
                  ],
                  "anchor": "y",
                  "title": {
                    "text": "State"
                  }
                },
                "legend": {
                  "tracegroupgap": 0
                }
              }
            }
          },
          "metadata": {
            "tags": []
          }
        }
      ]
    },
    {
      "cell_type": "code",
      "metadata": {
        "id": "AWFVzSL_FGQP",
        "colab_type": "code",
        "colab": {}
      },
      "source": [
        ""
      ],
      "execution_count": null,
      "outputs": []
    }
  ]
}